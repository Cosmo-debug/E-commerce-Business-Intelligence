{
 "cells": [
  {
   "cell_type": "markdown",
   "metadata": {},
   "source": [
    "<h1 id='tocheading'>Table of Content</h1>\n",
    "<div id='toc'></div>"
   ]
  },
  {
   "cell_type": "code",
   "execution_count": 87,
   "metadata": {},
   "outputs": [
    {
     "data": {
      "application/javascript": [
       "$.getScript('https://kmahelona.github.io/ipython_notebook_goodies/ipython_notebook_toc.js')\n"
      ],
      "text/plain": [
       "<IPython.core.display.Javascript object>"
      ]
     },
     "metadata": {},
     "output_type": "display_data"
    }
   ],
   "source": [
    "%%javascript\n",
    "$.getScript('https://kmahelona.github.io/ipython_notebook_goodies/ipython_notebook_toc.js')"
   ]
  },
  {
   "cell_type": "markdown",
   "metadata": {},
   "source": [
    "# Data Cleaning"
   ]
  },
  {
   "cell_type": "code",
   "execution_count": 2,
   "metadata": {},
   "outputs": [],
   "source": [
    "# frequently used libraries\n",
    "import numpy as np\n",
    "import pandas as pd\n",
    "import matplotlib.pyplot as plt\n",
    "import warnings\n",
    "warnings.filterwarnings('ignore')\n",
    "from datetime import date"
   ]
  },
  {
   "cell_type": "markdown",
   "metadata": {},
   "source": [
    "## Order Dataset"
   ]
  },
  {
   "cell_type": "code",
   "execution_count": 3,
   "metadata": {},
   "outputs": [
    {
     "name": "stdout",
     "output_type": "stream",
     "text": [
      "<class 'pandas.core.frame.DataFrame'>\n",
      "RangeIndex: 99441 entries, 0 to 99440\n",
      "Data columns (total 8 columns):\n",
      "order_id                         99441 non-null object\n",
      "customer_id                      99441 non-null object\n",
      "order_status                     99441 non-null object\n",
      "order_purchase_timestamp         99441 non-null object\n",
      "order_approved_at                99281 non-null object\n",
      "order_delivered_carrier_date     97658 non-null object\n",
      "order_delivered_customer_date    96476 non-null object\n",
      "order_estimated_delivery_date    99441 non-null object\n",
      "dtypes: object(8)\n",
      "memory usage: 6.1+ MB\n"
     ]
    }
   ],
   "source": [
    "# read data and show its high-level information\n",
    "order_df = pd.read_csv('olist_orders_dataset.csv')\n",
    "order_df.info()"
   ]
  },
  {
   "cell_type": "code",
   "execution_count": 5,
   "metadata": {
    "scrolled": true
   },
   "outputs": [],
   "source": [
    "# drop irrelevant columns\n",
    "order_df.drop(['order_status',\n",
    "               'order_delivered_carrier_date',\n",
    "               'order_approved_at',\n",
    "               'order_delivered_customer_date',\n",
    "               'order_estimated_delivery_date'], axis='columns', inplace=True)\n",
    "order_df.columns"
   ]
  },
  {
   "cell_type": "code",
   "execution_count": null,
   "metadata": {},
   "outputs": [],
   "source": [
    "# assign datetime data type for date/time columns  \n",
    "order_df.order_purchase_timestamp = pd.to_datetime(order_df.order_purchase_timestamp)\n",
    "order_df.dtypes"
   ]
  },
  {
   "cell_type": "code",
   "execution_count": null,
   "metadata": {},
   "outputs": [],
   "source": [
    "order_df.order_purchase_timestamp = order_df.order_purchase_timestamp.dt.date\n",
    "#pocipr_df['order_purchase_timestamp'] = pocipr_df['order_purchase_timestamp'].dt.date"
   ]
  },
  {
   "cell_type": "code",
   "execution_count": 4,
   "metadata": {},
   "outputs": [
    {
     "data": {
      "text/html": [
       "<div>\n",
       "<style scoped>\n",
       "    .dataframe tbody tr th:only-of-type {\n",
       "        vertical-align: middle;\n",
       "    }\n",
       "\n",
       "    .dataframe tbody tr th {\n",
       "        vertical-align: top;\n",
       "    }\n",
       "\n",
       "    .dataframe thead th {\n",
       "        text-align: right;\n",
       "    }\n",
       "</style>\n",
       "<table border=\"1\" class=\"dataframe\">\n",
       "  <thead>\n",
       "    <tr style=\"text-align: right;\">\n",
       "      <th></th>\n",
       "      <th>order_id</th>\n",
       "      <th>customer_id</th>\n",
       "      <th>order_status</th>\n",
       "      <th>order_purchase_timestamp</th>\n",
       "      <th>order_approved_at</th>\n",
       "      <th>order_delivered_carrier_date</th>\n",
       "      <th>order_delivered_customer_date</th>\n",
       "      <th>order_estimated_delivery_date</th>\n",
       "    </tr>\n",
       "  </thead>\n",
       "  <tbody>\n",
       "  </tbody>\n",
       "</table>\n",
       "</div>"
      ],
      "text/plain": [
       "Empty DataFrame\n",
       "Columns: [order_id, customer_id, order_status, order_purchase_timestamp, order_approved_at, order_delivered_carrier_date, order_delivered_customer_date, order_estimated_delivery_date]\n",
       "Index: []"
      ]
     },
     "execution_count": 4,
     "metadata": {},
     "output_type": "execute_result"
    }
   ],
   "source": [
    "# duplicate rows of dataframe\n",
    "order_df[order_df.duplicated()]"
   ]
  },
  {
   "cell_type": "code",
   "execution_count": 6,
   "metadata": {},
   "outputs": [
    {
     "data": {
      "text/html": [
       "<div>\n",
       "<style scoped>\n",
       "    .dataframe tbody tr th:only-of-type {\n",
       "        vertical-align: middle;\n",
       "    }\n",
       "\n",
       "    .dataframe tbody tr th {\n",
       "        vertical-align: top;\n",
       "    }\n",
       "\n",
       "    .dataframe thead th {\n",
       "        text-align: right;\n",
       "    }\n",
       "</style>\n",
       "<table border=\"1\" class=\"dataframe\">\n",
       "  <thead>\n",
       "    <tr style=\"text-align: right;\">\n",
       "      <th></th>\n",
       "      <th>order_id</th>\n",
       "      <th>customer_id</th>\n",
       "      <th>order_purchase_timestamp</th>\n",
       "    </tr>\n",
       "  </thead>\n",
       "  <tbody>\n",
       "    <tr>\n",
       "      <td>0</td>\n",
       "      <td>e481f51cbdc54678b7cc49136f2d6af7</td>\n",
       "      <td>9ef432eb6251297304e76186b10a928d</td>\n",
       "      <td>2017-10-02</td>\n",
       "    </tr>\n",
       "    <tr>\n",
       "      <td>1</td>\n",
       "      <td>53cdb2fc8bc7dce0b6741e2150273451</td>\n",
       "      <td>b0830fb4747a6c6d20dea0b8c802d7ef</td>\n",
       "      <td>2018-07-24</td>\n",
       "    </tr>\n",
       "    <tr>\n",
       "      <td>2</td>\n",
       "      <td>47770eb9100c2d0c44946d9cf07ec65d</td>\n",
       "      <td>41ce2a54c0b03bf3443c3d931a367089</td>\n",
       "      <td>2018-08-08</td>\n",
       "    </tr>\n",
       "    <tr>\n",
       "      <td>3</td>\n",
       "      <td>949d5b44dbf5de918fe9c16f97b45f8a</td>\n",
       "      <td>f88197465ea7920adcdbec7375364d82</td>\n",
       "      <td>2017-11-18</td>\n",
       "    </tr>\n",
       "    <tr>\n",
       "      <td>4</td>\n",
       "      <td>ad21c59c0840e6cb83a9ceb5573f8159</td>\n",
       "      <td>8ab97904e6daea8866dbdbc4fb7aad2c</td>\n",
       "      <td>2018-02-13</td>\n",
       "    </tr>\n",
       "  </tbody>\n",
       "</table>\n",
       "</div>"
      ],
      "text/plain": [
       "                           order_id                       customer_id  \\\n",
       "0  e481f51cbdc54678b7cc49136f2d6af7  9ef432eb6251297304e76186b10a928d   \n",
       "1  53cdb2fc8bc7dce0b6741e2150273451  b0830fb4747a6c6d20dea0b8c802d7ef   \n",
       "2  47770eb9100c2d0c44946d9cf07ec65d  41ce2a54c0b03bf3443c3d931a367089   \n",
       "3  949d5b44dbf5de918fe9c16f97b45f8a  f88197465ea7920adcdbec7375364d82   \n",
       "4  ad21c59c0840e6cb83a9ceb5573f8159  8ab97904e6daea8866dbdbc4fb7aad2c   \n",
       "\n",
       "  order_purchase_timestamp  \n",
       "0               2017-10-02  \n",
       "1               2018-07-24  \n",
       "2               2018-08-08  \n",
       "3               2017-11-18  \n",
       "4               2018-02-13  "
      ]
     },
     "execution_count": 6,
     "metadata": {},
     "output_type": "execute_result"
    }
   ],
   "source": [
    "# head of values\n",
    "order_df.head()"
   ]
  },
  {
   "cell_type": "markdown",
   "metadata": {},
   "source": [
    "## Customer Dataset"
   ]
  },
  {
   "cell_type": "code",
   "execution_count": 7,
   "metadata": {
    "scrolled": false
   },
   "outputs": [
    {
     "name": "stdout",
     "output_type": "stream",
     "text": [
      "<class 'pandas.core.frame.DataFrame'>\n",
      "RangeIndex: 99441 entries, 0 to 99440\n",
      "Data columns (total 5 columns):\n",
      "customer_id                 99441 non-null object\n",
      "customer_unique_id          99441 non-null object\n",
      "customer_zip_code_prefix    99441 non-null int64\n",
      "customer_city               99441 non-null object\n",
      "customer_state              99441 non-null object\n",
      "dtypes: int64(1), object(4)\n",
      "memory usage: 3.8+ MB\n"
     ]
    }
   ],
   "source": [
    "# read data and show its high-level information\n",
    "customer_df = pd.read_csv('olist_customers_dataset.csv')\n",
    "customer_df.info()"
   ]
  },
  {
   "cell_type": "code",
   "execution_count": 9,
   "metadata": {
    "scrolled": true
   },
   "outputs": [],
   "source": [
    "# drop irrelevant columns\n",
    "customer_df.drop(['customer_zip_code_prefix',\n",
    "                  'customer_city'], axis='columns', inplace=True)"
   ]
  },
  {
   "cell_type": "code",
   "execution_count": 10,
   "metadata": {
    "scrolled": false
   },
   "outputs": [
    {
     "data": {
      "text/plain": [
       "customer_id           99441\n",
       "customer_unique_id    96096\n",
       "customer_state           27\n",
       "dtype: int64"
      ]
     },
     "execution_count": 10,
     "metadata": {},
     "output_type": "execute_result"
    }
   ],
   "source": [
    "customer_df.nunique()"
   ]
  },
  {
   "cell_type": "code",
   "execution_count": 8,
   "metadata": {},
   "outputs": [
    {
     "data": {
      "text/html": [
       "<div>\n",
       "<style scoped>\n",
       "    .dataframe tbody tr th:only-of-type {\n",
       "        vertical-align: middle;\n",
       "    }\n",
       "\n",
       "    .dataframe tbody tr th {\n",
       "        vertical-align: top;\n",
       "    }\n",
       "\n",
       "    .dataframe thead th {\n",
       "        text-align: right;\n",
       "    }\n",
       "</style>\n",
       "<table border=\"1\" class=\"dataframe\">\n",
       "  <thead>\n",
       "    <tr style=\"text-align: right;\">\n",
       "      <th></th>\n",
       "      <th>customer_id</th>\n",
       "      <th>customer_unique_id</th>\n",
       "      <th>customer_zip_code_prefix</th>\n",
       "      <th>customer_city</th>\n",
       "      <th>customer_state</th>\n",
       "    </tr>\n",
       "  </thead>\n",
       "  <tbody>\n",
       "  </tbody>\n",
       "</table>\n",
       "</div>"
      ],
      "text/plain": [
       "Empty DataFrame\n",
       "Columns: [customer_id, customer_unique_id, customer_zip_code_prefix, customer_city, customer_state]\n",
       "Index: []"
      ]
     },
     "execution_count": 8,
     "metadata": {},
     "output_type": "execute_result"
    }
   ],
   "source": [
    "# duplicate rows of dataframe\n",
    "customer_df[customer_df.duplicated()]"
   ]
  },
  {
   "cell_type": "code",
   "execution_count": 11,
   "metadata": {
    "scrolled": false
   },
   "outputs": [
    {
     "data": {
      "text/html": [
       "<div>\n",
       "<style scoped>\n",
       "    .dataframe tbody tr th:only-of-type {\n",
       "        vertical-align: middle;\n",
       "    }\n",
       "\n",
       "    .dataframe tbody tr th {\n",
       "        vertical-align: top;\n",
       "    }\n",
       "\n",
       "    .dataframe thead th {\n",
       "        text-align: right;\n",
       "    }\n",
       "</style>\n",
       "<table border=\"1\" class=\"dataframe\">\n",
       "  <thead>\n",
       "    <tr style=\"text-align: right;\">\n",
       "      <th></th>\n",
       "      <th>customer_id</th>\n",
       "      <th>customer_unique_id</th>\n",
       "      <th>customer_state</th>\n",
       "    </tr>\n",
       "  </thead>\n",
       "  <tbody>\n",
       "    <tr>\n",
       "      <td>0</td>\n",
       "      <td>06b8999e2fba1a1fbc88172c00ba8bc7</td>\n",
       "      <td>861eff4711a542e4b93843c6dd7febb0</td>\n",
       "      <td>SP</td>\n",
       "    </tr>\n",
       "    <tr>\n",
       "      <td>1</td>\n",
       "      <td>18955e83d337fd6b2def6b18a428ac77</td>\n",
       "      <td>290c77bc529b7ac935b93aa66c333dc3</td>\n",
       "      <td>SP</td>\n",
       "    </tr>\n",
       "    <tr>\n",
       "      <td>2</td>\n",
       "      <td>4e7b3e00288586ebd08712fdd0374a03</td>\n",
       "      <td>060e732b5b29e8181a18229c7b0b2b5e</td>\n",
       "      <td>SP</td>\n",
       "    </tr>\n",
       "    <tr>\n",
       "      <td>3</td>\n",
       "      <td>b2b6027bc5c5109e529d4dc6358b12c3</td>\n",
       "      <td>259dac757896d24d7702b9acbbff3f3c</td>\n",
       "      <td>SP</td>\n",
       "    </tr>\n",
       "    <tr>\n",
       "      <td>4</td>\n",
       "      <td>4f2d8ab171c80ec8364f7c12e35b23ad</td>\n",
       "      <td>345ecd01c38d18a9036ed96c73b8d066</td>\n",
       "      <td>SP</td>\n",
       "    </tr>\n",
       "  </tbody>\n",
       "</table>\n",
       "</div>"
      ],
      "text/plain": [
       "                        customer_id                customer_unique_id  \\\n",
       "0  06b8999e2fba1a1fbc88172c00ba8bc7  861eff4711a542e4b93843c6dd7febb0   \n",
       "1  18955e83d337fd6b2def6b18a428ac77  290c77bc529b7ac935b93aa66c333dc3   \n",
       "2  4e7b3e00288586ebd08712fdd0374a03  060e732b5b29e8181a18229c7b0b2b5e   \n",
       "3  b2b6027bc5c5109e529d4dc6358b12c3  259dac757896d24d7702b9acbbff3f3c   \n",
       "4  4f2d8ab171c80ec8364f7c12e35b23ad  345ecd01c38d18a9036ed96c73b8d066   \n",
       "\n",
       "  customer_state  \n",
       "0             SP  \n",
       "1             SP  \n",
       "2             SP  \n",
       "3             SP  \n",
       "4             SP  "
      ]
     },
     "execution_count": 11,
     "metadata": {},
     "output_type": "execute_result"
    }
   ],
   "source": [
    "# head of values\n",
    "customer_df.head()"
   ]
  },
  {
   "cell_type": "markdown",
   "metadata": {},
   "source": [
    "## Payment Dataset"
   ]
  },
  {
   "cell_type": "code",
   "execution_count": 12,
   "metadata": {},
   "outputs": [
    {
     "name": "stdout",
     "output_type": "stream",
     "text": [
      "<class 'pandas.core.frame.DataFrame'>\n",
      "RangeIndex: 103886 entries, 0 to 103885\n",
      "Data columns (total 5 columns):\n",
      "order_id                103886 non-null object\n",
      "payment_sequential      103886 non-null int64\n",
      "payment_type            103886 non-null object\n",
      "payment_installments    103886 non-null int64\n",
      "payment_value           103886 non-null float64\n",
      "dtypes: float64(1), int64(2), object(2)\n",
      "memory usage: 4.0+ MB\n"
     ]
    }
   ],
   "source": [
    "# read data and show its high-level information\n",
    "payment_df = pd.read_csv('olist_order_payments_dataset.csv')\n",
    "payment_df.info()"
   ]
  },
  {
   "cell_type": "code",
   "execution_count": 13,
   "metadata": {},
   "outputs": [],
   "source": [
    "# drop irrelevant columns\n",
    "payment_df.drop('payment_sequential', axis='columns', inplace=True)"
   ]
  },
  {
   "cell_type": "code",
   "execution_count": 15,
   "metadata": {
    "scrolled": true
   },
   "outputs": [
    {
     "data": {
      "text/html": [
       "<div>\n",
       "<style scoped>\n",
       "    .dataframe tbody tr th:only-of-type {\n",
       "        vertical-align: middle;\n",
       "    }\n",
       "\n",
       "    .dataframe tbody tr th {\n",
       "        vertical-align: top;\n",
       "    }\n",
       "\n",
       "    .dataframe thead th {\n",
       "        text-align: right;\n",
       "    }\n",
       "</style>\n",
       "<table border=\"1\" class=\"dataframe\">\n",
       "  <thead>\n",
       "    <tr style=\"text-align: right;\">\n",
       "      <th></th>\n",
       "      <th>order_id</th>\n",
       "      <th>payment_type</th>\n",
       "      <th>payment_installments</th>\n",
       "      <th>payment_value</th>\n",
       "    </tr>\n",
       "  </thead>\n",
       "  <tbody>\n",
       "    <tr>\n",
       "      <td>0</td>\n",
       "      <td>b81ef226f3fe1789b1e8b2acac839d17</td>\n",
       "      <td>credit_card</td>\n",
       "      <td>8</td>\n",
       "      <td>99.33</td>\n",
       "    </tr>\n",
       "    <tr>\n",
       "      <td>1</td>\n",
       "      <td>a9810da82917af2d9aefd1278f1dcfa0</td>\n",
       "      <td>credit_card</td>\n",
       "      <td>1</td>\n",
       "      <td>24.39</td>\n",
       "    </tr>\n",
       "    <tr>\n",
       "      <td>2</td>\n",
       "      <td>25e8ea4e93396b6fa0d3dd708e76c1bd</td>\n",
       "      <td>credit_card</td>\n",
       "      <td>1</td>\n",
       "      <td>65.71</td>\n",
       "    </tr>\n",
       "    <tr>\n",
       "      <td>3</td>\n",
       "      <td>ba78997921bbcdc1373bb41e913ab953</td>\n",
       "      <td>credit_card</td>\n",
       "      <td>8</td>\n",
       "      <td>107.78</td>\n",
       "    </tr>\n",
       "    <tr>\n",
       "      <td>4</td>\n",
       "      <td>42fdf880ba16b47b59251dd489d4441a</td>\n",
       "      <td>credit_card</td>\n",
       "      <td>2</td>\n",
       "      <td>128.45</td>\n",
       "    </tr>\n",
       "  </tbody>\n",
       "</table>\n",
       "</div>"
      ],
      "text/plain": [
       "                           order_id payment_type  payment_installments  \\\n",
       "0  b81ef226f3fe1789b1e8b2acac839d17  credit_card                     8   \n",
       "1  a9810da82917af2d9aefd1278f1dcfa0  credit_card                     1   \n",
       "2  25e8ea4e93396b6fa0d3dd708e76c1bd  credit_card                     1   \n",
       "3  ba78997921bbcdc1373bb41e913ab953  credit_card                     8   \n",
       "4  42fdf880ba16b47b59251dd489d4441a  credit_card                     2   \n",
       "\n",
       "   payment_value  \n",
       "0          99.33  \n",
       "1          24.39  \n",
       "2          65.71  \n",
       "3         107.78  \n",
       "4         128.45  "
      ]
     },
     "execution_count": 15,
     "metadata": {},
     "output_type": "execute_result"
    }
   ],
   "source": [
    "# head of values\n",
    "payment_df.head()"
   ]
  },
  {
   "cell_type": "code",
   "execution_count": 14,
   "metadata": {},
   "outputs": [
    {
     "data": {
      "text/html": [
       "<div>\n",
       "<style scoped>\n",
       "    .dataframe tbody tr th:only-of-type {\n",
       "        vertical-align: middle;\n",
       "    }\n",
       "\n",
       "    .dataframe tbody tr th {\n",
       "        vertical-align: top;\n",
       "    }\n",
       "\n",
       "    .dataframe thead th {\n",
       "        text-align: right;\n",
       "    }\n",
       "</style>\n",
       "<table border=\"1\" class=\"dataframe\">\n",
       "  <thead>\n",
       "    <tr style=\"text-align: right;\">\n",
       "      <th></th>\n",
       "      <th>order_id</th>\n",
       "      <th>payment_type</th>\n",
       "      <th>payment_installments</th>\n",
       "      <th>payment_value</th>\n",
       "    </tr>\n",
       "  </thead>\n",
       "  <tbody>\n",
       "    <tr>\n",
       "      <td>3675</td>\n",
       "      <td>8ca5bdac5ebe8f2d6fc9171d5ebc906a</td>\n",
       "      <td>voucher</td>\n",
       "      <td>1</td>\n",
       "      <td>15.00</td>\n",
       "    </tr>\n",
       "    <tr>\n",
       "      <td>4829</td>\n",
       "      <td>59d02be1c50fb6e6930cafd6ff6a31e5</td>\n",
       "      <td>voucher</td>\n",
       "      <td>1</td>\n",
       "      <td>20.00</td>\n",
       "    </tr>\n",
       "    <tr>\n",
       "      <td>5091</td>\n",
       "      <td>4689b1816de42507a7d63a4617383c59</td>\n",
       "      <td>voucher</td>\n",
       "      <td>1</td>\n",
       "      <td>56.42</td>\n",
       "    </tr>\n",
       "    <tr>\n",
       "      <td>6940</td>\n",
       "      <td>cf101c3abd3c061ca9f78c1bbb1125af</td>\n",
       "      <td>voucher</td>\n",
       "      <td>1</td>\n",
       "      <td>8.46</td>\n",
       "    </tr>\n",
       "    <tr>\n",
       "      <td>7441</td>\n",
       "      <td>d744783ed2ace06cac647a9e64dcbcfd</td>\n",
       "      <td>voucher</td>\n",
       "      <td>1</td>\n",
       "      <td>1.47</td>\n",
       "    </tr>\n",
       "    <tr>\n",
       "      <td>...</td>\n",
       "      <td>...</td>\n",
       "      <td>...</td>\n",
       "      <td>...</td>\n",
       "      <td>...</td>\n",
       "    </tr>\n",
       "    <tr>\n",
       "      <td>102942</td>\n",
       "      <td>dbc097913df341f30b9f9e92f459cee2</td>\n",
       "      <td>voucher</td>\n",
       "      <td>1</td>\n",
       "      <td>50.00</td>\n",
       "    </tr>\n",
       "    <tr>\n",
       "      <td>103046</td>\n",
       "      <td>c5fd5386640ddd76adc482b72d24a02b</td>\n",
       "      <td>voucher</td>\n",
       "      <td>1</td>\n",
       "      <td>5.79</td>\n",
       "    </tr>\n",
       "    <tr>\n",
       "      <td>103216</td>\n",
       "      <td>4d9190887b47ff1b89c657c788c038f6</td>\n",
       "      <td>voucher</td>\n",
       "      <td>1</td>\n",
       "      <td>12.80</td>\n",
       "    </tr>\n",
       "    <tr>\n",
       "      <td>103551</td>\n",
       "      <td>1ea11b975aea60ca92fa0559184d3d34</td>\n",
       "      <td>voucher</td>\n",
       "      <td>1</td>\n",
       "      <td>12.69</td>\n",
       "    </tr>\n",
       "    <tr>\n",
       "      <td>103747</td>\n",
       "      <td>cf101c3abd3c061ca9f78c1bbb1125af</td>\n",
       "      <td>voucher</td>\n",
       "      <td>1</td>\n",
       "      <td>8.46</td>\n",
       "    </tr>\n",
       "  </tbody>\n",
       "</table>\n",
       "<p>614 rows × 4 columns</p>\n",
       "</div>"
      ],
      "text/plain": [
       "                                order_id payment_type  payment_installments  \\\n",
       "3675    8ca5bdac5ebe8f2d6fc9171d5ebc906a      voucher                     1   \n",
       "4829    59d02be1c50fb6e6930cafd6ff6a31e5      voucher                     1   \n",
       "5091    4689b1816de42507a7d63a4617383c59      voucher                     1   \n",
       "6940    cf101c3abd3c061ca9f78c1bbb1125af      voucher                     1   \n",
       "7441    d744783ed2ace06cac647a9e64dcbcfd      voucher                     1   \n",
       "...                                  ...          ...                   ...   \n",
       "102942  dbc097913df341f30b9f9e92f459cee2      voucher                     1   \n",
       "103046  c5fd5386640ddd76adc482b72d24a02b      voucher                     1   \n",
       "103216  4d9190887b47ff1b89c657c788c038f6      voucher                     1   \n",
       "103551  1ea11b975aea60ca92fa0559184d3d34      voucher                     1   \n",
       "103747  cf101c3abd3c061ca9f78c1bbb1125af      voucher                     1   \n",
       "\n",
       "        payment_value  \n",
       "3675            15.00  \n",
       "4829            20.00  \n",
       "5091            56.42  \n",
       "6940             8.46  \n",
       "7441             1.47  \n",
       "...               ...  \n",
       "102942          50.00  \n",
       "103046           5.79  \n",
       "103216          12.80  \n",
       "103551          12.69  \n",
       "103747           8.46  \n",
       "\n",
       "[614 rows x 4 columns]"
      ]
     },
     "execution_count": 14,
     "metadata": {},
     "output_type": "execute_result"
    }
   ],
   "source": [
    "# duplicate rows of dataframe\n",
    "payment_df[payment_df.duplicated()]"
   ]
  },
  {
   "cell_type": "code",
   "execution_count": 16,
   "metadata": {},
   "outputs": [
    {
     "data": {
      "text/plain": [
       "order_id                99440\n",
       "payment_type                5\n",
       "payment_installments       24\n",
       "payment_value           29077\n",
       "dtype: int64"
      ]
     },
     "execution_count": 16,
     "metadata": {},
     "output_type": "execute_result"
    }
   ],
   "source": [
    "payment_df.nunique()"
   ]
  },
  {
   "cell_type": "markdown",
   "metadata": {},
   "source": [
    "## Item Dataset"
   ]
  },
  {
   "cell_type": "code",
   "execution_count": 17,
   "metadata": {},
   "outputs": [],
   "source": [
    "# read data and show its high-level information\n",
    "item_df = pd.read_csv('olist_order_items_dataset.csv')"
   ]
  },
  {
   "cell_type": "code",
   "execution_count": 18,
   "metadata": {
    "scrolled": false
   },
   "outputs": [
    {
     "name": "stdout",
     "output_type": "stream",
     "text": [
      "<class 'pandas.core.frame.DataFrame'>\n",
      "RangeIndex: 112650 entries, 0 to 112649\n",
      "Data columns (total 7 columns):\n",
      "order_id               112650 non-null object\n",
      "order_item_id          112650 non-null int64\n",
      "product_id             112650 non-null object\n",
      "seller_id              112650 non-null object\n",
      "shipping_limit_date    112650 non-null object\n",
      "price                  112650 non-null float64\n",
      "freight_value          112650 non-null float64\n",
      "dtypes: float64(2), int64(1), object(4)\n",
      "memory usage: 6.0+ MB\n"
     ]
    }
   ],
   "source": [
    "item_df.info()"
   ]
  },
  {
   "cell_type": "code",
   "execution_count": 19,
   "metadata": {},
   "outputs": [],
   "source": [
    "# drop irrelevant columns\n",
    "item_df.drop('order_item_id', axis='columns', inplace=True)"
   ]
  },
  {
   "cell_type": "code",
   "execution_count": 21,
   "metadata": {},
   "outputs": [
    {
     "data": {
      "text/plain": [
       "Index(['order_id', 'product_id', 'price', 'freight_value'], dtype='object')"
      ]
     },
     "execution_count": 21,
     "metadata": {},
     "output_type": "execute_result"
    }
   ],
   "source": [
    "# drop irrelevant columns\n",
    "item_df.drop(['seller_id',\n",
    "              'shipping_limit_date'], axis='columns', inplace=True)\n",
    "item_df.columns"
   ]
  },
  {
   "cell_type": "code",
   "execution_count": 20,
   "metadata": {
    "scrolled": true
   },
   "outputs": [
    {
     "data": {
      "text/html": [
       "<div>\n",
       "<style scoped>\n",
       "    .dataframe tbody tr th:only-of-type {\n",
       "        vertical-align: middle;\n",
       "    }\n",
       "\n",
       "    .dataframe tbody tr th {\n",
       "        vertical-align: top;\n",
       "    }\n",
       "\n",
       "    .dataframe thead th {\n",
       "        text-align: right;\n",
       "    }\n",
       "</style>\n",
       "<table border=\"1\" class=\"dataframe\">\n",
       "  <thead>\n",
       "    <tr style=\"text-align: right;\">\n",
       "      <th></th>\n",
       "      <th>order_id</th>\n",
       "      <th>product_id</th>\n",
       "      <th>seller_id</th>\n",
       "      <th>shipping_limit_date</th>\n",
       "      <th>price</th>\n",
       "      <th>freight_value</th>\n",
       "    </tr>\n",
       "  </thead>\n",
       "  <tbody>\n",
       "    <tr>\n",
       "      <td>14</td>\n",
       "      <td>0008288aa423d2a3f00fcb17cd7d8719</td>\n",
       "      <td>368c6c730842d78016ad823897a372db</td>\n",
       "      <td>1f50f920176fa81dab994f9023523100</td>\n",
       "      <td>2018-02-21 02:55:52</td>\n",
       "      <td>49.90</td>\n",
       "      <td>13.37</td>\n",
       "    </tr>\n",
       "    <tr>\n",
       "      <td>33</td>\n",
       "      <td>00143d0f86d6fbd9f9b38ab440ac16f5</td>\n",
       "      <td>e95ee6822b66ac6058e2e4aff656071a</td>\n",
       "      <td>a17f621c590ea0fab3d5d883e1630ec6</td>\n",
       "      <td>2017-10-20 16:07:52</td>\n",
       "      <td>21.33</td>\n",
       "      <td>15.10</td>\n",
       "    </tr>\n",
       "    <tr>\n",
       "      <td>34</td>\n",
       "      <td>00143d0f86d6fbd9f9b38ab440ac16f5</td>\n",
       "      <td>e95ee6822b66ac6058e2e4aff656071a</td>\n",
       "      <td>a17f621c590ea0fab3d5d883e1630ec6</td>\n",
       "      <td>2017-10-20 16:07:52</td>\n",
       "      <td>21.33</td>\n",
       "      <td>15.10</td>\n",
       "    </tr>\n",
       "    <tr>\n",
       "      <td>43</td>\n",
       "      <td>001ab0a7578dd66cd4b0a71f5b6e1e41</td>\n",
       "      <td>0b0172eb0fd18479d29c3bc122c058c2</td>\n",
       "      <td>5656537e588803a555b8eb41f07a944b</td>\n",
       "      <td>2018-01-04 02:33:42</td>\n",
       "      <td>24.89</td>\n",
       "      <td>17.63</td>\n",
       "    </tr>\n",
       "    <tr>\n",
       "      <td>44</td>\n",
       "      <td>001ab0a7578dd66cd4b0a71f5b6e1e41</td>\n",
       "      <td>0b0172eb0fd18479d29c3bc122c058c2</td>\n",
       "      <td>5656537e588803a555b8eb41f07a944b</td>\n",
       "      <td>2018-01-04 02:33:42</td>\n",
       "      <td>24.89</td>\n",
       "      <td>17.63</td>\n",
       "    </tr>\n",
       "    <tr>\n",
       "      <td>...</td>\n",
       "      <td>...</td>\n",
       "      <td>...</td>\n",
       "      <td>...</td>\n",
       "      <td>...</td>\n",
       "      <td>...</td>\n",
       "      <td>...</td>\n",
       "    </tr>\n",
       "    <tr>\n",
       "      <td>112617</td>\n",
       "      <td>ffecd5a79a0084f6a592288c67e3c298</td>\n",
       "      <td>50fd2b788dc166edd20512370dac54df</td>\n",
       "      <td>8b321bb669392f5163d04c59e235e066</td>\n",
       "      <td>2018-03-05 20:15:27</td>\n",
       "      <td>21.90</td>\n",
       "      <td>15.79</td>\n",
       "    </tr>\n",
       "    <tr>\n",
       "      <td>112635</td>\n",
       "      <td>fff8287bbae429a99bb7e8c21d151c41</td>\n",
       "      <td>bee2e070c39f3dd2f6883a17a5f0da45</td>\n",
       "      <td>4e922959ae960d389249c378d1c939f5</td>\n",
       "      <td>2018-03-27 12:29:22</td>\n",
       "      <td>180.00</td>\n",
       "      <td>48.14</td>\n",
       "    </tr>\n",
       "    <tr>\n",
       "      <td>112641</td>\n",
       "      <td>fffb9224b6fc7c43ebb0904318b10b5f</td>\n",
       "      <td>43423cdffde7fda63d0414ed38c11a73</td>\n",
       "      <td>b1fc4f64df5a0e8b6913ab38803c57a9</td>\n",
       "      <td>2017-11-03 02:55:58</td>\n",
       "      <td>55.00</td>\n",
       "      <td>34.19</td>\n",
       "    </tr>\n",
       "    <tr>\n",
       "      <td>112642</td>\n",
       "      <td>fffb9224b6fc7c43ebb0904318b10b5f</td>\n",
       "      <td>43423cdffde7fda63d0414ed38c11a73</td>\n",
       "      <td>b1fc4f64df5a0e8b6913ab38803c57a9</td>\n",
       "      <td>2017-11-03 02:55:58</td>\n",
       "      <td>55.00</td>\n",
       "      <td>34.19</td>\n",
       "    </tr>\n",
       "    <tr>\n",
       "      <td>112643</td>\n",
       "      <td>fffb9224b6fc7c43ebb0904318b10b5f</td>\n",
       "      <td>43423cdffde7fda63d0414ed38c11a73</td>\n",
       "      <td>b1fc4f64df5a0e8b6913ab38803c57a9</td>\n",
       "      <td>2017-11-03 02:55:58</td>\n",
       "      <td>55.00</td>\n",
       "      <td>34.19</td>\n",
       "    </tr>\n",
       "  </tbody>\n",
       "</table>\n",
       "<p>10225 rows × 6 columns</p>\n",
       "</div>"
      ],
      "text/plain": [
       "                                order_id                        product_id  \\\n",
       "14      0008288aa423d2a3f00fcb17cd7d8719  368c6c730842d78016ad823897a372db   \n",
       "33      00143d0f86d6fbd9f9b38ab440ac16f5  e95ee6822b66ac6058e2e4aff656071a   \n",
       "34      00143d0f86d6fbd9f9b38ab440ac16f5  e95ee6822b66ac6058e2e4aff656071a   \n",
       "43      001ab0a7578dd66cd4b0a71f5b6e1e41  0b0172eb0fd18479d29c3bc122c058c2   \n",
       "44      001ab0a7578dd66cd4b0a71f5b6e1e41  0b0172eb0fd18479d29c3bc122c058c2   \n",
       "...                                  ...                               ...   \n",
       "112617  ffecd5a79a0084f6a592288c67e3c298  50fd2b788dc166edd20512370dac54df   \n",
       "112635  fff8287bbae429a99bb7e8c21d151c41  bee2e070c39f3dd2f6883a17a5f0da45   \n",
       "112641  fffb9224b6fc7c43ebb0904318b10b5f  43423cdffde7fda63d0414ed38c11a73   \n",
       "112642  fffb9224b6fc7c43ebb0904318b10b5f  43423cdffde7fda63d0414ed38c11a73   \n",
       "112643  fffb9224b6fc7c43ebb0904318b10b5f  43423cdffde7fda63d0414ed38c11a73   \n",
       "\n",
       "                               seller_id  shipping_limit_date   price  \\\n",
       "14      1f50f920176fa81dab994f9023523100  2018-02-21 02:55:52   49.90   \n",
       "33      a17f621c590ea0fab3d5d883e1630ec6  2017-10-20 16:07:52   21.33   \n",
       "34      a17f621c590ea0fab3d5d883e1630ec6  2017-10-20 16:07:52   21.33   \n",
       "43      5656537e588803a555b8eb41f07a944b  2018-01-04 02:33:42   24.89   \n",
       "44      5656537e588803a555b8eb41f07a944b  2018-01-04 02:33:42   24.89   \n",
       "...                                  ...                  ...     ...   \n",
       "112617  8b321bb669392f5163d04c59e235e066  2018-03-05 20:15:27   21.90   \n",
       "112635  4e922959ae960d389249c378d1c939f5  2018-03-27 12:29:22  180.00   \n",
       "112641  b1fc4f64df5a0e8b6913ab38803c57a9  2017-11-03 02:55:58   55.00   \n",
       "112642  b1fc4f64df5a0e8b6913ab38803c57a9  2017-11-03 02:55:58   55.00   \n",
       "112643  b1fc4f64df5a0e8b6913ab38803c57a9  2017-11-03 02:55:58   55.00   \n",
       "\n",
       "        freight_value  \n",
       "14              13.37  \n",
       "33              15.10  \n",
       "34              15.10  \n",
       "43              17.63  \n",
       "44              17.63  \n",
       "...               ...  \n",
       "112617          15.79  \n",
       "112635          48.14  \n",
       "112641          34.19  \n",
       "112642          34.19  \n",
       "112643          34.19  \n",
       "\n",
       "[10225 rows x 6 columns]"
      ]
     },
     "execution_count": 20,
     "metadata": {},
     "output_type": "execute_result"
    }
   ],
   "source": [
    "# duplicate rows of dataframe\n",
    "item_df[item_df.duplicated()]"
   ]
  },
  {
   "cell_type": "code",
   "execution_count": 22,
   "metadata": {},
   "outputs": [
    {
     "data": {
      "text/html": [
       "<div>\n",
       "<style scoped>\n",
       "    .dataframe tbody tr th:only-of-type {\n",
       "        vertical-align: middle;\n",
       "    }\n",
       "\n",
       "    .dataframe tbody tr th {\n",
       "        vertical-align: top;\n",
       "    }\n",
       "\n",
       "    .dataframe thead th {\n",
       "        text-align: right;\n",
       "    }\n",
       "</style>\n",
       "<table border=\"1\" class=\"dataframe\">\n",
       "  <thead>\n",
       "    <tr style=\"text-align: right;\">\n",
       "      <th></th>\n",
       "      <th>order_id</th>\n",
       "      <th>product_id</th>\n",
       "      <th>price</th>\n",
       "      <th>freight_value</th>\n",
       "    </tr>\n",
       "  </thead>\n",
       "  <tbody>\n",
       "    <tr>\n",
       "      <td>0</td>\n",
       "      <td>00010242fe8c5a6d1ba2dd792cb16214</td>\n",
       "      <td>4244733e06e7ecb4970a6e2683c13e61</td>\n",
       "      <td>58.90</td>\n",
       "      <td>13.29</td>\n",
       "    </tr>\n",
       "    <tr>\n",
       "      <td>1</td>\n",
       "      <td>00018f77f2f0320c557190d7a144bdd3</td>\n",
       "      <td>e5f2d52b802189ee658865ca93d83a8f</td>\n",
       "      <td>239.90</td>\n",
       "      <td>19.93</td>\n",
       "    </tr>\n",
       "    <tr>\n",
       "      <td>2</td>\n",
       "      <td>000229ec398224ef6ca0657da4fc703e</td>\n",
       "      <td>c777355d18b72b67abbeef9df44fd0fd</td>\n",
       "      <td>199.00</td>\n",
       "      <td>17.87</td>\n",
       "    </tr>\n",
       "    <tr>\n",
       "      <td>3</td>\n",
       "      <td>00024acbcdf0a6daa1e931b038114c75</td>\n",
       "      <td>7634da152a4610f1595efa32f14722fc</td>\n",
       "      <td>12.99</td>\n",
       "      <td>12.79</td>\n",
       "    </tr>\n",
       "    <tr>\n",
       "      <td>4</td>\n",
       "      <td>00042b26cf59d7ce69dfabb4e55b4fd9</td>\n",
       "      <td>ac6c3623068f30de03045865e4e10089</td>\n",
       "      <td>199.90</td>\n",
       "      <td>18.14</td>\n",
       "    </tr>\n",
       "  </tbody>\n",
       "</table>\n",
       "</div>"
      ],
      "text/plain": [
       "                           order_id                        product_id   price  \\\n",
       "0  00010242fe8c5a6d1ba2dd792cb16214  4244733e06e7ecb4970a6e2683c13e61   58.90   \n",
       "1  00018f77f2f0320c557190d7a144bdd3  e5f2d52b802189ee658865ca93d83a8f  239.90   \n",
       "2  000229ec398224ef6ca0657da4fc703e  c777355d18b72b67abbeef9df44fd0fd  199.00   \n",
       "3  00024acbcdf0a6daa1e931b038114c75  7634da152a4610f1595efa32f14722fc   12.99   \n",
       "4  00042b26cf59d7ce69dfabb4e55b4fd9  ac6c3623068f30de03045865e4e10089  199.90   \n",
       "\n",
       "   freight_value  \n",
       "0          13.29  \n",
       "1          19.93  \n",
       "2          17.87  \n",
       "3          12.79  \n",
       "4          18.14  "
      ]
     },
     "execution_count": 22,
     "metadata": {},
     "output_type": "execute_result"
    }
   ],
   "source": [
    "# head of values\n",
    "item_df.head()"
   ]
  },
  {
   "cell_type": "markdown",
   "metadata": {},
   "source": [
    "## Product Dataset"
   ]
  },
  {
   "cell_type": "code",
   "execution_count": 23,
   "metadata": {},
   "outputs": [],
   "source": [
    "# read data and show its high-level information\n",
    "product_df = pd.read_csv('olist_products_dataset.csv')"
   ]
  },
  {
   "cell_type": "code",
   "execution_count": 24,
   "metadata": {
    "scrolled": false
   },
   "outputs": [
    {
     "name": "stdout",
     "output_type": "stream",
     "text": [
      "<class 'pandas.core.frame.DataFrame'>\n",
      "RangeIndex: 32951 entries, 0 to 32950\n",
      "Data columns (total 9 columns):\n",
      "product_id                    32951 non-null object\n",
      "product_category_name         32341 non-null object\n",
      "product_name_lenght           32341 non-null float64\n",
      "product_description_lenght    32341 non-null float64\n",
      "product_photos_qty            32341 non-null float64\n",
      "product_weight_g              32949 non-null float64\n",
      "product_length_cm             32949 non-null float64\n",
      "product_height_cm             32949 non-null float64\n",
      "product_width_cm              32949 non-null float64\n",
      "dtypes: float64(7), object(2)\n",
      "memory usage: 2.3+ MB\n"
     ]
    }
   ],
   "source": [
    "product_df.info()"
   ]
  },
  {
   "cell_type": "code",
   "execution_count": 26,
   "metadata": {
    "scrolled": false
   },
   "outputs": [
    {
     "name": "stdout",
     "output_type": "stream",
     "text": [
      "<class 'pandas.core.frame.DataFrame'>\n",
      "RangeIndex: 32951 entries, 0 to 32950\n",
      "Data columns (total 9 columns):\n",
      "product_id                    32951 non-null object\n",
      "product_category_name         32341 non-null object\n",
      "product_name_lenght           32951 non-null float64\n",
      "product_description_lenght    32951 non-null float64\n",
      "product_photos_qty            32951 non-null float64\n",
      "product_weight_g              32951 non-null float64\n",
      "product_length_cm             32951 non-null float64\n",
      "product_height_cm             32951 non-null float64\n",
      "product_width_cm              32951 non-null float64\n",
      "dtypes: float64(7), object(2)\n",
      "memory usage: 2.3+ MB\n"
     ]
    }
   ],
   "source": [
    "product_df.fillna(product_df.median(), inplace=True)\n",
    "product_df.info()"
   ]
  },
  {
   "cell_type": "code",
   "execution_count": 27,
   "metadata": {},
   "outputs": [
    {
     "name": "stdout",
     "output_type": "stream",
     "text": [
      "<class 'pandas.core.frame.DataFrame'>\n",
      "RangeIndex: 32951 entries, 0 to 32950\n",
      "Data columns (total 9 columns):\n",
      "product_id                    32951 non-null object\n",
      "product_category_name         32951 non-null object\n",
      "product_name_lenght           32951 non-null float64\n",
      "product_description_lenght    32951 non-null float64\n",
      "product_photos_qty            32951 non-null float64\n",
      "product_weight_g              32951 non-null float64\n",
      "product_length_cm             32951 non-null float64\n",
      "product_height_cm             32951 non-null float64\n",
      "product_width_cm              32951 non-null float64\n",
      "dtypes: float64(7), object(2)\n",
      "memory usage: 2.3+ MB\n"
     ]
    }
   ],
   "source": [
    "product_df.fillna('other', inplace=True)\n",
    "product_df.info()"
   ]
  },
  {
   "cell_type": "code",
   "execution_count": 25,
   "metadata": {
    "scrolled": true
   },
   "outputs": [
    {
     "data": {
      "text/html": [
       "<div>\n",
       "<style scoped>\n",
       "    .dataframe tbody tr th:only-of-type {\n",
       "        vertical-align: middle;\n",
       "    }\n",
       "\n",
       "    .dataframe tbody tr th {\n",
       "        vertical-align: top;\n",
       "    }\n",
       "\n",
       "    .dataframe thead th {\n",
       "        text-align: right;\n",
       "    }\n",
       "</style>\n",
       "<table border=\"1\" class=\"dataframe\">\n",
       "  <thead>\n",
       "    <tr style=\"text-align: right;\">\n",
       "      <th></th>\n",
       "      <th>product_id</th>\n",
       "      <th>product_category_name</th>\n",
       "      <th>product_name_lenght</th>\n",
       "      <th>product_description_lenght</th>\n",
       "      <th>product_photos_qty</th>\n",
       "      <th>product_weight_g</th>\n",
       "      <th>product_length_cm</th>\n",
       "      <th>product_height_cm</th>\n",
       "      <th>product_width_cm</th>\n",
       "    </tr>\n",
       "  </thead>\n",
       "  <tbody>\n",
       "  </tbody>\n",
       "</table>\n",
       "</div>"
      ],
      "text/plain": [
       "Empty DataFrame\n",
       "Columns: [product_id, product_category_name, product_name_lenght, product_description_lenght, product_photos_qty, product_weight_g, product_length_cm, product_height_cm, product_width_cm]\n",
       "Index: []"
      ]
     },
     "execution_count": 25,
     "metadata": {},
     "output_type": "execute_result"
    }
   ],
   "source": [
    "# duplicate rows of dataframe\n",
    "product_df[product_df.duplicated()]"
   ]
  },
  {
   "cell_type": "code",
   "execution_count": 28,
   "metadata": {
    "scrolled": false
   },
   "outputs": [
    {
     "data": {
      "text/html": [
       "<div>\n",
       "<style scoped>\n",
       "    .dataframe tbody tr th:only-of-type {\n",
       "        vertical-align: middle;\n",
       "    }\n",
       "\n",
       "    .dataframe tbody tr th {\n",
       "        vertical-align: top;\n",
       "    }\n",
       "\n",
       "    .dataframe thead th {\n",
       "        text-align: right;\n",
       "    }\n",
       "</style>\n",
       "<table border=\"1\" class=\"dataframe\">\n",
       "  <thead>\n",
       "    <tr style=\"text-align: right;\">\n",
       "      <th></th>\n",
       "      <th>product_id</th>\n",
       "      <th>product_category_name</th>\n",
       "      <th>product_name_lenght</th>\n",
       "      <th>product_description_lenght</th>\n",
       "      <th>product_photos_qty</th>\n",
       "      <th>product_weight_g</th>\n",
       "      <th>product_length_cm</th>\n",
       "      <th>product_height_cm</th>\n",
       "      <th>product_width_cm</th>\n",
       "    </tr>\n",
       "  </thead>\n",
       "  <tbody>\n",
       "    <tr>\n",
       "      <td>0</td>\n",
       "      <td>1e9e8ef04dbcff4541ed26657ea517e5</td>\n",
       "      <td>perfumaria</td>\n",
       "      <td>40.0</td>\n",
       "      <td>287.0</td>\n",
       "      <td>1.0</td>\n",
       "      <td>225.0</td>\n",
       "      <td>16.0</td>\n",
       "      <td>10.0</td>\n",
       "      <td>14.0</td>\n",
       "    </tr>\n",
       "    <tr>\n",
       "      <td>1</td>\n",
       "      <td>3aa071139cb16b67ca9e5dea641aaa2f</td>\n",
       "      <td>artes</td>\n",
       "      <td>44.0</td>\n",
       "      <td>276.0</td>\n",
       "      <td>1.0</td>\n",
       "      <td>1000.0</td>\n",
       "      <td>30.0</td>\n",
       "      <td>18.0</td>\n",
       "      <td>20.0</td>\n",
       "    </tr>\n",
       "    <tr>\n",
       "      <td>2</td>\n",
       "      <td>96bd76ec8810374ed1b65e291975717f</td>\n",
       "      <td>esporte_lazer</td>\n",
       "      <td>46.0</td>\n",
       "      <td>250.0</td>\n",
       "      <td>1.0</td>\n",
       "      <td>154.0</td>\n",
       "      <td>18.0</td>\n",
       "      <td>9.0</td>\n",
       "      <td>15.0</td>\n",
       "    </tr>\n",
       "    <tr>\n",
       "      <td>3</td>\n",
       "      <td>cef67bcfe19066a932b7673e239eb23d</td>\n",
       "      <td>bebes</td>\n",
       "      <td>27.0</td>\n",
       "      <td>261.0</td>\n",
       "      <td>1.0</td>\n",
       "      <td>371.0</td>\n",
       "      <td>26.0</td>\n",
       "      <td>4.0</td>\n",
       "      <td>26.0</td>\n",
       "    </tr>\n",
       "    <tr>\n",
       "      <td>4</td>\n",
       "      <td>9dc1a7de274444849c219cff195d0b71</td>\n",
       "      <td>utilidades_domesticas</td>\n",
       "      <td>37.0</td>\n",
       "      <td>402.0</td>\n",
       "      <td>4.0</td>\n",
       "      <td>625.0</td>\n",
       "      <td>20.0</td>\n",
       "      <td>17.0</td>\n",
       "      <td>13.0</td>\n",
       "    </tr>\n",
       "  </tbody>\n",
       "</table>\n",
       "</div>"
      ],
      "text/plain": [
       "                         product_id  product_category_name  \\\n",
       "0  1e9e8ef04dbcff4541ed26657ea517e5             perfumaria   \n",
       "1  3aa071139cb16b67ca9e5dea641aaa2f                  artes   \n",
       "2  96bd76ec8810374ed1b65e291975717f          esporte_lazer   \n",
       "3  cef67bcfe19066a932b7673e239eb23d                  bebes   \n",
       "4  9dc1a7de274444849c219cff195d0b71  utilidades_domesticas   \n",
       "\n",
       "   product_name_lenght  product_description_lenght  product_photos_qty  \\\n",
       "0                 40.0                       287.0                 1.0   \n",
       "1                 44.0                       276.0                 1.0   \n",
       "2                 46.0                       250.0                 1.0   \n",
       "3                 27.0                       261.0                 1.0   \n",
       "4                 37.0                       402.0                 4.0   \n",
       "\n",
       "   product_weight_g  product_length_cm  product_height_cm  product_width_cm  \n",
       "0             225.0               16.0               10.0              14.0  \n",
       "1            1000.0               30.0               18.0              20.0  \n",
       "2             154.0               18.0                9.0              15.0  \n",
       "3             371.0               26.0                4.0              26.0  \n",
       "4             625.0               20.0               17.0              13.0  "
      ]
     },
     "execution_count": 28,
     "metadata": {},
     "output_type": "execute_result"
    }
   ],
   "source": [
    "# head of values\n",
    "product_df.head()"
   ]
  },
  {
   "cell_type": "code",
   "execution_count": 29,
   "metadata": {
    "scrolled": true
   },
   "outputs": [
    {
     "data": {
      "text/plain": [
       "74"
      ]
     },
     "execution_count": 29,
     "metadata": {},
     "output_type": "execute_result"
    }
   ],
   "source": [
    "product_df.product_category_name.nunique()"
   ]
  },
  {
   "cell_type": "markdown",
   "metadata": {},
   "source": [
    "## Translation Dataset"
   ]
  },
  {
   "cell_type": "code",
   "execution_count": 30,
   "metadata": {},
   "outputs": [
    {
     "name": "stdout",
     "output_type": "stream",
     "text": [
      "<class 'pandas.core.frame.DataFrame'>\n",
      "RangeIndex: 71 entries, 0 to 70\n",
      "Data columns (total 2 columns):\n",
      "product_category_name            71 non-null object\n",
      "product_category_name_english    71 non-null object\n",
      "dtypes: object(2)\n",
      "memory usage: 1.2+ KB\n"
     ]
    },
    {
     "data": {
      "text/html": [
       "<div>\n",
       "<style scoped>\n",
       "    .dataframe tbody tr th:only-of-type {\n",
       "        vertical-align: middle;\n",
       "    }\n",
       "\n",
       "    .dataframe tbody tr th {\n",
       "        vertical-align: top;\n",
       "    }\n",
       "\n",
       "    .dataframe thead th {\n",
       "        text-align: right;\n",
       "    }\n",
       "</style>\n",
       "<table border=\"1\" class=\"dataframe\">\n",
       "  <thead>\n",
       "    <tr style=\"text-align: right;\">\n",
       "      <th></th>\n",
       "      <th>product_category_name</th>\n",
       "      <th>product_category_name_english</th>\n",
       "    </tr>\n",
       "  </thead>\n",
       "  <tbody>\n",
       "    <tr>\n",
       "      <td>0</td>\n",
       "      <td>beleza_saude</td>\n",
       "      <td>health_beauty</td>\n",
       "    </tr>\n",
       "    <tr>\n",
       "      <td>1</td>\n",
       "      <td>informatica_acessorios</td>\n",
       "      <td>computers_accessories</td>\n",
       "    </tr>\n",
       "    <tr>\n",
       "      <td>2</td>\n",
       "      <td>automotivo</td>\n",
       "      <td>auto</td>\n",
       "    </tr>\n",
       "    <tr>\n",
       "      <td>3</td>\n",
       "      <td>cama_mesa_banho</td>\n",
       "      <td>bed_bath_table</td>\n",
       "    </tr>\n",
       "    <tr>\n",
       "      <td>4</td>\n",
       "      <td>moveis_decoracao</td>\n",
       "      <td>furniture_decor</td>\n",
       "    </tr>\n",
       "  </tbody>\n",
       "</table>\n",
       "</div>"
      ],
      "text/plain": [
       "    product_category_name product_category_name_english\n",
       "0            beleza_saude                 health_beauty\n",
       "1  informatica_acessorios         computers_accessories\n",
       "2              automotivo                          auto\n",
       "3         cama_mesa_banho                bed_bath_table\n",
       "4        moveis_decoracao               furniture_decor"
      ]
     },
     "execution_count": 30,
     "metadata": {},
     "output_type": "execute_result"
    }
   ],
   "source": [
    "# read data and show its high-level information\n",
    "translation_df = pd.read_csv('product_category_name_translation.csv')\n",
    "translation_df.info()\n",
    "\n",
    "# head of values\n",
    "translation_df.head()"
   ]
  },
  {
   "cell_type": "markdown",
   "metadata": {},
   "source": [
    "## Review Dataset"
   ]
  },
  {
   "cell_type": "code",
   "execution_count": 31,
   "metadata": {
    "scrolled": true
   },
   "outputs": [
    {
     "name": "stdout",
     "output_type": "stream",
     "text": [
      "<class 'pandas.core.frame.DataFrame'>\n",
      "RangeIndex: 100000 entries, 0 to 99999\n",
      "Data columns (total 7 columns):\n",
      "review_id                  100000 non-null object\n",
      "order_id                   100000 non-null object\n",
      "review_score               100000 non-null int64\n",
      "review_comment_title       11715 non-null object\n",
      "review_comment_message     41753 non-null object\n",
      "review_creation_date       100000 non-null object\n",
      "review_answer_timestamp    100000 non-null object\n",
      "dtypes: int64(1), object(6)\n",
      "memory usage: 5.3+ MB\n"
     ]
    }
   ],
   "source": [
    "# read data and show its high-level information\n",
    "review_df = pd.read_csv('olist_order_reviews_dataset.csv')\n",
    "review_df.info()"
   ]
  },
  {
   "cell_type": "code",
   "execution_count": 33,
   "metadata": {},
   "outputs": [
    {
     "data": {
      "text/plain": [
       "Index(['order_id', 'review_score', 'review_comment_title',\n",
       "       'review_comment_message'],\n",
       "      dtype='object')"
      ]
     },
     "execution_count": 33,
     "metadata": {},
     "output_type": "execute_result"
    }
   ],
   "source": [
    "# drop irrelevant columns\n",
    "review_df.drop(['review_id',\n",
    "                'review_creation_date',\n",
    "                'review_answer_timestamp'], axis='columns', inplace=True)\n",
    "review_df.columns"
   ]
  },
  {
   "cell_type": "code",
   "execution_count": 34,
   "metadata": {
    "scrolled": false
   },
   "outputs": [
    {
     "name": "stdout",
     "output_type": "stream",
     "text": [
      "<class 'pandas.core.frame.DataFrame'>\n",
      "RangeIndex: 100000 entries, 0 to 99999\n",
      "Data columns (total 4 columns):\n",
      "order_id                  100000 non-null object\n",
      "review_score              100000 non-null int64\n",
      "review_comment_title      100000 non-null int64\n",
      "review_comment_message    100000 non-null int64\n",
      "dtypes: int64(3), object(1)\n",
      "memory usage: 3.1+ MB\n"
     ]
    }
   ],
   "source": [
    "for columns in ['review_comment_title', 'review_comment_message']:\n",
    "    # replace present values with 1\n",
    "    review_df.loc[review_df[columns].notnull(), columns] = 1\n",
    "    # replace null values with 0\n",
    "    review_df.loc[review_df[columns].isna(), columns] = 0\n",
    "review_df.info()"
   ]
  },
  {
   "cell_type": "code",
   "execution_count": 32,
   "metadata": {},
   "outputs": [
    {
     "data": {
      "text/html": [
       "<div>\n",
       "<style scoped>\n",
       "    .dataframe tbody tr th:only-of-type {\n",
       "        vertical-align: middle;\n",
       "    }\n",
       "\n",
       "    .dataframe tbody tr th {\n",
       "        vertical-align: top;\n",
       "    }\n",
       "\n",
       "    .dataframe thead th {\n",
       "        text-align: right;\n",
       "    }\n",
       "</style>\n",
       "<table border=\"1\" class=\"dataframe\">\n",
       "  <thead>\n",
       "    <tr style=\"text-align: right;\">\n",
       "      <th></th>\n",
       "      <th>review_id</th>\n",
       "      <th>order_id</th>\n",
       "      <th>review_score</th>\n",
       "      <th>review_comment_title</th>\n",
       "      <th>review_comment_message</th>\n",
       "      <th>review_creation_date</th>\n",
       "      <th>review_answer_timestamp</th>\n",
       "    </tr>\n",
       "  </thead>\n",
       "  <tbody>\n",
       "  </tbody>\n",
       "</table>\n",
       "</div>"
      ],
      "text/plain": [
       "Empty DataFrame\n",
       "Columns: [review_id, order_id, review_score, review_comment_title, review_comment_message, review_creation_date, review_answer_timestamp]\n",
       "Index: []"
      ]
     },
     "execution_count": 32,
     "metadata": {},
     "output_type": "execute_result"
    }
   ],
   "source": [
    "# duplicate rows of dataframe\n",
    "review_df[review_df.duplicated()]"
   ]
  },
  {
   "cell_type": "code",
   "execution_count": 35,
   "metadata": {
    "scrolled": true
   },
   "outputs": [
    {
     "data": {
      "text/html": [
       "<div>\n",
       "<style scoped>\n",
       "    .dataframe tbody tr th:only-of-type {\n",
       "        vertical-align: middle;\n",
       "    }\n",
       "\n",
       "    .dataframe tbody tr th {\n",
       "        vertical-align: top;\n",
       "    }\n",
       "\n",
       "    .dataframe thead th {\n",
       "        text-align: right;\n",
       "    }\n",
       "</style>\n",
       "<table border=\"1\" class=\"dataframe\">\n",
       "  <thead>\n",
       "    <tr style=\"text-align: right;\">\n",
       "      <th></th>\n",
       "      <th>order_id</th>\n",
       "      <th>review_score</th>\n",
       "      <th>review_comment_title</th>\n",
       "      <th>review_comment_message</th>\n",
       "    </tr>\n",
       "  </thead>\n",
       "  <tbody>\n",
       "    <tr>\n",
       "      <td>0</td>\n",
       "      <td>73fc7af87114b39712e6da79b0a377eb</td>\n",
       "      <td>4</td>\n",
       "      <td>0</td>\n",
       "      <td>0</td>\n",
       "    </tr>\n",
       "    <tr>\n",
       "      <td>1</td>\n",
       "      <td>a548910a1c6147796b98fdf73dbeba33</td>\n",
       "      <td>5</td>\n",
       "      <td>0</td>\n",
       "      <td>0</td>\n",
       "    </tr>\n",
       "    <tr>\n",
       "      <td>2</td>\n",
       "      <td>f9e4b658b201a9f2ecdecbb34bed034b</td>\n",
       "      <td>5</td>\n",
       "      <td>0</td>\n",
       "      <td>0</td>\n",
       "    </tr>\n",
       "    <tr>\n",
       "      <td>3</td>\n",
       "      <td>658677c97b385a9be170737859d3511b</td>\n",
       "      <td>5</td>\n",
       "      <td>0</td>\n",
       "      <td>1</td>\n",
       "    </tr>\n",
       "    <tr>\n",
       "      <td>4</td>\n",
       "      <td>8e6bfb81e283fa7e4f11123a3fb894f1</td>\n",
       "      <td>5</td>\n",
       "      <td>0</td>\n",
       "      <td>1</td>\n",
       "    </tr>\n",
       "  </tbody>\n",
       "</table>\n",
       "</div>"
      ],
      "text/plain": [
       "                           order_id  review_score  review_comment_title  \\\n",
       "0  73fc7af87114b39712e6da79b0a377eb             4                     0   \n",
       "1  a548910a1c6147796b98fdf73dbeba33             5                     0   \n",
       "2  f9e4b658b201a9f2ecdecbb34bed034b             5                     0   \n",
       "3  658677c97b385a9be170737859d3511b             5                     0   \n",
       "4  8e6bfb81e283fa7e4f11123a3fb894f1             5                     0   \n",
       "\n",
       "   review_comment_message  \n",
       "0                       0  \n",
       "1                       0  \n",
       "2                       0  \n",
       "3                       1  \n",
       "4                       1  "
      ]
     },
     "execution_count": 35,
     "metadata": {},
     "output_type": "execute_result"
    }
   ],
   "source": [
    "# head of values\n",
    "review_df.head()"
   ]
  },
  {
   "cell_type": "code",
   "execution_count": 36,
   "metadata": {
    "scrolled": true
   },
   "outputs": [
    {
     "data": {
      "text/plain": [
       "order_id                  99441\n",
       "review_score                  5\n",
       "review_comment_title          2\n",
       "review_comment_message        2\n",
       "dtype: int64"
      ]
     },
     "execution_count": 36,
     "metadata": {},
     "output_type": "execute_result"
    }
   ],
   "source": [
    "review_df.nunique()"
   ]
  },
  {
   "cell_type": "code",
   "execution_count": 37,
   "metadata": {
    "scrolled": true
   },
   "outputs": [
    {
     "data": {
      "text/plain": [
       "5    0.57420\n",
       "4    0.19200\n",
       "1    0.11858\n",
       "3    0.08287\n",
       "2    0.03235\n",
       "Name: review_score, dtype: float64"
      ]
     },
     "execution_count": 37,
     "metadata": {},
     "output_type": "execute_result"
    }
   ],
   "source": [
    "review_df.review_score.value_counts(normalize=True)"
   ]
  },
  {
   "cell_type": "code",
   "execution_count": 38,
   "metadata": {},
   "outputs": [
    {
     "data": {
      "text/plain": [
       "<BarContainer object of 5 artists>"
      ]
     },
     "execution_count": 38,
     "metadata": {},
     "output_type": "execute_result"
    },
    {
     "data": {
      "image/png": "[encoded data removed]",
      "text/plain": [
       "<Figure size 432x288 with 1 Axes>"
      ]
     },
     "metadata": {
      "needs_background": "light"
     },
     "output_type": "display_data"
    }
   ],
   "source": [
    "plt.bar(review_df.review_score.value_counts().index, review_df.review_score.value_counts().values)"
   ]
  },
  {
   "cell_type": "markdown",
   "metadata": {},
   "source": [
    "## Seller Dataset"
   ]
  },
  {
   "cell_type": "code",
   "execution_count": 39,
   "metadata": {},
   "outputs": [
    {
     "name": "stdout",
     "output_type": "stream",
     "text": [
      "<class 'pandas.core.frame.DataFrame'>\n",
      "RangeIndex: 3095 entries, 0 to 3094\n",
      "Data columns (total 4 columns):\n",
      "seller_id                 3095 non-null object\n",
      "seller_zip_code_prefix    3095 non-null int64\n",
      "seller_city               3095 non-null object\n",
      "seller_state              3095 non-null object\n",
      "dtypes: int64(1), object(3)\n",
      "memory usage: 96.8+ KB\n"
     ]
    }
   ],
   "source": [
    "# read data and show its high-level information\n",
    "seller_df = pd.read_csv('olist_sellers_dataset.csv')\n",
    "seller_df.info()"
   ]
  },
  {
   "cell_type": "code",
   "execution_count": 40,
   "metadata": {},
   "outputs": [
    {
     "data": {
      "text/plain": [
       "Index(['seller_id', 'seller_state'], dtype='object')"
      ]
     },
     "execution_count": 40,
     "metadata": {},
     "output_type": "execute_result"
    }
   ],
   "source": [
    "# drop irrelevant columns\n",
    "seller_df.drop(['seller_zip_code_prefix',\n",
    "                'seller_city'], axis='columns', inplace=True)\n",
    "seller_df.columns"
   ]
  },
  {
   "cell_type": "markdown",
   "metadata": {},
   "source": [
    "## Database Joins"
   ]
  },
  {
   "cell_type": "code",
   "execution_count": 41,
   "metadata": {
    "scrolled": true
   },
   "outputs": [
    {
     "name": "stdout",
     "output_type": "stream",
     "text": [
      "<class 'pandas.core.frame.DataFrame'>\n",
      "Int64Index: 99441 entries, 0 to 99440\n",
      "Data columns (total 4 columns):\n",
      "order_id                    99441 non-null object\n",
      "order_purchase_timestamp    99441 non-null object\n",
      "customer_unique_id          99441 non-null object\n",
      "customer_state              99441 non-null object\n",
      "dtypes: object(4)\n",
      "memory usage: 3.8+ MB\n"
     ]
    }
   ],
   "source": [
    "oc_df = pd.merge(order_df, customer_df, how='left', on='customer_id')\n",
    "oc_df.drop('customer_id', axis='columns', inplace=True)\n",
    "oc_df.info()"
   ]
  },
  {
   "cell_type": "code",
   "execution_count": 42,
   "metadata": {
    "scrolled": false
   },
   "outputs": [
    {
     "name": "stdout",
     "output_type": "stream",
     "text": [
      "<class 'pandas.core.frame.DataFrame'>\n",
      "Int64Index: 103887 entries, 0 to 103886\n",
      "Data columns (total 7 columns):\n",
      "order_id                    103887 non-null object\n",
      "order_purchase_timestamp    103887 non-null object\n",
      "customer_unique_id          103887 non-null object\n",
      "customer_state              103887 non-null object\n",
      "payment_type                103886 non-null object\n",
      "payment_installments        103886 non-null float64\n",
      "payment_value               103886 non-null float64\n",
      "dtypes: float64(2), object(5)\n",
      "memory usage: 6.3+ MB\n"
     ]
    }
   ],
   "source": [
    "ocp_df = pd.merge(oc_df, payment_df, how='left', on='order_id')\n",
    "ocp_df.info()"
   ]
  },
  {
   "cell_type": "code",
   "execution_count": 43,
   "metadata": {},
   "outputs": [
    {
     "name": "stdout",
     "output_type": "stream",
     "text": [
      "<class 'pandas.core.frame.DataFrame'>\n",
      "Int64Index: 104486 entries, 0 to 104485\n",
      "Data columns (total 10 columns):\n",
      "order_id                    104486 non-null object\n",
      "order_purchase_timestamp    104486 non-null object\n",
      "customer_unique_id          104486 non-null object\n",
      "customer_state              104486 non-null object\n",
      "payment_type                104485 non-null object\n",
      "payment_installments        104485 non-null float64\n",
      "payment_value               104485 non-null float64\n",
      "review_score                104486 non-null int64\n",
      "review_comment_title        104486 non-null int64\n",
      "review_comment_message      104486 non-null int64\n",
      "dtypes: float64(2), int64(3), object(5)\n",
      "memory usage: 8.8+ MB\n"
     ]
    }
   ],
   "source": [
    "ocpr_df = pd.merge(ocp_df, review_df, how='left', on='order_id')\n",
    "ocpr_df.info()"
   ]
  },
  {
   "cell_type": "code",
   "execution_count": 44,
   "metadata": {
    "scrolled": true
   },
   "outputs": [
    {
     "name": "stdout",
     "output_type": "stream",
     "text": [
      "<class 'pandas.core.frame.DataFrame'>\n",
      "Int64Index: 119151 entries, 0 to 119150\n",
      "Data columns (total 13 columns):\n",
      "order_id                    119151 non-null object\n",
      "order_purchase_timestamp    119151 non-null object\n",
      "customer_unique_id          119151 non-null object\n",
      "customer_state              119151 non-null object\n",
      "payment_type                119148 non-null object\n",
      "payment_installments        119148 non-null float64\n",
      "payment_value               119148 non-null float64\n",
      "review_score                119151 non-null int64\n",
      "review_comment_title        119151 non-null int64\n",
      "review_comment_message      119151 non-null int64\n",
      "product_id                  118318 non-null object\n",
      "price                       118318 non-null float64\n",
      "freight_value               118318 non-null float64\n",
      "dtypes: float64(4), int64(3), object(6)\n",
      "memory usage: 12.7+ MB\n"
     ]
    }
   ],
   "source": [
    "ocpri_df = pd.merge(ocpr_df, item_df, how='left', on='order_id')\n",
    "#ocpri_df.drop('order_id', axis='columns', inplace=True)\n",
    "ocpri_df.info()"
   ]
  },
  {
   "cell_type": "code",
   "execution_count": 45,
   "metadata": {
    "scrolled": false
   },
   "outputs": [
    {
     "name": "stdout",
     "output_type": "stream",
     "text": [
      "<class 'pandas.core.frame.DataFrame'>\n",
      "Int64Index: 119151 entries, 0 to 119150\n",
      "Data columns (total 20 columns):\n",
      "order_id                      119151 non-null object\n",
      "order_purchase_timestamp      119151 non-null object\n",
      "customer_unique_id            119151 non-null object\n",
      "customer_state                119151 non-null object\n",
      "payment_type                  119148 non-null object\n",
      "payment_installments          119148 non-null float64\n",
      "payment_value                 119148 non-null float64\n",
      "review_score                  119151 non-null int64\n",
      "review_comment_title          119151 non-null int64\n",
      "review_comment_message        119151 non-null int64\n",
      "price                         118318 non-null float64\n",
      "freight_value                 118318 non-null float64\n",
      "product_category_name         118318 non-null object\n",
      "product_name_lenght           118318 non-null float64\n",
      "product_description_lenght    118318 non-null float64\n",
      "product_photos_qty            118318 non-null float64\n",
      "product_weight_g              118318 non-null float64\n",
      "product_length_cm             118318 non-null float64\n",
      "product_height_cm             118318 non-null float64\n",
      "product_width_cm              118318 non-null float64\n",
      "dtypes: float64(11), int64(3), object(6)\n",
      "memory usage: 19.1+ MB\n"
     ]
    }
   ],
   "source": [
    "ocprip_df = pd.merge(ocpri_df, product_df, how='left', on='product_id')\n",
    "ocprip_df.drop('product_id', axis='columns', inplace=True)\n",
    "ocprip_df.info()"
   ]
  },
  {
   "cell_type": "code",
   "execution_count": 46,
   "metadata": {},
   "outputs": [],
   "source": [
    "ocprip_df.fillna(ocprip_df.median(), inplace=True)"
   ]
  },
  {
   "cell_type": "code",
   "execution_count": 47,
   "metadata": {},
   "outputs": [],
   "source": [
    "for column in ['payment_type', 'product_category_name']:\n",
    "    ocprip_df[column].fillna(ocprip_df[column].value_counts().index[0], inplace=True)"
   ]
  },
  {
   "cell_type": "code",
   "execution_count": 48,
   "metadata": {
    "scrolled": true
   },
   "outputs": [
    {
     "name": "stdout",
     "output_type": "stream",
     "text": [
      "<class 'pandas.core.frame.DataFrame'>\n",
      "Int64Index: 119151 entries, 0 to 119150\n",
      "Data columns (total 20 columns):\n",
      "order_id                      119151 non-null object\n",
      "order_purchase_timestamp      119151 non-null object\n",
      "customer_unique_id            119151 non-null object\n",
      "customer_state                119151 non-null object\n",
      "payment_type                  119151 non-null object\n",
      "payment_installments          119151 non-null float64\n",
      "payment_value                 119151 non-null float64\n",
      "review_score                  119151 non-null int64\n",
      "review_comment_title          119151 non-null int64\n",
      "review_comment_message        119151 non-null int64\n",
      "price                         119151 non-null float64\n",
      "freight_value                 119151 non-null float64\n",
      "product_category_name         119151 non-null object\n",
      "product_name_lenght           119151 non-null float64\n",
      "product_description_lenght    119151 non-null float64\n",
      "product_photos_qty            119151 non-null float64\n",
      "product_weight_g              119151 non-null float64\n",
      "product_length_cm             119151 non-null float64\n",
      "product_height_cm             119151 non-null float64\n",
      "product_width_cm              119151 non-null float64\n",
      "dtypes: float64(11), int64(3), object(6)\n",
      "memory usage: 19.1+ MB\n"
     ]
    }
   ],
   "source": [
    "ocprip_df.info()"
   ]
  },
  {
   "cell_type": "markdown",
   "metadata": {},
   "source": [
    "# Exploratory Data Analytics - Stage 1"
   ]
  },
  {
   "cell_type": "code",
   "execution_count": 119,
   "metadata": {
    "scrolled": true
   },
   "outputs": [
    {
     "data": {
      "text/plain": [
       "4"
      ]
     },
     "execution_count": 119,
     "metadata": {},
     "output_type": "execute_result"
    }
   ],
   "source": [
    "pocipr_df.payment_type.nunique()"
   ]
  },
  {
   "cell_type": "code",
   "execution_count": 120,
   "metadata": {
    "scrolled": true
   },
   "outputs": [
    {
     "data": {
      "text/plain": [
       "72"
      ]
     },
     "execution_count": 120,
     "metadata": {},
     "output_type": "execute_result"
    }
   ],
   "source": [
    "pocipr_df.product_category_name_english.nunique()"
   ]
  },
  {
   "cell_type": "code",
   "execution_count": 121,
   "metadata": {
    "scrolled": true
   },
   "outputs": [
    {
     "data": {
      "text/plain": [
       "27"
      ]
     },
     "execution_count": 121,
     "metadata": {},
     "output_type": "execute_result"
    }
   ],
   "source": [
    "pocipr_df.customer_state.nunique()"
   ]
  },
  {
   "cell_type": "markdown",
   "metadata": {},
   "source": [
    "# Feature Engineering"
   ]
  },
  {
   "cell_type": "code",
   "execution_count": 49,
   "metadata": {
    "scrolled": true
   },
   "outputs": [
    {
     "data": {
      "text/html": [
       "<div>\n",
       "<style scoped>\n",
       "    .dataframe tbody tr th:only-of-type {\n",
       "        vertical-align: middle;\n",
       "    }\n",
       "\n",
       "    .dataframe tbody tr th {\n",
       "        vertical-align: top;\n",
       "    }\n",
       "\n",
       "    .dataframe thead th {\n",
       "        text-align: right;\n",
       "    }\n",
       "</style>\n",
       "<table border=\"1\" class=\"dataframe\">\n",
       "  <thead>\n",
       "    <tr style=\"text-align: right;\">\n",
       "      <th></th>\n",
       "      <th>order_id</th>\n",
       "      <th>payment_value</th>\n",
       "      <th>payment_installments</th>\n",
       "      <th>review_score</th>\n",
       "      <th>price</th>\n",
       "      <th>freight_value</th>\n",
       "      <th>product_name_lenght</th>\n",
       "      <th>product_description_lenght</th>\n",
       "      <th>product_photos_qty</th>\n",
       "      <th>product_length_cm</th>\n",
       "      <th>product_height_cm</th>\n",
       "      <th>product_width_cm</th>\n",
       "      <th>review_comment_title</th>\n",
       "      <th>review_comment_message</th>\n",
       "      <th>payment_type</th>\n",
       "      <th>product_category_name</th>\n",
       "      <th>customer_state</th>\n",
       "      <th>order_purchase_timestamp</th>\n",
       "    </tr>\n",
       "    <tr>\n",
       "      <th>customer_unique_id</th>\n",
       "      <th></th>\n",
       "      <th></th>\n",
       "      <th></th>\n",
       "      <th></th>\n",
       "      <th></th>\n",
       "      <th></th>\n",
       "      <th></th>\n",
       "      <th></th>\n",
       "      <th></th>\n",
       "      <th></th>\n",
       "      <th></th>\n",
       "      <th></th>\n",
       "      <th></th>\n",
       "      <th></th>\n",
       "      <th></th>\n",
       "      <th></th>\n",
       "      <th></th>\n",
       "      <th></th>\n",
       "    </tr>\n",
       "  </thead>\n",
       "  <tbody>\n",
       "    <tr>\n",
       "      <td>0000366f3b9a7992bf8c76cfdf3221e2</td>\n",
       "      <td>1</td>\n",
       "      <td>141.90</td>\n",
       "      <td>8.0</td>\n",
       "      <td>5.0</td>\n",
       "      <td>129.90</td>\n",
       "      <td>12.00</td>\n",
       "      <td>60.0</td>\n",
       "      <td>236.0</td>\n",
       "      <td>1.0</td>\n",
       "      <td>34.0</td>\n",
       "      <td>7.0</td>\n",
       "      <td>32.0</td>\n",
       "      <td>1.0</td>\n",
       "      <td>1.0</td>\n",
       "      <td>credit_card</td>\n",
       "      <td>cama_mesa_banho</td>\n",
       "      <td>SP</td>\n",
       "      <td>160</td>\n",
       "    </tr>\n",
       "    <tr>\n",
       "      <td>0000b849f77a49e4a4ce2b2a4ca5be3f</td>\n",
       "      <td>1</td>\n",
       "      <td>27.19</td>\n",
       "      <td>1.0</td>\n",
       "      <td>4.0</td>\n",
       "      <td>18.90</td>\n",
       "      <td>8.29</td>\n",
       "      <td>56.0</td>\n",
       "      <td>635.0</td>\n",
       "      <td>1.0</td>\n",
       "      <td>26.0</td>\n",
       "      <td>11.0</td>\n",
       "      <td>18.0</td>\n",
       "      <td>0.0</td>\n",
       "      <td>0.0</td>\n",
       "      <td>credit_card</td>\n",
       "      <td>beleza_saude</td>\n",
       "      <td>SP</td>\n",
       "      <td>163</td>\n",
       "    </tr>\n",
       "    <tr>\n",
       "      <td>0000f46a3911fa3c0805444483337064</td>\n",
       "      <td>1</td>\n",
       "      <td>86.22</td>\n",
       "      <td>8.0</td>\n",
       "      <td>3.0</td>\n",
       "      <td>69.00</td>\n",
       "      <td>17.22</td>\n",
       "      <td>49.0</td>\n",
       "      <td>177.0</td>\n",
       "      <td>3.0</td>\n",
       "      <td>25.0</td>\n",
       "      <td>50.0</td>\n",
       "      <td>35.0</td>\n",
       "      <td>0.0</td>\n",
       "      <td>0.0</td>\n",
       "      <td>credit_card</td>\n",
       "      <td>papelaria</td>\n",
       "      <td>SC</td>\n",
       "      <td>586</td>\n",
       "    </tr>\n",
       "    <tr>\n",
       "      <td>0000f6ccb0745a6a4b88665a16c9f078</td>\n",
       "      <td>1</td>\n",
       "      <td>43.62</td>\n",
       "      <td>4.0</td>\n",
       "      <td>4.0</td>\n",
       "      <td>25.99</td>\n",
       "      <td>17.63</td>\n",
       "      <td>43.0</td>\n",
       "      <td>1741.0</td>\n",
       "      <td>5.0</td>\n",
       "      <td>19.0</td>\n",
       "      <td>5.0</td>\n",
       "      <td>11.0</td>\n",
       "      <td>0.0</td>\n",
       "      <td>1.0</td>\n",
       "      <td>credit_card</td>\n",
       "      <td>telefonia</td>\n",
       "      <td>PA</td>\n",
       "      <td>370</td>\n",
       "    </tr>\n",
       "    <tr>\n",
       "      <td>0004aac84e0df4da2b147fca70cf8255</td>\n",
       "      <td>1</td>\n",
       "      <td>196.89</td>\n",
       "      <td>6.0</td>\n",
       "      <td>5.0</td>\n",
       "      <td>180.00</td>\n",
       "      <td>16.89</td>\n",
       "      <td>58.0</td>\n",
       "      <td>794.0</td>\n",
       "      <td>3.0</td>\n",
       "      <td>16.0</td>\n",
       "      <td>3.0</td>\n",
       "      <td>11.0</td>\n",
       "      <td>0.0</td>\n",
       "      <td>0.0</td>\n",
       "      <td>credit_card</td>\n",
       "      <td>telefonia</td>\n",
       "      <td>SP</td>\n",
       "      <td>337</td>\n",
       "    </tr>\n",
       "    <tr>\n",
       "      <td>...</td>\n",
       "      <td>...</td>\n",
       "      <td>...</td>\n",
       "      <td>...</td>\n",
       "      <td>...</td>\n",
       "      <td>...</td>\n",
       "      <td>...</td>\n",
       "      <td>...</td>\n",
       "      <td>...</td>\n",
       "      <td>...</td>\n",
       "      <td>...</td>\n",
       "      <td>...</td>\n",
       "      <td>...</td>\n",
       "      <td>...</td>\n",
       "      <td>...</td>\n",
       "      <td>...</td>\n",
       "      <td>...</td>\n",
       "      <td>...</td>\n",
       "      <td>...</td>\n",
       "    </tr>\n",
       "    <tr>\n",
       "      <td>fffcf5a5ff07b0908bd4e2dbc735a684</td>\n",
       "      <td>2</td>\n",
       "      <td>4134.84</td>\n",
       "      <td>10.0</td>\n",
       "      <td>5.0</td>\n",
       "      <td>785.00</td>\n",
       "      <td>248.71</td>\n",
       "      <td>54.0</td>\n",
       "      <td>478.5</td>\n",
       "      <td>1.0</td>\n",
       "      <td>55.0</td>\n",
       "      <td>75.0</td>\n",
       "      <td>61.0</td>\n",
       "      <td>0.0</td>\n",
       "      <td>0.0</td>\n",
       "      <td>credit_card</td>\n",
       "      <td>beleza_saude</td>\n",
       "      <td>PE</td>\n",
       "      <td>496</td>\n",
       "    </tr>\n",
       "    <tr>\n",
       "      <td>fffea47cd6d3cc0a88bd621562a9d061</td>\n",
       "      <td>1</td>\n",
       "      <td>84.58</td>\n",
       "      <td>1.0</td>\n",
       "      <td>4.0</td>\n",
       "      <td>64.89</td>\n",
       "      <td>19.69</td>\n",
       "      <td>37.0</td>\n",
       "      <td>506.0</td>\n",
       "      <td>2.0</td>\n",
       "      <td>33.0</td>\n",
       "      <td>36.0</td>\n",
       "      <td>27.0</td>\n",
       "      <td>0.0</td>\n",
       "      <td>0.0</td>\n",
       "      <td>credit_card</td>\n",
       "      <td>bebes</td>\n",
       "      <td>BA</td>\n",
       "      <td>311</td>\n",
       "    </tr>\n",
       "    <tr>\n",
       "      <td>ffff371b4d645b6ecea244b27531430a</td>\n",
       "      <td>1</td>\n",
       "      <td>112.46</td>\n",
       "      <td>1.0</td>\n",
       "      <td>5.0</td>\n",
       "      <td>89.90</td>\n",
       "      <td>22.56</td>\n",
       "      <td>57.0</td>\n",
       "      <td>716.0</td>\n",
       "      <td>5.0</td>\n",
       "      <td>17.0</td>\n",
       "      <td>15.0</td>\n",
       "      <td>13.0</td>\n",
       "      <td>0.0</td>\n",
       "      <td>0.0</td>\n",
       "      <td>credit_card</td>\n",
       "      <td>automotivo</td>\n",
       "      <td>MT</td>\n",
       "      <td>617</td>\n",
       "    </tr>\n",
       "    <tr>\n",
       "      <td>ffff5962728ec6157033ef9805bacc48</td>\n",
       "      <td>1</td>\n",
       "      <td>133.69</td>\n",
       "      <td>5.0</td>\n",
       "      <td>5.0</td>\n",
       "      <td>115.00</td>\n",
       "      <td>18.69</td>\n",
       "      <td>35.0</td>\n",
       "      <td>591.0</td>\n",
       "      <td>3.0</td>\n",
       "      <td>20.0</td>\n",
       "      <td>14.0</td>\n",
       "      <td>16.0</td>\n",
       "      <td>1.0</td>\n",
       "      <td>1.0</td>\n",
       "      <td>credit_card</td>\n",
       "      <td>relogios_presentes</td>\n",
       "      <td>ES</td>\n",
       "      <td>168</td>\n",
       "    </tr>\n",
       "    <tr>\n",
       "      <td>ffffd2657e2aad2907e67c3e9daecbeb</td>\n",
       "      <td>1</td>\n",
       "      <td>71.56</td>\n",
       "      <td>4.0</td>\n",
       "      <td>5.0</td>\n",
       "      <td>56.99</td>\n",
       "      <td>14.57</td>\n",
       "      <td>45.0</td>\n",
       "      <td>1003.0</td>\n",
       "      <td>2.0</td>\n",
       "      <td>18.0</td>\n",
       "      <td>11.0</td>\n",
       "      <td>11.0</td>\n",
       "      <td>0.0</td>\n",
       "      <td>0.0</td>\n",
       "      <td>credit_card</td>\n",
       "      <td>perfumaria</td>\n",
       "      <td>PR</td>\n",
       "      <td>533</td>\n",
       "    </tr>\n",
       "  </tbody>\n",
       "</table>\n",
       "<p>96096 rows × 18 columns</p>\n",
       "</div>"
      ],
      "text/plain": [
       "                                  order_id  payment_value  \\\n",
       "customer_unique_id                                          \n",
       "0000366f3b9a7992bf8c76cfdf3221e2         1         141.90   \n",
       "0000b849f77a49e4a4ce2b2a4ca5be3f         1          27.19   \n",
       "0000f46a3911fa3c0805444483337064         1          86.22   \n",
       "0000f6ccb0745a6a4b88665a16c9f078         1          43.62   \n",
       "0004aac84e0df4da2b147fca70cf8255         1         196.89   \n",
       "...                                    ...            ...   \n",
       "fffcf5a5ff07b0908bd4e2dbc735a684         2        4134.84   \n",
       "fffea47cd6d3cc0a88bd621562a9d061         1          84.58   \n",
       "ffff371b4d645b6ecea244b27531430a         1         112.46   \n",
       "ffff5962728ec6157033ef9805bacc48         1         133.69   \n",
       "ffffd2657e2aad2907e67c3e9daecbeb         1          71.56   \n",
       "\n",
       "                                  payment_installments  review_score   price  \\\n",
       "customer_unique_id                                                             \n",
       "0000366f3b9a7992bf8c76cfdf3221e2                   8.0           5.0  129.90   \n",
       "0000b849f77a49e4a4ce2b2a4ca5be3f                   1.0           4.0   18.90   \n",
       "0000f46a3911fa3c0805444483337064                   8.0           3.0   69.00   \n",
       "0000f6ccb0745a6a4b88665a16c9f078                   4.0           4.0   25.99   \n",
       "0004aac84e0df4da2b147fca70cf8255                   6.0           5.0  180.00   \n",
       "...                                                ...           ...     ...   \n",
       "fffcf5a5ff07b0908bd4e2dbc735a684                  10.0           5.0  785.00   \n",
       "fffea47cd6d3cc0a88bd621562a9d061                   1.0           4.0   64.89   \n",
       "ffff371b4d645b6ecea244b27531430a                   1.0           5.0   89.90   \n",
       "ffff5962728ec6157033ef9805bacc48                   5.0           5.0  115.00   \n",
       "ffffd2657e2aad2907e67c3e9daecbeb                   4.0           5.0   56.99   \n",
       "\n",
       "                                  freight_value  product_name_lenght  \\\n",
       "customer_unique_id                                                     \n",
       "0000366f3b9a7992bf8c76cfdf3221e2          12.00                 60.0   \n",
       "0000b849f77a49e4a4ce2b2a4ca5be3f           8.29                 56.0   \n",
       "0000f46a3911fa3c0805444483337064          17.22                 49.0   \n",
       "0000f6ccb0745a6a4b88665a16c9f078          17.63                 43.0   \n",
       "0004aac84e0df4da2b147fca70cf8255          16.89                 58.0   \n",
       "...                                         ...                  ...   \n",
       "fffcf5a5ff07b0908bd4e2dbc735a684         248.71                 54.0   \n",
       "fffea47cd6d3cc0a88bd621562a9d061          19.69                 37.0   \n",
       "ffff371b4d645b6ecea244b27531430a          22.56                 57.0   \n",
       "ffff5962728ec6157033ef9805bacc48          18.69                 35.0   \n",
       "ffffd2657e2aad2907e67c3e9daecbeb          14.57                 45.0   \n",
       "\n",
       "                                  product_description_lenght  \\\n",
       "customer_unique_id                                             \n",
       "0000366f3b9a7992bf8c76cfdf3221e2                       236.0   \n",
       "0000b849f77a49e4a4ce2b2a4ca5be3f                       635.0   \n",
       "0000f46a3911fa3c0805444483337064                       177.0   \n",
       "0000f6ccb0745a6a4b88665a16c9f078                      1741.0   \n",
       "0004aac84e0df4da2b147fca70cf8255                       794.0   \n",
       "...                                                      ...   \n",
       "fffcf5a5ff07b0908bd4e2dbc735a684                       478.5   \n",
       "fffea47cd6d3cc0a88bd621562a9d061                       506.0   \n",
       "ffff371b4d645b6ecea244b27531430a                       716.0   \n",
       "ffff5962728ec6157033ef9805bacc48                       591.0   \n",
       "ffffd2657e2aad2907e67c3e9daecbeb                      1003.0   \n",
       "\n",
       "                                  product_photos_qty  product_length_cm  \\\n",
       "customer_unique_id                                                        \n",
       "0000366f3b9a7992bf8c76cfdf3221e2                 1.0               34.0   \n",
       "0000b849f77a49e4a4ce2b2a4ca5be3f                 1.0               26.0   \n",
       "0000f46a3911fa3c0805444483337064                 3.0               25.0   \n",
       "0000f6ccb0745a6a4b88665a16c9f078                 5.0               19.0   \n",
       "0004aac84e0df4da2b147fca70cf8255                 3.0               16.0   \n",
       "...                                              ...                ...   \n",
       "fffcf5a5ff07b0908bd4e2dbc735a684                 1.0               55.0   \n",
       "fffea47cd6d3cc0a88bd621562a9d061                 2.0               33.0   \n",
       "ffff371b4d645b6ecea244b27531430a                 5.0               17.0   \n",
       "ffff5962728ec6157033ef9805bacc48                 3.0               20.0   \n",
       "ffffd2657e2aad2907e67c3e9daecbeb                 2.0               18.0   \n",
       "\n",
       "                                  product_height_cm  product_width_cm  \\\n",
       "customer_unique_id                                                      \n",
       "0000366f3b9a7992bf8c76cfdf3221e2                7.0              32.0   \n",
       "0000b849f77a49e4a4ce2b2a4ca5be3f               11.0              18.0   \n",
       "0000f46a3911fa3c0805444483337064               50.0              35.0   \n",
       "0000f6ccb0745a6a4b88665a16c9f078                5.0              11.0   \n",
       "0004aac84e0df4da2b147fca70cf8255                3.0              11.0   \n",
       "...                                             ...               ...   \n",
       "fffcf5a5ff07b0908bd4e2dbc735a684               75.0              61.0   \n",
       "fffea47cd6d3cc0a88bd621562a9d061               36.0              27.0   \n",
       "ffff371b4d645b6ecea244b27531430a               15.0              13.0   \n",
       "ffff5962728ec6157033ef9805bacc48               14.0              16.0   \n",
       "ffffd2657e2aad2907e67c3e9daecbeb               11.0              11.0   \n",
       "\n",
       "                                  review_comment_title  \\\n",
       "customer_unique_id                                       \n",
       "0000366f3b9a7992bf8c76cfdf3221e2                   1.0   \n",
       "0000b849f77a49e4a4ce2b2a4ca5be3f                   0.0   \n",
       "0000f46a3911fa3c0805444483337064                   0.0   \n",
       "0000f6ccb0745a6a4b88665a16c9f078                   0.0   \n",
       "0004aac84e0df4da2b147fca70cf8255                   0.0   \n",
       "...                                                ...   \n",
       "fffcf5a5ff07b0908bd4e2dbc735a684                   0.0   \n",
       "fffea47cd6d3cc0a88bd621562a9d061                   0.0   \n",
       "ffff371b4d645b6ecea244b27531430a                   0.0   \n",
       "ffff5962728ec6157033ef9805bacc48                   1.0   \n",
       "ffffd2657e2aad2907e67c3e9daecbeb                   0.0   \n",
       "\n",
       "                                  review_comment_message payment_type  \\\n",
       "customer_unique_id                                                      \n",
       "0000366f3b9a7992bf8c76cfdf3221e2                     1.0  credit_card   \n",
       "0000b849f77a49e4a4ce2b2a4ca5be3f                     0.0  credit_card   \n",
       "0000f46a3911fa3c0805444483337064                     0.0  credit_card   \n",
       "0000f6ccb0745a6a4b88665a16c9f078                     1.0  credit_card   \n",
       "0004aac84e0df4da2b147fca70cf8255                     0.0  credit_card   \n",
       "...                                                  ...          ...   \n",
       "fffcf5a5ff07b0908bd4e2dbc735a684                     0.0  credit_card   \n",
       "fffea47cd6d3cc0a88bd621562a9d061                     0.0  credit_card   \n",
       "ffff371b4d645b6ecea244b27531430a                     0.0  credit_card   \n",
       "ffff5962728ec6157033ef9805bacc48                     1.0  credit_card   \n",
       "ffffd2657e2aad2907e67c3e9daecbeb                     0.0  credit_card   \n",
       "\n",
       "                                 product_category_name customer_state  \\\n",
       "customer_unique_id                                                      \n",
       "0000366f3b9a7992bf8c76cfdf3221e2       cama_mesa_banho             SP   \n",
       "0000b849f77a49e4a4ce2b2a4ca5be3f          beleza_saude             SP   \n",
       "0000f46a3911fa3c0805444483337064             papelaria             SC   \n",
       "0000f6ccb0745a6a4b88665a16c9f078             telefonia             PA   \n",
       "0004aac84e0df4da2b147fca70cf8255             telefonia             SP   \n",
       "...                                                ...            ...   \n",
       "fffcf5a5ff07b0908bd4e2dbc735a684          beleza_saude             PE   \n",
       "fffea47cd6d3cc0a88bd621562a9d061                 bebes             BA   \n",
       "ffff371b4d645b6ecea244b27531430a            automotivo             MT   \n",
       "ffff5962728ec6157033ef9805bacc48    relogios_presentes             ES   \n",
       "ffffd2657e2aad2907e67c3e9daecbeb            perfumaria             PR   \n",
       "\n",
       "                                  order_purchase_timestamp  \n",
       "customer_unique_id                                          \n",
       "0000366f3b9a7992bf8c76cfdf3221e2                       160  \n",
       "0000b849f77a49e4a4ce2b2a4ca5be3f                       163  \n",
       "0000f46a3911fa3c0805444483337064                       586  \n",
       "0000f6ccb0745a6a4b88665a16c9f078                       370  \n",
       "0004aac84e0df4da2b147fca70cf8255                       337  \n",
       "...                                                    ...  \n",
       "fffcf5a5ff07b0908bd4e2dbc735a684                       496  \n",
       "fffea47cd6d3cc0a88bd621562a9d061                       311  \n",
       "ffff371b4d645b6ecea244b27531430a                       617  \n",
       "ffff5962728ec6157033ef9805bacc48                       168  \n",
       "ffffd2657e2aad2907e67c3e9daecbeb                       533  \n",
       "\n",
       "[96096 rows x 18 columns]"
      ]
     },
     "execution_count": 49,
     "metadata": {},
     "output_type": "execute_result"
    }
   ],
   "source": [
    "# group features by customer with approperiate metric\n",
    "df = ocprip_df.groupby('customer_unique_id').agg({'order_id': 'count',\n",
    "                                                  'payment_value': 'sum',\n",
    "                                                  'payment_installments': 'mean',\n",
    "                                                  'review_score': 'mean',\n",
    "                                                  'price': 'mean',\n",
    "                                                  'freight_value': 'mean',\n",
    "                                                  'product_name_lenght': 'mean',\n",
    "                                                  'product_description_lenght': 'mean',\n",
    "                                                  'product_photos_qty': 'mean',\n",
    "                                                  'product_length_cm': 'mean',\n",
    "                                                  'product_height_cm': 'mean',\n",
    "                                                  'product_width_cm': 'mean',\n",
    "                                                  'review_comment_title': 'mean',\n",
    "                                                  'review_comment_message': 'mean',\n",
    "                                                  'payment_type': lambda x: x.value_counts().index[0],\n",
    "                                                  'product_category_name': lambda x: x.value_counts().index[0],\n",
    "                                                  'customer_state': lambda x: x.value_counts().index[0],\n",
    "                                                  'order_purchase_timestamp': lambda x: min((max(ocprip_df.order_purchase_timestamp)-x).dt.days)})\n",
    "df"
   ]
  },
  {
   "cell_type": "code",
   "execution_count": 184,
   "metadata": {},
   "outputs": [
    {
     "data": {
      "text/html": [
       "<div>\n",
       "<style scoped>\n",
       "    .dataframe tbody tr th:only-of-type {\n",
       "        vertical-align: middle;\n",
       "    }\n",
       "\n",
       "    .dataframe tbody tr th {\n",
       "        vertical-align: top;\n",
       "    }\n",
       "\n",
       "    .dataframe thead th {\n",
       "        text-align: right;\n",
       "    }\n",
       "</style>\n",
       "<table border=\"1\" class=\"dataframe\">\n",
       "  <thead>\n",
       "    <tr style=\"text-align: right;\">\n",
       "      <th></th>\n",
       "      <th>order_id</th>\n",
       "      <th>payment_value</th>\n",
       "      <th>payment_installments</th>\n",
       "      <th>review_score</th>\n",
       "      <th>price</th>\n",
       "      <th>freight_value</th>\n",
       "      <th>product_name_lenght</th>\n",
       "      <th>product_description_lenght</th>\n",
       "      <th>product_photos_qty</th>\n",
       "      <th>product_length_cm</th>\n",
       "      <th>product_height_cm</th>\n",
       "      <th>product_width_cm</th>\n",
       "      <th>review_comment_title</th>\n",
       "      <th>review_comment_message</th>\n",
       "      <th>payment_type</th>\n",
       "      <th>product_category_name</th>\n",
       "      <th>customer_state</th>\n",
       "      <th>order_purchase_timestamp</th>\n",
       "    </tr>\n",
       "    <tr>\n",
       "      <th>customer_unique_id</th>\n",
       "      <th></th>\n",
       "      <th></th>\n",
       "      <th></th>\n",
       "      <th></th>\n",
       "      <th></th>\n",
       "      <th></th>\n",
       "      <th></th>\n",
       "      <th></th>\n",
       "      <th></th>\n",
       "      <th></th>\n",
       "      <th></th>\n",
       "      <th></th>\n",
       "      <th></th>\n",
       "      <th></th>\n",
       "      <th></th>\n",
       "      <th></th>\n",
       "      <th></th>\n",
       "      <th></th>\n",
       "    </tr>\n",
       "  </thead>\n",
       "  <tbody>\n",
       "    <tr>\n",
       "      <td>0000366f3b9a7992bf8c76cfdf3221e2</td>\n",
       "      <td>1</td>\n",
       "      <td>141.90</td>\n",
       "      <td>8.0</td>\n",
       "      <td>5.0</td>\n",
       "      <td>129.90</td>\n",
       "      <td>12.00</td>\n",
       "      <td>60.0</td>\n",
       "      <td>236.0</td>\n",
       "      <td>1.0</td>\n",
       "      <td>34.0</td>\n",
       "      <td>7.0</td>\n",
       "      <td>32.0</td>\n",
       "      <td>1.0</td>\n",
       "      <td>1.0</td>\n",
       "      <td>credit_card</td>\n",
       "      <td>cama_mesa_banho</td>\n",
       "      <td>SP</td>\n",
       "      <td>160</td>\n",
       "    </tr>\n",
       "    <tr>\n",
       "      <td>0000b849f77a49e4a4ce2b2a4ca5be3f</td>\n",
       "      <td>1</td>\n",
       "      <td>27.19</td>\n",
       "      <td>1.0</td>\n",
       "      <td>4.0</td>\n",
       "      <td>18.90</td>\n",
       "      <td>8.29</td>\n",
       "      <td>56.0</td>\n",
       "      <td>635.0</td>\n",
       "      <td>1.0</td>\n",
       "      <td>26.0</td>\n",
       "      <td>11.0</td>\n",
       "      <td>18.0</td>\n",
       "      <td>0.0</td>\n",
       "      <td>0.0</td>\n",
       "      <td>credit_card</td>\n",
       "      <td>beleza_saude</td>\n",
       "      <td>SP</td>\n",
       "      <td>163</td>\n",
       "    </tr>\n",
       "    <tr>\n",
       "      <td>0000f46a3911fa3c0805444483337064</td>\n",
       "      <td>1</td>\n",
       "      <td>86.22</td>\n",
       "      <td>8.0</td>\n",
       "      <td>3.0</td>\n",
       "      <td>69.00</td>\n",
       "      <td>17.22</td>\n",
       "      <td>49.0</td>\n",
       "      <td>177.0</td>\n",
       "      <td>3.0</td>\n",
       "      <td>25.0</td>\n",
       "      <td>50.0</td>\n",
       "      <td>35.0</td>\n",
       "      <td>0.0</td>\n",
       "      <td>0.0</td>\n",
       "      <td>credit_card</td>\n",
       "      <td>papelaria</td>\n",
       "      <td>SC</td>\n",
       "      <td>586</td>\n",
       "    </tr>\n",
       "    <tr>\n",
       "      <td>0000f6ccb0745a6a4b88665a16c9f078</td>\n",
       "      <td>1</td>\n",
       "      <td>43.62</td>\n",
       "      <td>4.0</td>\n",
       "      <td>4.0</td>\n",
       "      <td>25.99</td>\n",
       "      <td>17.63</td>\n",
       "      <td>43.0</td>\n",
       "      <td>1741.0</td>\n",
       "      <td>5.0</td>\n",
       "      <td>19.0</td>\n",
       "      <td>5.0</td>\n",
       "      <td>11.0</td>\n",
       "      <td>0.0</td>\n",
       "      <td>1.0</td>\n",
       "      <td>credit_card</td>\n",
       "      <td>telefonia</td>\n",
       "      <td>PA</td>\n",
       "      <td>370</td>\n",
       "    </tr>\n",
       "    <tr>\n",
       "      <td>0004aac84e0df4da2b147fca70cf8255</td>\n",
       "      <td>1</td>\n",
       "      <td>196.89</td>\n",
       "      <td>6.0</td>\n",
       "      <td>5.0</td>\n",
       "      <td>180.00</td>\n",
       "      <td>16.89</td>\n",
       "      <td>58.0</td>\n",
       "      <td>794.0</td>\n",
       "      <td>3.0</td>\n",
       "      <td>16.0</td>\n",
       "      <td>3.0</td>\n",
       "      <td>11.0</td>\n",
       "      <td>0.0</td>\n",
       "      <td>0.0</td>\n",
       "      <td>credit_card</td>\n",
       "      <td>telefonia</td>\n",
       "      <td>SP</td>\n",
       "      <td>337</td>\n",
       "    </tr>\n",
       "    <tr>\n",
       "      <td>...</td>\n",
       "      <td>...</td>\n",
       "      <td>...</td>\n",
       "      <td>...</td>\n",
       "      <td>...</td>\n",
       "      <td>...</td>\n",
       "      <td>...</td>\n",
       "      <td>...</td>\n",
       "      <td>...</td>\n",
       "      <td>...</td>\n",
       "      <td>...</td>\n",
       "      <td>...</td>\n",
       "      <td>...</td>\n",
       "      <td>...</td>\n",
       "      <td>...</td>\n",
       "      <td>...</td>\n",
       "      <td>...</td>\n",
       "      <td>...</td>\n",
       "      <td>...</td>\n",
       "    </tr>\n",
       "    <tr>\n",
       "      <td>fffcf5a5ff07b0908bd4e2dbc735a684</td>\n",
       "      <td>2</td>\n",
       "      <td>4134.84</td>\n",
       "      <td>10.0</td>\n",
       "      <td>5.0</td>\n",
       "      <td>785.00</td>\n",
       "      <td>248.71</td>\n",
       "      <td>54.0</td>\n",
       "      <td>478.5</td>\n",
       "      <td>1.0</td>\n",
       "      <td>55.0</td>\n",
       "      <td>75.0</td>\n",
       "      <td>61.0</td>\n",
       "      <td>0.0</td>\n",
       "      <td>0.0</td>\n",
       "      <td>credit_card</td>\n",
       "      <td>beleza_saude</td>\n",
       "      <td>PE</td>\n",
       "      <td>496</td>\n",
       "    </tr>\n",
       "    <tr>\n",
       "      <td>fffea47cd6d3cc0a88bd621562a9d061</td>\n",
       "      <td>1</td>\n",
       "      <td>84.58</td>\n",
       "      <td>1.0</td>\n",
       "      <td>4.0</td>\n",
       "      <td>64.89</td>\n",
       "      <td>19.69</td>\n",
       "      <td>37.0</td>\n",
       "      <td>506.0</td>\n",
       "      <td>2.0</td>\n",
       "      <td>33.0</td>\n",
       "      <td>36.0</td>\n",
       "      <td>27.0</td>\n",
       "      <td>0.0</td>\n",
       "      <td>0.0</td>\n",
       "      <td>credit_card</td>\n",
       "      <td>bebes</td>\n",
       "      <td>BA</td>\n",
       "      <td>311</td>\n",
       "    </tr>\n",
       "    <tr>\n",
       "      <td>ffff371b4d645b6ecea244b27531430a</td>\n",
       "      <td>1</td>\n",
       "      <td>112.46</td>\n",
       "      <td>1.0</td>\n",
       "      <td>5.0</td>\n",
       "      <td>89.90</td>\n",
       "      <td>22.56</td>\n",
       "      <td>57.0</td>\n",
       "      <td>716.0</td>\n",
       "      <td>5.0</td>\n",
       "      <td>17.0</td>\n",
       "      <td>15.0</td>\n",
       "      <td>13.0</td>\n",
       "      <td>0.0</td>\n",
       "      <td>0.0</td>\n",
       "      <td>credit_card</td>\n",
       "      <td>automotivo</td>\n",
       "      <td>MT</td>\n",
       "      <td>617</td>\n",
       "    </tr>\n",
       "    <tr>\n",
       "      <td>ffff5962728ec6157033ef9805bacc48</td>\n",
       "      <td>1</td>\n",
       "      <td>133.69</td>\n",
       "      <td>5.0</td>\n",
       "      <td>5.0</td>\n",
       "      <td>115.00</td>\n",
       "      <td>18.69</td>\n",
       "      <td>35.0</td>\n",
       "      <td>591.0</td>\n",
       "      <td>3.0</td>\n",
       "      <td>20.0</td>\n",
       "      <td>14.0</td>\n",
       "      <td>16.0</td>\n",
       "      <td>1.0</td>\n",
       "      <td>1.0</td>\n",
       "      <td>credit_card</td>\n",
       "      <td>relogios_presentes</td>\n",
       "      <td>ES</td>\n",
       "      <td>168</td>\n",
       "    </tr>\n",
       "    <tr>\n",
       "      <td>ffffd2657e2aad2907e67c3e9daecbeb</td>\n",
       "      <td>1</td>\n",
       "      <td>71.56</td>\n",
       "      <td>4.0</td>\n",
       "      <td>5.0</td>\n",
       "      <td>56.99</td>\n",
       "      <td>14.57</td>\n",
       "      <td>45.0</td>\n",
       "      <td>1003.0</td>\n",
       "      <td>2.0</td>\n",
       "      <td>18.0</td>\n",
       "      <td>11.0</td>\n",
       "      <td>11.0</td>\n",
       "      <td>0.0</td>\n",
       "      <td>0.0</td>\n",
       "      <td>credit_card</td>\n",
       "      <td>perfumaria</td>\n",
       "      <td>PR</td>\n",
       "      <td>533</td>\n",
       "    </tr>\n",
       "  </tbody>\n",
       "</table>\n",
       "<p>96096 rows × 18 columns</p>\n",
       "</div>"
      ],
      "text/plain": [
       "                                  order_id  payment_value  \\\n",
       "customer_unique_id                                          \n",
       "0000366f3b9a7992bf8c76cfdf3221e2         1         141.90   \n",
       "0000b849f77a49e4a4ce2b2a4ca5be3f         1          27.19   \n",
       "0000f46a3911fa3c0805444483337064         1          86.22   \n",
       "0000f6ccb0745a6a4b88665a16c9f078         1          43.62   \n",
       "0004aac84e0df4da2b147fca70cf8255         1         196.89   \n",
       "...                                    ...            ...   \n",
       "fffcf5a5ff07b0908bd4e2dbc735a684         2        4134.84   \n",
       "fffea47cd6d3cc0a88bd621562a9d061         1          84.58   \n",
       "ffff371b4d645b6ecea244b27531430a         1         112.46   \n",
       "ffff5962728ec6157033ef9805bacc48         1         133.69   \n",
       "ffffd2657e2aad2907e67c3e9daecbeb         1          71.56   \n",
       "\n",
       "                                  payment_installments  review_score   price  \\\n",
       "customer_unique_id                                                             \n",
       "0000366f3b9a7992bf8c76cfdf3221e2                   8.0           5.0  129.90   \n",
       "0000b849f77a49e4a4ce2b2a4ca5be3f                   1.0           4.0   18.90   \n",
       "0000f46a3911fa3c0805444483337064                   8.0           3.0   69.00   \n",
       "0000f6ccb0745a6a4b88665a16c9f078                   4.0           4.0   25.99   \n",
       "0004aac84e0df4da2b147fca70cf8255                   6.0           5.0  180.00   \n",
       "...                                                ...           ...     ...   \n",
       "fffcf5a5ff07b0908bd4e2dbc735a684                  10.0           5.0  785.00   \n",
       "fffea47cd6d3cc0a88bd621562a9d061                   1.0           4.0   64.89   \n",
       "ffff371b4d645b6ecea244b27531430a                   1.0           5.0   89.90   \n",
       "ffff5962728ec6157033ef9805bacc48                   5.0           5.0  115.00   \n",
       "ffffd2657e2aad2907e67c3e9daecbeb                   4.0           5.0   56.99   \n",
       "\n",
       "                                  freight_value  product_name_lenght  \\\n",
       "customer_unique_id                                                     \n",
       "0000366f3b9a7992bf8c76cfdf3221e2          12.00                 60.0   \n",
       "0000b849f77a49e4a4ce2b2a4ca5be3f           8.29                 56.0   \n",
       "0000f46a3911fa3c0805444483337064          17.22                 49.0   \n",
       "0000f6ccb0745a6a4b88665a16c9f078          17.63                 43.0   \n",
       "0004aac84e0df4da2b147fca70cf8255          16.89                 58.0   \n",
       "...                                         ...                  ...   \n",
       "fffcf5a5ff07b0908bd4e2dbc735a684         248.71                 54.0   \n",
       "fffea47cd6d3cc0a88bd621562a9d061          19.69                 37.0   \n",
       "ffff371b4d645b6ecea244b27531430a          22.56                 57.0   \n",
       "ffff5962728ec6157033ef9805bacc48          18.69                 35.0   \n",
       "ffffd2657e2aad2907e67c3e9daecbeb          14.57                 45.0   \n",
       "\n",
       "                                  product_description_lenght  \\\n",
       "customer_unique_id                                             \n",
       "0000366f3b9a7992bf8c76cfdf3221e2                       236.0   \n",
       "0000b849f77a49e4a4ce2b2a4ca5be3f                       635.0   \n",
       "0000f46a3911fa3c0805444483337064                       177.0   \n",
       "0000f6ccb0745a6a4b88665a16c9f078                      1741.0   \n",
       "0004aac84e0df4da2b147fca70cf8255                       794.0   \n",
       "...                                                      ...   \n",
       "fffcf5a5ff07b0908bd4e2dbc735a684                       478.5   \n",
       "fffea47cd6d3cc0a88bd621562a9d061                       506.0   \n",
       "ffff371b4d645b6ecea244b27531430a                       716.0   \n",
       "ffff5962728ec6157033ef9805bacc48                       591.0   \n",
       "ffffd2657e2aad2907e67c3e9daecbeb                      1003.0   \n",
       "\n",
       "                                  product_photos_qty  product_length_cm  \\\n",
       "customer_unique_id                                                        \n",
       "0000366f3b9a7992bf8c76cfdf3221e2                 1.0               34.0   \n",
       "0000b849f77a49e4a4ce2b2a4ca5be3f                 1.0               26.0   \n",
       "0000f46a3911fa3c0805444483337064                 3.0               25.0   \n",
       "0000f6ccb0745a6a4b88665a16c9f078                 5.0               19.0   \n",
       "0004aac84e0df4da2b147fca70cf8255                 3.0               16.0   \n",
       "...                                              ...                ...   \n",
       "fffcf5a5ff07b0908bd4e2dbc735a684                 1.0               55.0   \n",
       "fffea47cd6d3cc0a88bd621562a9d061                 2.0               33.0   \n",
       "ffff371b4d645b6ecea244b27531430a                 5.0               17.0   \n",
       "ffff5962728ec6157033ef9805bacc48                 3.0               20.0   \n",
       "ffffd2657e2aad2907e67c3e9daecbeb                 2.0               18.0   \n",
       "\n",
       "                                  product_height_cm  product_width_cm  \\\n",
       "customer_unique_id                                                      \n",
       "0000366f3b9a7992bf8c76cfdf3221e2                7.0              32.0   \n",
       "0000b849f77a49e4a4ce2b2a4ca5be3f               11.0              18.0   \n",
       "0000f46a3911fa3c0805444483337064               50.0              35.0   \n",
       "0000f6ccb0745a6a4b88665a16c9f078                5.0              11.0   \n",
       "0004aac84e0df4da2b147fca70cf8255                3.0              11.0   \n",
       "...                                             ...               ...   \n",
       "fffcf5a5ff07b0908bd4e2dbc735a684               75.0              61.0   \n",
       "fffea47cd6d3cc0a88bd621562a9d061               36.0              27.0   \n",
       "ffff371b4d645b6ecea244b27531430a               15.0              13.0   \n",
       "ffff5962728ec6157033ef9805bacc48               14.0              16.0   \n",
       "ffffd2657e2aad2907e67c3e9daecbeb               11.0              11.0   \n",
       "\n",
       "                                  review_comment_title  \\\n",
       "customer_unique_id                                       \n",
       "0000366f3b9a7992bf8c76cfdf3221e2                   1.0   \n",
       "0000b849f77a49e4a4ce2b2a4ca5be3f                   0.0   \n",
       "0000f46a3911fa3c0805444483337064                   0.0   \n",
       "0000f6ccb0745a6a4b88665a16c9f078                   0.0   \n",
       "0004aac84e0df4da2b147fca70cf8255                   0.0   \n",
       "...                                                ...   \n",
       "fffcf5a5ff07b0908bd4e2dbc735a684                   0.0   \n",
       "fffea47cd6d3cc0a88bd621562a9d061                   0.0   \n",
       "ffff371b4d645b6ecea244b27531430a                   0.0   \n",
       "ffff5962728ec6157033ef9805bacc48                   1.0   \n",
       "ffffd2657e2aad2907e67c3e9daecbeb                   0.0   \n",
       "\n",
       "                                  review_comment_message payment_type  \\\n",
       "customer_unique_id                                                      \n",
       "0000366f3b9a7992bf8c76cfdf3221e2                     1.0  credit_card   \n",
       "0000b849f77a49e4a4ce2b2a4ca5be3f                     0.0  credit_card   \n",
       "0000f46a3911fa3c0805444483337064                     0.0  credit_card   \n",
       "0000f6ccb0745a6a4b88665a16c9f078                     1.0  credit_card   \n",
       "0004aac84e0df4da2b147fca70cf8255                     0.0  credit_card   \n",
       "...                                                  ...          ...   \n",
       "fffcf5a5ff07b0908bd4e2dbc735a684                     0.0  credit_card   \n",
       "fffea47cd6d3cc0a88bd621562a9d061                     0.0  credit_card   \n",
       "ffff371b4d645b6ecea244b27531430a                     0.0  credit_card   \n",
       "ffff5962728ec6157033ef9805bacc48                     1.0  credit_card   \n",
       "ffffd2657e2aad2907e67c3e9daecbeb                     0.0  credit_card   \n",
       "\n",
       "                                 product_category_name customer_state  \\\n",
       "customer_unique_id                                                      \n",
       "0000366f3b9a7992bf8c76cfdf3221e2       cama_mesa_banho             SP   \n",
       "0000b849f77a49e4a4ce2b2a4ca5be3f          beleza_saude             SP   \n",
       "0000f46a3911fa3c0805444483337064             papelaria             SC   \n",
       "0000f6ccb0745a6a4b88665a16c9f078             telefonia             PA   \n",
       "0004aac84e0df4da2b147fca70cf8255             telefonia             SP   \n",
       "...                                                ...            ...   \n",
       "fffcf5a5ff07b0908bd4e2dbc735a684          beleza_saude             PE   \n",
       "fffea47cd6d3cc0a88bd621562a9d061                 bebes             BA   \n",
       "ffff371b4d645b6ecea244b27531430a            automotivo             MT   \n",
       "ffff5962728ec6157033ef9805bacc48    relogios_presentes             ES   \n",
       "ffffd2657e2aad2907e67c3e9daecbeb            perfumaria             PR   \n",
       "\n",
       "                                  order_purchase_timestamp  \n",
       "customer_unique_id                                          \n",
       "0000366f3b9a7992bf8c76cfdf3221e2                       160  \n",
       "0000b849f77a49e4a4ce2b2a4ca5be3f                       163  \n",
       "0000f46a3911fa3c0805444483337064                       586  \n",
       "0000f6ccb0745a6a4b88665a16c9f078                       370  \n",
       "0004aac84e0df4da2b147fca70cf8255                       337  \n",
       "...                                                    ...  \n",
       "fffcf5a5ff07b0908bd4e2dbc735a684                       496  \n",
       "fffea47cd6d3cc0a88bd621562a9d061                       311  \n",
       "ffff371b4d645b6ecea244b27531430a                       617  \n",
       "ffff5962728ec6157033ef9805bacc48                       168  \n",
       "ffffd2657e2aad2907e67c3e9daecbeb                       533  \n",
       "\n",
       "[96096 rows x 18 columns]"
      ]
     },
     "execution_count": 184,
     "metadata": {},
     "output_type": "execute_result"
    }
   ],
   "source": [
    "df = pd.read_csv('df.csv', index_col=0)\n",
    "df"
   ]
  },
  {
   "cell_type": "code",
   "execution_count": 185,
   "metadata": {
    "scrolled": true
   },
   "outputs": [
    {
     "data": {
      "text/html": [
       "<div>\n",
       "<style scoped>\n",
       "    .dataframe tbody tr th:only-of-type {\n",
       "        vertical-align: middle;\n",
       "    }\n",
       "\n",
       "    .dataframe tbody tr th {\n",
       "        vertical-align: top;\n",
       "    }\n",
       "\n",
       "    .dataframe thead th {\n",
       "        text-align: right;\n",
       "    }\n",
       "</style>\n",
       "<table border=\"1\" class=\"dataframe\">\n",
       "  <thead>\n",
       "    <tr style=\"text-align: right;\">\n",
       "      <th></th>\n",
       "      <th>order_id</th>\n",
       "      <th>payment_value</th>\n",
       "      <th>payment_installments</th>\n",
       "      <th>review_score</th>\n",
       "      <th>price</th>\n",
       "      <th>freight_value</th>\n",
       "      <th>product_name_lenght</th>\n",
       "      <th>product_description_lenght</th>\n",
       "      <th>product_photos_qty</th>\n",
       "      <th>product_length_cm</th>\n",
       "      <th>...</th>\n",
       "      <th>customer_state_PR</th>\n",
       "      <th>customer_state_RJ</th>\n",
       "      <th>customer_state_RN</th>\n",
       "      <th>customer_state_RO</th>\n",
       "      <th>customer_state_RR</th>\n",
       "      <th>customer_state_RS</th>\n",
       "      <th>customer_state_SC</th>\n",
       "      <th>customer_state_SE</th>\n",
       "      <th>customer_state_SP</th>\n",
       "      <th>customer_state_TO</th>\n",
       "    </tr>\n",
       "    <tr>\n",
       "      <th>customer_unique_id</th>\n",
       "      <th></th>\n",
       "      <th></th>\n",
       "      <th></th>\n",
       "      <th></th>\n",
       "      <th></th>\n",
       "      <th></th>\n",
       "      <th></th>\n",
       "      <th></th>\n",
       "      <th></th>\n",
       "      <th></th>\n",
       "      <th></th>\n",
       "      <th></th>\n",
       "      <th></th>\n",
       "      <th></th>\n",
       "      <th></th>\n",
       "      <th></th>\n",
       "      <th></th>\n",
       "      <th></th>\n",
       "      <th></th>\n",
       "      <th></th>\n",
       "      <th></th>\n",
       "    </tr>\n",
       "  </thead>\n",
       "  <tbody>\n",
       "    <tr>\n",
       "      <td>0000366f3b9a7992bf8c76cfdf3221e2</td>\n",
       "      <td>1</td>\n",
       "      <td>141.90</td>\n",
       "      <td>8.0</td>\n",
       "      <td>5.0</td>\n",
       "      <td>129.90</td>\n",
       "      <td>12.00</td>\n",
       "      <td>60.0</td>\n",
       "      <td>236.0</td>\n",
       "      <td>1.0</td>\n",
       "      <td>34.0</td>\n",
       "      <td>...</td>\n",
       "      <td>0</td>\n",
       "      <td>0</td>\n",
       "      <td>0</td>\n",
       "      <td>0</td>\n",
       "      <td>0</td>\n",
       "      <td>0</td>\n",
       "      <td>0</td>\n",
       "      <td>0</td>\n",
       "      <td>1</td>\n",
       "      <td>0</td>\n",
       "    </tr>\n",
       "    <tr>\n",
       "      <td>0000b849f77a49e4a4ce2b2a4ca5be3f</td>\n",
       "      <td>1</td>\n",
       "      <td>27.19</td>\n",
       "      <td>1.0</td>\n",
       "      <td>4.0</td>\n",
       "      <td>18.90</td>\n",
       "      <td>8.29</td>\n",
       "      <td>56.0</td>\n",
       "      <td>635.0</td>\n",
       "      <td>1.0</td>\n",
       "      <td>26.0</td>\n",
       "      <td>...</td>\n",
       "      <td>0</td>\n",
       "      <td>0</td>\n",
       "      <td>0</td>\n",
       "      <td>0</td>\n",
       "      <td>0</td>\n",
       "      <td>0</td>\n",
       "      <td>0</td>\n",
       "      <td>0</td>\n",
       "      <td>1</td>\n",
       "      <td>0</td>\n",
       "    </tr>\n",
       "    <tr>\n",
       "      <td>0000f46a3911fa3c0805444483337064</td>\n",
       "      <td>1</td>\n",
       "      <td>86.22</td>\n",
       "      <td>8.0</td>\n",
       "      <td>3.0</td>\n",
       "      <td>69.00</td>\n",
       "      <td>17.22</td>\n",
       "      <td>49.0</td>\n",
       "      <td>177.0</td>\n",
       "      <td>3.0</td>\n",
       "      <td>25.0</td>\n",
       "      <td>...</td>\n",
       "      <td>0</td>\n",
       "      <td>0</td>\n",
       "      <td>0</td>\n",
       "      <td>0</td>\n",
       "      <td>0</td>\n",
       "      <td>0</td>\n",
       "      <td>1</td>\n",
       "      <td>0</td>\n",
       "      <td>0</td>\n",
       "      <td>0</td>\n",
       "    </tr>\n",
       "    <tr>\n",
       "      <td>0000f6ccb0745a6a4b88665a16c9f078</td>\n",
       "      <td>1</td>\n",
       "      <td>43.62</td>\n",
       "      <td>4.0</td>\n",
       "      <td>4.0</td>\n",
       "      <td>25.99</td>\n",
       "      <td>17.63</td>\n",
       "      <td>43.0</td>\n",
       "      <td>1741.0</td>\n",
       "      <td>5.0</td>\n",
       "      <td>19.0</td>\n",
       "      <td>...</td>\n",
       "      <td>0</td>\n",
       "      <td>0</td>\n",
       "      <td>0</td>\n",
       "      <td>0</td>\n",
       "      <td>0</td>\n",
       "      <td>0</td>\n",
       "      <td>0</td>\n",
       "      <td>0</td>\n",
       "      <td>0</td>\n",
       "      <td>0</td>\n",
       "    </tr>\n",
       "    <tr>\n",
       "      <td>0004aac84e0df4da2b147fca70cf8255</td>\n",
       "      <td>1</td>\n",
       "      <td>196.89</td>\n",
       "      <td>6.0</td>\n",
       "      <td>5.0</td>\n",
       "      <td>180.00</td>\n",
       "      <td>16.89</td>\n",
       "      <td>58.0</td>\n",
       "      <td>794.0</td>\n",
       "      <td>3.0</td>\n",
       "      <td>16.0</td>\n",
       "      <td>...</td>\n",
       "      <td>0</td>\n",
       "      <td>0</td>\n",
       "      <td>0</td>\n",
       "      <td>0</td>\n",
       "      <td>0</td>\n",
       "      <td>0</td>\n",
       "      <td>0</td>\n",
       "      <td>0</td>\n",
       "      <td>1</td>\n",
       "      <td>0</td>\n",
       "    </tr>\n",
       "    <tr>\n",
       "      <td>...</td>\n",
       "      <td>...</td>\n",
       "      <td>...</td>\n",
       "      <td>...</td>\n",
       "      <td>...</td>\n",
       "      <td>...</td>\n",
       "      <td>...</td>\n",
       "      <td>...</td>\n",
       "      <td>...</td>\n",
       "      <td>...</td>\n",
       "      <td>...</td>\n",
       "      <td>...</td>\n",
       "      <td>...</td>\n",
       "      <td>...</td>\n",
       "      <td>...</td>\n",
       "      <td>...</td>\n",
       "      <td>...</td>\n",
       "      <td>...</td>\n",
       "      <td>...</td>\n",
       "      <td>...</td>\n",
       "      <td>...</td>\n",
       "      <td>...</td>\n",
       "    </tr>\n",
       "    <tr>\n",
       "      <td>fffcf5a5ff07b0908bd4e2dbc735a684</td>\n",
       "      <td>2</td>\n",
       "      <td>4134.84</td>\n",
       "      <td>10.0</td>\n",
       "      <td>5.0</td>\n",
       "      <td>785.00</td>\n",
       "      <td>248.71</td>\n",
       "      <td>54.0</td>\n",
       "      <td>478.5</td>\n",
       "      <td>1.0</td>\n",
       "      <td>55.0</td>\n",
       "      <td>...</td>\n",
       "      <td>0</td>\n",
       "      <td>0</td>\n",
       "      <td>0</td>\n",
       "      <td>0</td>\n",
       "      <td>0</td>\n",
       "      <td>0</td>\n",
       "      <td>0</td>\n",
       "      <td>0</td>\n",
       "      <td>0</td>\n",
       "      <td>0</td>\n",
       "    </tr>\n",
       "    <tr>\n",
       "      <td>fffea47cd6d3cc0a88bd621562a9d061</td>\n",
       "      <td>1</td>\n",
       "      <td>84.58</td>\n",
       "      <td>1.0</td>\n",
       "      <td>4.0</td>\n",
       "      <td>64.89</td>\n",
       "      <td>19.69</td>\n",
       "      <td>37.0</td>\n",
       "      <td>506.0</td>\n",
       "      <td>2.0</td>\n",
       "      <td>33.0</td>\n",
       "      <td>...</td>\n",
       "      <td>0</td>\n",
       "      <td>0</td>\n",
       "      <td>0</td>\n",
       "      <td>0</td>\n",
       "      <td>0</td>\n",
       "      <td>0</td>\n",
       "      <td>0</td>\n",
       "      <td>0</td>\n",
       "      <td>0</td>\n",
       "      <td>0</td>\n",
       "    </tr>\n",
       "    <tr>\n",
       "      <td>ffff371b4d645b6ecea244b27531430a</td>\n",
       "      <td>1</td>\n",
       "      <td>112.46</td>\n",
       "      <td>1.0</td>\n",
       "      <td>5.0</td>\n",
       "      <td>89.90</td>\n",
       "      <td>22.56</td>\n",
       "      <td>57.0</td>\n",
       "      <td>716.0</td>\n",
       "      <td>5.0</td>\n",
       "      <td>17.0</td>\n",
       "      <td>...</td>\n",
       "      <td>0</td>\n",
       "      <td>0</td>\n",
       "      <td>0</td>\n",
       "      <td>0</td>\n",
       "      <td>0</td>\n",
       "      <td>0</td>\n",
       "      <td>0</td>\n",
       "      <td>0</td>\n",
       "      <td>0</td>\n",
       "      <td>0</td>\n",
       "    </tr>\n",
       "    <tr>\n",
       "      <td>ffff5962728ec6157033ef9805bacc48</td>\n",
       "      <td>1</td>\n",
       "      <td>133.69</td>\n",
       "      <td>5.0</td>\n",
       "      <td>5.0</td>\n",
       "      <td>115.00</td>\n",
       "      <td>18.69</td>\n",
       "      <td>35.0</td>\n",
       "      <td>591.0</td>\n",
       "      <td>3.0</td>\n",
       "      <td>20.0</td>\n",
       "      <td>...</td>\n",
       "      <td>0</td>\n",
       "      <td>0</td>\n",
       "      <td>0</td>\n",
       "      <td>0</td>\n",
       "      <td>0</td>\n",
       "      <td>0</td>\n",
       "      <td>0</td>\n",
       "      <td>0</td>\n",
       "      <td>0</td>\n",
       "      <td>0</td>\n",
       "    </tr>\n",
       "    <tr>\n",
       "      <td>ffffd2657e2aad2907e67c3e9daecbeb</td>\n",
       "      <td>1</td>\n",
       "      <td>71.56</td>\n",
       "      <td>4.0</td>\n",
       "      <td>5.0</td>\n",
       "      <td>56.99</td>\n",
       "      <td>14.57</td>\n",
       "      <td>45.0</td>\n",
       "      <td>1003.0</td>\n",
       "      <td>2.0</td>\n",
       "      <td>18.0</td>\n",
       "      <td>...</td>\n",
       "      <td>1</td>\n",
       "      <td>0</td>\n",
       "      <td>0</td>\n",
       "      <td>0</td>\n",
       "      <td>0</td>\n",
       "      <td>0</td>\n",
       "      <td>0</td>\n",
       "      <td>0</td>\n",
       "      <td>0</td>\n",
       "      <td>0</td>\n",
       "    </tr>\n",
       "  </tbody>\n",
       "</table>\n",
       "<p>96096 rows × 121 columns</p>\n",
       "</div>"
      ],
      "text/plain": [
       "                                  order_id  payment_value  \\\n",
       "customer_unique_id                                          \n",
       "0000366f3b9a7992bf8c76cfdf3221e2         1         141.90   \n",
       "0000b849f77a49e4a4ce2b2a4ca5be3f         1          27.19   \n",
       "0000f46a3911fa3c0805444483337064         1          86.22   \n",
       "0000f6ccb0745a6a4b88665a16c9f078         1          43.62   \n",
       "0004aac84e0df4da2b147fca70cf8255         1         196.89   \n",
       "...                                    ...            ...   \n",
       "fffcf5a5ff07b0908bd4e2dbc735a684         2        4134.84   \n",
       "fffea47cd6d3cc0a88bd621562a9d061         1          84.58   \n",
       "ffff371b4d645b6ecea244b27531430a         1         112.46   \n",
       "ffff5962728ec6157033ef9805bacc48         1         133.69   \n",
       "ffffd2657e2aad2907e67c3e9daecbeb         1          71.56   \n",
       "\n",
       "                                  payment_installments  review_score   price  \\\n",
       "customer_unique_id                                                             \n",
       "0000366f3b9a7992bf8c76cfdf3221e2                   8.0           5.0  129.90   \n",
       "0000b849f77a49e4a4ce2b2a4ca5be3f                   1.0           4.0   18.90   \n",
       "0000f46a3911fa3c0805444483337064                   8.0           3.0   69.00   \n",
       "0000f6ccb0745a6a4b88665a16c9f078                   4.0           4.0   25.99   \n",
       "0004aac84e0df4da2b147fca70cf8255                   6.0           5.0  180.00   \n",
       "...                                                ...           ...     ...   \n",
       "fffcf5a5ff07b0908bd4e2dbc735a684                  10.0           5.0  785.00   \n",
       "fffea47cd6d3cc0a88bd621562a9d061                   1.0           4.0   64.89   \n",
       "ffff371b4d645b6ecea244b27531430a                   1.0           5.0   89.90   \n",
       "ffff5962728ec6157033ef9805bacc48                   5.0           5.0  115.00   \n",
       "ffffd2657e2aad2907e67c3e9daecbeb                   4.0           5.0   56.99   \n",
       "\n",
       "                                  freight_value  product_name_lenght  \\\n",
       "customer_unique_id                                                     \n",
       "0000366f3b9a7992bf8c76cfdf3221e2          12.00                 60.0   \n",
       "0000b849f77a49e4a4ce2b2a4ca5be3f           8.29                 56.0   \n",
       "0000f46a3911fa3c0805444483337064          17.22                 49.0   \n",
       "0000f6ccb0745a6a4b88665a16c9f078          17.63                 43.0   \n",
       "0004aac84e0df4da2b147fca70cf8255          16.89                 58.0   \n",
       "...                                         ...                  ...   \n",
       "fffcf5a5ff07b0908bd4e2dbc735a684         248.71                 54.0   \n",
       "fffea47cd6d3cc0a88bd621562a9d061          19.69                 37.0   \n",
       "ffff371b4d645b6ecea244b27531430a          22.56                 57.0   \n",
       "ffff5962728ec6157033ef9805bacc48          18.69                 35.0   \n",
       "ffffd2657e2aad2907e67c3e9daecbeb          14.57                 45.0   \n",
       "\n",
       "                                  product_description_lenght  \\\n",
       "customer_unique_id                                             \n",
       "0000366f3b9a7992bf8c76cfdf3221e2                       236.0   \n",
       "0000b849f77a49e4a4ce2b2a4ca5be3f                       635.0   \n",
       "0000f46a3911fa3c0805444483337064                       177.0   \n",
       "0000f6ccb0745a6a4b88665a16c9f078                      1741.0   \n",
       "0004aac84e0df4da2b147fca70cf8255                       794.0   \n",
       "...                                                      ...   \n",
       "fffcf5a5ff07b0908bd4e2dbc735a684                       478.5   \n",
       "fffea47cd6d3cc0a88bd621562a9d061                       506.0   \n",
       "ffff371b4d645b6ecea244b27531430a                       716.0   \n",
       "ffff5962728ec6157033ef9805bacc48                       591.0   \n",
       "ffffd2657e2aad2907e67c3e9daecbeb                      1003.0   \n",
       "\n",
       "                                  product_photos_qty  product_length_cm  ...  \\\n",
       "customer_unique_id                                                       ...   \n",
       "0000366f3b9a7992bf8c76cfdf3221e2                 1.0               34.0  ...   \n",
       "0000b849f77a49e4a4ce2b2a4ca5be3f                 1.0               26.0  ...   \n",
       "0000f46a3911fa3c0805444483337064                 3.0               25.0  ...   \n",
       "0000f6ccb0745a6a4b88665a16c9f078                 5.0               19.0  ...   \n",
       "0004aac84e0df4da2b147fca70cf8255                 3.0               16.0  ...   \n",
       "...                                              ...                ...  ...   \n",
       "fffcf5a5ff07b0908bd4e2dbc735a684                 1.0               55.0  ...   \n",
       "fffea47cd6d3cc0a88bd621562a9d061                 2.0               33.0  ...   \n",
       "ffff371b4d645b6ecea244b27531430a                 5.0               17.0  ...   \n",
       "ffff5962728ec6157033ef9805bacc48                 3.0               20.0  ...   \n",
       "ffffd2657e2aad2907e67c3e9daecbeb                 2.0               18.0  ...   \n",
       "\n",
       "                                  customer_state_PR  customer_state_RJ  \\\n",
       "customer_unique_id                                                       \n",
       "0000366f3b9a7992bf8c76cfdf3221e2                  0                  0   \n",
       "0000b849f77a49e4a4ce2b2a4ca5be3f                  0                  0   \n",
       "0000f46a3911fa3c0805444483337064                  0                  0   \n",
       "0000f6ccb0745a6a4b88665a16c9f078                  0                  0   \n",
       "0004aac84e0df4da2b147fca70cf8255                  0                  0   \n",
       "...                                             ...                ...   \n",
       "fffcf5a5ff07b0908bd4e2dbc735a684                  0                  0   \n",
       "fffea47cd6d3cc0a88bd621562a9d061                  0                  0   \n",
       "ffff371b4d645b6ecea244b27531430a                  0                  0   \n",
       "ffff5962728ec6157033ef9805bacc48                  0                  0   \n",
       "ffffd2657e2aad2907e67c3e9daecbeb                  1                  0   \n",
       "\n",
       "                                  customer_state_RN  customer_state_RO  \\\n",
       "customer_unique_id                                                       \n",
       "0000366f3b9a7992bf8c76cfdf3221e2                  0                  0   \n",
       "0000b849f77a49e4a4ce2b2a4ca5be3f                  0                  0   \n",
       "0000f46a3911fa3c0805444483337064                  0                  0   \n",
       "0000f6ccb0745a6a4b88665a16c9f078                  0                  0   \n",
       "0004aac84e0df4da2b147fca70cf8255                  0                  0   \n",
       "...                                             ...                ...   \n",
       "fffcf5a5ff07b0908bd4e2dbc735a684                  0                  0   \n",
       "fffea47cd6d3cc0a88bd621562a9d061                  0                  0   \n",
       "ffff371b4d645b6ecea244b27531430a                  0                  0   \n",
       "ffff5962728ec6157033ef9805bacc48                  0                  0   \n",
       "ffffd2657e2aad2907e67c3e9daecbeb                  0                  0   \n",
       "\n",
       "                                  customer_state_RR  customer_state_RS  \\\n",
       "customer_unique_id                                                       \n",
       "0000366f3b9a7992bf8c76cfdf3221e2                  0                  0   \n",
       "0000b849f77a49e4a4ce2b2a4ca5be3f                  0                  0   \n",
       "0000f46a3911fa3c0805444483337064                  0                  0   \n",
       "0000f6ccb0745a6a4b88665a16c9f078                  0                  0   \n",
       "0004aac84e0df4da2b147fca70cf8255                  0                  0   \n",
       "...                                             ...                ...   \n",
       "fffcf5a5ff07b0908bd4e2dbc735a684                  0                  0   \n",
       "fffea47cd6d3cc0a88bd621562a9d061                  0                  0   \n",
       "ffff371b4d645b6ecea244b27531430a                  0                  0   \n",
       "ffff5962728ec6157033ef9805bacc48                  0                  0   \n",
       "ffffd2657e2aad2907e67c3e9daecbeb                  0                  0   \n",
       "\n",
       "                                  customer_state_SC  customer_state_SE  \\\n",
       "customer_unique_id                                                       \n",
       "0000366f3b9a7992bf8c76cfdf3221e2                  0                  0   \n",
       "0000b849f77a49e4a4ce2b2a4ca5be3f                  0                  0   \n",
       "0000f46a3911fa3c0805444483337064                  1                  0   \n",
       "0000f6ccb0745a6a4b88665a16c9f078                  0                  0   \n",
       "0004aac84e0df4da2b147fca70cf8255                  0                  0   \n",
       "...                                             ...                ...   \n",
       "fffcf5a5ff07b0908bd4e2dbc735a684                  0                  0   \n",
       "fffea47cd6d3cc0a88bd621562a9d061                  0                  0   \n",
       "ffff371b4d645b6ecea244b27531430a                  0                  0   \n",
       "ffff5962728ec6157033ef9805bacc48                  0                  0   \n",
       "ffffd2657e2aad2907e67c3e9daecbeb                  0                  0   \n",
       "\n",
       "                                  customer_state_SP  customer_state_TO  \n",
       "customer_unique_id                                                      \n",
       "0000366f3b9a7992bf8c76cfdf3221e2                  1                  0  \n",
       "0000b849f77a49e4a4ce2b2a4ca5be3f                  1                  0  \n",
       "0000f46a3911fa3c0805444483337064                  0                  0  \n",
       "0000f6ccb0745a6a4b88665a16c9f078                  0                  0  \n",
       "0004aac84e0df4da2b147fca70cf8255                  1                  0  \n",
       "...                                             ...                ...  \n",
       "fffcf5a5ff07b0908bd4e2dbc735a684                  0                  0  \n",
       "fffea47cd6d3cc0a88bd621562a9d061                  0                  0  \n",
       "ffff371b4d645b6ecea244b27531430a                  0                  0  \n",
       "ffff5962728ec6157033ef9805bacc48                  0                  0  \n",
       "ffffd2657e2aad2907e67c3e9daecbeb                  0                  0  \n",
       "\n",
       "[96096 rows x 121 columns]"
      ]
     },
     "execution_count": 185,
     "metadata": {},
     "output_type": "execute_result"
    }
   ],
   "source": [
    "df = pd.get_dummies(df)\n",
    "df"
   ]
  },
  {
   "cell_type": "markdown",
   "metadata": {},
   "source": [
    "# Exploratory Data Analytics - Stage 2"
   ]
  },
  {
   "cell_type": "code",
   "execution_count": 448,
   "metadata": {
    "scrolled": true
   },
   "outputs": [
    {
     "data": {
      "text/plain": [
       "<BarContainer object of 72 artists>"
      ]
     },
     "execution_count": 448,
     "metadata": {},
     "output_type": "execute_result"
    },
    {
     "data": {
      "image/png": "[encoded data removed]",
      "text/plain": [
       "<Figure size 864x1440 with 1 Axes>"
      ]
     },
     "metadata": {
      "needs_background": "light"
     },
     "output_type": "display_data"
    }
   ],
   "source": [
    "sales_per_category = ocpript_df.groupby('product_category_name_english')['order_id'].count()\n",
    "sales_per_category.sort_values(inplace=True)\n",
    "plt.figure(figsize=(12,20))\n",
    "plt.barh(sales_per_category.index, sales_per_category.values)"
   ]
  },
  {
   "cell_type": "code",
   "execution_count": 268,
   "metadata": {
    "scrolled": true
   },
   "outputs": [
    {
     "data": {
      "image/png": "[encoded data removed]",
      "text/plain": [
       "<Figure size 432x288 with 1 Axes>"
      ]
     },
     "metadata": {
      "needs_background": "light"
     },
     "output_type": "display_data"
    }
   ],
   "source": [
    "plt.bar(cust_ocprip_df.payment_installments.value_counts().index, cust_ocprip_df.payment_installments.value_counts().values);"
   ]
  },
  {
   "cell_type": "code",
   "execution_count": 269,
   "metadata": {
    "scrolled": true
   },
   "outputs": [
    {
     "data": {
      "text/plain": [
       "0.0"
      ]
     },
     "execution_count": 269,
     "metadata": {},
     "output_type": "execute_result"
    }
   ],
   "source": [
    "cust_ocprip_df.payment_installments.min()"
   ]
  },
  {
   "cell_type": "code",
   "execution_count": 270,
   "metadata": {
    "scrolled": false
   },
   "outputs": [
    {
     "data": {
      "image/png": "[encoded data removed]",
      "text/plain": [
       "<Figure size 432x288 with 1 Axes>"
      ]
     },
     "metadata": {
      "needs_background": "light"
     },
     "output_type": "display_data"
    }
   ],
   "source": [
    "plt.bar(cust_ocprip_df.review_score.value_counts().index, cust_ocprip_df.review_score.value_counts().values);"
   ]
  },
  {
   "cell_type": "code",
   "execution_count": 271,
   "metadata": {},
   "outputs": [
    {
     "data": {
      "text/plain": [
       "1.0"
      ]
     },
     "execution_count": 271,
     "metadata": {},
     "output_type": "execute_result"
    }
   ],
   "source": [
    "cust_ocprip_df.review_score.min()"
   ]
  },
  {
   "cell_type": "code",
   "execution_count": 272,
   "metadata": {
    "scrolled": false
   },
   "outputs": [
    {
     "data": {
      "image/png": "[encoded data removed]",
      "text/plain": [
       "<Figure size 432x288 with 1 Axes>"
      ]
     },
     "metadata": {
      "needs_background": "light"
     },
     "output_type": "display_data"
    }
   ],
   "source": [
    "plt.hist(cust_ocprip_df.price, bins=100);"
   ]
  },
  {
   "cell_type": "code",
   "execution_count": 273,
   "metadata": {},
   "outputs": [
    {
     "data": {
      "text/plain": [
       "0.85"
      ]
     },
     "execution_count": 273,
     "metadata": {},
     "output_type": "execute_result"
    }
   ],
   "source": [
    "cust_ocprip_df.price.min()"
   ]
  },
  {
   "cell_type": "code",
   "execution_count": 274,
   "metadata": {
    "scrolled": true
   },
   "outputs": [
    {
     "data": {
      "image/png": "[encoded data removed]",
      "text/plain": [
       "<Figure size 432x288 with 1 Axes>"
      ]
     },
     "metadata": {
      "needs_background": "light"
     },
     "output_type": "display_data"
    }
   ],
   "source": [
    "plt.hist(cust_ocprip_df.freight_value, bins=50);"
   ]
  },
  {
   "cell_type": "code",
   "execution_count": 275,
   "metadata": {},
   "outputs": [
    {
     "data": {
      "text/plain": [
       "0.0"
      ]
     },
     "execution_count": 275,
     "metadata": {},
     "output_type": "execute_result"
    }
   ],
   "source": [
    "cust_ocprip_df.freight_value.min()"
   ]
  },
  {
   "cell_type": "code",
   "execution_count": 276,
   "metadata": {
    "scrolled": true
   },
   "outputs": [
    {
     "data": {
      "image/png": "[encoded data removed]",
      "text/plain": [
       "<Figure size 432x288 with 1 Axes>"
      ]
     },
     "metadata": {
      "needs_background": "light"
     },
     "output_type": "display_data"
    }
   ],
   "source": [
    "plt.hist(cust_ocprip_df.product_name_lenght, bins=50);"
   ]
  },
  {
   "cell_type": "code",
   "execution_count": 277,
   "metadata": {},
   "outputs": [
    {
     "data": {
      "text/plain": [
       "5.0"
      ]
     },
     "execution_count": 277,
     "metadata": {},
     "output_type": "execute_result"
    }
   ],
   "source": [
    "cust_ocprip_df.product_name_lenght.min()"
   ]
  },
  {
   "cell_type": "code",
   "execution_count": 278,
   "metadata": {},
   "outputs": [
    {
     "data": {
      "image/png": "[encoded data removed]",
      "text/plain": [
       "<Figure size 432x288 with 1 Axes>"
      ]
     },
     "metadata": {
      "needs_background": "light"
     },
     "output_type": "display_data"
    }
   ],
   "source": [
    "plt.hist(np.power(cust_ocprip_df.product_name_lenght, 3), bins=50);"
   ]
  },
  {
   "cell_type": "code",
   "execution_count": 279,
   "metadata": {
    "scrolled": true
   },
   "outputs": [
    {
     "data": {
      "image/png": "[encoded data removed]",
      "text/plain": [
       "<Figure size 432x288 with 1 Axes>"
      ]
     },
     "metadata": {
      "needs_background": "light"
     },
     "output_type": "display_data"
    }
   ],
   "source": [
    "plt.hist(cust_ocprip_df.product_description_lenght, bins=50);"
   ]
  },
  {
   "cell_type": "code",
   "execution_count": 280,
   "metadata": {},
   "outputs": [
    {
     "data": {
      "text/plain": [
       "4.0"
      ]
     },
     "execution_count": 280,
     "metadata": {},
     "output_type": "execute_result"
    }
   ],
   "source": [
    "cust_ocprip_df.product_description_lenght.min()"
   ]
  },
  {
   "cell_type": "code",
   "execution_count": 281,
   "metadata": {
    "scrolled": false
   },
   "outputs": [
    {
     "data": {
      "image/png": "[encoded data removed]",
      "text/plain": [
       "<Figure size 432x288 with 1 Axes>"
      ]
     },
     "metadata": {
      "needs_background": "light"
     },
     "output_type": "display_data"
    }
   ],
   "source": [
    "plt.bar(cust_ocprip_df.product_photos_qty.value_counts().index, cust_ocprip_df.product_photos_qty.value_counts().values);"
   ]
  },
  {
   "cell_type": "code",
   "execution_count": 282,
   "metadata": {},
   "outputs": [
    {
     "data": {
      "text/plain": [
       "1.0"
      ]
     },
     "execution_count": 282,
     "metadata": {},
     "output_type": "execute_result"
    }
   ],
   "source": [
    "cust_ocprip_df.product_photos_qty.min()"
   ]
  },
  {
   "cell_type": "code",
   "execution_count": 283,
   "metadata": {
    "scrolled": false
   },
   "outputs": [
    {
     "data": {
      "image/png": "[encoded data removed]",
      "text/plain": [
       "<Figure size 432x288 with 1 Axes>"
      ]
     },
     "metadata": {
      "needs_background": "light"
     },
     "output_type": "display_data"
    }
   ],
   "source": [
    "plt.hist(cust_ocprip_df.product_length_cm, bins=50);"
   ]
  },
  {
   "cell_type": "code",
   "execution_count": 284,
   "metadata": {},
   "outputs": [
    {
     "data": {
      "text/plain": [
       "7.0"
      ]
     },
     "execution_count": 284,
     "metadata": {},
     "output_type": "execute_result"
    }
   ],
   "source": [
    "cust_ocprip_df.product_length_cm.min()"
   ]
  },
  {
   "cell_type": "code",
   "execution_count": 285,
   "metadata": {
    "scrolled": false
   },
   "outputs": [
    {
     "data": {
      "image/png": "[encoded data removed]",
      "text/plain": [
       "<Figure size 432x288 with 1 Axes>"
      ]
     },
     "metadata": {
      "needs_background": "light"
     },
     "output_type": "display_data"
    }
   ],
   "source": [
    "plt.hist(cust_ocprip_df.product_height_cm, bins=50);"
   ]
  },
  {
   "cell_type": "code",
   "execution_count": 286,
   "metadata": {},
   "outputs": [
    {
     "data": {
      "text/plain": [
       "2.0"
      ]
     },
     "execution_count": 286,
     "metadata": {},
     "output_type": "execute_result"
    }
   ],
   "source": [
    "cust_ocprip_df.product_height_cm.min()"
   ]
  },
  {
   "cell_type": "code",
   "execution_count": 287,
   "metadata": {
    "scrolled": false
   },
   "outputs": [
    {
     "data": {
      "image/png": "[encoded data removed]",
      "text/plain": [
       "<Figure size 432x288 with 1 Axes>"
      ]
     },
     "metadata": {
      "needs_background": "light"
     },
     "output_type": "display_data"
    }
   ],
   "source": [
    "plt.hist(cust_ocprip_df.product_width_cm, bins=50);"
   ]
  },
  {
   "cell_type": "code",
   "execution_count": 288,
   "metadata": {},
   "outputs": [
    {
     "data": {
      "text/plain": [
       "6.0"
      ]
     },
     "execution_count": 288,
     "metadata": {},
     "output_type": "execute_result"
    }
   ],
   "source": [
    "cust_ocprip_df.product_width_cm.min()"
   ]
  },
  {
   "cell_type": "code",
   "execution_count": 289,
   "metadata": {
    "scrolled": true
   },
   "outputs": [
    {
     "data": {
      "image/png": "[encoded data removed]",
      "text/plain": [
       "<Figure size 432x288 with 1 Axes>"
      ]
     },
     "metadata": {
      "needs_background": "light"
     },
     "output_type": "display_data"
    }
   ],
   "source": [
    "plt.hist(np.log(cust_ocprip_df.product_width_cm), bins=50);"
   ]
  },
  {
   "cell_type": "code",
   "execution_count": 290,
   "metadata": {},
   "outputs": [
    {
     "data": {
      "text/plain": [
       "6.0"
      ]
     },
     "execution_count": 290,
     "metadata": {},
     "output_type": "execute_result"
    }
   ],
   "source": [
    "cust_ocprip_df.product_width_cm.min()"
   ]
  },
  {
   "cell_type": "code",
   "execution_count": 430,
   "metadata": {
    "scrolled": false
   },
   "outputs": [
    {
     "data": {
      "text/plain": [
       "<BarContainer object of 5 artists>"
      ]
     },
     "execution_count": 430,
     "metadata": {},
     "output_type": "execute_result"
    },
    {
     "data": {
      "image/png": "[encoded data removed]",
      "text/plain": [
       "<Figure size 432x288 with 1 Axes>"
      ]
     },
     "metadata": {
      "needs_background": "light"
     },
     "output_type": "display_data"
    }
   ],
   "source": [
    "plt.bar(review_df.review_score.value_counts().index, review_df.review_score.value_counts().values)"
   ]
  },
  {
   "cell_type": "markdown",
   "metadata": {},
   "source": [
    "# PCA-based Clustering"
   ]
  },
  {
   "cell_type": "markdown",
   "metadata": {},
   "source": [
    "## Standard Scaler"
   ]
  },
  {
   "cell_type": "code",
   "execution_count": 186,
   "metadata": {},
   "outputs": [],
   "source": [
    "#df = df.sample(frac=0.1)"
   ]
  },
  {
   "cell_type": "code",
   "execution_count": 187,
   "metadata": {
    "scrolled": true
   },
   "outputs": [],
   "source": [
    "# standard scaler\n",
    "from sklearn.preprocessing import StandardScaler\n",
    "scaler = StandardScaler()\n",
    "X = scaler.fit_transform(df)"
   ]
  },
  {
   "cell_type": "markdown",
   "metadata": {},
   "source": [
    "## Elbow Diagram"
   ]
  },
  {
   "cell_type": "code",
   "execution_count": 188,
   "metadata": {
    "scrolled": true
   },
   "outputs": [
    {
     "data": {
      "image/png": "[encoded data removed]",
      "text/plain": [
       "<Figure size 432x288 with 1 Axes>"
      ]
     },
     "metadata": {
      "needs_background": "light"
     },
     "output_type": "display_data"
    }
   ],
   "source": [
    "# elbow diagram\n",
    "from sklearn.cluster import KMeans\n",
    "inertia_dict = {}\n",
    "for k in range(1,15):\n",
    "    km = KMeans(n_clusters=k).fit(X)\n",
    "    inertia_dict[k] = km.inertia_    \n",
    "plt.scatter(inertia_dict.keys(), inertia_dict.values())\n",
    "plt.xlabel('Clusters')\n",
    "plt.ylabel('Inertia');"
   ]
  },
  {
   "cell_type": "markdown",
   "metadata": {},
   "source": [
    "## Principle Component Analysis"
   ]
  },
  {
   "cell_type": "code",
   "execution_count": 189,
   "metadata": {},
   "outputs": [
    {
     "data": {
      "text/plain": [
       "Text(0, 0.5, 'Proportion of Variance Explained')"
      ]
     },
     "execution_count": 189,
     "metadata": {},
     "output_type": "execute_result"
    },
    {
     "data": {
      "image/png": "[encoded data removed]",
      "text/plain": [
       "<Figure size 432x288 with 1 Axes>"
      ]
     },
     "metadata": {
      "needs_background": "light"
     },
     "output_type": "display_data"
    }
   ],
   "source": [
    "# cumulative sum explained variance ratio plot\n",
    "from sklearn.decomposition import PCA\n",
    "pca = PCA(n_components=X.shape[1])\n",
    "X_pca = pca.fit_transform(X)\n",
    "plt.plot(range(1, X.shape[1]+1), pca.explained_variance_ratio_.cumsum(), marker='.');\n",
    "plt.xlabel('Number of PCs')\n",
    "plt.ylabel('Proportion of Variance Explained')"
   ]
  },
  {
   "cell_type": "code",
   "execution_count": 190,
   "metadata": {
    "scrolled": true
   },
   "outputs": [
    {
     "data": {
      "image/png": "[encoded data removed]",
      "text/plain": [
       "<Figure size 432x288 with 1 Axes>"
      ]
     },
     "metadata": {
      "needs_background": "light"
     },
     "output_type": "display_data"
    }
   ],
   "source": [
    "# principle component analysis\n",
    "pca = PCA(n_components=3)\n",
    "X_pca = pca.fit_transform(X)\n",
    "\n",
    "# elbow diagram\n",
    "inertia_dict = {}\n",
    "for k in range(1,15):\n",
    "    km = KMeans(n_clusters=k).fit(X_pca)\n",
    "    inertia_dict[k] = km.inertia_\n",
    "    \n",
    "plt.scatter(inertia_dict.keys(), inertia_dict.values())\n",
    "plt.xlabel('Clusters')\n",
    "plt.ylabel('Inertia');"
   ]
  },
  {
   "cell_type": "code",
   "execution_count": 208,
   "metadata": {
    "scrolled": false
   },
   "outputs": [
    {
     "data": {
      "text/plain": [
       "<matplotlib.collections.PathCollection at 0x1d1de423b88>"
      ]
     },
     "execution_count": 208,
     "metadata": {},
     "output_type": "execute_result"
    },
    {
     "data": {
      "image/png": "[encoded data removed]",
      "text/plain": [
       "<Figure size 432x288 with 1 Axes>"
      ]
     },
     "metadata": {
      "needs_background": "light"
     },
     "output_type": "display_data"
    }
   ],
   "source": [
    "plt.scatter(X_pca[:,0],X_pca[:,1])"
   ]
  },
  {
   "cell_type": "code",
   "execution_count": 204,
   "metadata": {},
   "outputs": [
    {
     "data": {
      "text/plain": [
       "<matplotlib.collections.PathCollection at 0x1d1de3bb7c8>"
      ]
     },
     "execution_count": 204,
     "metadata": {},
     "output_type": "execute_result"
    },
    {
     "data": {
      "image/png": "[encoded data removed]",
      "text/plain": [
       "<Figure size 432x288 with 1 Axes>"
      ]
     },
     "metadata": {
      "needs_background": "light"
     },
     "output_type": "display_data"
    }
   ],
   "source": [
    "plt.scatter(X_pca[:,1],X_pca[:,2])"
   ]
  },
  {
   "cell_type": "markdown",
   "metadata": {},
   "source": [
    "## K-means Clusters"
   ]
  },
  {
   "cell_type": "code",
   "execution_count": 192,
   "metadata": {
    "scrolled": true
   },
   "outputs": [
    {
     "data": {
      "text/plain": [
       "<matplotlib.collections.PathCollection at 0x1d1df279a88>"
      ]
     },
     "execution_count": 192,
     "metadata": {},
     "output_type": "execute_result"
    },
    {
     "data": {
      "image/png": "[encoded data removed]",
      "text/plain": [
       "<Figure size 432x288 with 1 Axes>"
      ]
     },
     "metadata": {
      "needs_background": "light"
     },
     "output_type": "display_data"
    }
   ],
   "source": [
    "km = KMeans(n_clusters=4).fit(X_pca)\n",
    "plt.scatter(X_pca[:,1], X_pca[:,2], c=km.labels_)"
   ]
  },
  {
   "cell_type": "code",
   "execution_count": 193,
   "metadata": {},
   "outputs": [
    {
     "data": {
      "text/plain": [
       "array([23264, 40364, 27102,  5366], dtype=int64)"
      ]
     },
     "execution_count": 193,
     "metadata": {},
     "output_type": "execute_result"
    }
   ],
   "source": [
    "np.bincount(km.labels_)"
   ]
  },
  {
   "cell_type": "code",
   "execution_count": 194,
   "metadata": {},
   "outputs": [
    {
     "data": {
      "text/plain": [
       "array([[-1.05166063,  2.16134026,  0.44917809],\n",
       "       [-0.63431216, -1.11538301,  0.39742693],\n",
       "       [ 0.96102258, -0.31619258, -1.24678975],\n",
       "       [ 4.47374729,  0.61747387,  1.35533804]])"
      ]
     },
     "execution_count": 194,
     "metadata": {},
     "output_type": "execute_result"
    }
   ],
   "source": [
    "km.cluster_centers_"
   ]
  },
  {
   "cell_type": "code",
   "execution_count": 195,
   "metadata": {
    "scrolled": true
   },
   "outputs": [
    {
     "data": {
      "text/plain": [
       "-1.115383007882213"
      ]
     },
     "execution_count": 195,
     "metadata": {},
     "output_type": "execute_result"
    }
   ],
   "source": [
    "km.cluster_centers_[1,1]"
   ]
  },
  {
   "cell_type": "code",
   "execution_count": 196,
   "metadata": {
    "scrolled": true
   },
   "outputs": [
    {
     "data": {
      "text/html": [
       "<div>\n",
       "<style scoped>\n",
       "    .dataframe tbody tr th:only-of-type {\n",
       "        vertical-align: middle;\n",
       "    }\n",
       "\n",
       "    .dataframe tbody tr th {\n",
       "        vertical-align: top;\n",
       "    }\n",
       "\n",
       "    .dataframe thead th {\n",
       "        text-align: right;\n",
       "    }\n",
       "</style>\n",
       "<table border=\"1\" class=\"dataframe\">\n",
       "  <thead>\n",
       "    <tr style=\"text-align: right;\">\n",
       "      <th></th>\n",
       "      <th>feature</th>\n",
       "      <th>abs_corr</th>\n",
       "      <th>corr</th>\n",
       "      <th>p_value</th>\n",
       "    </tr>\n",
       "  </thead>\n",
       "  <tbody>\n",
       "    <tr>\n",
       "      <td>0</td>\n",
       "      <td>product_description_lenght</td>\n",
       "      <td>0.447897</td>\n",
       "      <td>0.447897</td>\n",
       "      <td>0.000000</td>\n",
       "    </tr>\n",
       "    <tr>\n",
       "      <td>1</td>\n",
       "      <td>price</td>\n",
       "      <td>0.411022</td>\n",
       "      <td>0.411022</td>\n",
       "      <td>0.000000</td>\n",
       "    </tr>\n",
       "    <tr>\n",
       "      <td>2</td>\n",
       "      <td>product_width_cm</td>\n",
       "      <td>0.407665</td>\n",
       "      <td>-0.407665</td>\n",
       "      <td>0.000000</td>\n",
       "    </tr>\n",
       "    <tr>\n",
       "      <td>3</td>\n",
       "      <td>product_category_name_cama_mesa_banho</td>\n",
       "      <td>0.387972</td>\n",
       "      <td>-0.387972</td>\n",
       "      <td>0.000000</td>\n",
       "    </tr>\n",
       "    <tr>\n",
       "      <td>4</td>\n",
       "      <td>product_length_cm</td>\n",
       "      <td>0.370689</td>\n",
       "      <td>-0.370689</td>\n",
       "      <td>0.000000</td>\n",
       "    </tr>\n",
       "    <tr>\n",
       "      <td>...</td>\n",
       "      <td>...</td>\n",
       "      <td>...</td>\n",
       "      <td>...</td>\n",
       "      <td>...</td>\n",
       "    </tr>\n",
       "    <tr>\n",
       "      <td>115</td>\n",
       "      <td>product_category_name_climatizacao</td>\n",
       "      <td>0.002727</td>\n",
       "      <td>0.002727</td>\n",
       "      <td>0.397845</td>\n",
       "    </tr>\n",
       "    <tr>\n",
       "      <td>116</td>\n",
       "      <td>product_category_name_fraldas_higiene</td>\n",
       "      <td>0.001279</td>\n",
       "      <td>-0.001279</td>\n",
       "      <td>0.691833</td>\n",
       "    </tr>\n",
       "    <tr>\n",
       "      <td>117</td>\n",
       "      <td>product_category_name_artigos_de_festas</td>\n",
       "      <td>0.000784</td>\n",
       "      <td>-0.000784</td>\n",
       "      <td>0.807946</td>\n",
       "    </tr>\n",
       "    <tr>\n",
       "      <td>118</td>\n",
       "      <td>product_category_name_moveis_escritorio</td>\n",
       "      <td>0.000711</td>\n",
       "      <td>0.000711</td>\n",
       "      <td>0.825451</td>\n",
       "    </tr>\n",
       "    <tr>\n",
       "      <td>119</td>\n",
       "      <td>product_category_name_flores</td>\n",
       "      <td>0.000250</td>\n",
       "      <td>0.000250</td>\n",
       "      <td>0.938349</td>\n",
       "    </tr>\n",
       "  </tbody>\n",
       "</table>\n",
       "<p>120 rows × 4 columns</p>\n",
       "</div>"
      ],
      "text/plain": [
       "                                     feature  abs_corr      corr   p_value\n",
       "0                 product_description_lenght  0.447897  0.447897  0.000000\n",
       "1                                      price  0.411022  0.411022  0.000000\n",
       "2                           product_width_cm  0.407665 -0.407665  0.000000\n",
       "3      product_category_name_cama_mesa_banho  0.387972 -0.387972  0.000000\n",
       "4                          product_length_cm  0.370689 -0.370689  0.000000\n",
       "..                                       ...       ...       ...       ...\n",
       "115       product_category_name_climatizacao  0.002727  0.002727  0.397845\n",
       "116    product_category_name_fraldas_higiene  0.001279 -0.001279  0.691833\n",
       "117  product_category_name_artigos_de_festas  0.000784 -0.000784  0.807946\n",
       "118  product_category_name_moveis_escritorio  0.000711  0.000711  0.825451\n",
       "119             product_category_name_flores  0.000250  0.000250  0.938349\n",
       "\n",
       "[120 rows x 4 columns]"
      ]
     },
     "execution_count": 196,
     "metadata": {},
     "output_type": "execute_result"
    }
   ],
   "source": [
    "from scipy import stats\n",
    "corr_array=[]\n",
    "for i in range(df.shape[1]-1):  \n",
    "    corr_array.append([df.columns[i],\n",
    "                       np.abs(stats.pearsonr(df[df.columns[i]], X_pca[:,2])[0]),\n",
    "                       stats.pearsonr(df[df.columns[i]], X_pca[:,2])[0],\n",
    "                       stats.pearsonr(df[df.columns[i]], X_pca[:,2])[1]])\n",
    "    \n",
    "corr_df = pd.DataFrame(corr_array, columns = ['feature', 'abs_corr', 'corr', 'p_value'])\n",
    "corr_df.sort_values(by='abs_corr', ascending=False, inplace=True)\n",
    "corr_df.reset_index(drop=True, inplace=True)\n",
    "corr_df"
   ]
  },
  {
   "cell_type": "code",
   "execution_count": 211,
   "metadata": {},
   "outputs": [
    {
     "name": "stderr",
     "output_type": "stream",
     "text": [
      "C:\\Users\\arali\\Anaconda3\\lib\\site-packages\\numpy\\core\\fromnumeric.py:2389: FutureWarning: Method .ptp is deprecated and will be removed in a future version. Use numpy.ptp instead.\n",
      "  return ptp(axis=axis, out=out, **kwargs)\n"
     ]
    },
    {
     "data": {
      "text/html": [
       "<table class=\"simpletable\">\n",
       "<caption>OLS Regression Results</caption>\n",
       "<tr>\n",
       "  <th>Dep. Variable:</th>            <td>y</td>        <th>  R-squared:         </th>  <td>   1.000</td> \n",
       "</tr>\n",
       "<tr>\n",
       "  <th>Model:</th>                   <td>OLS</td>       <th>  Adj. R-squared:    </th>  <td>   1.000</td> \n",
       "</tr>\n",
       "<tr>\n",
       "  <th>Method:</th>             <td>Least Squares</td>  <th>  F-statistic:       </th>  <td>2.781e+32</td>\n",
       "</tr>\n",
       "<tr>\n",
       "  <th>Date:</th>             <td>Thu, 26 Mar 2020</td> <th>  Prob (F-statistic):</th>   <td>  0.00</td>  \n",
       "</tr>\n",
       "<tr>\n",
       "  <th>Time:</th>                 <td>22:11:06</td>     <th>  Log-Likelihood:    </th> <td>3.0800e+06</td>\n",
       "</tr>\n",
       "<tr>\n",
       "  <th>No. Observations:</th>      <td> 96096</td>      <th>  AIC:               </th> <td>-6.160e+06</td>\n",
       "</tr>\n",
       "<tr>\n",
       "  <th>Df Residuals:</th>          <td> 95977</td>      <th>  BIC:               </th> <td>-6.159e+06</td>\n",
       "</tr>\n",
       "<tr>\n",
       "  <th>Df Model:</th>              <td>   118</td>      <th>                     </th>      <td> </td>    \n",
       "</tr>\n",
       "<tr>\n",
       "  <th>Covariance Type:</th>      <td>nonrobust</td>    <th>                     </th>      <td> </td>    \n",
       "</tr>\n",
       "</table>\n",
       "<table class=\"simpletable\">\n",
       "<tr>\n",
       "                                    <td></td>                                      <th>coef</th>     <th>std err</th>      <th>t</th>      <th>P>|t|</th>  <th>[0.025</th>    <th>0.975]</th>  \n",
       "</tr>\n",
       "<tr>\n",
       "  <th>const</th>                                                                <td> 1.496e-16</td> <td>  9.4e-18</td> <td>   15.910</td> <td> 0.000</td> <td> 1.31e-16</td> <td> 1.68e-16</td>\n",
       "</tr>\n",
       "<tr>\n",
       "  <th>order_id</th>                                                             <td>    0.0350</td> <td>  1.1e-17</td> <td> 3.17e+15</td> <td> 0.000</td> <td>    0.035</td> <td>    0.035</td>\n",
       "</tr>\n",
       "<tr>\n",
       "  <th>payment_value</th>                                                        <td>    0.2074</td> <td> 1.13e-17</td> <td> 1.84e+16</td> <td> 0.000</td> <td>    0.207</td> <td>    0.207</td>\n",
       "</tr>\n",
       "<tr>\n",
       "  <th>payment_installments</th>                                                 <td>    0.2967</td> <td> 1.12e-17</td> <td> 2.66e+16</td> <td> 0.000</td> <td>    0.297</td> <td>    0.297</td>\n",
       "</tr>\n",
       "<tr>\n",
       "  <th>review_score</th>                                                         <td>   -0.0465</td> <td> 9.88e-18</td> <td>-4.71e+15</td> <td> 0.000</td> <td>   -0.047</td> <td>   -0.047</td>\n",
       "</tr>\n",
       "<tr>\n",
       "  <th>price</th>                                                                <td>    0.3363</td> <td> 1.23e-17</td> <td> 2.74e+16</td> <td> 0.000</td> <td>    0.336</td> <td>    0.336</td>\n",
       "</tr>\n",
       "<tr>\n",
       "  <th>freight_value</th>                                                        <td>    0.4069</td> <td> 1.29e-17</td> <td> 3.15e+16</td> <td> 0.000</td> <td>    0.407</td> <td>    0.407</td>\n",
       "</tr>\n",
       "<tr>\n",
       "  <th>product_name_lenght</th>                                                  <td>    0.0420</td> <td> 9.89e-18</td> <td> 4.24e+15</td> <td> 0.000</td> <td>    0.042</td> <td>    0.042</td>\n",
       "</tr>\n",
       "<tr>\n",
       "  <th>product_description_lenght</th>                                           <td>    0.0888</td> <td> 1.05e-17</td> <td> 8.49e+15</td> <td> 0.000</td> <td>    0.089</td> <td>    0.089</td>\n",
       "</tr>\n",
       "<tr>\n",
       "  <th>product_photos_qty</th>                                                   <td>    0.0341</td> <td> 1.02e-17</td> <td> 3.35e+15</td> <td> 0.000</td> <td>    0.034</td> <td>    0.034</td>\n",
       "</tr>\n",
       "<tr>\n",
       "  <th>product_length_cm</th>                                                    <td>    0.3469</td> <td> 1.23e-17</td> <td> 2.82e+16</td> <td> 0.000</td> <td>    0.347</td> <td>    0.347</td>\n",
       "</tr>\n",
       "<tr>\n",
       "  <th>product_height_cm</th>                                                    <td>    0.3397</td> <td> 1.19e-17</td> <td> 2.85e+16</td> <td> 0.000</td> <td>    0.340</td> <td>    0.340</td>\n",
       "</tr>\n",
       "<tr>\n",
       "  <th>product_width_cm</th>                                                     <td>    0.3698</td> <td> 1.27e-17</td> <td> 2.92e+16</td> <td> 0.000</td> <td>    0.370</td> <td>    0.370</td>\n",
       "</tr>\n",
       "<tr>\n",
       "  <th>review_comment_title</th>                                                 <td>    0.0061</td> <td>  1.1e-17</td> <td> 5.57e+14</td> <td> 0.000</td> <td>    0.006</td> <td>    0.006</td>\n",
       "</tr>\n",
       "<tr>\n",
       "  <th>review_comment_message</th>                                               <td>    0.0458</td> <td> 1.05e-17</td> <td> 4.35e+15</td> <td> 0.000</td> <td>    0.046</td> <td>    0.046</td>\n",
       "</tr>\n",
       "<tr>\n",
       "  <th>order_purchase_timestamp</th>                                             <td>    0.0343</td> <td> 1.07e-17</td> <td>  3.2e+15</td> <td> 0.000</td> <td>    0.034</td> <td>    0.034</td>\n",
       "</tr>\n",
       "<tr>\n",
       "  <th>payment_type_boleto</th>                                                  <td>   -0.1512</td> <td> 6.21e-18</td> <td>-2.44e+16</td> <td> 0.000</td> <td>   -0.151</td> <td>   -0.151</td>\n",
       "</tr>\n",
       "<tr>\n",
       "  <th>payment_type_credit_card</th>                                             <td>    0.1707</td> <td> 5.53e-18</td> <td> 3.09e+16</td> <td> 0.000</td> <td>    0.171</td> <td>    0.171</td>\n",
       "</tr>\n",
       "<tr>\n",
       "  <th>payment_type_debit_card</th>                                              <td>   -0.0445</td> <td> 9.12e-18</td> <td>-4.88e+15</td> <td> 0.000</td> <td>   -0.045</td> <td>   -0.045</td>\n",
       "</tr>\n",
       "<tr>\n",
       "  <th>payment_type_not_defined</th>                                             <td>   -0.0023</td> <td>  9.4e-18</td> <td>-2.46e+14</td> <td> 0.000</td> <td>   -0.002</td> <td>   -0.002</td>\n",
       "</tr>\n",
       "<tr>\n",
       "  <th>payment_type_voucher</th>                                                 <td>   -0.0433</td> <td>  9.1e-18</td> <td>-4.77e+15</td> <td> 0.000</td> <td>   -0.043</td> <td>   -0.043</td>\n",
       "</tr>\n",
       "<tr>\n",
       "  <th>product_category_name_agro_industria_e_comercio</th>                      <td>    0.0203</td> <td> 9.41e-18</td> <td> 2.16e+15</td> <td> 0.000</td> <td>    0.020</td> <td>    0.020</td>\n",
       "</tr>\n",
       "<tr>\n",
       "  <th>product_category_name_alimentos</th>                                      <td>   -0.0355</td> <td>  9.4e-18</td> <td>-3.78e+15</td> <td> 0.000</td> <td>   -0.036</td> <td>   -0.036</td>\n",
       "</tr>\n",
       "<tr>\n",
       "  <th>product_category_name_alimentos_bebidas</th>                              <td>   -0.0195</td> <td>  9.4e-18</td> <td>-2.07e+15</td> <td> 0.000</td> <td>   -0.019</td> <td>   -0.019</td>\n",
       "</tr>\n",
       "<tr>\n",
       "  <th>product_category_name_artes</th>                                          <td>    0.0103</td> <td> 9.43e-18</td> <td> 1.09e+15</td> <td> 0.000</td> <td>    0.010</td> <td>    0.010</td>\n",
       "</tr>\n",
       "<tr>\n",
       "  <th>product_category_name_artes_e_artesanato</th>                             <td>   -0.0054</td> <td>  9.4e-18</td> <td>-5.75e+14</td> <td> 0.000</td> <td>   -0.005</td> <td>   -0.005</td>\n",
       "</tr>\n",
       "<tr>\n",
       "  <th>product_category_name_artigos_de_festas</th>                              <td>   -0.0035</td> <td>  9.4e-18</td> <td>-3.69e+14</td> <td> 0.000</td> <td>   -0.003</td> <td>   -0.003</td>\n",
       "</tr>\n",
       "<tr>\n",
       "  <th>product_category_name_artigos_de_natal</th>                               <td>   -0.0007</td> <td>  9.4e-18</td> <td>-7.62e+13</td> <td> 0.000</td> <td>   -0.001</td> <td>   -0.001</td>\n",
       "</tr>\n",
       "<tr>\n",
       "  <th>product_category_name_audio</th>                                          <td>   -0.0252</td> <td> 9.39e-18</td> <td>-2.69e+15</td> <td> 0.000</td> <td>   -0.025</td> <td>   -0.025</td>\n",
       "</tr>\n",
       "<tr>\n",
       "  <th>product_category_name_automotivo</th>                                     <td>    0.0269</td> <td> 9.08e-18</td> <td> 2.96e+15</td> <td> 0.000</td> <td>    0.027</td> <td>    0.027</td>\n",
       "</tr>\n",
       "<tr>\n",
       "  <th>product_category_name_bebes</th>                                          <td>    0.0468</td> <td>  9.2e-18</td> <td> 5.09e+15</td> <td> 0.000</td> <td>    0.047</td> <td>    0.047</td>\n",
       "</tr>\n",
       "<tr>\n",
       "  <th>product_category_name_bebidas</th>                                        <td>   -0.0167</td> <td> 9.39e-18</td> <td>-1.77e+15</td> <td> 0.000</td> <td>   -0.017</td> <td>   -0.017</td>\n",
       "</tr>\n",
       "<tr>\n",
       "  <th>product_category_name_beleza_saude</th>                                   <td>   -0.0519</td> <td> 8.92e-18</td> <td>-5.83e+15</td> <td> 0.000</td> <td>   -0.052</td> <td>   -0.052</td>\n",
       "</tr>\n",
       "<tr>\n",
       "  <th>product_category_name_brinquedos</th>                                     <td>    0.0164</td> <td> 9.15e-18</td> <td> 1.79e+15</td> <td> 0.000</td> <td>    0.016</td> <td>    0.016</td>\n",
       "</tr>\n",
       "<tr>\n",
       "  <th>product_category_name_cama_mesa_banho</th>                                <td>    0.0413</td> <td> 9.25e-18</td> <td> 4.46e+15</td> <td> 0.000</td> <td>    0.041</td> <td>    0.041</td>\n",
       "</tr>\n",
       "<tr>\n",
       "  <th>product_category_name_casa_conforto</th>                                  <td>    0.0275</td> <td> 9.43e-18</td> <td> 2.92e+15</td> <td> 0.000</td> <td>    0.028</td> <td>    0.028</td>\n",
       "</tr>\n",
       "<tr>\n",
       "  <th>product_category_name_casa_conforto_2</th>                                <td>    0.0019</td> <td> 9.41e-18</td> <td> 1.99e+14</td> <td> 0.000</td> <td>    0.002</td> <td>    0.002</td>\n",
       "</tr>\n",
       "<tr>\n",
       "  <th>product_category_name_casa_construcao</th>                                <td>    0.0200</td> <td>  9.4e-18</td> <td> 2.13e+15</td> <td> 0.000</td> <td>    0.020</td> <td>    0.020</td>\n",
       "</tr>\n",
       "<tr>\n",
       "  <th>product_category_name_cds_dvds_musicais</th>                              <td>   -0.0015</td> <td>  9.4e-18</td> <td>-1.55e+14</td> <td> 0.000</td> <td>   -0.001</td> <td>   -0.001</td>\n",
       "</tr>\n",
       "<tr>\n",
       "  <th>product_category_name_cine_foto</th>                                      <td>   -0.0066</td> <td>  9.4e-18</td> <td>-6.98e+14</td> <td> 0.000</td> <td>   -0.007</td> <td>   -0.007</td>\n",
       "</tr>\n",
       "<tr>\n",
       "  <th>product_category_name_climatizacao</th>                                   <td>    0.0154</td> <td> 9.39e-18</td> <td> 1.64e+15</td> <td> 0.000</td> <td>    0.015</td> <td>    0.015</td>\n",
       "</tr>\n",
       "<tr>\n",
       "  <th>product_category_name_consoles_games</th>                                 <td>   -0.0321</td> <td> 9.35e-18</td> <td>-3.43e+15</td> <td> 0.000</td> <td>   -0.032</td> <td>   -0.032</td>\n",
       "</tr>\n",
       "<tr>\n",
       "  <th>product_category_name_construcao_ferramentas_construcao</th>              <td>    0.0082</td> <td> 9.36e-18</td> <td> 8.74e+14</td> <td> 0.000</td> <td>    0.008</td> <td>    0.008</td>\n",
       "</tr>\n",
       "<tr>\n",
       "  <th>product_category_name_construcao_ferramentas_ferramentas</th>             <td>   -0.0050</td> <td>  9.4e-18</td> <td>-5.34e+14</td> <td> 0.000</td> <td>   -0.005</td> <td>   -0.005</td>\n",
       "</tr>\n",
       "<tr>\n",
       "  <th>product_category_name_construcao_ferramentas_iluminacao</th>              <td>    0.0129</td> <td> 9.39e-18</td> <td> 1.38e+15</td> <td> 0.000</td> <td>    0.013</td> <td>    0.013</td>\n",
       "</tr>\n",
       "<tr>\n",
       "  <th>product_category_name_construcao_ferramentas_jardim</th>                  <td>    0.0034</td> <td> 9.39e-18</td> <td> 3.63e+14</td> <td> 0.000</td> <td>    0.003</td> <td>    0.003</td>\n",
       "</tr>\n",
       "<tr>\n",
       "  <th>product_category_name_construcao_ferramentas_seguranca</th>               <td>    0.0017</td> <td>  9.4e-18</td> <td> 1.84e+14</td> <td> 0.000</td> <td>    0.002</td> <td>    0.002</td>\n",
       "</tr>\n",
       "<tr>\n",
       "  <th>product_category_name_cool_stuff</th>                                     <td>    0.0565</td> <td> 9.18e-18</td> <td> 6.16e+15</td> <td> 0.000</td> <td>    0.057</td> <td>    0.057</td>\n",
       "</tr>\n",
       "<tr>\n",
       "  <th>product_category_name_dvds_blu_ray</th>                                   <td>   -0.0117</td> <td>  9.4e-18</td> <td>-1.25e+15</td> <td> 0.000</td> <td>   -0.012</td> <td>   -0.012</td>\n",
       "</tr>\n",
       "<tr>\n",
       "  <th>product_category_name_eletrodomesticos</th>                               <td>   -0.0104</td> <td> 9.36e-18</td> <td>-1.11e+15</td> <td> 0.000</td> <td>   -0.010</td> <td>   -0.010</td>\n",
       "</tr>\n",
       "<tr>\n",
       "  <th>product_category_name_eletrodomesticos_2</th>                             <td>    0.0703</td> <td> 9.45e-18</td> <td> 7.44e+15</td> <td> 0.000</td> <td>    0.070</td> <td>    0.070</td>\n",
       "</tr>\n",
       "<tr>\n",
       "  <th>product_category_name_eletronicos</th>                                    <td>   -0.0780</td> <td> 9.26e-18</td> <td>-8.42e+15</td> <td> 0.000</td> <td>   -0.078</td> <td>   -0.078</td>\n",
       "</tr>\n",
       "<tr>\n",
       "  <th>product_category_name_eletroportateis</th>                                <td>    0.0329</td> <td> 9.38e-18</td> <td> 3.51e+15</td> <td> 0.000</td> <td>    0.033</td> <td>    0.033</td>\n",
       "</tr>\n",
       "<tr>\n",
       "  <th>product_category_name_esporte_lazer</th>                                  <td>   -0.0104</td> <td> 8.89e-18</td> <td>-1.17e+15</td> <td> 0.000</td> <td>   -0.010</td> <td>   -0.010</td>\n",
       "</tr>\n",
       "<tr>\n",
       "  <th>product_category_name_fashion_bolsas_e_acessorios</th>                    <td>   -0.0713</td> <td> 9.47e-18</td> <td>-7.53e+15</td> <td> 0.000</td> <td>   -0.071</td> <td>   -0.071</td>\n",
       "</tr>\n",
       "<tr>\n",
       "  <th>product_category_name_fashion_calcados</th>                               <td>   -0.0025</td> <td> 9.43e-18</td> <td>-2.64e+14</td> <td> 0.000</td> <td>   -0.002</td> <td>   -0.002</td>\n",
       "</tr>\n",
       "<tr>\n",
       "  <th>product_category_name_fashion_esporte</th>                                <td>   -0.0057</td> <td>  9.4e-18</td> <td>-6.08e+14</td> <td> 0.000</td> <td>   -0.006</td> <td>   -0.006</td>\n",
       "</tr>\n",
       "<tr>\n",
       "  <th>product_category_name_fashion_roupa_feminina</th>                         <td>   -0.0087</td> <td>  9.4e-18</td> <td>-9.21e+14</td> <td> 0.000</td> <td>   -0.009</td> <td>   -0.009</td>\n",
       "</tr>\n",
       "<tr>\n",
       "  <th>product_category_name_fashion_roupa_infanto_juvenil</th>                  <td>   -0.0032</td> <td>  9.4e-18</td> <td>-3.42e+14</td> <td> 0.000</td> <td>   -0.003</td> <td>   -0.003</td>\n",
       "</tr>\n",
       "<tr>\n",
       "  <th>product_category_name_fashion_roupa_masculina</th>                        <td>   -0.0070</td> <td>  9.4e-18</td> <td> -7.4e+14</td> <td> 0.000</td> <td>   -0.007</td> <td>   -0.007</td>\n",
       "</tr>\n",
       "<tr>\n",
       "  <th>product_category_name_fashion_underwear_e_moda_praia</th>                 <td>   -0.0134</td> <td>  9.4e-18</td> <td>-1.42e+15</td> <td> 0.000</td> <td>   -0.013</td> <td>   -0.013</td>\n",
       "</tr>\n",
       "<tr>\n",
       "  <th>product_category_name_ferramentas_jardim</th>                             <td>    0.0366</td> <td> 9.14e-18</td> <td>    4e+15</td> <td> 0.000</td> <td>    0.037</td> <td>    0.037</td>\n",
       "</tr>\n",
       "<tr>\n",
       "  <th>product_category_name_flores</th>                                         <td>   -0.0102</td> <td>  9.4e-18</td> <td>-1.09e+15</td> <td> 0.000</td> <td>   -0.010</td> <td>   -0.010</td>\n",
       "</tr>\n",
       "<tr>\n",
       "  <th>product_category_name_fraldas_higiene</th>                                <td>   -0.0070</td> <td>  9.4e-18</td> <td>-7.47e+14</td> <td> 0.000</td> <td>   -0.007</td> <td>   -0.007</td>\n",
       "</tr>\n",
       "<tr>\n",
       "  <th>product_category_name_industria_comercio_e_negocios</th>                  <td>    0.0410</td> <td> 9.53e-18</td> <td>  4.3e+15</td> <td> 0.000</td> <td>    0.041</td> <td>    0.041</td>\n",
       "</tr>\n",
       "<tr>\n",
       "  <th>product_category_name_informatica_acessorios</th>                         <td>   -0.0817</td> <td> 8.96e-18</td> <td>-9.12e+15</td> <td> 0.000</td> <td>   -0.082</td> <td>   -0.082</td>\n",
       "</tr>\n",
       "<tr>\n",
       "  <th>product_category_name_instrumentos_musicais</th>                          <td>    0.0441</td> <td> 9.39e-18</td> <td> 4.69e+15</td> <td> 0.000</td> <td>    0.044</td> <td>    0.044</td>\n",
       "</tr>\n",
       "<tr>\n",
       "  <th>product_category_name_la_cuisine</th>                                     <td>    0.0083</td> <td> 9.41e-18</td> <td> 8.82e+14</td> <td> 0.000</td> <td>    0.008</td> <td>    0.008</td>\n",
       "</tr>\n",
       "<tr>\n",
       "  <th>product_category_name_livros_importados</th>                              <td>   -0.0103</td> <td>  9.4e-18</td> <td>-1.09e+15</td> <td> 0.000</td> <td>   -0.010</td> <td>   -0.010</td>\n",
       "</tr>\n",
       "<tr>\n",
       "  <th>product_category_name_livros_interesse_geral</th>                         <td>   -0.0246</td> <td> 9.39e-18</td> <td>-2.62e+15</td> <td> 0.000</td> <td>   -0.025</td> <td>   -0.025</td>\n",
       "</tr>\n",
       "<tr>\n",
       "  <th>product_category_name_livros_tecnicos</th>                                <td>   -0.0224</td> <td> 9.42e-18</td> <td>-2.37e+15</td> <td> 0.000</td> <td>   -0.022</td> <td>   -0.022</td>\n",
       "</tr>\n",
       "<tr>\n",
       "  <th>product_category_name_malas_acessorios</th>                               <td>    0.0625</td> <td> 9.44e-18</td> <td> 6.62e+15</td> <td> 0.000</td> <td>    0.062</td> <td>    0.062</td>\n",
       "</tr>\n",
       "<tr>\n",
       "  <th>product_category_name_market_place</th>                                   <td>   -0.0081</td> <td> 9.39e-18</td> <td>-8.63e+14</td> <td> 0.000</td> <td>   -0.008</td> <td>   -0.008</td>\n",
       "</tr>\n",
       "<tr>\n",
       "  <th>product_category_name_moveis_colchao_e_estofado</th>                      <td>    0.0291</td> <td> 9.45e-18</td> <td> 3.08e+15</td> <td> 0.000</td> <td>    0.029</td> <td>    0.029</td>\n",
       "</tr>\n",
       "<tr>\n",
       "  <th>product_category_name_moveis_cozinha_area_de_servico_jantar_e_jardim</th> <td>    0.0483</td> <td> 9.44e-18</td> <td> 5.12e+15</td> <td> 0.000</td> <td>    0.048</td> <td>    0.048</td>\n",
       "</tr>\n",
       "<tr>\n",
       "  <th>product_category_name_moveis_decoracao</th>                               <td>    0.0626</td> <td> 9.11e-18</td> <td> 6.88e+15</td> <td> 0.000</td> <td>    0.063</td> <td>    0.063</td>\n",
       "</tr>\n",
       "<tr>\n",
       "  <th>product_category_name_moveis_escritorio</th>                              <td>    0.1455</td> <td> 9.98e-18</td> <td> 1.46e+16</td> <td> 0.000</td> <td>    0.145</td> <td>    0.145</td>\n",
       "</tr>\n",
       "<tr>\n",
       "  <th>product_category_name_moveis_quarto</th>                                  <td>    0.0349</td> <td> 9.44e-18</td> <td>  3.7e+15</td> <td> 0.000</td> <td>    0.035</td> <td>    0.035</td>\n",
       "</tr>\n",
       "<tr>\n",
       "  <th>product_category_name_moveis_sala</th>                                    <td>    0.0591</td> <td> 9.53e-18</td> <td>  6.2e+15</td> <td> 0.000</td> <td>    0.059</td> <td>    0.059</td>\n",
       "</tr>\n",
       "<tr>\n",
       "  <th>product_category_name_musica</th>                                         <td>   -0.0015</td> <td>  9.4e-18</td> <td>-1.62e+14</td> <td> 0.000</td> <td>   -0.002</td> <td>   -0.002</td>\n",
       "</tr>\n",
       "<tr>\n",
       "  <th>product_category_name_other</th>                                          <td>   -0.0239</td> <td> 9.33e-18</td> <td>-2.57e+15</td> <td> 0.000</td> <td>   -0.024</td> <td>   -0.024</td>\n",
       "</tr>\n",
       "<tr>\n",
       "  <th>product_category_name_papelaria</th>                                      <td>    0.0140</td> <td> 9.32e-18</td> <td>  1.5e+15</td> <td> 0.000</td> <td>    0.014</td> <td>    0.014</td>\n",
       "</tr>\n",
       "<tr>\n",
       "  <th>product_category_name_pc_gamer</th>                                       <td>   -0.0020</td> <td>  9.4e-18</td> <td> -2.1e+14</td> <td> 0.000</td> <td>   -0.002</td> <td>   -0.002</td>\n",
       "</tr>\n",
       "<tr>\n",
       "  <th>product_category_name_pcs</th>                                            <td>    0.1076</td> <td> 9.75e-18</td> <td>  1.1e+16</td> <td> 0.000</td> <td>    0.108</td> <td>    0.108</td>\n",
       "</tr>\n",
       "<tr>\n",
       "  <th>product_category_name_perfumaria</th>                                     <td>   -0.0580</td> <td> 9.24e-18</td> <td>-6.28e+15</td> <td> 0.000</td> <td>   -0.058</td> <td>   -0.058</td>\n",
       "</tr>\n",
       "<tr>\n",
       "  <th>product_category_name_pet_shop</th>                                       <td>    0.0191</td> <td> 9.27e-18</td> <td> 2.06e+15</td> <td> 0.000</td> <td>    0.019</td> <td>    0.019</td>\n",
       "</tr>\n",
       "<tr>\n",
       "  <th>product_category_name_portateis_casa_forno_e_cafe</th>                    <td>    0.0365</td> <td> 9.43e-18</td> <td> 3.87e+15</td> <td> 0.000</td> <td>    0.036</td> <td>    0.036</td>\n",
       "</tr>\n",
       "<tr>\n",
       "  <th>product_category_name_portateis_cozinha_e_preparadores_de_alimentos</th>  <td>    0.0016</td> <td>  9.4e-18</td> <td> 1.72e+14</td> <td> 0.000</td> <td>    0.002</td> <td>    0.002</td>\n",
       "</tr>\n",
       "<tr>\n",
       "  <th>product_category_name_relogios_presentes</th>                             <td>   -0.0637</td> <td> 9.43e-18</td> <td>-6.76e+15</td> <td> 0.000</td> <td>   -0.064</td> <td>   -0.064</td>\n",
       "</tr>\n",
       "<tr>\n",
       "  <th>product_category_name_seguros_e_servicos</th>                             <td>   -0.0004</td> <td> 9.41e-18</td> <td>-4.28e+13</td> <td> 0.000</td> <td>   -0.000</td> <td>   -0.000</td>\n",
       "</tr>\n",
       "<tr>\n",
       "  <th>product_category_name_sinalizacao_e_seguranca</th>                        <td>    0.0075</td> <td>  9.4e-18</td> <td> 7.93e+14</td> <td> 0.000</td> <td>    0.007</td> <td>    0.007</td>\n",
       "</tr>\n",
       "<tr>\n",
       "  <th>product_category_name_tablets_impressao_imagem</th>                       <td>   -0.0053</td> <td>  9.4e-18</td> <td> -5.6e+14</td> <td> 0.000</td> <td>   -0.005</td> <td>   -0.005</td>\n",
       "</tr>\n",
       "<tr>\n",
       "  <th>product_category_name_telefonia</th>                                      <td>   -0.1242</td> <td> 9.42e-18</td> <td>-1.32e+16</td> <td> 0.000</td> <td>   -0.124</td> <td>   -0.124</td>\n",
       "</tr>\n",
       "<tr>\n",
       "  <th>product_category_name_telefonia_fixa</th>                                 <td>   -0.0085</td> <td> 9.42e-18</td> <td>-9.06e+14</td> <td> 0.000</td> <td>   -0.009</td> <td>   -0.009</td>\n",
       "</tr>\n",
       "<tr>\n",
       "  <th>product_category_name_utilidades_domesticas</th>                          <td>    0.0356</td> <td> 9.03e-18</td> <td> 3.94e+15</td> <td> 0.000</td> <td>    0.036</td> <td>    0.036</td>\n",
       "</tr>\n",
       "<tr>\n",
       "  <th>customer_state_AC</th>                                                    <td>    0.0117</td> <td> 9.41e-18</td> <td> 1.24e+15</td> <td> 0.000</td> <td>    0.012</td> <td>    0.012</td>\n",
       "</tr>\n",
       "<tr>\n",
       "  <th>customer_state_AL</th>                                                    <td>    0.0211</td> <td> 9.39e-18</td> <td> 2.25e+15</td> <td> 0.000</td> <td>    0.021</td> <td>    0.021</td>\n",
       "</tr>\n",
       "<tr>\n",
       "  <th>customer_state_AM</th>                                                    <td>    0.0064</td> <td>  9.4e-18</td> <td> 6.78e+14</td> <td> 0.000</td> <td>    0.006</td> <td>    0.006</td>\n",
       "</tr>\n",
       "<tr>\n",
       "  <th>customer_state_AP</th>                                                    <td>    0.0050</td> <td>  9.4e-18</td> <td> 5.36e+14</td> <td> 0.000</td> <td>    0.005</td> <td>    0.005</td>\n",
       "</tr>\n",
       "<tr>\n",
       "  <th>customer_state_BA</th>                                                    <td>    0.0281</td> <td> 9.06e-18</td> <td>  3.1e+15</td> <td> 0.000</td> <td>    0.028</td> <td>    0.028</td>\n",
       "</tr>\n",
       "<tr>\n",
       "  <th>customer_state_CE</th>                                                    <td>    0.0280</td> <td> 9.32e-18</td> <td>    3e+15</td> <td> 0.000</td> <td>    0.028</td> <td>    0.028</td>\n",
       "</tr>\n",
       "<tr>\n",
       "  <th>customer_state_DF</th>                                                    <td>   -0.0019</td> <td> 9.16e-18</td> <td>-2.07e+14</td> <td> 0.000</td> <td>   -0.002</td> <td>   -0.002</td>\n",
       "</tr>\n",
       "<tr>\n",
       "  <th>customer_state_ES</th>                                                    <td>    0.0036</td> <td> 9.17e-18</td> <td> 3.89e+14</td> <td> 0.000</td> <td>    0.004</td> <td>    0.004</td>\n",
       "</tr>\n",
       "<tr>\n",
       "  <th>customer_state_GO</th>                                                    <td>    0.0043</td> <td> 9.18e-18</td> <td> 4.72e+14</td> <td> 0.000</td> <td>    0.004</td> <td>    0.004</td>\n",
       "</tr>\n",
       "<tr>\n",
       "  <th>customer_state_MA</th>                                                    <td>    0.0215</td> <td>  9.4e-18</td> <td> 2.28e+15</td> <td> 0.000</td> <td>    0.021</td> <td>    0.021</td>\n",
       "</tr>\n",
       "<tr>\n",
       "  <th>customer_state_MG</th>                                                    <td>    0.0146</td> <td>  8.2e-18</td> <td> 1.78e+15</td> <td> 0.000</td> <td>    0.015</td> <td>    0.015</td>\n",
       "</tr>\n",
       "<tr>\n",
       "  <th>customer_state_MS</th>                                                    <td>    0.0091</td> <td> 9.32e-18</td> <td> 9.75e+14</td> <td> 0.000</td> <td>    0.009</td> <td>    0.009</td>\n",
       "</tr>\n",
       "<tr>\n",
       "  <th>customer_state_MT</th>                                                    <td>    0.0193</td> <td> 9.31e-18</td> <td> 2.07e+15</td> <td> 0.000</td> <td>    0.019</td> <td>    0.019</td>\n",
       "</tr>\n",
       "<tr>\n",
       "  <th>customer_state_PA</th>                                                    <td>    0.0271</td> <td> 9.37e-18</td> <td> 2.89e+15</td> <td> 0.000</td> <td>    0.027</td> <td>    0.027</td>\n",
       "</tr>\n",
       "<tr>\n",
       "  <th>customer_state_PB</th>                                                    <td>    0.0355</td> <td> 9.41e-18</td> <td> 3.78e+15</td> <td> 0.000</td> <td>    0.036</td> <td>    0.036</td>\n",
       "</tr>\n",
       "<tr>\n",
       "  <th>customer_state_PE</th>                                                    <td>    0.0285</td> <td> 9.31e-18</td> <td> 3.07e+15</td> <td> 0.000</td> <td>    0.029</td> <td>    0.029</td>\n",
       "</tr>\n",
       "<tr>\n",
       "  <th>customer_state_PI</th>                                                    <td>    0.0239</td> <td>  9.4e-18</td> <td> 2.54e+15</td> <td> 0.000</td> <td>    0.024</td> <td>    0.024</td>\n",
       "</tr>\n",
       "<tr>\n",
       "  <th>customer_state_PR</th>                                                    <td>   -0.0008</td> <td> 8.84e-18</td> <td>-9.51e+13</td> <td> 0.000</td> <td>   -0.001</td> <td>   -0.001</td>\n",
       "</tr>\n",
       "<tr>\n",
       "  <th>customer_state_RJ</th>                                                    <td>    0.0367</td> <td> 8.12e-18</td> <td> 4.52e+15</td> <td> 0.000</td> <td>    0.037</td> <td>    0.037</td>\n",
       "</tr>\n",
       "<tr>\n",
       "  <th>customer_state_RN</th>                                                    <td>    0.0185</td> <td>  9.4e-18</td> <td> 1.97e+15</td> <td> 0.000</td> <td>    0.018</td> <td>    0.018</td>\n",
       "</tr>\n",
       "<tr>\n",
       "  <th>customer_state_RO</th>                                                    <td>    0.0211</td> <td> 9.42e-18</td> <td> 2.24e+15</td> <td> 0.000</td> <td>    0.021</td> <td>    0.021</td>\n",
       "</tr>\n",
       "<tr>\n",
       "  <th>customer_state_RR</th>                                                    <td>    0.0048</td> <td> 9.41e-18</td> <td>  5.1e+14</td> <td> 0.000</td> <td>    0.005</td> <td>    0.005</td>\n",
       "</tr>\n",
       "<tr>\n",
       "  <th>customer_state_RS</th>                                                    <td>    0.0172</td> <td> 8.81e-18</td> <td> 1.95e+15</td> <td> 0.000</td> <td>    0.017</td> <td>    0.017</td>\n",
       "</tr>\n",
       "<tr>\n",
       "  <th>customer_state_SC</th>                                                    <td>    0.0081</td> <td> 8.99e-18</td> <td> 8.95e+14</td> <td> 0.000</td> <td>    0.008</td> <td>    0.008</td>\n",
       "</tr>\n",
       "<tr>\n",
       "  <th>customer_state_SE</th>                                                    <td>    0.0207</td> <td> 9.39e-18</td> <td> 2.21e+15</td> <td> 0.000</td> <td>    0.021</td> <td>    0.021</td>\n",
       "</tr>\n",
       "<tr>\n",
       "  <th>customer_state_SP</th>                                                    <td>   -0.1075</td> <td> 6.93e-18</td> <td>-1.55e+16</td> <td> 0.000</td> <td>   -0.107</td> <td>   -0.107</td>\n",
       "</tr>\n",
       "<tr>\n",
       "  <th>customer_state_TO</th>                                                    <td>    0.0146</td> <td>  9.4e-18</td> <td> 1.56e+15</td> <td> 0.000</td> <td>    0.015</td> <td>    0.015</td>\n",
       "</tr>\n",
       "</table>\n",
       "<table class=\"simpletable\">\n",
       "<tr>\n",
       "  <th>Omnibus:</th>       <td>127431.518</td> <th>  Durbin-Watson:     </th>    <td>   1.992</td>   \n",
       "</tr>\n",
       "<tr>\n",
       "  <th>Prob(Omnibus):</th>   <td> 0.000</td>   <th>  Jarque-Bera (JB):  </th> <td>1529898873.138</td>\n",
       "</tr>\n",
       "<tr>\n",
       "  <th>Skew:</th>            <td> 6.147</td>   <th>  Prob(JB):          </th>    <td>    0.00</td>   \n",
       "</tr>\n",
       "<tr>\n",
       "  <th>Kurtosis:</th>        <td>621.014</td>  <th>  Cond. No.          </th>    <td>3.15e+15</td>   \n",
       "</tr>\n",
       "</table><br/><br/>Warnings:<br/>[1] Standard Errors assume that the covariance matrix of the errors is correctly specified.<br/>[2] The smallest eigenvalue is 2.8e-26. This might indicate that there are<br/>strong multicollinearity problems or that the design matrix is singular."
      ],
      "text/plain": [
       "<class 'statsmodels.iolib.summary.Summary'>\n",
       "\"\"\"\n",
       "                            OLS Regression Results                            \n",
       "==============================================================================\n",
       "Dep. Variable:                      y   R-squared:                       1.000\n",
       "Model:                            OLS   Adj. R-squared:                  1.000\n",
       "Method:                 Least Squares   F-statistic:                 2.781e+32\n",
       "Date:                Thu, 26 Mar 2020   Prob (F-statistic):               0.00\n",
       "Time:                        22:11:06   Log-Likelihood:             3.0800e+06\n",
       "No. Observations:               96096   AIC:                        -6.160e+06\n",
       "Df Residuals:                   95977   BIC:                        -6.159e+06\n",
       "Df Model:                         118                                         \n",
       "Covariance Type:            nonrobust                                         \n",
       "========================================================================================================================================\n",
       "                                                                           coef    std err          t      P>|t|      [0.025      0.975]\n",
       "----------------------------------------------------------------------------------------------------------------------------------------\n",
       "const                                                                 1.496e-16    9.4e-18     15.910      0.000    1.31e-16    1.68e-16\n",
       "order_id                                                                 0.0350    1.1e-17   3.17e+15      0.000       0.035       0.035\n",
       "payment_value                                                            0.2074   1.13e-17   1.84e+16      0.000       0.207       0.207\n",
       "payment_installments                                                     0.2967   1.12e-17   2.66e+16      0.000       0.297       0.297\n",
       "review_score                                                            -0.0465   9.88e-18  -4.71e+15      0.000      -0.047      -0.047\n",
       "price                                                                    0.3363   1.23e-17   2.74e+16      0.000       0.336       0.336\n",
       "freight_value                                                            0.4069   1.29e-17   3.15e+16      0.000       0.407       0.407\n",
       "product_name_lenght                                                      0.0420   9.89e-18   4.24e+15      0.000       0.042       0.042\n",
       "product_description_lenght                                               0.0888   1.05e-17   8.49e+15      0.000       0.089       0.089\n",
       "product_photos_qty                                                       0.0341   1.02e-17   3.35e+15      0.000       0.034       0.034\n",
       "product_length_cm                                                        0.3469   1.23e-17   2.82e+16      0.000       0.347       0.347\n",
       "product_height_cm                                                        0.3397   1.19e-17   2.85e+16      0.000       0.340       0.340\n",
       "product_width_cm                                                         0.3698   1.27e-17   2.92e+16      0.000       0.370       0.370\n",
       "review_comment_title                                                     0.0061    1.1e-17   5.57e+14      0.000       0.006       0.006\n",
       "review_comment_message                                                   0.0458   1.05e-17   4.35e+15      0.000       0.046       0.046\n",
       "order_purchase_timestamp                                                 0.0343   1.07e-17    3.2e+15      0.000       0.034       0.034\n",
       "payment_type_boleto                                                     -0.1512   6.21e-18  -2.44e+16      0.000      -0.151      -0.151\n",
       "payment_type_credit_card                                                 0.1707   5.53e-18   3.09e+16      0.000       0.171       0.171\n",
       "payment_type_debit_card                                                 -0.0445   9.12e-18  -4.88e+15      0.000      -0.045      -0.045\n",
       "payment_type_not_defined                                                -0.0023    9.4e-18  -2.46e+14      0.000      -0.002      -0.002\n",
       "payment_type_voucher                                                    -0.0433    9.1e-18  -4.77e+15      0.000      -0.043      -0.043\n",
       "product_category_name_agro_industria_e_comercio                          0.0203   9.41e-18   2.16e+15      0.000       0.020       0.020\n",
       "product_category_name_alimentos                                         -0.0355    9.4e-18  -3.78e+15      0.000      -0.036      -0.036\n",
       "product_category_name_alimentos_bebidas                                 -0.0195    9.4e-18  -2.07e+15      0.000      -0.019      -0.019\n",
       "product_category_name_artes                                              0.0103   9.43e-18   1.09e+15      0.000       0.010       0.010\n",
       "product_category_name_artes_e_artesanato                                -0.0054    9.4e-18  -5.75e+14      0.000      -0.005      -0.005\n",
       "product_category_name_artigos_de_festas                                 -0.0035    9.4e-18  -3.69e+14      0.000      -0.003      -0.003\n",
       "product_category_name_artigos_de_natal                                  -0.0007    9.4e-18  -7.62e+13      0.000      -0.001      -0.001\n",
       "product_category_name_audio                                             -0.0252   9.39e-18  -2.69e+15      0.000      -0.025      -0.025\n",
       "product_category_name_automotivo                                         0.0269   9.08e-18   2.96e+15      0.000       0.027       0.027\n",
       "product_category_name_bebes                                              0.0468    9.2e-18   5.09e+15      0.000       0.047       0.047\n",
       "product_category_name_bebidas                                           -0.0167   9.39e-18  -1.77e+15      0.000      -0.017      -0.017\n",
       "product_category_name_beleza_saude                                      -0.0519   8.92e-18  -5.83e+15      0.000      -0.052      -0.052\n",
       "product_category_name_brinquedos                                         0.0164   9.15e-18   1.79e+15      0.000       0.016       0.016\n",
       "product_category_name_cama_mesa_banho                                    0.0413   9.25e-18   4.46e+15      0.000       0.041       0.041\n",
       "product_category_name_casa_conforto                                      0.0275   9.43e-18   2.92e+15      0.000       0.028       0.028\n",
       "product_category_name_casa_conforto_2                                    0.0019   9.41e-18   1.99e+14      0.000       0.002       0.002\n",
       "product_category_name_casa_construcao                                    0.0200    9.4e-18   2.13e+15      0.000       0.020       0.020\n",
       "product_category_name_cds_dvds_musicais                                 -0.0015    9.4e-18  -1.55e+14      0.000      -0.001      -0.001\n",
       "product_category_name_cine_foto                                         -0.0066    9.4e-18  -6.98e+14      0.000      -0.007      -0.007\n",
       "product_category_name_climatizacao                                       0.0154   9.39e-18   1.64e+15      0.000       0.015       0.015\n",
       "product_category_name_consoles_games                                    -0.0321   9.35e-18  -3.43e+15      0.000      -0.032      -0.032\n",
       "product_category_name_construcao_ferramentas_construcao                  0.0082   9.36e-18   8.74e+14      0.000       0.008       0.008\n",
       "product_category_name_construcao_ferramentas_ferramentas                -0.0050    9.4e-18  -5.34e+14      0.000      -0.005      -0.005\n",
       "product_category_name_construcao_ferramentas_iluminacao                  0.0129   9.39e-18   1.38e+15      0.000       0.013       0.013\n",
       "product_category_name_construcao_ferramentas_jardim                      0.0034   9.39e-18   3.63e+14      0.000       0.003       0.003\n",
       "product_category_name_construcao_ferramentas_seguranca                   0.0017    9.4e-18   1.84e+14      0.000       0.002       0.002\n",
       "product_category_name_cool_stuff                                         0.0565   9.18e-18   6.16e+15      0.000       0.057       0.057\n",
       "product_category_name_dvds_blu_ray                                      -0.0117    9.4e-18  -1.25e+15      0.000      -0.012      -0.012\n",
       "product_category_name_eletrodomesticos                                  -0.0104   9.36e-18  -1.11e+15      0.000      -0.010      -0.010\n",
       "product_category_name_eletrodomesticos_2                                 0.0703   9.45e-18   7.44e+15      0.000       0.070       0.070\n",
       "product_category_name_eletronicos                                       -0.0780   9.26e-18  -8.42e+15      0.000      -0.078      -0.078\n",
       "product_category_name_eletroportateis                                    0.0329   9.38e-18   3.51e+15      0.000       0.033       0.033\n",
       "product_category_name_esporte_lazer                                     -0.0104   8.89e-18  -1.17e+15      0.000      -0.010      -0.010\n",
       "product_category_name_fashion_bolsas_e_acessorios                       -0.0713   9.47e-18  -7.53e+15      0.000      -0.071      -0.071\n",
       "product_category_name_fashion_calcados                                  -0.0025   9.43e-18  -2.64e+14      0.000      -0.002      -0.002\n",
       "product_category_name_fashion_esporte                                   -0.0057    9.4e-18  -6.08e+14      0.000      -0.006      -0.006\n",
       "product_category_name_fashion_roupa_feminina                            -0.0087    9.4e-18  -9.21e+14      0.000      -0.009      -0.009\n",
       "product_category_name_fashion_roupa_infanto_juvenil                     -0.0032    9.4e-18  -3.42e+14      0.000      -0.003      -0.003\n",
       "product_category_name_fashion_roupa_masculina                           -0.0070    9.4e-18   -7.4e+14      0.000      -0.007      -0.007\n",
       "product_category_name_fashion_underwear_e_moda_praia                    -0.0134    9.4e-18  -1.42e+15      0.000      -0.013      -0.013\n",
       "product_category_name_ferramentas_jardim                                 0.0366   9.14e-18      4e+15      0.000       0.037       0.037\n",
       "product_category_name_flores                                            -0.0102    9.4e-18  -1.09e+15      0.000      -0.010      -0.010\n",
       "product_category_name_fraldas_higiene                                   -0.0070    9.4e-18  -7.47e+14      0.000      -0.007      -0.007\n",
       "product_category_name_industria_comercio_e_negocios                      0.0410   9.53e-18    4.3e+15      0.000       0.041       0.041\n",
       "product_category_name_informatica_acessorios                            -0.0817   8.96e-18  -9.12e+15      0.000      -0.082      -0.082\n",
       "product_category_name_instrumentos_musicais                              0.0441   9.39e-18   4.69e+15      0.000       0.044       0.044\n",
       "product_category_name_la_cuisine                                         0.0083   9.41e-18   8.82e+14      0.000       0.008       0.008\n",
       "product_category_name_livros_importados                                 -0.0103    9.4e-18  -1.09e+15      0.000      -0.010      -0.010\n",
       "product_category_name_livros_interesse_geral                            -0.0246   9.39e-18  -2.62e+15      0.000      -0.025      -0.025\n",
       "product_category_name_livros_tecnicos                                   -0.0224   9.42e-18  -2.37e+15      0.000      -0.022      -0.022\n",
       "product_category_name_malas_acessorios                                   0.0625   9.44e-18   6.62e+15      0.000       0.062       0.062\n",
       "product_category_name_market_place                                      -0.0081   9.39e-18  -8.63e+14      0.000      -0.008      -0.008\n",
       "product_category_name_moveis_colchao_e_estofado                          0.0291   9.45e-18   3.08e+15      0.000       0.029       0.029\n",
       "product_category_name_moveis_cozinha_area_de_servico_jantar_e_jardim     0.0483   9.44e-18   5.12e+15      0.000       0.048       0.048\n",
       "product_category_name_moveis_decoracao                                   0.0626   9.11e-18   6.88e+15      0.000       0.063       0.063\n",
       "product_category_name_moveis_escritorio                                  0.1455   9.98e-18   1.46e+16      0.000       0.145       0.145\n",
       "product_category_name_moveis_quarto                                      0.0349   9.44e-18    3.7e+15      0.000       0.035       0.035\n",
       "product_category_name_moveis_sala                                        0.0591   9.53e-18    6.2e+15      0.000       0.059       0.059\n",
       "product_category_name_musica                                            -0.0015    9.4e-18  -1.62e+14      0.000      -0.002      -0.002\n",
       "product_category_name_other                                             -0.0239   9.33e-18  -2.57e+15      0.000      -0.024      -0.024\n",
       "product_category_name_papelaria                                          0.0140   9.32e-18    1.5e+15      0.000       0.014       0.014\n",
       "product_category_name_pc_gamer                                          -0.0020    9.4e-18   -2.1e+14      0.000      -0.002      -0.002\n",
       "product_category_name_pcs                                                0.1076   9.75e-18    1.1e+16      0.000       0.108       0.108\n",
       "product_category_name_perfumaria                                        -0.0580   9.24e-18  -6.28e+15      0.000      -0.058      -0.058\n",
       "product_category_name_pet_shop                                           0.0191   9.27e-18   2.06e+15      0.000       0.019       0.019\n",
       "product_category_name_portateis_casa_forno_e_cafe                        0.0365   9.43e-18   3.87e+15      0.000       0.036       0.036\n",
       "product_category_name_portateis_cozinha_e_preparadores_de_alimentos      0.0016    9.4e-18   1.72e+14      0.000       0.002       0.002\n",
       "product_category_name_relogios_presentes                                -0.0637   9.43e-18  -6.76e+15      0.000      -0.064      -0.064\n",
       "product_category_name_seguros_e_servicos                                -0.0004   9.41e-18  -4.28e+13      0.000      -0.000      -0.000\n",
       "product_category_name_sinalizacao_e_seguranca                            0.0075    9.4e-18   7.93e+14      0.000       0.007       0.007\n",
       "product_category_name_tablets_impressao_imagem                          -0.0053    9.4e-18   -5.6e+14      0.000      -0.005      -0.005\n",
       "product_category_name_telefonia                                         -0.1242   9.42e-18  -1.32e+16      0.000      -0.124      -0.124\n",
       "product_category_name_telefonia_fixa                                    -0.0085   9.42e-18  -9.06e+14      0.000      -0.009      -0.009\n",
       "product_category_name_utilidades_domesticas                              0.0356   9.03e-18   3.94e+15      0.000       0.036       0.036\n",
       "customer_state_AC                                                        0.0117   9.41e-18   1.24e+15      0.000       0.012       0.012\n",
       "customer_state_AL                                                        0.0211   9.39e-18   2.25e+15      0.000       0.021       0.021\n",
       "customer_state_AM                                                        0.0064    9.4e-18   6.78e+14      0.000       0.006       0.006\n",
       "customer_state_AP                                                        0.0050    9.4e-18   5.36e+14      0.000       0.005       0.005\n",
       "customer_state_BA                                                        0.0281   9.06e-18    3.1e+15      0.000       0.028       0.028\n",
       "customer_state_CE                                                        0.0280   9.32e-18      3e+15      0.000       0.028       0.028\n",
       "customer_state_DF                                                       -0.0019   9.16e-18  -2.07e+14      0.000      -0.002      -0.002\n",
       "customer_state_ES                                                        0.0036   9.17e-18   3.89e+14      0.000       0.004       0.004\n",
       "customer_state_GO                                                        0.0043   9.18e-18   4.72e+14      0.000       0.004       0.004\n",
       "customer_state_MA                                                        0.0215    9.4e-18   2.28e+15      0.000       0.021       0.021\n",
       "customer_state_MG                                                        0.0146    8.2e-18   1.78e+15      0.000       0.015       0.015\n",
       "customer_state_MS                                                        0.0091   9.32e-18   9.75e+14      0.000       0.009       0.009\n",
       "customer_state_MT                                                        0.0193   9.31e-18   2.07e+15      0.000       0.019       0.019\n",
       "customer_state_PA                                                        0.0271   9.37e-18   2.89e+15      0.000       0.027       0.027\n",
       "customer_state_PB                                                        0.0355   9.41e-18   3.78e+15      0.000       0.036       0.036\n",
       "customer_state_PE                                                        0.0285   9.31e-18   3.07e+15      0.000       0.029       0.029\n",
       "customer_state_PI                                                        0.0239    9.4e-18   2.54e+15      0.000       0.024       0.024\n",
       "customer_state_PR                                                       -0.0008   8.84e-18  -9.51e+13      0.000      -0.001      -0.001\n",
       "customer_state_RJ                                                        0.0367   8.12e-18   4.52e+15      0.000       0.037       0.037\n",
       "customer_state_RN                                                        0.0185    9.4e-18   1.97e+15      0.000       0.018       0.018\n",
       "customer_state_RO                                                        0.0211   9.42e-18   2.24e+15      0.000       0.021       0.021\n",
       "customer_state_RR                                                        0.0048   9.41e-18    5.1e+14      0.000       0.005       0.005\n",
       "customer_state_RS                                                        0.0172   8.81e-18   1.95e+15      0.000       0.017       0.017\n",
       "customer_state_SC                                                        0.0081   8.99e-18   8.95e+14      0.000       0.008       0.008\n",
       "customer_state_SE                                                        0.0207   9.39e-18   2.21e+15      0.000       0.021       0.021\n",
       "customer_state_SP                                                       -0.1075   6.93e-18  -1.55e+16      0.000      -0.107      -0.107\n",
       "customer_state_TO                                                        0.0146    9.4e-18   1.56e+15      0.000       0.015       0.015\n",
       "==============================================================================\n",
       "Omnibus:                   127431.518   Durbin-Watson:                   1.992\n",
       "Prob(Omnibus):                  0.000   Jarque-Bera (JB):       1529898873.138\n",
       "Skew:                           6.147   Prob(JB):                         0.00\n",
       "Kurtosis:                     621.014   Cond. No.                     3.15e+15\n",
       "==============================================================================\n",
       "\n",
       "Warnings:\n",
       "[1] Standard Errors assume that the covariance matrix of the errors is correctly specified.\n",
       "[2] The smallest eigenvalue is 2.8e-26. This might indicate that there are\n",
       "strong multicollinearity problems or that the design matrix is singular.\n",
       "\"\"\""
      ]
     },
     "metadata": {},
     "output_type": "display_data"
    },
    {
     "data": {
      "text/plain": [
       "Text(0.5, 0, 'normalized coefficient')"
      ]
     },
     "execution_count": 211,
     "metadata": {},
     "output_type": "execute_result"
    },
    {
     "data": {
      "image/png": "[encoded data removed]",
      "text/plain": [
       "<Figure size 360x1440 with 1 Axes>"
      ]
     },
     "metadata": {
      "needs_background": "light"
     },
     "output_type": "display_data"
    }
   ],
   "source": [
    "X=df\n",
    "y=X_pca[:,0]\n",
    "\n",
    "# scale data with standard scaler\n",
    "from sklearn.preprocessing import StandardScaler\n",
    "scaler = StandardScaler()\n",
    "X = pd.DataFrame(data=scaler.fit_transform(X), columns=X.columns)\n",
    "\n",
    "# fit logit function \n",
    "import statsmodels.api as sm\n",
    "X_withconstant = sm.add_constant(X)\n",
    "logit = sm.OLS(y, X_withconstant).fit()\n",
    "display(logit.summary()) \n",
    "\n",
    "# table of significant coefficinets sorted by absolute value\n",
    "coef_table = logit.summary().tables[1]\n",
    "coef_df = pd.DataFrame(data=coef_table.data[1:], columns=coef_table.data[0])\n",
    "coef_df['coef'] = coef_df['coef'].astype(float)\n",
    "coef_df['P>|t|'] = coef_df['P>|t|'].astype(float)\n",
    "coef_df['abs_coef'] = np.abs(coef_df['coef'])\n",
    "coef_df.drop(0, axis='index', inplace=True)\n",
    "coefs_by_mag = coef_df.sort_values(by='abs_coef', ascending=False)\n",
    "coefs_by_mag = coefs_by_mag[coefs_by_mag['P>|t|'] <= 0.05]\n",
    "\n",
    "# bar chart of feature coefficients\n",
    "bar_names = coefs_by_mag['']\n",
    "bar_heights = coefs_by_mag['coef']\n",
    "bar_colors = np.where(bar_heights>0, 'blue', 'red')\n",
    "plt.figure(figsize=(5.0, 20))\n",
    "plt.barh(bar_names, bar_heights, color=bar_colors)\n",
    "plt.xlabel('normalized coefficient')"
   ]
  },
  {
   "cell_type": "code",
   "execution_count": 198,
   "metadata": {
    "scrolled": false
   },
   "outputs": [
    {
     "data": {
      "text/html": [
       "<div>\n",
       "<style scoped>\n",
       "    .dataframe tbody tr th:only-of-type {\n",
       "        vertical-align: middle;\n",
       "    }\n",
       "\n",
       "    .dataframe tbody tr th {\n",
       "        vertical-align: top;\n",
       "    }\n",
       "\n",
       "    .dataframe thead th {\n",
       "        text-align: right;\n",
       "    }\n",
       "</style>\n",
       "<table border=\"1\" class=\"dataframe\">\n",
       "  <thead>\n",
       "    <tr style=\"text-align: right;\">\n",
       "      <th></th>\n",
       "      <th>product_category_name</th>\n",
       "      <th>product_category_name_english</th>\n",
       "    </tr>\n",
       "  </thead>\n",
       "  <tbody>\n",
       "    <tr>\n",
       "      <td>0</td>\n",
       "      <td>beleza_saude</td>\n",
       "      <td>health_beauty</td>\n",
       "    </tr>\n",
       "    <tr>\n",
       "      <td>1</td>\n",
       "      <td>informatica_acessorios</td>\n",
       "      <td>computers_accessories</td>\n",
       "    </tr>\n",
       "    <tr>\n",
       "      <td>2</td>\n",
       "      <td>automotivo</td>\n",
       "      <td>auto</td>\n",
       "    </tr>\n",
       "    <tr>\n",
       "      <td>3</td>\n",
       "      <td>cama_mesa_banho</td>\n",
       "      <td>bed_bath_table</td>\n",
       "    </tr>\n",
       "    <tr>\n",
       "      <td>4</td>\n",
       "      <td>moveis_decoracao</td>\n",
       "      <td>furniture_decor</td>\n",
       "    </tr>\n",
       "    <tr>\n",
       "      <td>...</td>\n",
       "      <td>...</td>\n",
       "      <td>...</td>\n",
       "    </tr>\n",
       "    <tr>\n",
       "      <td>66</td>\n",
       "      <td>flores</td>\n",
       "      <td>flowers</td>\n",
       "    </tr>\n",
       "    <tr>\n",
       "      <td>67</td>\n",
       "      <td>artes_e_artesanato</td>\n",
       "      <td>arts_and_craftmanship</td>\n",
       "    </tr>\n",
       "    <tr>\n",
       "      <td>68</td>\n",
       "      <td>fraldas_higiene</td>\n",
       "      <td>diapers_and_hygiene</td>\n",
       "    </tr>\n",
       "    <tr>\n",
       "      <td>69</td>\n",
       "      <td>fashion_roupa_infanto_juvenil</td>\n",
       "      <td>fashion_childrens_clothes</td>\n",
       "    </tr>\n",
       "    <tr>\n",
       "      <td>70</td>\n",
       "      <td>seguros_e_servicos</td>\n",
       "      <td>security_and_services</td>\n",
       "    </tr>\n",
       "  </tbody>\n",
       "</table>\n",
       "<p>71 rows × 2 columns</p>\n",
       "</div>"
      ],
      "text/plain": [
       "            product_category_name product_category_name_english\n",
       "0                    beleza_saude                 health_beauty\n",
       "1          informatica_acessorios         computers_accessories\n",
       "2                      automotivo                          auto\n",
       "3                 cama_mesa_banho                bed_bath_table\n",
       "4                moveis_decoracao               furniture_decor\n",
       "..                            ...                           ...\n",
       "66                         flores                       flowers\n",
       "67             artes_e_artesanato         arts_and_craftmanship\n",
       "68                fraldas_higiene           diapers_and_hygiene\n",
       "69  fashion_roupa_infanto_juvenil     fashion_childrens_clothes\n",
       "70             seguros_e_servicos         security_and_services\n",
       "\n",
       "[71 rows x 2 columns]"
      ]
     },
     "execution_count": 198,
     "metadata": {},
     "output_type": "execute_result"
    }
   ],
   "source": [
    "translation_df"
   ]
  },
  {
   "cell_type": "code",
   "execution_count": 199,
   "metadata": {
    "scrolled": true
   },
   "outputs": [
    {
     "data": {
      "text/html": [
       "<div>\n",
       "<style scoped>\n",
       "    .dataframe tbody tr th:only-of-type {\n",
       "        vertical-align: middle;\n",
       "    }\n",
       "\n",
       "    .dataframe tbody tr th {\n",
       "        vertical-align: top;\n",
       "    }\n",
       "\n",
       "    .dataframe thead th {\n",
       "        text-align: right;\n",
       "    }\n",
       "</style>\n",
       "<table border=\"1\" class=\"dataframe\">\n",
       "  <thead>\n",
       "    <tr style=\"text-align: right;\">\n",
       "      <th></th>\n",
       "      <th>product_category_name</th>\n",
       "      <th>product_category_name_english</th>\n",
       "    </tr>\n",
       "  </thead>\n",
       "  <tbody>\n",
       "    <tr>\n",
       "      <td>61</td>\n",
       "      <td>musica</td>\n",
       "      <td>music</td>\n",
       "    </tr>\n",
       "  </tbody>\n",
       "</table>\n",
       "</div>"
      ],
      "text/plain": [
       "   product_category_name product_category_name_english\n",
       "61                musica                         music"
      ]
     },
     "execution_count": 199,
     "metadata": {},
     "output_type": "execute_result"
    }
   ],
   "source": [
    "translation_df[translation_df['product_category_name']=='musica']"
   ]
  },
  {
   "cell_type": "code",
   "execution_count": 200,
   "metadata": {},
   "outputs": [
    {
     "data": {
      "text/html": [
       "<div>\n",
       "<style scoped>\n",
       "    .dataframe tbody tr th:only-of-type {\n",
       "        vertical-align: middle;\n",
       "    }\n",
       "\n",
       "    .dataframe tbody tr th {\n",
       "        vertical-align: top;\n",
       "    }\n",
       "\n",
       "    .dataframe thead th {\n",
       "        text-align: right;\n",
       "    }\n",
       "</style>\n",
       "<table border=\"1\" class=\"dataframe\">\n",
       "  <thead>\n",
       "    <tr style=\"text-align: right;\">\n",
       "      <th></th>\n",
       "      <th></th>\n",
       "      <th>coef</th>\n",
       "      <th>std err</th>\n",
       "      <th>t</th>\n",
       "      <th>P&gt;|t|</th>\n",
       "      <th>[0.025</th>\n",
       "      <th>0.975]</th>\n",
       "      <th>abs_coef</th>\n",
       "    </tr>\n",
       "  </thead>\n",
       "  <tbody>\n",
       "    <tr>\n",
       "      <td>1</td>\n",
       "      <td>order_id</td>\n",
       "      <td>0.1265</td>\n",
       "      <td>2.02e-17</td>\n",
       "      <td>6.25e+15</td>\n",
       "      <td>0.0</td>\n",
       "      <td>0.126</td>\n",
       "      <td>0.126</td>\n",
       "      <td>0.1265</td>\n",
       "    </tr>\n",
       "    <tr>\n",
       "      <td>2</td>\n",
       "      <td>payment_value</td>\n",
       "      <td>0.0473</td>\n",
       "      <td>2.06e-17</td>\n",
       "      <td>2.29e+15</td>\n",
       "      <td>0.0</td>\n",
       "      <td>0.047</td>\n",
       "      <td>0.047</td>\n",
       "      <td>0.0473</td>\n",
       "    </tr>\n",
       "    <tr>\n",
       "      <td>3</td>\n",
       "      <td>payment_installments</td>\n",
       "      <td>-0.3270</td>\n",
       "      <td>2.05e-17</td>\n",
       "      <td>-1.6e+16</td>\n",
       "      <td>0.0</td>\n",
       "      <td>-0.327</td>\n",
       "      <td>-0.327</td>\n",
       "      <td>0.3270</td>\n",
       "    </tr>\n",
       "    <tr>\n",
       "      <td>4</td>\n",
       "      <td>review_score</td>\n",
       "      <td>-0.0206</td>\n",
       "      <td>1.81e-17</td>\n",
       "      <td>-1.14e+15</td>\n",
       "      <td>0.0</td>\n",
       "      <td>-0.021</td>\n",
       "      <td>-0.021</td>\n",
       "      <td>0.0206</td>\n",
       "    </tr>\n",
       "    <tr>\n",
       "      <td>5</td>\n",
       "      <td>price</td>\n",
       "      <td>-0.0313</td>\n",
       "      <td>2.25e-17</td>\n",
       "      <td>-1.39e+15</td>\n",
       "      <td>0.0</td>\n",
       "      <td>-0.031</td>\n",
       "      <td>-0.031</td>\n",
       "      <td>0.0313</td>\n",
       "    </tr>\n",
       "    <tr>\n",
       "      <td>...</td>\n",
       "      <td>...</td>\n",
       "      <td>...</td>\n",
       "      <td>...</td>\n",
       "      <td>...</td>\n",
       "      <td>...</td>\n",
       "      <td>...</td>\n",
       "      <td>...</td>\n",
       "      <td>...</td>\n",
       "    </tr>\n",
       "    <tr>\n",
       "      <td>117</td>\n",
       "      <td>customer_state_RS</td>\n",
       "      <td>0.0397</td>\n",
       "      <td>1.62e-17</td>\n",
       "      <td>2.46e+15</td>\n",
       "      <td>0.0</td>\n",
       "      <td>0.040</td>\n",
       "      <td>0.040</td>\n",
       "      <td>0.0397</td>\n",
       "    </tr>\n",
       "    <tr>\n",
       "      <td>118</td>\n",
       "      <td>customer_state_SC</td>\n",
       "      <td>0.0160</td>\n",
       "      <td>1.65e-17</td>\n",
       "      <td>9.73e+14</td>\n",
       "      <td>0.0</td>\n",
       "      <td>0.016</td>\n",
       "      <td>0.016</td>\n",
       "      <td>0.0160</td>\n",
       "    </tr>\n",
       "    <tr>\n",
       "      <td>119</td>\n",
       "      <td>customer_state_SE</td>\n",
       "      <td>0.0027</td>\n",
       "      <td>1.72e-17</td>\n",
       "      <td>1.59e+14</td>\n",
       "      <td>0.0</td>\n",
       "      <td>0.003</td>\n",
       "      <td>0.003</td>\n",
       "      <td>0.0027</td>\n",
       "    </tr>\n",
       "    <tr>\n",
       "      <td>120</td>\n",
       "      <td>customer_state_SP</td>\n",
       "      <td>-0.0034</td>\n",
       "      <td>1.27e-17</td>\n",
       "      <td>-2.67e+14</td>\n",
       "      <td>0.0</td>\n",
       "      <td>-0.003</td>\n",
       "      <td>-0.003</td>\n",
       "      <td>0.0034</td>\n",
       "    </tr>\n",
       "    <tr>\n",
       "      <td>121</td>\n",
       "      <td>customer_state_TO</td>\n",
       "      <td>0.0122</td>\n",
       "      <td>1.72e-17</td>\n",
       "      <td>7.1e+14</td>\n",
       "      <td>0.0</td>\n",
       "      <td>0.012</td>\n",
       "      <td>0.012</td>\n",
       "      <td>0.0122</td>\n",
       "    </tr>\n",
       "  </tbody>\n",
       "</table>\n",
       "<p>121 rows × 8 columns</p>\n",
       "</div>"
      ],
      "text/plain": [
       "                             coef    std err          t  P>|t|     [0.025  \\\n",
       "1                order_id  0.1265   2.02e-17   6.25e+15    0.0      0.126   \n",
       "2           payment_value  0.0473   2.06e-17   2.29e+15    0.0      0.047   \n",
       "3    payment_installments -0.3270   2.05e-17   -1.6e+16    0.0     -0.327   \n",
       "4            review_score -0.0206   1.81e-17  -1.14e+15    0.0     -0.021   \n",
       "5                   price -0.0313   2.25e-17  -1.39e+15    0.0     -0.031   \n",
       "..                    ...     ...        ...        ...    ...        ...   \n",
       "117     customer_state_RS  0.0397   1.62e-17   2.46e+15    0.0      0.040   \n",
       "118     customer_state_SC  0.0160   1.65e-17   9.73e+14    0.0      0.016   \n",
       "119     customer_state_SE  0.0027   1.72e-17   1.59e+14    0.0      0.003   \n",
       "120     customer_state_SP -0.0034   1.27e-17  -2.67e+14    0.0     -0.003   \n",
       "121     customer_state_TO  0.0122   1.72e-17    7.1e+14    0.0      0.012   \n",
       "\n",
       "        0.975]  abs_coef  \n",
       "1        0.126    0.1265  \n",
       "2        0.047    0.0473  \n",
       "3       -0.327    0.3270  \n",
       "4       -0.021    0.0206  \n",
       "5       -0.031    0.0313  \n",
       "..         ...       ...  \n",
       "117      0.040    0.0397  \n",
       "118      0.016    0.0160  \n",
       "119      0.003    0.0027  \n",
       "120     -0.003    0.0034  \n",
       "121      0.012    0.0122  \n",
       "\n",
       "[121 rows x 8 columns]"
      ]
     },
     "execution_count": 200,
     "metadata": {},
     "output_type": "execute_result"
    }
   ],
   "source": [
    "coef_df"
   ]
  },
  {
   "cell_type": "code",
   "execution_count": 201,
   "metadata": {},
   "outputs": [
    {
     "data": {
      "text/plain": [
       "['churned | regular | high value',\n",
       " 'churned | one time | high value',\n",
       " 'current | one time | low value',\n",
       " 'current | regular | high value']"
      ]
     },
     "execution_count": 201,
     "metadata": {},
     "output_type": "execute_result"
    }
   ],
   "source": [
    "# cluster description list \n",
    "customer_segment_list = []\n",
    "for cluster in range(4):\n",
    "    if km.cluster_centers_[cluster, 0] > 0:\n",
    "        customer_segment_list.append('current | ')\n",
    "    else:\n",
    "        customer_segment_list.append('churned | ')\n",
    "    if km.cluster_centers_[cluster, 1] > 0:\n",
    "        customer_segment_list[cluster] += 'regular | '\n",
    "    else:\n",
    "        customer_segment_list[cluster] += 'one time | '\n",
    "    if km.cluster_centers_[cluster, 2] > 0:\n",
    "        customer_segment_list[cluster] += 'high value'\n",
    "    else:\n",
    "        customer_segment_list[cluster] += 'low value'\n",
    "\n",
    "customer_segment_list"
   ]
  },
  {
   "cell_type": "code",
   "execution_count": 202,
   "metadata": {
    "scrolled": true
   },
   "outputs": [
    {
     "data": {
      "image/png": "[encoded data removed]",
      "text/plain": [
       "<Figure size 432x288 with 2 Axes>"
      ]
     },
     "metadata": {
      "needs_background": "light"
     },
     "output_type": "display_data"
    }
   ],
   "source": [
    "# cluster characteristic heatmap \n",
    "import seaborn as sns\n",
    "sns.heatmap(km.cluster_centers_, cmap='GnBu', \n",
    "            xticklabels=rfm_df.columns,\n",
    "            yticklabels=customer_segment_list);"
   ]
  },
  {
   "cell_type": "code",
   "execution_count": 161,
   "metadata": {},
   "outputs": [
    {
     "data": {
      "text/plain": [
       "Text(0, 0.5, 'TSNE 2')"
      ]
     },
     "execution_count": 161,
     "metadata": {},
     "output_type": "execute_result"
    },
    {
     "data": {
      "image/png": "[encoded data removed]",
      "text/plain": [
       "<Figure size 432x288 with 1 Axes>"
      ]
     },
     "metadata": {
      "needs_background": "light"
     },
     "output_type": "display_data"
    }
   ],
   "source": [
    "# TSNE plot of clusters\n",
    "from sklearn.manifold import TSNE\n",
    "tsne = TSNE(n_components=2)\n",
    "X_tsne = tsne.fit_transform(X)\n",
    "plt.scatter(X_tsne[:,0], X_tsne[:,1], c=km.labels_)\n",
    "plt.xlabel('TSNE 1')\n",
    "plt.ylabel('TSNE 2')"
   ]
  },
  {
   "cell_type": "markdown",
   "metadata": {},
   "source": [
    "# RFM-based Clustering"
   ]
  },
  {
   "cell_type": "code",
   "execution_count": 162,
   "metadata": {},
   "outputs": [
    {
     "data": {
      "text/html": [
       "<div>\n",
       "<style scoped>\n",
       "    .dataframe tbody tr th:only-of-type {\n",
       "        vertical-align: middle;\n",
       "    }\n",
       "\n",
       "    .dataframe tbody tr th {\n",
       "        vertical-align: top;\n",
       "    }\n",
       "\n",
       "    .dataframe thead th {\n",
       "        text-align: right;\n",
       "    }\n",
       "</style>\n",
       "<table border=\"1\" class=\"dataframe\">\n",
       "  <thead>\n",
       "    <tr style=\"text-align: right;\">\n",
       "      <th></th>\n",
       "      <th>order_id</th>\n",
       "      <th>payment_value</th>\n",
       "      <th>payment_installments</th>\n",
       "      <th>review_score</th>\n",
       "      <th>price</th>\n",
       "      <th>freight_value</th>\n",
       "      <th>product_name_lenght</th>\n",
       "      <th>product_description_lenght</th>\n",
       "      <th>product_photos_qty</th>\n",
       "      <th>product_length_cm</th>\n",
       "      <th>...</th>\n",
       "      <th>customer_state_PR</th>\n",
       "      <th>customer_state_RJ</th>\n",
       "      <th>customer_state_RN</th>\n",
       "      <th>customer_state_RO</th>\n",
       "      <th>customer_state_RR</th>\n",
       "      <th>customer_state_RS</th>\n",
       "      <th>customer_state_SC</th>\n",
       "      <th>customer_state_SE</th>\n",
       "      <th>customer_state_SP</th>\n",
       "      <th>customer_state_TO</th>\n",
       "    </tr>\n",
       "    <tr>\n",
       "      <th>customer_unique_id</th>\n",
       "      <th></th>\n",
       "      <th></th>\n",
       "      <th></th>\n",
       "      <th></th>\n",
       "      <th></th>\n",
       "      <th></th>\n",
       "      <th></th>\n",
       "      <th></th>\n",
       "      <th></th>\n",
       "      <th></th>\n",
       "      <th></th>\n",
       "      <th></th>\n",
       "      <th></th>\n",
       "      <th></th>\n",
       "      <th></th>\n",
       "      <th></th>\n",
       "      <th></th>\n",
       "      <th></th>\n",
       "      <th></th>\n",
       "      <th></th>\n",
       "      <th></th>\n",
       "    </tr>\n",
       "  </thead>\n",
       "  <tbody>\n",
       "    <tr>\n",
       "      <td>0000366f3b9a7992bf8c76cfdf3221e2</td>\n",
       "      <td>1</td>\n",
       "      <td>141.90</td>\n",
       "      <td>8.0</td>\n",
       "      <td>5.0</td>\n",
       "      <td>129.90</td>\n",
       "      <td>12.00</td>\n",
       "      <td>60.0</td>\n",
       "      <td>236.0</td>\n",
       "      <td>1.0</td>\n",
       "      <td>34.0</td>\n",
       "      <td>...</td>\n",
       "      <td>0</td>\n",
       "      <td>0</td>\n",
       "      <td>0</td>\n",
       "      <td>0</td>\n",
       "      <td>0</td>\n",
       "      <td>0</td>\n",
       "      <td>0</td>\n",
       "      <td>0</td>\n",
       "      <td>1</td>\n",
       "      <td>0</td>\n",
       "    </tr>\n",
       "    <tr>\n",
       "      <td>0000b849f77a49e4a4ce2b2a4ca5be3f</td>\n",
       "      <td>1</td>\n",
       "      <td>27.19</td>\n",
       "      <td>1.0</td>\n",
       "      <td>4.0</td>\n",
       "      <td>18.90</td>\n",
       "      <td>8.29</td>\n",
       "      <td>56.0</td>\n",
       "      <td>635.0</td>\n",
       "      <td>1.0</td>\n",
       "      <td>26.0</td>\n",
       "      <td>...</td>\n",
       "      <td>0</td>\n",
       "      <td>0</td>\n",
       "      <td>0</td>\n",
       "      <td>0</td>\n",
       "      <td>0</td>\n",
       "      <td>0</td>\n",
       "      <td>0</td>\n",
       "      <td>0</td>\n",
       "      <td>1</td>\n",
       "      <td>0</td>\n",
       "    </tr>\n",
       "    <tr>\n",
       "      <td>0000f46a3911fa3c0805444483337064</td>\n",
       "      <td>1</td>\n",
       "      <td>86.22</td>\n",
       "      <td>8.0</td>\n",
       "      <td>3.0</td>\n",
       "      <td>69.00</td>\n",
       "      <td>17.22</td>\n",
       "      <td>49.0</td>\n",
       "      <td>177.0</td>\n",
       "      <td>3.0</td>\n",
       "      <td>25.0</td>\n",
       "      <td>...</td>\n",
       "      <td>0</td>\n",
       "      <td>0</td>\n",
       "      <td>0</td>\n",
       "      <td>0</td>\n",
       "      <td>0</td>\n",
       "      <td>0</td>\n",
       "      <td>1</td>\n",
       "      <td>0</td>\n",
       "      <td>0</td>\n",
       "      <td>0</td>\n",
       "    </tr>\n",
       "    <tr>\n",
       "      <td>0000f6ccb0745a6a4b88665a16c9f078</td>\n",
       "      <td>1</td>\n",
       "      <td>43.62</td>\n",
       "      <td>4.0</td>\n",
       "      <td>4.0</td>\n",
       "      <td>25.99</td>\n",
       "      <td>17.63</td>\n",
       "      <td>43.0</td>\n",
       "      <td>1741.0</td>\n",
       "      <td>5.0</td>\n",
       "      <td>19.0</td>\n",
       "      <td>...</td>\n",
       "      <td>0</td>\n",
       "      <td>0</td>\n",
       "      <td>0</td>\n",
       "      <td>0</td>\n",
       "      <td>0</td>\n",
       "      <td>0</td>\n",
       "      <td>0</td>\n",
       "      <td>0</td>\n",
       "      <td>0</td>\n",
       "      <td>0</td>\n",
       "    </tr>\n",
       "    <tr>\n",
       "      <td>0004aac84e0df4da2b147fca70cf8255</td>\n",
       "      <td>1</td>\n",
       "      <td>196.89</td>\n",
       "      <td>6.0</td>\n",
       "      <td>5.0</td>\n",
       "      <td>180.00</td>\n",
       "      <td>16.89</td>\n",
       "      <td>58.0</td>\n",
       "      <td>794.0</td>\n",
       "      <td>3.0</td>\n",
       "      <td>16.0</td>\n",
       "      <td>...</td>\n",
       "      <td>0</td>\n",
       "      <td>0</td>\n",
       "      <td>0</td>\n",
       "      <td>0</td>\n",
       "      <td>0</td>\n",
       "      <td>0</td>\n",
       "      <td>0</td>\n",
       "      <td>0</td>\n",
       "      <td>1</td>\n",
       "      <td>0</td>\n",
       "    </tr>\n",
       "    <tr>\n",
       "      <td>...</td>\n",
       "      <td>...</td>\n",
       "      <td>...</td>\n",
       "      <td>...</td>\n",
       "      <td>...</td>\n",
       "      <td>...</td>\n",
       "      <td>...</td>\n",
       "      <td>...</td>\n",
       "      <td>...</td>\n",
       "      <td>...</td>\n",
       "      <td>...</td>\n",
       "      <td>...</td>\n",
       "      <td>...</td>\n",
       "      <td>...</td>\n",
       "      <td>...</td>\n",
       "      <td>...</td>\n",
       "      <td>...</td>\n",
       "      <td>...</td>\n",
       "      <td>...</td>\n",
       "      <td>...</td>\n",
       "      <td>...</td>\n",
       "      <td>...</td>\n",
       "    </tr>\n",
       "    <tr>\n",
       "      <td>fffcf5a5ff07b0908bd4e2dbc735a684</td>\n",
       "      <td>2</td>\n",
       "      <td>4134.84</td>\n",
       "      <td>10.0</td>\n",
       "      <td>5.0</td>\n",
       "      <td>785.00</td>\n",
       "      <td>248.71</td>\n",
       "      <td>54.0</td>\n",
       "      <td>478.5</td>\n",
       "      <td>1.0</td>\n",
       "      <td>55.0</td>\n",
       "      <td>...</td>\n",
       "      <td>0</td>\n",
       "      <td>0</td>\n",
       "      <td>0</td>\n",
       "      <td>0</td>\n",
       "      <td>0</td>\n",
       "      <td>0</td>\n",
       "      <td>0</td>\n",
       "      <td>0</td>\n",
       "      <td>0</td>\n",
       "      <td>0</td>\n",
       "    </tr>\n",
       "    <tr>\n",
       "      <td>fffea47cd6d3cc0a88bd621562a9d061</td>\n",
       "      <td>1</td>\n",
       "      <td>84.58</td>\n",
       "      <td>1.0</td>\n",
       "      <td>4.0</td>\n",
       "      <td>64.89</td>\n",
       "      <td>19.69</td>\n",
       "      <td>37.0</td>\n",
       "      <td>506.0</td>\n",
       "      <td>2.0</td>\n",
       "      <td>33.0</td>\n",
       "      <td>...</td>\n",
       "      <td>0</td>\n",
       "      <td>0</td>\n",
       "      <td>0</td>\n",
       "      <td>0</td>\n",
       "      <td>0</td>\n",
       "      <td>0</td>\n",
       "      <td>0</td>\n",
       "      <td>0</td>\n",
       "      <td>0</td>\n",
       "      <td>0</td>\n",
       "    </tr>\n",
       "    <tr>\n",
       "      <td>ffff371b4d645b6ecea244b27531430a</td>\n",
       "      <td>1</td>\n",
       "      <td>112.46</td>\n",
       "      <td>1.0</td>\n",
       "      <td>5.0</td>\n",
       "      <td>89.90</td>\n",
       "      <td>22.56</td>\n",
       "      <td>57.0</td>\n",
       "      <td>716.0</td>\n",
       "      <td>5.0</td>\n",
       "      <td>17.0</td>\n",
       "      <td>...</td>\n",
       "      <td>0</td>\n",
       "      <td>0</td>\n",
       "      <td>0</td>\n",
       "      <td>0</td>\n",
       "      <td>0</td>\n",
       "      <td>0</td>\n",
       "      <td>0</td>\n",
       "      <td>0</td>\n",
       "      <td>0</td>\n",
       "      <td>0</td>\n",
       "    </tr>\n",
       "    <tr>\n",
       "      <td>ffff5962728ec6157033ef9805bacc48</td>\n",
       "      <td>1</td>\n",
       "      <td>133.69</td>\n",
       "      <td>5.0</td>\n",
       "      <td>5.0</td>\n",
       "      <td>115.00</td>\n",
       "      <td>18.69</td>\n",
       "      <td>35.0</td>\n",
       "      <td>591.0</td>\n",
       "      <td>3.0</td>\n",
       "      <td>20.0</td>\n",
       "      <td>...</td>\n",
       "      <td>0</td>\n",
       "      <td>0</td>\n",
       "      <td>0</td>\n",
       "      <td>0</td>\n",
       "      <td>0</td>\n",
       "      <td>0</td>\n",
       "      <td>0</td>\n",
       "      <td>0</td>\n",
       "      <td>0</td>\n",
       "      <td>0</td>\n",
       "    </tr>\n",
       "    <tr>\n",
       "      <td>ffffd2657e2aad2907e67c3e9daecbeb</td>\n",
       "      <td>1</td>\n",
       "      <td>71.56</td>\n",
       "      <td>4.0</td>\n",
       "      <td>5.0</td>\n",
       "      <td>56.99</td>\n",
       "      <td>14.57</td>\n",
       "      <td>45.0</td>\n",
       "      <td>1003.0</td>\n",
       "      <td>2.0</td>\n",
       "      <td>18.0</td>\n",
       "      <td>...</td>\n",
       "      <td>1</td>\n",
       "      <td>0</td>\n",
       "      <td>0</td>\n",
       "      <td>0</td>\n",
       "      <td>0</td>\n",
       "      <td>0</td>\n",
       "      <td>0</td>\n",
       "      <td>0</td>\n",
       "      <td>0</td>\n",
       "      <td>0</td>\n",
       "    </tr>\n",
       "  </tbody>\n",
       "</table>\n",
       "<p>96096 rows × 121 columns</p>\n",
       "</div>"
      ],
      "text/plain": [
       "                                  order_id  payment_value  \\\n",
       "customer_unique_id                                          \n",
       "0000366f3b9a7992bf8c76cfdf3221e2         1         141.90   \n",
       "0000b849f77a49e4a4ce2b2a4ca5be3f         1          27.19   \n",
       "0000f46a3911fa3c0805444483337064         1          86.22   \n",
       "0000f6ccb0745a6a4b88665a16c9f078         1          43.62   \n",
       "0004aac84e0df4da2b147fca70cf8255         1         196.89   \n",
       "...                                    ...            ...   \n",
       "fffcf5a5ff07b0908bd4e2dbc735a684         2        4134.84   \n",
       "fffea47cd6d3cc0a88bd621562a9d061         1          84.58   \n",
       "ffff371b4d645b6ecea244b27531430a         1         112.46   \n",
       "ffff5962728ec6157033ef9805bacc48         1         133.69   \n",
       "ffffd2657e2aad2907e67c3e9daecbeb         1          71.56   \n",
       "\n",
       "                                  payment_installments  review_score   price  \\\n",
       "customer_unique_id                                                             \n",
       "0000366f3b9a7992bf8c76cfdf3221e2                   8.0           5.0  129.90   \n",
       "0000b849f77a49e4a4ce2b2a4ca5be3f                   1.0           4.0   18.90   \n",
       "0000f46a3911fa3c0805444483337064                   8.0           3.0   69.00   \n",
       "0000f6ccb0745a6a4b88665a16c9f078                   4.0           4.0   25.99   \n",
       "0004aac84e0df4da2b147fca70cf8255                   6.0           5.0  180.00   \n",
       "...                                                ...           ...     ...   \n",
       "fffcf5a5ff07b0908bd4e2dbc735a684                  10.0           5.0  785.00   \n",
       "fffea47cd6d3cc0a88bd621562a9d061                   1.0           4.0   64.89   \n",
       "ffff371b4d645b6ecea244b27531430a                   1.0           5.0   89.90   \n",
       "ffff5962728ec6157033ef9805bacc48                   5.0           5.0  115.00   \n",
       "ffffd2657e2aad2907e67c3e9daecbeb                   4.0           5.0   56.99   \n",
       "\n",
       "                                  freight_value  product_name_lenght  \\\n",
       "customer_unique_id                                                     \n",
       "0000366f3b9a7992bf8c76cfdf3221e2          12.00                 60.0   \n",
       "0000b849f77a49e4a4ce2b2a4ca5be3f           8.29                 56.0   \n",
       "0000f46a3911fa3c0805444483337064          17.22                 49.0   \n",
       "0000f6ccb0745a6a4b88665a16c9f078          17.63                 43.0   \n",
       "0004aac84e0df4da2b147fca70cf8255          16.89                 58.0   \n",
       "...                                         ...                  ...   \n",
       "fffcf5a5ff07b0908bd4e2dbc735a684         248.71                 54.0   \n",
       "fffea47cd6d3cc0a88bd621562a9d061          19.69                 37.0   \n",
       "ffff371b4d645b6ecea244b27531430a          22.56                 57.0   \n",
       "ffff5962728ec6157033ef9805bacc48          18.69                 35.0   \n",
       "ffffd2657e2aad2907e67c3e9daecbeb          14.57                 45.0   \n",
       "\n",
       "                                  product_description_lenght  \\\n",
       "customer_unique_id                                             \n",
       "0000366f3b9a7992bf8c76cfdf3221e2                       236.0   \n",
       "0000b849f77a49e4a4ce2b2a4ca5be3f                       635.0   \n",
       "0000f46a3911fa3c0805444483337064                       177.0   \n",
       "0000f6ccb0745a6a4b88665a16c9f078                      1741.0   \n",
       "0004aac84e0df4da2b147fca70cf8255                       794.0   \n",
       "...                                                      ...   \n",
       "fffcf5a5ff07b0908bd4e2dbc735a684                       478.5   \n",
       "fffea47cd6d3cc0a88bd621562a9d061                       506.0   \n",
       "ffff371b4d645b6ecea244b27531430a                       716.0   \n",
       "ffff5962728ec6157033ef9805bacc48                       591.0   \n",
       "ffffd2657e2aad2907e67c3e9daecbeb                      1003.0   \n",
       "\n",
       "                                  product_photos_qty  product_length_cm  ...  \\\n",
       "customer_unique_id                                                       ...   \n",
       "0000366f3b9a7992bf8c76cfdf3221e2                 1.0               34.0  ...   \n",
       "0000b849f77a49e4a4ce2b2a4ca5be3f                 1.0               26.0  ...   \n",
       "0000f46a3911fa3c0805444483337064                 3.0               25.0  ...   \n",
       "0000f6ccb0745a6a4b88665a16c9f078                 5.0               19.0  ...   \n",
       "0004aac84e0df4da2b147fca70cf8255                 3.0               16.0  ...   \n",
       "...                                              ...                ...  ...   \n",
       "fffcf5a5ff07b0908bd4e2dbc735a684                 1.0               55.0  ...   \n",
       "fffea47cd6d3cc0a88bd621562a9d061                 2.0               33.0  ...   \n",
       "ffff371b4d645b6ecea244b27531430a                 5.0               17.0  ...   \n",
       "ffff5962728ec6157033ef9805bacc48                 3.0               20.0  ...   \n",
       "ffffd2657e2aad2907e67c3e9daecbeb                 2.0               18.0  ...   \n",
       "\n",
       "                                  customer_state_PR  customer_state_RJ  \\\n",
       "customer_unique_id                                                       \n",
       "0000366f3b9a7992bf8c76cfdf3221e2                  0                  0   \n",
       "0000b849f77a49e4a4ce2b2a4ca5be3f                  0                  0   \n",
       "0000f46a3911fa3c0805444483337064                  0                  0   \n",
       "0000f6ccb0745a6a4b88665a16c9f078                  0                  0   \n",
       "0004aac84e0df4da2b147fca70cf8255                  0                  0   \n",
       "...                                             ...                ...   \n",
       "fffcf5a5ff07b0908bd4e2dbc735a684                  0                  0   \n",
       "fffea47cd6d3cc0a88bd621562a9d061                  0                  0   \n",
       "ffff371b4d645b6ecea244b27531430a                  0                  0   \n",
       "ffff5962728ec6157033ef9805bacc48                  0                  0   \n",
       "ffffd2657e2aad2907e67c3e9daecbeb                  1                  0   \n",
       "\n",
       "                                  customer_state_RN  customer_state_RO  \\\n",
       "customer_unique_id                                                       \n",
       "0000366f3b9a7992bf8c76cfdf3221e2                  0                  0   \n",
       "0000b849f77a49e4a4ce2b2a4ca5be3f                  0                  0   \n",
       "0000f46a3911fa3c0805444483337064                  0                  0   \n",
       "0000f6ccb0745a6a4b88665a16c9f078                  0                  0   \n",
       "0004aac84e0df4da2b147fca70cf8255                  0                  0   \n",
       "...                                             ...                ...   \n",
       "fffcf5a5ff07b0908bd4e2dbc735a684                  0                  0   \n",
       "fffea47cd6d3cc0a88bd621562a9d061                  0                  0   \n",
       "ffff371b4d645b6ecea244b27531430a                  0                  0   \n",
       "ffff5962728ec6157033ef9805bacc48                  0                  0   \n",
       "ffffd2657e2aad2907e67c3e9daecbeb                  0                  0   \n",
       "\n",
       "                                  customer_state_RR  customer_state_RS  \\\n",
       "customer_unique_id                                                       \n",
       "0000366f3b9a7992bf8c76cfdf3221e2                  0                  0   \n",
       "0000b849f77a49e4a4ce2b2a4ca5be3f                  0                  0   \n",
       "0000f46a3911fa3c0805444483337064                  0                  0   \n",
       "0000f6ccb0745a6a4b88665a16c9f078                  0                  0   \n",
       "0004aac84e0df4da2b147fca70cf8255                  0                  0   \n",
       "...                                             ...                ...   \n",
       "fffcf5a5ff07b0908bd4e2dbc735a684                  0                  0   \n",
       "fffea47cd6d3cc0a88bd621562a9d061                  0                  0   \n",
       "ffff371b4d645b6ecea244b27531430a                  0                  0   \n",
       "ffff5962728ec6157033ef9805bacc48                  0                  0   \n",
       "ffffd2657e2aad2907e67c3e9daecbeb                  0                  0   \n",
       "\n",
       "                                  customer_state_SC  customer_state_SE  \\\n",
       "customer_unique_id                                                       \n",
       "0000366f3b9a7992bf8c76cfdf3221e2                  0                  0   \n",
       "0000b849f77a49e4a4ce2b2a4ca5be3f                  0                  0   \n",
       "0000f46a3911fa3c0805444483337064                  1                  0   \n",
       "0000f6ccb0745a6a4b88665a16c9f078                  0                  0   \n",
       "0004aac84e0df4da2b147fca70cf8255                  0                  0   \n",
       "...                                             ...                ...   \n",
       "fffcf5a5ff07b0908bd4e2dbc735a684                  0                  0   \n",
       "fffea47cd6d3cc0a88bd621562a9d061                  0                  0   \n",
       "ffff371b4d645b6ecea244b27531430a                  0                  0   \n",
       "ffff5962728ec6157033ef9805bacc48                  0                  0   \n",
       "ffffd2657e2aad2907e67c3e9daecbeb                  0                  0   \n",
       "\n",
       "                                  customer_state_SP  customer_state_TO  \n",
       "customer_unique_id                                                      \n",
       "0000366f3b9a7992bf8c76cfdf3221e2                  1                  0  \n",
       "0000b849f77a49e4a4ce2b2a4ca5be3f                  1                  0  \n",
       "0000f46a3911fa3c0805444483337064                  0                  0  \n",
       "0000f6ccb0745a6a4b88665a16c9f078                  0                  0  \n",
       "0004aac84e0df4da2b147fca70cf8255                  1                  0  \n",
       "...                                             ...                ...  \n",
       "fffcf5a5ff07b0908bd4e2dbc735a684                  0                  0  \n",
       "fffea47cd6d3cc0a88bd621562a9d061                  0                  0  \n",
       "ffff371b4d645b6ecea244b27531430a                  0                  0  \n",
       "ffff5962728ec6157033ef9805bacc48                  0                  0  \n",
       "ffffd2657e2aad2907e67c3e9daecbeb                  0                  0  \n",
       "\n",
       "[96096 rows x 121 columns]"
      ]
     },
     "execution_count": 162,
     "metadata": {},
     "output_type": "execute_result"
    }
   ],
   "source": [
    "df"
   ]
  },
  {
   "cell_type": "markdown",
   "metadata": {},
   "source": [
    "## Standard Scaler"
   ]
  },
  {
   "cell_type": "code",
   "execution_count": 163,
   "metadata": {},
   "outputs": [],
   "source": [
    "# rfm model\n",
    "rfm_df = df[['order_purchase_timestamp', 'order_id', 'payment_value']]\n",
    "rfm_df.columns = ['recency', 'frequency', 'monetary']"
   ]
  },
  {
   "cell_type": "code",
   "execution_count": 164,
   "metadata": {
    "scrolled": true
   },
   "outputs": [],
   "source": [
    "# standard scaler\n",
    "from sklearn.preprocessing import StandardScaler\n",
    "scaler = StandardScaler()\n",
    "X = scaler.fit_transform(rfm_df)"
   ]
  },
  {
   "cell_type": "markdown",
   "metadata": {},
   "source": [
    "## Elbow Diagram"
   ]
  },
  {
   "cell_type": "code",
   "execution_count": 165,
   "metadata": {
    "scrolled": true
   },
   "outputs": [
    {
     "data": {
      "image/png": "[encoded data removed]",
      "text/plain": [
       "<Figure size 432x288 with 1 Axes>"
      ]
     },
     "metadata": {
      "needs_background": "light"
     },
     "output_type": "display_data"
    }
   ],
   "source": [
    "# elbow diagram\n",
    "from sklearn.cluster import KMeans\n",
    "inertia_dict = {}\n",
    "for k in range(1,15):\n",
    "    rfm_km = KMeans(n_clusters=k).fit(X)\n",
    "    inertia_dict[k] = rfm_km.inertia_\n",
    "plt.scatter(inertia_dict.keys(), inertia_dict.values())\n",
    "plt.xlabel('Clusters')\n",
    "plt.ylabel('Inertia');"
   ]
  },
  {
   "cell_type": "code",
   "execution_count": 166,
   "metadata": {},
   "outputs": [],
   "source": [
    "n_clusters = 4"
   ]
  },
  {
   "cell_type": "markdown",
   "metadata": {},
   "source": [
    "## K-means Clustering"
   ]
  },
  {
   "cell_type": "code",
   "execution_count": 167,
   "metadata": {
    "scrolled": true
   },
   "outputs": [],
   "source": [
    "km = KMeans(n_clusters=n_clusters).fit(X)\n",
    "labels = km.labels_"
   ]
  },
  {
   "cell_type": "code",
   "execution_count": 168,
   "metadata": {},
   "outputs": [
    {
     "data": {
      "text/plain": [
       "array([53181,  3775, 39117,    23], dtype=int64)"
      ]
     },
     "execution_count": 168,
     "metadata": {},
     "output_type": "execute_result"
    }
   ],
   "source": [
    "np.bincount(labels)"
   ]
  },
  {
   "cell_type": "code",
   "execution_count": 169,
   "metadata": {
    "scrolled": true
   },
   "outputs": [],
   "source": [
    "label_count_df = pd.DataFrame(labels)"
   ]
  },
  {
   "cell_type": "code",
   "execution_count": 170,
   "metadata": {},
   "outputs": [
    {
     "data": {
      "text/plain": [
       "array([[-0.71974737, -0.14507272, -0.06783191],\n",
       "       [-0.04158182,  3.36999397,  1.40037808],\n",
       "       [ 0.98254411, -0.13777152, -0.06646364],\n",
       "       [-0.1169028 , 15.71785356, 39.65182594]])"
      ]
     },
     "execution_count": 170,
     "metadata": {},
     "output_type": "execute_result"
    }
   ],
   "source": [
    "km.cluster_centers_"
   ]
  },
  {
   "cell_type": "code",
   "execution_count": 171,
   "metadata": {
    "scrolled": false
   },
   "outputs": [
    {
     "data": {
      "text/plain": [
       "3.3699939733386683"
      ]
     },
     "execution_count": 171,
     "metadata": {},
     "output_type": "execute_result"
    }
   ],
   "source": [
    "km.cluster_centers_[1,1]"
   ]
  },
  {
   "cell_type": "code",
   "execution_count": 172,
   "metadata": {
    "scrolled": true
   },
   "outputs": [
    {
     "data": {
      "text/plain": [
       "4"
      ]
     },
     "execution_count": 172,
     "metadata": {},
     "output_type": "execute_result"
    }
   ],
   "source": [
    "n_clusters"
   ]
  },
  {
   "cell_type": "code",
   "execution_count": 173,
   "metadata": {},
   "outputs": [
    {
     "data": {
      "text/plain": [
       "Text(0, 0.5, 'Monetary')"
      ]
     },
     "execution_count": 173,
     "metadata": {},
     "output_type": "execute_result"
    },
    {
     "data": {
      "image/png": "[encoded data removed]",
      "text/plain": [
       "<Figure size 432x288 with 1 Axes>"
      ]
     },
     "metadata": {
      "needs_background": "light"
     },
     "output_type": "display_data"
    }
   ],
   "source": [
    "plt.scatter(rfm_df.recency, rfm_df.monetary, c=labels)\n",
    "plt.xlabel('Recency')\n",
    "plt.ylabel('Monetary')"
   ]
  },
  {
   "cell_type": "code",
   "execution_count": 174,
   "metadata": {},
   "outputs": [
    {
     "data": {
      "text/plain": [
       "Text(0, 0.5, 'Monetary')"
      ]
     },
     "execution_count": 174,
     "metadata": {},
     "output_type": "execute_result"
    },
    {
     "data": {
      "image/png": "[encoded data removed]",
      "text/plain": [
       "<Figure size 432x288 with 1 Axes>"
      ]
     },
     "metadata": {
      "needs_background": "light"
     },
     "output_type": "display_data"
    }
   ],
   "source": [
    "plt.scatter(rfm_df.frequency, rfm_df.monetary, c=labels)\n",
    "plt.xlabel('Frequency')\n",
    "plt.ylabel('Monetary')"
   ]
  },
  {
   "cell_type": "code",
   "execution_count": 175,
   "metadata": {},
   "outputs": [
    {
     "data": {
      "text/plain": [
       "['churned | one time | low value',\n",
       " 'churned | regular | high value',\n",
       " 'current | one time | low value',\n",
       " 'churned | regular | high value']"
      ]
     },
     "execution_count": 175,
     "metadata": {},
     "output_type": "execute_result"
    }
   ],
   "source": [
    "# cluster description list \n",
    "customer_segment_list = []\n",
    "for cluster in range(n_clusters):\n",
    "    if km.cluster_centers_[cluster, 0] > 0:\n",
    "        customer_segment_list.append('current | ')\n",
    "    else:\n",
    "        customer_segment_list.append('churned | ')\n",
    "    if km.cluster_centers_[cluster, 1] > 0:\n",
    "        customer_segment_list[cluster] += 'regular | '\n",
    "    else:\n",
    "        customer_segment_list[cluster] += 'one time | '\n",
    "    if km.cluster_centers_[cluster, 2] > 0:\n",
    "        customer_segment_list[cluster] += 'high value'\n",
    "    else:\n",
    "        customer_segment_list[cluster] += 'low value'\n",
    "\n",
    "customer_segment_list"
   ]
  },
  {
   "cell_type": "code",
   "execution_count": 180,
   "metadata": {
    "scrolled": true
   },
   "outputs": [
    {
     "data": {
      "image/png": "[encoded data removed]",
      "text/plain": [
       "<Figure size 432x288 with 2 Axes>"
      ]
     },
     "metadata": {
      "needs_background": "light"
     },
     "output_type": "display_data"
    }
   ],
   "source": [
    "# cluster characteristic heatmap \n",
    "import seaborn as sns\n",
    "sns.heatmap(km.cluster_centers_, cmap='GnBu', \n",
    "            xticklabels=rfm_df.columns,\n",
    "            yticklabels=customer_segment_list);"
   ]
  },
  {
   "cell_type": "code",
   "execution_count": 178,
   "metadata": {
    "scrolled": false
   },
   "outputs": [
    {
     "data": {
      "text/plain": [
       "Text(0, 0.5, 'TSNE 2')"
      ]
     },
     "execution_count": 178,
     "metadata": {},
     "output_type": "execute_result"
    },
    {
     "data": {
      "image/png": "[encoded data removed]",
      "text/plain": [
       "<Figure size 432x288 with 1 Axes>"
      ]
     },
     "metadata": {
      "needs_background": "light"
     },
     "output_type": "display_data"
    }
   ],
   "source": [
    "# TSNE plot of clusters\n",
    "from sklearn.manifold import TSNE\n",
    "tsne = TSNE(n_components=2)\n",
    "X_tsne = tsne.fit_transform(X)\n",
    "plt.scatter(X_tsne[:,0], X_tsne[:,1], c=labels)\n",
    "plt.xlabel('TSNE 1')\n",
    "plt.ylabel('TSNE 2')"
   ]
  },
  {
   "cell_type": "markdown",
   "metadata": {},
   "source": [
    "TSNE visualization verifies that RFM-based clusters have superior quality compared to PCA-based clusters as well."
   ]
  }
 ],
 "metadata": {
  "kernelspec": {
   "display_name": "Python 3",
   "language": "python",
   "name": "python3"
  },
  "language_info": {
   "codemirror_mode": {
    "name": "ipython",
    "version": 3
   },
   "file_extension": ".py",
   "mimetype": "text/x-python",
   "name": "python",
   "nbconvert_exporter": "python",
   "pygments_lexer": "ipython3",
   "version": "3.7.4"
  }
 },
 "nbformat": 4,
 "nbformat_minor": 2
}
