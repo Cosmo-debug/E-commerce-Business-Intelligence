{
 "cells": [
  {
   "cell_type": "markdown",
   "metadata": {},
   "source": [
    "<h1 id=\"tocheading\">Table of Contents</h1>\n",
    "<div id=\"toc\"></div>"
   ]
  },
  {
   "cell_type": "code",
   "execution_count": 14,
   "metadata": {},
   "outputs": [
    {
     "data": {
      "application/javascript": [
       "$.getScript('https://kmahelona.github.io/ipython_notebook_goodies/ipython_notebook_toc.js')\n"
      ],
      "text/plain": [
       "<IPython.core.display.Javascript object>"
      ]
     },
     "metadata": {},
     "output_type": "display_data"
    }
   ],
   "source": [
    "%%javascript\n",
    "$.getScript('https://kmahelona.github.io/ipython_notebook_goodies/ipython_notebook_toc.js')"
   ]
  },
  {
   "cell_type": "markdown",
   "metadata": {},
   "source": [
    "# Data Cleaning"
   ]
  },
  {
   "cell_type": "code",
   "execution_count": 15,
   "metadata": {},
   "outputs": [],
   "source": [
    "import numpy as np\n",
    "import pandas as pd\n",
    "import matplotlib.pyplot as plt\n",
    "%matplotlib inline \n",
    "import seaborn as sns\n",
    "from datetime import datetime, date\n",
    "from sklearn.cluster import KMeans"
   ]
  },
  {
   "cell_type": "markdown",
   "metadata": {},
   "source": [
    "## Order Dataset"
   ]
  },
  {
   "cell_type": "code",
   "execution_count": 16,
   "metadata": {},
   "outputs": [],
   "source": [
    "order_df = pd.read_csv('olist_orders_dataset.csv')"
   ]
  },
  {
   "cell_type": "code",
   "execution_count": 17,
   "metadata": {
    "scrolled": true
   },
   "outputs": [
    {
     "name": "stdout",
     "output_type": "stream",
     "text": [
      "<class 'pandas.core.frame.DataFrame'>\n",
      "RangeIndex: 99441 entries, 0 to 99440\n",
      "Data columns (total 8 columns):\n",
      "order_id                         99441 non-null object\n",
      "customer_id                      99441 non-null object\n",
      "order_status                     99441 non-null object\n",
      "order_purchase_timestamp         99441 non-null object\n",
      "order_approved_at                99281 non-null object\n",
      "order_delivered_carrier_date     97658 non-null object\n",
      "order_delivered_customer_date    96476 non-null object\n",
      "order_estimated_delivery_date    99441 non-null object\n",
      "dtypes: object(8)\n",
      "memory usage: 6.1+ MB\n"
     ]
    }
   ],
   "source": [
    "order_df.info()"
   ]
  },
  {
   "cell_type": "code",
   "execution_count": 18,
   "metadata": {
    "scrolled": true
   },
   "outputs": [],
   "source": [
    "order_df.drop(['order_status', 'order_approved_at', 'order_delivered_carrier_date', 'order_delivered_customer_date',\n",
    "                'order_estimated_delivery_date'], axis='columns', inplace=True)"
   ]
  },
  {
   "cell_type": "code",
   "execution_count": 19,
   "metadata": {},
   "outputs": [
    {
     "name": "stdout",
     "output_type": "stream",
     "text": [
      "<class 'pandas.core.frame.DataFrame'>\n",
      "RangeIndex: 99441 entries, 0 to 99440\n",
      "Data columns (total 3 columns):\n",
      "order_id                    99441 non-null object\n",
      "customer_id                 99441 non-null object\n",
      "order_purchase_timestamp    99441 non-null object\n",
      "dtypes: object(3)\n",
      "memory usage: 2.3+ MB\n"
     ]
    }
   ],
   "source": [
    "order_df.info()"
   ]
  },
  {
   "cell_type": "code",
   "execution_count": 20,
   "metadata": {
    "scrolled": true
   },
   "outputs": [
    {
     "data": {
      "text/plain": [
       "order_id                            object\n",
       "customer_id                         object\n",
       "order_purchase_timestamp    datetime64[ns]\n",
       "dtype: object"
      ]
     },
     "execution_count": 20,
     "metadata": {},
     "output_type": "execute_result"
    }
   ],
   "source": [
    "order_df['order_purchase_timestamp'] = pd.to_datetime(order_df['order_purchase_timestamp'])\n",
    "order_df.dtypes"
   ]
  },
  {
   "cell_type": "code",
   "execution_count": 21,
   "metadata": {},
   "outputs": [
    {
     "data": {
      "text/html": [
       "<div>\n",
       "<style scoped>\n",
       "    .dataframe tbody tr th:only-of-type {\n",
       "        vertical-align: middle;\n",
       "    }\n",
       "\n",
       "    .dataframe tbody tr th {\n",
       "        vertical-align: top;\n",
       "    }\n",
       "\n",
       "    .dataframe thead th {\n",
       "        text-align: right;\n",
       "    }\n",
       "</style>\n",
       "<table border=\"1\" class=\"dataframe\">\n",
       "  <thead>\n",
       "    <tr style=\"text-align: right;\">\n",
       "      <th></th>\n",
       "      <th>order_id</th>\n",
       "      <th>customer_id</th>\n",
       "      <th>order_purchase_timestamp</th>\n",
       "    </tr>\n",
       "  </thead>\n",
       "  <tbody>\n",
       "  </tbody>\n",
       "</table>\n",
       "</div>"
      ],
      "text/plain": [
       "Empty DataFrame\n",
       "Columns: [order_id, customer_id, order_purchase_timestamp]\n",
       "Index: []"
      ]
     },
     "execution_count": 21,
     "metadata": {},
     "output_type": "execute_result"
    }
   ],
   "source": [
    "order_df[order_df.duplicated()]"
   ]
  },
  {
   "cell_type": "code",
   "execution_count": 22,
   "metadata": {
    "scrolled": false
   },
   "outputs": [
    {
     "data": {
      "text/html": [
       "<div>\n",
       "<style scoped>\n",
       "    .dataframe tbody tr th:only-of-type {\n",
       "        vertical-align: middle;\n",
       "    }\n",
       "\n",
       "    .dataframe tbody tr th {\n",
       "        vertical-align: top;\n",
       "    }\n",
       "\n",
       "    .dataframe thead th {\n",
       "        text-align: right;\n",
       "    }\n",
       "</style>\n",
       "<table border=\"1\" class=\"dataframe\">\n",
       "  <thead>\n",
       "    <tr style=\"text-align: right;\">\n",
       "      <th></th>\n",
       "      <th>order_id</th>\n",
       "      <th>customer_id</th>\n",
       "      <th>order_purchase_timestamp</th>\n",
       "    </tr>\n",
       "  </thead>\n",
       "  <tbody>\n",
       "    <tr>\n",
       "      <td>0</td>\n",
       "      <td>e481f51cbdc54678b7cc49136f2d6af7</td>\n",
       "      <td>9ef432eb6251297304e76186b10a928d</td>\n",
       "      <td>2017-10-02 10:56:33</td>\n",
       "    </tr>\n",
       "    <tr>\n",
       "      <td>1</td>\n",
       "      <td>53cdb2fc8bc7dce0b6741e2150273451</td>\n",
       "      <td>b0830fb4747a6c6d20dea0b8c802d7ef</td>\n",
       "      <td>2018-07-24 20:41:37</td>\n",
       "    </tr>\n",
       "    <tr>\n",
       "      <td>2</td>\n",
       "      <td>47770eb9100c2d0c44946d9cf07ec65d</td>\n",
       "      <td>41ce2a54c0b03bf3443c3d931a367089</td>\n",
       "      <td>2018-08-08 08:38:49</td>\n",
       "    </tr>\n",
       "    <tr>\n",
       "      <td>3</td>\n",
       "      <td>949d5b44dbf5de918fe9c16f97b45f8a</td>\n",
       "      <td>f88197465ea7920adcdbec7375364d82</td>\n",
       "      <td>2017-11-18 19:28:06</td>\n",
       "    </tr>\n",
       "    <tr>\n",
       "      <td>4</td>\n",
       "      <td>ad21c59c0840e6cb83a9ceb5573f8159</td>\n",
       "      <td>8ab97904e6daea8866dbdbc4fb7aad2c</td>\n",
       "      <td>2018-02-13 21:18:39</td>\n",
       "    </tr>\n",
       "  </tbody>\n",
       "</table>\n",
       "</div>"
      ],
      "text/plain": [
       "                           order_id                       customer_id  \\\n",
       "0  e481f51cbdc54678b7cc49136f2d6af7  9ef432eb6251297304e76186b10a928d   \n",
       "1  53cdb2fc8bc7dce0b6741e2150273451  b0830fb4747a6c6d20dea0b8c802d7ef   \n",
       "2  47770eb9100c2d0c44946d9cf07ec65d  41ce2a54c0b03bf3443c3d931a367089   \n",
       "3  949d5b44dbf5de918fe9c16f97b45f8a  f88197465ea7920adcdbec7375364d82   \n",
       "4  ad21c59c0840e6cb83a9ceb5573f8159  8ab97904e6daea8866dbdbc4fb7aad2c   \n",
       "\n",
       "  order_purchase_timestamp  \n",
       "0      2017-10-02 10:56:33  \n",
       "1      2018-07-24 20:41:37  \n",
       "2      2018-08-08 08:38:49  \n",
       "3      2017-11-18 19:28:06  \n",
       "4      2018-02-13 21:18:39  "
      ]
     },
     "execution_count": 22,
     "metadata": {},
     "output_type": "execute_result"
    }
   ],
   "source": [
    "order_df.head()"
   ]
  },
  {
   "cell_type": "markdown",
   "metadata": {},
   "source": [
    "## Payment Dataset"
   ]
  },
  {
   "cell_type": "code",
   "execution_count": 23,
   "metadata": {},
   "outputs": [],
   "source": [
    "payment_df = pd.read_csv('olist_order_payments_dataset.csv')"
   ]
  },
  {
   "cell_type": "code",
   "execution_count": 24,
   "metadata": {},
   "outputs": [
    {
     "name": "stdout",
     "output_type": "stream",
     "text": [
      "<class 'pandas.core.frame.DataFrame'>\n",
      "RangeIndex: 103886 entries, 0 to 103885\n",
      "Data columns (total 5 columns):\n",
      "order_id                103886 non-null object\n",
      "payment_sequential      103886 non-null int64\n",
      "payment_type            103886 non-null object\n",
      "payment_installments    103886 non-null int64\n",
      "payment_value           103886 non-null float64\n",
      "dtypes: float64(1), int64(2), object(2)\n",
      "memory usage: 4.0+ MB\n"
     ]
    }
   ],
   "source": [
    "payment_df.info()"
   ]
  },
  {
   "cell_type": "code",
   "execution_count": 25,
   "metadata": {
    "scrolled": true
   },
   "outputs": [
    {
     "data": {
      "text/html": [
       "<div>\n",
       "<style scoped>\n",
       "    .dataframe tbody tr th:only-of-type {\n",
       "        vertical-align: middle;\n",
       "    }\n",
       "\n",
       "    .dataframe tbody tr th {\n",
       "        vertical-align: top;\n",
       "    }\n",
       "\n",
       "    .dataframe thead th {\n",
       "        text-align: right;\n",
       "    }\n",
       "</style>\n",
       "<table border=\"1\" class=\"dataframe\">\n",
       "  <thead>\n",
       "    <tr style=\"text-align: right;\">\n",
       "      <th></th>\n",
       "      <th>order_id</th>\n",
       "      <th>payment_sequential</th>\n",
       "      <th>payment_type</th>\n",
       "      <th>payment_installments</th>\n",
       "      <th>payment_value</th>\n",
       "    </tr>\n",
       "  </thead>\n",
       "  <tbody>\n",
       "    <tr>\n",
       "      <td>0</td>\n",
       "      <td>b81ef226f3fe1789b1e8b2acac839d17</td>\n",
       "      <td>1</td>\n",
       "      <td>credit_card</td>\n",
       "      <td>8</td>\n",
       "      <td>99.33</td>\n",
       "    </tr>\n",
       "    <tr>\n",
       "      <td>1</td>\n",
       "      <td>a9810da82917af2d9aefd1278f1dcfa0</td>\n",
       "      <td>1</td>\n",
       "      <td>credit_card</td>\n",
       "      <td>1</td>\n",
       "      <td>24.39</td>\n",
       "    </tr>\n",
       "    <tr>\n",
       "      <td>2</td>\n",
       "      <td>25e8ea4e93396b6fa0d3dd708e76c1bd</td>\n",
       "      <td>1</td>\n",
       "      <td>credit_card</td>\n",
       "      <td>1</td>\n",
       "      <td>65.71</td>\n",
       "    </tr>\n",
       "    <tr>\n",
       "      <td>3</td>\n",
       "      <td>ba78997921bbcdc1373bb41e913ab953</td>\n",
       "      <td>1</td>\n",
       "      <td>credit_card</td>\n",
       "      <td>8</td>\n",
       "      <td>107.78</td>\n",
       "    </tr>\n",
       "    <tr>\n",
       "      <td>4</td>\n",
       "      <td>42fdf880ba16b47b59251dd489d4441a</td>\n",
       "      <td>1</td>\n",
       "      <td>credit_card</td>\n",
       "      <td>2</td>\n",
       "      <td>128.45</td>\n",
       "    </tr>\n",
       "  </tbody>\n",
       "</table>\n",
       "</div>"
      ],
      "text/plain": [
       "                           order_id  payment_sequential payment_type  \\\n",
       "0  b81ef226f3fe1789b1e8b2acac839d17                   1  credit_card   \n",
       "1  a9810da82917af2d9aefd1278f1dcfa0                   1  credit_card   \n",
       "2  25e8ea4e93396b6fa0d3dd708e76c1bd                   1  credit_card   \n",
       "3  ba78997921bbcdc1373bb41e913ab953                   1  credit_card   \n",
       "4  42fdf880ba16b47b59251dd489d4441a                   1  credit_card   \n",
       "\n",
       "   payment_installments  payment_value  \n",
       "0                     8          99.33  \n",
       "1                     1          24.39  \n",
       "2                     1          65.71  \n",
       "3                     8         107.78  \n",
       "4                     2         128.45  "
      ]
     },
     "execution_count": 25,
     "metadata": {},
     "output_type": "execute_result"
    }
   ],
   "source": [
    "payment_df.head()"
   ]
  },
  {
   "cell_type": "code",
   "execution_count": 26,
   "metadata": {
    "scrolled": true
   },
   "outputs": [],
   "source": [
    "#payment_df.drop(['payment_sequential', 'payment_type','payment_installments'], axis='columns', inplace=True)\n",
    "#payment_df.head()"
   ]
  },
  {
   "cell_type": "code",
   "execution_count": 27,
   "metadata": {
    "scrolled": true
   },
   "outputs": [
    {
     "data": {
      "text/plain": [
       "order_id                99440\n",
       "payment_sequential         29\n",
       "payment_type                5\n",
       "payment_installments       24\n",
       "payment_value           29077\n",
       "dtype: int64"
      ]
     },
     "execution_count": 27,
     "metadata": {},
     "output_type": "execute_result"
    }
   ],
   "source": [
    "payment_df.nunique()"
   ]
  },
  {
   "cell_type": "markdown",
   "metadata": {},
   "source": [
    "## Customer Dataset"
   ]
  },
  {
   "cell_type": "code",
   "execution_count": 28,
   "metadata": {
    "scrolled": false
   },
   "outputs": [],
   "source": [
    "customer_df = pd.read_csv('olist_customers_dataset.csv')"
   ]
  },
  {
   "cell_type": "code",
   "execution_count": 29,
   "metadata": {},
   "outputs": [
    {
     "name": "stdout",
     "output_type": "stream",
     "text": [
      "<class 'pandas.core.frame.DataFrame'>\n",
      "RangeIndex: 99441 entries, 0 to 99440\n",
      "Data columns (total 5 columns):\n",
      "customer_id                 99441 non-null object\n",
      "customer_unique_id          99441 non-null object\n",
      "customer_zip_code_prefix    99441 non-null int64\n",
      "customer_city               99441 non-null object\n",
      "customer_state              99441 non-null object\n",
      "dtypes: int64(1), object(4)\n",
      "memory usage: 3.8+ MB\n"
     ]
    }
   ],
   "source": [
    "customer_df.info()"
   ]
  },
  {
   "cell_type": "code",
   "execution_count": 30,
   "metadata": {},
   "outputs": [
    {
     "data": {
      "text/plain": [
       "Index(['customer_id', 'customer_unique_id', 'customer_city', 'customer_state'], dtype='object')"
      ]
     },
     "execution_count": 30,
     "metadata": {},
     "output_type": "execute_result"
    }
   ],
   "source": [
    "customer_df.drop('customer_zip_code_prefix', axis='columns', inplace=True)\n",
    "customer_df.columns"
   ]
  },
  {
   "cell_type": "code",
   "execution_count": 31,
   "metadata": {
    "scrolled": true
   },
   "outputs": [
    {
     "data": {
      "text/html": [
       "<div>\n",
       "<style scoped>\n",
       "    .dataframe tbody tr th:only-of-type {\n",
       "        vertical-align: middle;\n",
       "    }\n",
       "\n",
       "    .dataframe tbody tr th {\n",
       "        vertical-align: top;\n",
       "    }\n",
       "\n",
       "    .dataframe thead th {\n",
       "        text-align: right;\n",
       "    }\n",
       "</style>\n",
       "<table border=\"1\" class=\"dataframe\">\n",
       "  <thead>\n",
       "    <tr style=\"text-align: right;\">\n",
       "      <th></th>\n",
       "      <th>customer_id</th>\n",
       "      <th>customer_unique_id</th>\n",
       "      <th>customer_city</th>\n",
       "      <th>customer_state</th>\n",
       "    </tr>\n",
       "  </thead>\n",
       "  <tbody>\n",
       "  </tbody>\n",
       "</table>\n",
       "</div>"
      ],
      "text/plain": [
       "Empty DataFrame\n",
       "Columns: [customer_id, customer_unique_id, customer_city, customer_state]\n",
       "Index: []"
      ]
     },
     "execution_count": 31,
     "metadata": {},
     "output_type": "execute_result"
    }
   ],
   "source": [
    "customer_df[customer_df.duplicated()]"
   ]
  },
  {
   "cell_type": "code",
   "execution_count": 32,
   "metadata": {
    "scrolled": false
   },
   "outputs": [
    {
     "data": {
      "text/plain": [
       "customer_id           99441\n",
       "customer_unique_id    96096\n",
       "customer_city          4119\n",
       "customer_state           27\n",
       "dtype: int64"
      ]
     },
     "execution_count": 32,
     "metadata": {},
     "output_type": "execute_result"
    }
   ],
   "source": [
    "customer_df.nunique()"
   ]
  },
  {
   "cell_type": "code",
   "execution_count": 33,
   "metadata": {
    "scrolled": true
   },
   "outputs": [
    {
     "data": {
      "text/html": [
       "<div>\n",
       "<style scoped>\n",
       "    .dataframe tbody tr th:only-of-type {\n",
       "        vertical-align: middle;\n",
       "    }\n",
       "\n",
       "    .dataframe tbody tr th {\n",
       "        vertical-align: top;\n",
       "    }\n",
       "\n",
       "    .dataframe thead th {\n",
       "        text-align: right;\n",
       "    }\n",
       "</style>\n",
       "<table border=\"1\" class=\"dataframe\">\n",
       "  <thead>\n",
       "    <tr style=\"text-align: right;\">\n",
       "      <th></th>\n",
       "      <th>customer_id</th>\n",
       "      <th>customer_unique_id</th>\n",
       "      <th>customer_city</th>\n",
       "      <th>customer_state</th>\n",
       "    </tr>\n",
       "  </thead>\n",
       "  <tbody>\n",
       "    <tr>\n",
       "      <td>0</td>\n",
       "      <td>06b8999e2fba1a1fbc88172c00ba8bc7</td>\n",
       "      <td>861eff4711a542e4b93843c6dd7febb0</td>\n",
       "      <td>franca</td>\n",
       "      <td>SP</td>\n",
       "    </tr>\n",
       "    <tr>\n",
       "      <td>1</td>\n",
       "      <td>18955e83d337fd6b2def6b18a428ac77</td>\n",
       "      <td>290c77bc529b7ac935b93aa66c333dc3</td>\n",
       "      <td>sao bernardo do campo</td>\n",
       "      <td>SP</td>\n",
       "    </tr>\n",
       "    <tr>\n",
       "      <td>2</td>\n",
       "      <td>4e7b3e00288586ebd08712fdd0374a03</td>\n",
       "      <td>060e732b5b29e8181a18229c7b0b2b5e</td>\n",
       "      <td>sao paulo</td>\n",
       "      <td>SP</td>\n",
       "    </tr>\n",
       "    <tr>\n",
       "      <td>3</td>\n",
       "      <td>b2b6027bc5c5109e529d4dc6358b12c3</td>\n",
       "      <td>259dac757896d24d7702b9acbbff3f3c</td>\n",
       "      <td>mogi das cruzes</td>\n",
       "      <td>SP</td>\n",
       "    </tr>\n",
       "    <tr>\n",
       "      <td>4</td>\n",
       "      <td>4f2d8ab171c80ec8364f7c12e35b23ad</td>\n",
       "      <td>345ecd01c38d18a9036ed96c73b8d066</td>\n",
       "      <td>campinas</td>\n",
       "      <td>SP</td>\n",
       "    </tr>\n",
       "  </tbody>\n",
       "</table>\n",
       "</div>"
      ],
      "text/plain": [
       "                        customer_id                customer_unique_id  \\\n",
       "0  06b8999e2fba1a1fbc88172c00ba8bc7  861eff4711a542e4b93843c6dd7febb0   \n",
       "1  18955e83d337fd6b2def6b18a428ac77  290c77bc529b7ac935b93aa66c333dc3   \n",
       "2  4e7b3e00288586ebd08712fdd0374a03  060e732b5b29e8181a18229c7b0b2b5e   \n",
       "3  b2b6027bc5c5109e529d4dc6358b12c3  259dac757896d24d7702b9acbbff3f3c   \n",
       "4  4f2d8ab171c80ec8364f7c12e35b23ad  345ecd01c38d18a9036ed96c73b8d066   \n",
       "\n",
       "           customer_city customer_state  \n",
       "0                 franca             SP  \n",
       "1  sao bernardo do campo             SP  \n",
       "2              sao paulo             SP  \n",
       "3        mogi das cruzes             SP  \n",
       "4               campinas             SP  "
      ]
     },
     "execution_count": 33,
     "metadata": {},
     "output_type": "execute_result"
    }
   ],
   "source": [
    "customer_df.head()"
   ]
  },
  {
   "cell_type": "markdown",
   "metadata": {},
   "source": [
    "# Exploratory Data Analytics"
   ]
  },
  {
   "cell_type": "code",
   "execution_count": 34,
   "metadata": {},
   "outputs": [],
   "source": [
    "order_df['purchase_date'] = order_df['order_purchase_timestamp'].dt.date"
   ]
  },
  {
   "cell_type": "code",
   "execution_count": 35,
   "metadata": {
    "scrolled": true
   },
   "outputs": [
    {
     "data": {
      "text/html": [
       "<div>\n",
       "<style scoped>\n",
       "    .dataframe tbody tr th:only-of-type {\n",
       "        vertical-align: middle;\n",
       "    }\n",
       "\n",
       "    .dataframe tbody tr th {\n",
       "        vertical-align: top;\n",
       "    }\n",
       "\n",
       "    .dataframe thead th {\n",
       "        text-align: right;\n",
       "    }\n",
       "</style>\n",
       "<table border=\"1\" class=\"dataframe\">\n",
       "  <thead>\n",
       "    <tr style=\"text-align: right;\">\n",
       "      <th></th>\n",
       "      <th>order_id</th>\n",
       "      <th>payment_sequential</th>\n",
       "      <th>payment_type</th>\n",
       "      <th>payment_installments</th>\n",
       "      <th>payment_value</th>\n",
       "      <th>customer_id</th>\n",
       "      <th>order_purchase_timestamp</th>\n",
       "      <th>purchase_date</th>\n",
       "    </tr>\n",
       "  </thead>\n",
       "  <tbody>\n",
       "    <tr>\n",
       "      <td>0</td>\n",
       "      <td>b81ef226f3fe1789b1e8b2acac839d17</td>\n",
       "      <td>1</td>\n",
       "      <td>credit_card</td>\n",
       "      <td>8</td>\n",
       "      <td>99.33</td>\n",
       "      <td>0a8556ac6be836b46b3e89920d59291c</td>\n",
       "      <td>2018-04-25 22:01:49</td>\n",
       "      <td>2018-04-25</td>\n",
       "    </tr>\n",
       "    <tr>\n",
       "      <td>1</td>\n",
       "      <td>a9810da82917af2d9aefd1278f1dcfa0</td>\n",
       "      <td>1</td>\n",
       "      <td>credit_card</td>\n",
       "      <td>1</td>\n",
       "      <td>24.39</td>\n",
       "      <td>f2c7fc58a9de810828715166c672f10a</td>\n",
       "      <td>2018-06-26 11:01:38</td>\n",
       "      <td>2018-06-26</td>\n",
       "    </tr>\n",
       "    <tr>\n",
       "      <td>2</td>\n",
       "      <td>25e8ea4e93396b6fa0d3dd708e76c1bd</td>\n",
       "      <td>1</td>\n",
       "      <td>credit_card</td>\n",
       "      <td>1</td>\n",
       "      <td>65.71</td>\n",
       "      <td>25b14b69de0b6e184ae6fe2755e478f9</td>\n",
       "      <td>2017-12-12 11:19:55</td>\n",
       "      <td>2017-12-12</td>\n",
       "    </tr>\n",
       "    <tr>\n",
       "      <td>3</td>\n",
       "      <td>ba78997921bbcdc1373bb41e913ab953</td>\n",
       "      <td>1</td>\n",
       "      <td>credit_card</td>\n",
       "      <td>8</td>\n",
       "      <td>107.78</td>\n",
       "      <td>7a5d8efaaa1081f800628c30d2b0728f</td>\n",
       "      <td>2017-12-06 12:04:06</td>\n",
       "      <td>2017-12-06</td>\n",
       "    </tr>\n",
       "    <tr>\n",
       "      <td>4</td>\n",
       "      <td>42fdf880ba16b47b59251dd489d4441a</td>\n",
       "      <td>1</td>\n",
       "      <td>credit_card</td>\n",
       "      <td>2</td>\n",
       "      <td>128.45</td>\n",
       "      <td>15fd6fb8f8312dbb4674e4518d6fa3b3</td>\n",
       "      <td>2018-05-21 13:59:17</td>\n",
       "      <td>2018-05-21</td>\n",
       "    </tr>\n",
       "    <tr>\n",
       "      <td>...</td>\n",
       "      <td>...</td>\n",
       "      <td>...</td>\n",
       "      <td>...</td>\n",
       "      <td>...</td>\n",
       "      <td>...</td>\n",
       "      <td>...</td>\n",
       "      <td>...</td>\n",
       "      <td>...</td>\n",
       "    </tr>\n",
       "    <tr>\n",
       "      <td>103881</td>\n",
       "      <td>0406037ad97740d563a178ecc7a2075c</td>\n",
       "      <td>1</td>\n",
       "      <td>boleto</td>\n",
       "      <td>1</td>\n",
       "      <td>363.31</td>\n",
       "      <td>5d576cb2dfa3bc05612c392a1ee9c654</td>\n",
       "      <td>2018-03-08 16:57:23</td>\n",
       "      <td>2018-03-08</td>\n",
       "    </tr>\n",
       "    <tr>\n",
       "      <td>103882</td>\n",
       "      <td>7b905861d7c825891d6347454ea7863f</td>\n",
       "      <td>1</td>\n",
       "      <td>credit_card</td>\n",
       "      <td>2</td>\n",
       "      <td>96.80</td>\n",
       "      <td>2079230c765a88530822a34a4cec2aa0</td>\n",
       "      <td>2017-08-18 09:45:35</td>\n",
       "      <td>2017-08-18</td>\n",
       "    </tr>\n",
       "    <tr>\n",
       "      <td>103883</td>\n",
       "      <td>32609bbb3dd69b3c066a6860554a77bf</td>\n",
       "      <td>1</td>\n",
       "      <td>credit_card</td>\n",
       "      <td>1</td>\n",
       "      <td>47.77</td>\n",
       "      <td>e4abb5057ec8cfda9759c0dc415a8188</td>\n",
       "      <td>2017-11-18 17:27:14</td>\n",
       "      <td>2017-11-18</td>\n",
       "    </tr>\n",
       "    <tr>\n",
       "      <td>103884</td>\n",
       "      <td>b8b61059626efa996a60be9bb9320e10</td>\n",
       "      <td>1</td>\n",
       "      <td>credit_card</td>\n",
       "      <td>5</td>\n",
       "      <td>369.54</td>\n",
       "      <td>5d719b0d300663188169c6560e243f27</td>\n",
       "      <td>2018-08-07 23:26:13</td>\n",
       "      <td>2018-08-07</td>\n",
       "    </tr>\n",
       "    <tr>\n",
       "      <td>103885</td>\n",
       "      <td>28bbae6599b09d39ca406b747b6632b1</td>\n",
       "      <td>1</td>\n",
       "      <td>boleto</td>\n",
       "      <td>1</td>\n",
       "      <td>191.58</td>\n",
       "      <td>4c7f868f43b5cff577b0becb8c8b7860</td>\n",
       "      <td>2017-12-05 08:18:35</td>\n",
       "      <td>2017-12-05</td>\n",
       "    </tr>\n",
       "  </tbody>\n",
       "</table>\n",
       "<p>103886 rows × 8 columns</p>\n",
       "</div>"
      ],
      "text/plain": [
       "                                order_id  payment_sequential payment_type  \\\n",
       "0       b81ef226f3fe1789b1e8b2acac839d17                   1  credit_card   \n",
       "1       a9810da82917af2d9aefd1278f1dcfa0                   1  credit_card   \n",
       "2       25e8ea4e93396b6fa0d3dd708e76c1bd                   1  credit_card   \n",
       "3       ba78997921bbcdc1373bb41e913ab953                   1  credit_card   \n",
       "4       42fdf880ba16b47b59251dd489d4441a                   1  credit_card   \n",
       "...                                  ...                 ...          ...   \n",
       "103881  0406037ad97740d563a178ecc7a2075c                   1       boleto   \n",
       "103882  7b905861d7c825891d6347454ea7863f                   1  credit_card   \n",
       "103883  32609bbb3dd69b3c066a6860554a77bf                   1  credit_card   \n",
       "103884  b8b61059626efa996a60be9bb9320e10                   1  credit_card   \n",
       "103885  28bbae6599b09d39ca406b747b6632b1                   1       boleto   \n",
       "\n",
       "        payment_installments  payment_value                       customer_id  \\\n",
       "0                          8          99.33  0a8556ac6be836b46b3e89920d59291c   \n",
       "1                          1          24.39  f2c7fc58a9de810828715166c672f10a   \n",
       "2                          1          65.71  25b14b69de0b6e184ae6fe2755e478f9   \n",
       "3                          8         107.78  7a5d8efaaa1081f800628c30d2b0728f   \n",
       "4                          2         128.45  15fd6fb8f8312dbb4674e4518d6fa3b3   \n",
       "...                      ...            ...                               ...   \n",
       "103881                     1         363.31  5d576cb2dfa3bc05612c392a1ee9c654   \n",
       "103882                     2          96.80  2079230c765a88530822a34a4cec2aa0   \n",
       "103883                     1          47.77  e4abb5057ec8cfda9759c0dc415a8188   \n",
       "103884                     5         369.54  5d719b0d300663188169c6560e243f27   \n",
       "103885                     1         191.58  4c7f868f43b5cff577b0becb8c8b7860   \n",
       "\n",
       "       order_purchase_timestamp purchase_date  \n",
       "0           2018-04-25 22:01:49    2018-04-25  \n",
       "1           2018-06-26 11:01:38    2018-06-26  \n",
       "2           2017-12-12 11:19:55    2017-12-12  \n",
       "3           2017-12-06 12:04:06    2017-12-06  \n",
       "4           2018-05-21 13:59:17    2018-05-21  \n",
       "...                         ...           ...  \n",
       "103881      2018-03-08 16:57:23    2018-03-08  \n",
       "103882      2017-08-18 09:45:35    2017-08-18  \n",
       "103883      2017-11-18 17:27:14    2017-11-18  \n",
       "103884      2018-08-07 23:26:13    2018-08-07  \n",
       "103885      2017-12-05 08:18:35    2017-12-05  \n",
       "\n",
       "[103886 rows x 8 columns]"
      ]
     },
     "execution_count": 35,
     "metadata": {},
     "output_type": "execute_result"
    }
   ],
   "source": [
    "payment_order_df = pd.merge(payment_df, order_df, how='left', on='order_id')\n",
    "payment_order_df"
   ]
  },
  {
   "cell_type": "code",
   "execution_count": 36,
   "metadata": {
    "scrolled": false
   },
   "outputs": [
    {
     "data": {
      "text/html": [
       "<div>\n",
       "<style scoped>\n",
       "    .dataframe tbody tr th:only-of-type {\n",
       "        vertical-align: middle;\n",
       "    }\n",
       "\n",
       "    .dataframe tbody tr th {\n",
       "        vertical-align: top;\n",
       "    }\n",
       "\n",
       "    .dataframe thead th {\n",
       "        text-align: right;\n",
       "    }\n",
       "</style>\n",
       "<table border=\"1\" class=\"dataframe\">\n",
       "  <thead>\n",
       "    <tr style=\"text-align: right;\">\n",
       "      <th></th>\n",
       "      <th>order_id</th>\n",
       "      <th>payment_sequential</th>\n",
       "      <th>payment_type</th>\n",
       "      <th>payment_installments</th>\n",
       "      <th>payment_value</th>\n",
       "      <th>customer_id</th>\n",
       "      <th>order_purchase_timestamp</th>\n",
       "      <th>purchase_date</th>\n",
       "      <th>customer_unique_id</th>\n",
       "      <th>customer_city</th>\n",
       "      <th>customer_state</th>\n",
       "    </tr>\n",
       "  </thead>\n",
       "  <tbody>\n",
       "    <tr>\n",
       "      <td>0</td>\n",
       "      <td>b81ef226f3fe1789b1e8b2acac839d17</td>\n",
       "      <td>1</td>\n",
       "      <td>credit_card</td>\n",
       "      <td>8</td>\n",
       "      <td>99.33</td>\n",
       "      <td>0a8556ac6be836b46b3e89920d59291c</td>\n",
       "      <td>2018-04-25 22:01:49</td>\n",
       "      <td>2018-04-25</td>\n",
       "      <td>708ab75d2a007f0564aedd11139c7708</td>\n",
       "      <td>teofilo otoni</td>\n",
       "      <td>MG</td>\n",
       "    </tr>\n",
       "    <tr>\n",
       "      <td>1</td>\n",
       "      <td>a9810da82917af2d9aefd1278f1dcfa0</td>\n",
       "      <td>1</td>\n",
       "      <td>credit_card</td>\n",
       "      <td>1</td>\n",
       "      <td>24.39</td>\n",
       "      <td>f2c7fc58a9de810828715166c672f10a</td>\n",
       "      <td>2018-06-26 11:01:38</td>\n",
       "      <td>2018-06-26</td>\n",
       "      <td>a8b9d3a27068454b1c98cc67d4e31e6f</td>\n",
       "      <td>sao paulo</td>\n",
       "      <td>SP</td>\n",
       "    </tr>\n",
       "    <tr>\n",
       "      <td>2</td>\n",
       "      <td>25e8ea4e93396b6fa0d3dd708e76c1bd</td>\n",
       "      <td>1</td>\n",
       "      <td>credit_card</td>\n",
       "      <td>1</td>\n",
       "      <td>65.71</td>\n",
       "      <td>25b14b69de0b6e184ae6fe2755e478f9</td>\n",
       "      <td>2017-12-12 11:19:55</td>\n",
       "      <td>2017-12-12</td>\n",
       "      <td>6f70c0b2f7552832ba46eb57b1c5651e</td>\n",
       "      <td>sao paulo</td>\n",
       "      <td>SP</td>\n",
       "    </tr>\n",
       "    <tr>\n",
       "      <td>3</td>\n",
       "      <td>ba78997921bbcdc1373bb41e913ab953</td>\n",
       "      <td>1</td>\n",
       "      <td>credit_card</td>\n",
       "      <td>8</td>\n",
       "      <td>107.78</td>\n",
       "      <td>7a5d8efaaa1081f800628c30d2b0728f</td>\n",
       "      <td>2017-12-06 12:04:06</td>\n",
       "      <td>2017-12-06</td>\n",
       "      <td>87695ed086ebd36f20404c82d20fca87</td>\n",
       "      <td>juiz de fora</td>\n",
       "      <td>MG</td>\n",
       "    </tr>\n",
       "    <tr>\n",
       "      <td>4</td>\n",
       "      <td>42fdf880ba16b47b59251dd489d4441a</td>\n",
       "      <td>1</td>\n",
       "      <td>credit_card</td>\n",
       "      <td>2</td>\n",
       "      <td>128.45</td>\n",
       "      <td>15fd6fb8f8312dbb4674e4518d6fa3b3</td>\n",
       "      <td>2018-05-21 13:59:17</td>\n",
       "      <td>2018-05-21</td>\n",
       "      <td>4291db0da71914754618cd789aebcd56</td>\n",
       "      <td>conchas</td>\n",
       "      <td>SP</td>\n",
       "    </tr>\n",
       "    <tr>\n",
       "      <td>...</td>\n",
       "      <td>...</td>\n",
       "      <td>...</td>\n",
       "      <td>...</td>\n",
       "      <td>...</td>\n",
       "      <td>...</td>\n",
       "      <td>...</td>\n",
       "      <td>...</td>\n",
       "      <td>...</td>\n",
       "      <td>...</td>\n",
       "      <td>...</td>\n",
       "      <td>...</td>\n",
       "    </tr>\n",
       "    <tr>\n",
       "      <td>103881</td>\n",
       "      <td>0406037ad97740d563a178ecc7a2075c</td>\n",
       "      <td>1</td>\n",
       "      <td>boleto</td>\n",
       "      <td>1</td>\n",
       "      <td>363.31</td>\n",
       "      <td>5d576cb2dfa3bc05612c392a1ee9c654</td>\n",
       "      <td>2018-03-08 16:57:23</td>\n",
       "      <td>2018-03-08</td>\n",
       "      <td>b6027ac07fb76ebca8c97b1887865aee</td>\n",
       "      <td>atibaia</td>\n",
       "      <td>SP</td>\n",
       "    </tr>\n",
       "    <tr>\n",
       "      <td>103882</td>\n",
       "      <td>7b905861d7c825891d6347454ea7863f</td>\n",
       "      <td>1</td>\n",
       "      <td>credit_card</td>\n",
       "      <td>2</td>\n",
       "      <td>96.80</td>\n",
       "      <td>2079230c765a88530822a34a4cec2aa0</td>\n",
       "      <td>2017-08-18 09:45:35</td>\n",
       "      <td>2017-08-18</td>\n",
       "      <td>53b30ca78efb2b7efcd3f9e461587eb2</td>\n",
       "      <td>belo horizonte</td>\n",
       "      <td>MG</td>\n",
       "    </tr>\n",
       "    <tr>\n",
       "      <td>103883</td>\n",
       "      <td>32609bbb3dd69b3c066a6860554a77bf</td>\n",
       "      <td>1</td>\n",
       "      <td>credit_card</td>\n",
       "      <td>1</td>\n",
       "      <td>47.77</td>\n",
       "      <td>e4abb5057ec8cfda9759c0dc415a8188</td>\n",
       "      <td>2017-11-18 17:27:14</td>\n",
       "      <td>2017-11-18</td>\n",
       "      <td>d3c7da954a324253814096bcaf240e4e</td>\n",
       "      <td>sao paulo</td>\n",
       "      <td>SP</td>\n",
       "    </tr>\n",
       "    <tr>\n",
       "      <td>103884</td>\n",
       "      <td>b8b61059626efa996a60be9bb9320e10</td>\n",
       "      <td>1</td>\n",
       "      <td>credit_card</td>\n",
       "      <td>5</td>\n",
       "      <td>369.54</td>\n",
       "      <td>5d719b0d300663188169c6560e243f27</td>\n",
       "      <td>2018-08-07 23:26:13</td>\n",
       "      <td>2018-08-07</td>\n",
       "      <td>b84dc68f02f122a88d7e7bbd37b06204</td>\n",
       "      <td>rio de janeiro</td>\n",
       "      <td>RJ</td>\n",
       "    </tr>\n",
       "    <tr>\n",
       "      <td>103885</td>\n",
       "      <td>28bbae6599b09d39ca406b747b6632b1</td>\n",
       "      <td>1</td>\n",
       "      <td>boleto</td>\n",
       "      <td>1</td>\n",
       "      <td>191.58</td>\n",
       "      <td>4c7f868f43b5cff577b0becb8c8b7860</td>\n",
       "      <td>2017-12-05 08:18:35</td>\n",
       "      <td>2017-12-05</td>\n",
       "      <td>b1f51a4e19da3338e51fbcfabefad1bf</td>\n",
       "      <td>rio de janeiro</td>\n",
       "      <td>RJ</td>\n",
       "    </tr>\n",
       "  </tbody>\n",
       "</table>\n",
       "<p>103886 rows × 11 columns</p>\n",
       "</div>"
      ],
      "text/plain": [
       "                                order_id  payment_sequential payment_type  \\\n",
       "0       b81ef226f3fe1789b1e8b2acac839d17                   1  credit_card   \n",
       "1       a9810da82917af2d9aefd1278f1dcfa0                   1  credit_card   \n",
       "2       25e8ea4e93396b6fa0d3dd708e76c1bd                   1  credit_card   \n",
       "3       ba78997921bbcdc1373bb41e913ab953                   1  credit_card   \n",
       "4       42fdf880ba16b47b59251dd489d4441a                   1  credit_card   \n",
       "...                                  ...                 ...          ...   \n",
       "103881  0406037ad97740d563a178ecc7a2075c                   1       boleto   \n",
       "103882  7b905861d7c825891d6347454ea7863f                   1  credit_card   \n",
       "103883  32609bbb3dd69b3c066a6860554a77bf                   1  credit_card   \n",
       "103884  b8b61059626efa996a60be9bb9320e10                   1  credit_card   \n",
       "103885  28bbae6599b09d39ca406b747b6632b1                   1       boleto   \n",
       "\n",
       "        payment_installments  payment_value                       customer_id  \\\n",
       "0                          8          99.33  0a8556ac6be836b46b3e89920d59291c   \n",
       "1                          1          24.39  f2c7fc58a9de810828715166c672f10a   \n",
       "2                          1          65.71  25b14b69de0b6e184ae6fe2755e478f9   \n",
       "3                          8         107.78  7a5d8efaaa1081f800628c30d2b0728f   \n",
       "4                          2         128.45  15fd6fb8f8312dbb4674e4518d6fa3b3   \n",
       "...                      ...            ...                               ...   \n",
       "103881                     1         363.31  5d576cb2dfa3bc05612c392a1ee9c654   \n",
       "103882                     2          96.80  2079230c765a88530822a34a4cec2aa0   \n",
       "103883                     1          47.77  e4abb5057ec8cfda9759c0dc415a8188   \n",
       "103884                     5         369.54  5d719b0d300663188169c6560e243f27   \n",
       "103885                     1         191.58  4c7f868f43b5cff577b0becb8c8b7860   \n",
       "\n",
       "       order_purchase_timestamp purchase_date  \\\n",
       "0           2018-04-25 22:01:49    2018-04-25   \n",
       "1           2018-06-26 11:01:38    2018-06-26   \n",
       "2           2017-12-12 11:19:55    2017-12-12   \n",
       "3           2017-12-06 12:04:06    2017-12-06   \n",
       "4           2018-05-21 13:59:17    2018-05-21   \n",
       "...                         ...           ...   \n",
       "103881      2018-03-08 16:57:23    2018-03-08   \n",
       "103882      2017-08-18 09:45:35    2017-08-18   \n",
       "103883      2017-11-18 17:27:14    2017-11-18   \n",
       "103884      2018-08-07 23:26:13    2018-08-07   \n",
       "103885      2017-12-05 08:18:35    2017-12-05   \n",
       "\n",
       "                      customer_unique_id   customer_city customer_state  \n",
       "0       708ab75d2a007f0564aedd11139c7708   teofilo otoni             MG  \n",
       "1       a8b9d3a27068454b1c98cc67d4e31e6f       sao paulo             SP  \n",
       "2       6f70c0b2f7552832ba46eb57b1c5651e       sao paulo             SP  \n",
       "3       87695ed086ebd36f20404c82d20fca87    juiz de fora             MG  \n",
       "4       4291db0da71914754618cd789aebcd56         conchas             SP  \n",
       "...                                  ...             ...            ...  \n",
       "103881  b6027ac07fb76ebca8c97b1887865aee         atibaia             SP  \n",
       "103882  53b30ca78efb2b7efcd3f9e461587eb2  belo horizonte             MG  \n",
       "103883  d3c7da954a324253814096bcaf240e4e       sao paulo             SP  \n",
       "103884  b84dc68f02f122a88d7e7bbd37b06204  rio de janeiro             RJ  \n",
       "103885  b1f51a4e19da3338e51fbcfabefad1bf  rio de janeiro             RJ  \n",
       "\n",
       "[103886 rows x 11 columns]"
      ]
     },
     "execution_count": 36,
     "metadata": {},
     "output_type": "execute_result"
    }
   ],
   "source": [
    "pay_order_cust_df = pd.merge(payment_order_df, customer_df, how='left', on='customer_id')\n",
    "pay_order_cust_df"
   ]
  },
  {
   "cell_type": "code",
   "execution_count": 38,
   "metadata": {
    "scrolled": true
   },
   "outputs": [],
   "source": [
    "poc_3m_df = pay_order_cust_df[(date(2017,4,1) <= pay_order_cust_df.purchase_date) &\n",
    "                              (pay_order_cust_df.purchase_date < date(2017,7,1))]\n",
    "poc_6m_df = pay_order_cust_df[(date(2017,7,1) <= pay_order_cust_df.purchase_date) & \n",
    "                              (pay_order_cust_df.purchase_date < date(2018,2,1))]"
   ]
  },
  {
   "cell_type": "code",
   "execution_count": 25,
   "metadata": {
    "scrolled": true
   },
   "outputs": [
    {
     "data": {
      "text/html": [
       "<div>\n",
       "<style scoped>\n",
       "    .dataframe tbody tr th:only-of-type {\n",
       "        vertical-align: middle;\n",
       "    }\n",
       "\n",
       "    .dataframe tbody tr th {\n",
       "        vertical-align: top;\n",
       "    }\n",
       "\n",
       "    .dataframe thead th {\n",
       "        text-align: right;\n",
       "    }\n",
       "</style>\n",
       "<table border=\"1\" class=\"dataframe\">\n",
       "  <thead>\n",
       "    <tr style=\"text-align: right;\">\n",
       "      <th></th>\n",
       "      <th>recency</th>\n",
       "      <th>frequency</th>\n",
       "      <th>monetary</th>\n",
       "    </tr>\n",
       "    <tr>\n",
       "      <th>customer_unique_id</th>\n",
       "      <th></th>\n",
       "      <th></th>\n",
       "      <th></th>\n",
       "    </tr>\n",
       "  </thead>\n",
       "  <tbody>\n",
       "    <tr>\n",
       "      <td>0011805441c0d1b68b48002f1d005526</td>\n",
       "      <td>2017-04-24</td>\n",
       "      <td>1</td>\n",
       "      <td>297.14</td>\n",
       "    </tr>\n",
       "    <tr>\n",
       "      <td>0011857aff0e5871ce5eb429f21cdaf5</td>\n",
       "      <td>2017-06-28</td>\n",
       "      <td>1</td>\n",
       "      <td>192.83</td>\n",
       "    </tr>\n",
       "    <tr>\n",
       "      <td>00191a9719ef48ebb5860b130347bf33</td>\n",
       "      <td>2017-04-19</td>\n",
       "      <td>1</td>\n",
       "      <td>58.86</td>\n",
       "    </tr>\n",
       "    <tr>\n",
       "      <td>001a2bf0e46c684031af91fb2bce149d</td>\n",
       "      <td>2017-06-29</td>\n",
       "      <td>1</td>\n",
       "      <td>36.73</td>\n",
       "    </tr>\n",
       "    <tr>\n",
       "      <td>002d71b244beb91ca7030b15ab526446</td>\n",
       "      <td>2017-05-22</td>\n",
       "      <td>1</td>\n",
       "      <td>130.56</td>\n",
       "    </tr>\n",
       "    <tr>\n",
       "      <td>...</td>\n",
       "      <td>...</td>\n",
       "      <td>...</td>\n",
       "      <td>...</td>\n",
       "    </tr>\n",
       "    <tr>\n",
       "      <td>ffe7752edcf14b5819058b1948e02f3a</td>\n",
       "      <td>2017-06-13</td>\n",
       "      <td>1</td>\n",
       "      <td>71.15</td>\n",
       "    </tr>\n",
       "    <tr>\n",
       "      <td>ffe9102bb78a76921ba0ff3c4659616a</td>\n",
       "      <td>2017-06-09</td>\n",
       "      <td>1</td>\n",
       "      <td>416.36</td>\n",
       "    </tr>\n",
       "    <tr>\n",
       "      <td>ffef0ffa736c7b3d9af741611089729b</td>\n",
       "      <td>2017-05-29</td>\n",
       "      <td>1</td>\n",
       "      <td>139.07</td>\n",
       "    </tr>\n",
       "    <tr>\n",
       "      <td>fffcf5a5ff07b0908bd4e2dbc735a684</td>\n",
       "      <td>2017-06-08</td>\n",
       "      <td>1</td>\n",
       "      <td>2067.42</td>\n",
       "    </tr>\n",
       "    <tr>\n",
       "      <td>ffffd2657e2aad2907e67c3e9daecbeb</td>\n",
       "      <td>2017-05-02</td>\n",
       "      <td>1</td>\n",
       "      <td>71.56</td>\n",
       "    </tr>\n",
       "  </tbody>\n",
       "</table>\n",
       "<p>9139 rows × 3 columns</p>\n",
       "</div>"
      ],
      "text/plain": [
       "                                     recency  frequency  monetary\n",
       "customer_unique_id                                               \n",
       "0011805441c0d1b68b48002f1d005526  2017-04-24          1    297.14\n",
       "0011857aff0e5871ce5eb429f21cdaf5  2017-06-28          1    192.83\n",
       "00191a9719ef48ebb5860b130347bf33  2017-04-19          1     58.86\n",
       "001a2bf0e46c684031af91fb2bce149d  2017-06-29          1     36.73\n",
       "002d71b244beb91ca7030b15ab526446  2017-05-22          1    130.56\n",
       "...                                      ...        ...       ...\n",
       "ffe7752edcf14b5819058b1948e02f3a  2017-06-13          1     71.15\n",
       "ffe9102bb78a76921ba0ff3c4659616a  2017-06-09          1    416.36\n",
       "ffef0ffa736c7b3d9af741611089729b  2017-05-29          1    139.07\n",
       "fffcf5a5ff07b0908bd4e2dbc735a684  2017-06-08          1   2067.42\n",
       "ffffd2657e2aad2907e67c3e9daecbeb  2017-05-02          1     71.56\n",
       "\n",
       "[9139 rows x 3 columns]"
      ]
     },
     "execution_count": 25,
     "metadata": {},
     "output_type": "execute_result"
    }
   ],
   "source": [
    "rfm_3m_df = poc_3m_df.groupby('customer_unique_id').agg({'purchase_date':'max', 'order_id':'count', 'payment_value':'sum'})\n",
    "rfm_3m_df.columns = ['recency', 'frequency', 'monetary']\n",
    "rfm_3m_df"
   ]
  },
  {
   "cell_type": "code",
   "execution_count": 26,
   "metadata": {
    "scrolled": true
   },
   "outputs": [
    {
     "data": {
      "text/html": [
       "<div>\n",
       "<style scoped>\n",
       "    .dataframe tbody tr th:only-of-type {\n",
       "        vertical-align: middle;\n",
       "    }\n",
       "\n",
       "    .dataframe tbody tr th {\n",
       "        vertical-align: top;\n",
       "    }\n",
       "\n",
       "    .dataframe thead th {\n",
       "        text-align: right;\n",
       "    }\n",
       "</style>\n",
       "<table border=\"1\" class=\"dataframe\">\n",
       "  <thead>\n",
       "    <tr style=\"text-align: right;\">\n",
       "      <th></th>\n",
       "      <th>recency</th>\n",
       "      <th>frequency</th>\n",
       "      <th>monetary</th>\n",
       "    </tr>\n",
       "    <tr>\n",
       "      <th>customer_unique_id</th>\n",
       "      <th></th>\n",
       "      <th></th>\n",
       "      <th></th>\n",
       "    </tr>\n",
       "  </thead>\n",
       "  <tbody>\n",
       "    <tr>\n",
       "      <td>0011805441c0d1b68b48002f1d005526</td>\n",
       "      <td>67</td>\n",
       "      <td>1</td>\n",
       "      <td>297.14</td>\n",
       "    </tr>\n",
       "    <tr>\n",
       "      <td>0011857aff0e5871ce5eb429f21cdaf5</td>\n",
       "      <td>2</td>\n",
       "      <td>1</td>\n",
       "      <td>192.83</td>\n",
       "    </tr>\n",
       "    <tr>\n",
       "      <td>00191a9719ef48ebb5860b130347bf33</td>\n",
       "      <td>72</td>\n",
       "      <td>1</td>\n",
       "      <td>58.86</td>\n",
       "    </tr>\n",
       "    <tr>\n",
       "      <td>001a2bf0e46c684031af91fb2bce149d</td>\n",
       "      <td>1</td>\n",
       "      <td>1</td>\n",
       "      <td>36.73</td>\n",
       "    </tr>\n",
       "    <tr>\n",
       "      <td>002d71b244beb91ca7030b15ab526446</td>\n",
       "      <td>39</td>\n",
       "      <td>1</td>\n",
       "      <td>130.56</td>\n",
       "    </tr>\n",
       "    <tr>\n",
       "      <td>...</td>\n",
       "      <td>...</td>\n",
       "      <td>...</td>\n",
       "      <td>...</td>\n",
       "    </tr>\n",
       "    <tr>\n",
       "      <td>ffe7752edcf14b5819058b1948e02f3a</td>\n",
       "      <td>17</td>\n",
       "      <td>1</td>\n",
       "      <td>71.15</td>\n",
       "    </tr>\n",
       "    <tr>\n",
       "      <td>ffe9102bb78a76921ba0ff3c4659616a</td>\n",
       "      <td>21</td>\n",
       "      <td>1</td>\n",
       "      <td>416.36</td>\n",
       "    </tr>\n",
       "    <tr>\n",
       "      <td>ffef0ffa736c7b3d9af741611089729b</td>\n",
       "      <td>32</td>\n",
       "      <td>1</td>\n",
       "      <td>139.07</td>\n",
       "    </tr>\n",
       "    <tr>\n",
       "      <td>fffcf5a5ff07b0908bd4e2dbc735a684</td>\n",
       "      <td>22</td>\n",
       "      <td>1</td>\n",
       "      <td>2067.42</td>\n",
       "    </tr>\n",
       "    <tr>\n",
       "      <td>ffffd2657e2aad2907e67c3e9daecbeb</td>\n",
       "      <td>59</td>\n",
       "      <td>1</td>\n",
       "      <td>71.56</td>\n",
       "    </tr>\n",
       "  </tbody>\n",
       "</table>\n",
       "<p>9139 rows × 3 columns</p>\n",
       "</div>"
      ],
      "text/plain": [
       "                                  recency  frequency  monetary\n",
       "customer_unique_id                                            \n",
       "0011805441c0d1b68b48002f1d005526       67          1    297.14\n",
       "0011857aff0e5871ce5eb429f21cdaf5        2          1    192.83\n",
       "00191a9719ef48ebb5860b130347bf33       72          1     58.86\n",
       "001a2bf0e46c684031af91fb2bce149d        1          1     36.73\n",
       "002d71b244beb91ca7030b15ab526446       39          1    130.56\n",
       "...                                   ...        ...       ...\n",
       "ffe7752edcf14b5819058b1948e02f3a       17          1     71.15\n",
       "ffe9102bb78a76921ba0ff3c4659616a       21          1    416.36\n",
       "ffef0ffa736c7b3d9af741611089729b       32          1    139.07\n",
       "fffcf5a5ff07b0908bd4e2dbc735a684       22          1   2067.42\n",
       "ffffd2657e2aad2907e67c3e9daecbeb       59          1     71.56\n",
       "\n",
       "[9139 rows x 3 columns]"
      ]
     },
     "execution_count": 26,
     "metadata": {},
     "output_type": "execute_result"
    }
   ],
   "source": [
    "rfm_3m_df.recency = rfm_3m_df.recency.apply(lambda x: (poc_3m_df.purchase_date.max()-x).days)\n",
    "rfm_3m_df"
   ]
  },
  {
   "cell_type": "code",
   "execution_count": 27,
   "metadata": {
    "scrolled": true
   },
   "outputs": [
    {
     "data": {
      "text/html": [
       "<div>\n",
       "<style scoped>\n",
       "    .dataframe tbody tr th:only-of-type {\n",
       "        vertical-align: middle;\n",
       "    }\n",
       "\n",
       "    .dataframe tbody tr th {\n",
       "        vertical-align: top;\n",
       "    }\n",
       "\n",
       "    .dataframe thead th {\n",
       "        text-align: right;\n",
       "    }\n",
       "</style>\n",
       "<table border=\"1\" class=\"dataframe\">\n",
       "  <thead>\n",
       "    <tr style=\"text-align: right;\">\n",
       "      <th></th>\n",
       "      <th>recency</th>\n",
       "      <th>frequency</th>\n",
       "      <th>monetary</th>\n",
       "    </tr>\n",
       "    <tr>\n",
       "      <th>customer_unique_id</th>\n",
       "      <th></th>\n",
       "      <th></th>\n",
       "      <th></th>\n",
       "    </tr>\n",
       "  </thead>\n",
       "  <tbody>\n",
       "    <tr>\n",
       "      <td>0011805441c0d1b68b48002f1d005526</td>\n",
       "      <td>67</td>\n",
       "      <td>1</td>\n",
       "      <td>297.14</td>\n",
       "    </tr>\n",
       "    <tr>\n",
       "      <td>0011857aff0e5871ce5eb429f21cdaf5</td>\n",
       "      <td>2</td>\n",
       "      <td>1</td>\n",
       "      <td>192.83</td>\n",
       "    </tr>\n",
       "    <tr>\n",
       "      <td>00191a9719ef48ebb5860b130347bf33</td>\n",
       "      <td>72</td>\n",
       "      <td>1</td>\n",
       "      <td>58.86</td>\n",
       "    </tr>\n",
       "    <tr>\n",
       "      <td>001a2bf0e46c684031af91fb2bce149d</td>\n",
       "      <td>1</td>\n",
       "      <td>1</td>\n",
       "      <td>36.73</td>\n",
       "    </tr>\n",
       "    <tr>\n",
       "      <td>002d71b244beb91ca7030b15ab526446</td>\n",
       "      <td>39</td>\n",
       "      <td>1</td>\n",
       "      <td>130.56</td>\n",
       "    </tr>\n",
       "    <tr>\n",
       "      <td>...</td>\n",
       "      <td>...</td>\n",
       "      <td>...</td>\n",
       "      <td>...</td>\n",
       "    </tr>\n",
       "    <tr>\n",
       "      <td>ffe7752edcf14b5819058b1948e02f3a</td>\n",
       "      <td>17</td>\n",
       "      <td>1</td>\n",
       "      <td>71.15</td>\n",
       "    </tr>\n",
       "    <tr>\n",
       "      <td>ffe9102bb78a76921ba0ff3c4659616a</td>\n",
       "      <td>21</td>\n",
       "      <td>1</td>\n",
       "      <td>416.36</td>\n",
       "    </tr>\n",
       "    <tr>\n",
       "      <td>ffef0ffa736c7b3d9af741611089729b</td>\n",
       "      <td>32</td>\n",
       "      <td>1</td>\n",
       "      <td>139.07</td>\n",
       "    </tr>\n",
       "    <tr>\n",
       "      <td>fffcf5a5ff07b0908bd4e2dbc735a684</td>\n",
       "      <td>22</td>\n",
       "      <td>1</td>\n",
       "      <td>2067.42</td>\n",
       "    </tr>\n",
       "    <tr>\n",
       "      <td>ffffd2657e2aad2907e67c3e9daecbeb</td>\n",
       "      <td>59</td>\n",
       "      <td>1</td>\n",
       "      <td>71.56</td>\n",
       "    </tr>\n",
       "  </tbody>\n",
       "</table>\n",
       "<p>9139 rows × 3 columns</p>\n",
       "</div>"
      ],
      "text/plain": [
       "                                  recency  frequency  monetary\n",
       "customer_unique_id                                            \n",
       "0011805441c0d1b68b48002f1d005526       67          1    297.14\n",
       "0011857aff0e5871ce5eb429f21cdaf5        2          1    192.83\n",
       "00191a9719ef48ebb5860b130347bf33       72          1     58.86\n",
       "001a2bf0e46c684031af91fb2bce149d        1          1     36.73\n",
       "002d71b244beb91ca7030b15ab526446       39          1    130.56\n",
       "...                                   ...        ...       ...\n",
       "ffe7752edcf14b5819058b1948e02f3a       17          1     71.15\n",
       "ffe9102bb78a76921ba0ff3c4659616a       21          1    416.36\n",
       "ffef0ffa736c7b3d9af741611089729b       32          1    139.07\n",
       "fffcf5a5ff07b0908bd4e2dbc735a684       22          1   2067.42\n",
       "ffffd2657e2aad2907e67c3e9daecbeb       59          1     71.56\n",
       "\n",
       "[9139 rows x 3 columns]"
      ]
     },
     "execution_count": 27,
     "metadata": {},
     "output_type": "execute_result"
    }
   ],
   "source": [
    "rfm_3m_df.rename(columns={'revenue':'monetary'}, inplace=True)\n",
    "rfm_3m_df"
   ]
  },
  {
   "cell_type": "code",
   "execution_count": 9,
   "metadata": {},
   "outputs": [],
   "source": [
    "rfm_3m_df = pd.read_csv('rfm3m.csv', index_col=0)"
   ]
  },
  {
   "cell_type": "code",
   "execution_count": 10,
   "metadata": {},
   "outputs": [],
   "source": [
    "from sklearn.preprocessing import StandardScaler\n",
    "scaler = StandardScaler()\n",
    "scaler.fit(rfm_3m_df)\n",
    "X_scaled = scaler.transform(rfm_3m_df)\n",
    "rfm_3m_km = KMeans(n_clusters=4).fit(X_scaled)"
   ]
  },
  {
   "cell_type": "code",
   "execution_count": 11,
   "metadata": {
    "scrolled": true
   },
   "outputs": [
    {
     "data": {
      "text/plain": [
       "<matplotlib.collections.PathCollection at 0x259527f0e88>"
      ]
     },
     "execution_count": 11,
     "metadata": {},
     "output_type": "execute_result"
    },
    {
     "data": {
      "image/png": "[encoded data removed]",
      "text/plain": [
       "<Figure size 432x288 with 1 Axes>"
      ]
     },
     "metadata": {
      "needs_background": "light"
     },
     "output_type": "display_data"
    }
   ],
   "source": [
    "plt.scatter(rfm_3m_df.recency, rfm_3m_df.monetary, c=rfm_3m_km.labels_)"
   ]
  },
  {
   "cell_type": "code",
   "execution_count": 12,
   "metadata": {
    "scrolled": true
   },
   "outputs": [
    {
     "data": {
      "text/plain": [
       "<matplotlib.collections.PathCollection at 0x259528ae708>"
      ]
     },
     "execution_count": 12,
     "metadata": {},
     "output_type": "execute_result"
    },
    {
     "data": {
      "image/png": "[encoded data removed]",
      "text/plain": [
       "<Figure size 432x288 with 1 Axes>"
      ]
     },
     "metadata": {
      "needs_background": "light"
     },
     "output_type": "display_data"
    }
   ],
   "source": [
    "plt.scatter(rfm_3m_df.frequency, rfm_3m_df.monetary, c=rfm_3m_km.labels_)"
   ]
  },
  {
   "cell_type": "code",
   "execution_count": 40,
   "metadata": {},
   "outputs": [
    {
     "data": {
      "text/html": [
       "<div>\n",
       "<style scoped>\n",
       "    .dataframe tbody tr th:only-of-type {\n",
       "        vertical-align: middle;\n",
       "    }\n",
       "\n",
       "    .dataframe tbody tr th {\n",
       "        vertical-align: top;\n",
       "    }\n",
       "\n",
       "    .dataframe thead th {\n",
       "        text-align: right;\n",
       "    }\n",
       "</style>\n",
       "<table border=\"1\" class=\"dataframe\">\n",
       "  <thead>\n",
       "    <tr style=\"text-align: right;\">\n",
       "      <th></th>\n",
       "      <th>recency</th>\n",
       "      <th>frequency</th>\n",
       "      <th>monetary</th>\n",
       "    </tr>\n",
       "    <tr>\n",
       "      <th>customer_unique_id</th>\n",
       "      <th></th>\n",
       "      <th></th>\n",
       "      <th></th>\n",
       "    </tr>\n",
       "  </thead>\n",
       "  <tbody>\n",
       "    <tr>\n",
       "      <td>0000f6ccb0745a6a4b88665a16c9f078</td>\n",
       "      <td>2017-10-12</td>\n",
       "      <td>1</td>\n",
       "      <td>43.62</td>\n",
       "    </tr>\n",
       "    <tr>\n",
       "      <td>0004aac84e0df4da2b147fca70cf8255</td>\n",
       "      <td>2017-11-14</td>\n",
       "      <td>1</td>\n",
       "      <td>196.89</td>\n",
       "    </tr>\n",
       "    <tr>\n",
       "      <td>0006fdc98a402fceb4eb0ee528f6a8d4</td>\n",
       "      <td>2017-07-18</td>\n",
       "      <td>1</td>\n",
       "      <td>29.00</td>\n",
       "    </tr>\n",
       "    <tr>\n",
       "      <td>00082cbe03e478190aadbea78542e933</td>\n",
       "      <td>2017-11-19</td>\n",
       "      <td>1</td>\n",
       "      <td>126.26</td>\n",
       "    </tr>\n",
       "    <tr>\n",
       "      <td>000a5ad9c4601d2bbdd9ed765d5213b3</td>\n",
       "      <td>2017-08-11</td>\n",
       "      <td>1</td>\n",
       "      <td>91.28</td>\n",
       "    </tr>\n",
       "    <tr>\n",
       "      <td>...</td>\n",
       "      <td>...</td>\n",
       "      <td>...</td>\n",
       "      <td>...</td>\n",
       "    </tr>\n",
       "    <tr>\n",
       "      <td>fff7219c86179ca6441b8f37823ba3d3</td>\n",
       "      <td>2017-12-27</td>\n",
       "      <td>1</td>\n",
       "      <td>265.80</td>\n",
       "    </tr>\n",
       "    <tr>\n",
       "      <td>fffa431dd3fcdefea4b1777d114144f2</td>\n",
       "      <td>2017-10-30</td>\n",
       "      <td>1</td>\n",
       "      <td>81.20</td>\n",
       "    </tr>\n",
       "    <tr>\n",
       "      <td>fffb09418989a0dbff854a28163e47c6</td>\n",
       "      <td>2017-12-17</td>\n",
       "      <td>1</td>\n",
       "      <td>73.16</td>\n",
       "    </tr>\n",
       "    <tr>\n",
       "      <td>fffbf87b7a1a6fa8b03f081c5f51a201</td>\n",
       "      <td>2017-12-27</td>\n",
       "      <td>1</td>\n",
       "      <td>167.32</td>\n",
       "    </tr>\n",
       "    <tr>\n",
       "      <td>fffea47cd6d3cc0a88bd621562a9d061</td>\n",
       "      <td>2017-12-10</td>\n",
       "      <td>1</td>\n",
       "      <td>84.58</td>\n",
       "    </tr>\n",
       "  </tbody>\n",
       "</table>\n",
       "<p>36768 rows × 3 columns</p>\n",
       "</div>"
      ],
      "text/plain": [
       "                                     recency  frequency  monetary\n",
       "customer_unique_id                                               \n",
       "0000f6ccb0745a6a4b88665a16c9f078  2017-10-12          1     43.62\n",
       "0004aac84e0df4da2b147fca70cf8255  2017-11-14          1    196.89\n",
       "0006fdc98a402fceb4eb0ee528f6a8d4  2017-07-18          1     29.00\n",
       "00082cbe03e478190aadbea78542e933  2017-11-19          1    126.26\n",
       "000a5ad9c4601d2bbdd9ed765d5213b3  2017-08-11          1     91.28\n",
       "...                                      ...        ...       ...\n",
       "fff7219c86179ca6441b8f37823ba3d3  2017-12-27          1    265.80\n",
       "fffa431dd3fcdefea4b1777d114144f2  2017-10-30          1     81.20\n",
       "fffb09418989a0dbff854a28163e47c6  2017-12-17          1     73.16\n",
       "fffbf87b7a1a6fa8b03f081c5f51a201  2017-12-27          1    167.32\n",
       "fffea47cd6d3cc0a88bd621562a9d061  2017-12-10          1     84.58\n",
       "\n",
       "[36768 rows x 3 columns]"
      ]
     },
     "execution_count": 40,
     "metadata": {},
     "output_type": "execute_result"
    }
   ],
   "source": [
    "rfm_6m_df = poc_6m_df.groupby('customer_unique_id').agg({'purchase_date':'max', 'order_id':'count', 'payment_value':'sum'})\n",
    "rfm_6m_df.columns = ['recency', 'frequency', 'monetary']\n",
    "rfm_6m_df"
   ]
  },
  {
   "cell_type": "code",
   "execution_count": 41,
   "metadata": {
    "scrolled": false
   },
   "outputs": [],
   "source": [
    "m_6m = rfm_6m_df[['monetary']]"
   ]
  },
  {
   "cell_type": "code",
   "execution_count": 42,
   "metadata": {},
   "outputs": [
    {
     "data": {
      "text/html": [
       "<div>\n",
       "<style scoped>\n",
       "    .dataframe tbody tr th:only-of-type {\n",
       "        vertical-align: middle;\n",
       "    }\n",
       "\n",
       "    .dataframe tbody tr th {\n",
       "        vertical-align: top;\n",
       "    }\n",
       "\n",
       "    .dataframe thead th {\n",
       "        text-align: right;\n",
       "    }\n",
       "</style>\n",
       "<table border=\"1\" class=\"dataframe\">\n",
       "  <thead>\n",
       "    <tr style=\"text-align: right;\">\n",
       "      <th></th>\n",
       "      <th>customer_unique_id</th>\n",
       "      <th>rfm_clust_3m</th>\n",
       "    </tr>\n",
       "  </thead>\n",
       "  <tbody>\n",
       "    <tr>\n",
       "      <td>0</td>\n",
       "      <td>0011805441c0d1b68b48002f1d005526</td>\n",
       "      <td>1</td>\n",
       "    </tr>\n",
       "    <tr>\n",
       "      <td>1</td>\n",
       "      <td>0011857aff0e5871ce5eb429f21cdaf5</td>\n",
       "      <td>0</td>\n",
       "    </tr>\n",
       "    <tr>\n",
       "      <td>2</td>\n",
       "      <td>00191a9719ef48ebb5860b130347bf33</td>\n",
       "      <td>1</td>\n",
       "    </tr>\n",
       "    <tr>\n",
       "      <td>3</td>\n",
       "      <td>001a2bf0e46c684031af91fb2bce149d</td>\n",
       "      <td>0</td>\n",
       "    </tr>\n",
       "    <tr>\n",
       "      <td>4</td>\n",
       "      <td>002d71b244beb91ca7030b15ab526446</td>\n",
       "      <td>0</td>\n",
       "    </tr>\n",
       "    <tr>\n",
       "      <td>...</td>\n",
       "      <td>...</td>\n",
       "      <td>...</td>\n",
       "    </tr>\n",
       "    <tr>\n",
       "      <td>9134</td>\n",
       "      <td>ffe7752edcf14b5819058b1948e02f3a</td>\n",
       "      <td>0</td>\n",
       "    </tr>\n",
       "    <tr>\n",
       "      <td>9135</td>\n",
       "      <td>ffe9102bb78a76921ba0ff3c4659616a</td>\n",
       "      <td>0</td>\n",
       "    </tr>\n",
       "    <tr>\n",
       "      <td>9136</td>\n",
       "      <td>ffef0ffa736c7b3d9af741611089729b</td>\n",
       "      <td>0</td>\n",
       "    </tr>\n",
       "    <tr>\n",
       "      <td>9137</td>\n",
       "      <td>fffcf5a5ff07b0908bd4e2dbc735a684</td>\n",
       "      <td>2</td>\n",
       "    </tr>\n",
       "    <tr>\n",
       "      <td>9138</td>\n",
       "      <td>ffffd2657e2aad2907e67c3e9daecbeb</td>\n",
       "      <td>1</td>\n",
       "    </tr>\n",
       "  </tbody>\n",
       "</table>\n",
       "<p>9139 rows × 2 columns</p>\n",
       "</div>"
      ],
      "text/plain": [
       "                    customer_unique_id  rfm_clust_3m\n",
       "0     0011805441c0d1b68b48002f1d005526             1\n",
       "1     0011857aff0e5871ce5eb429f21cdaf5             0\n",
       "2     00191a9719ef48ebb5860b130347bf33             1\n",
       "3     001a2bf0e46c684031af91fb2bce149d             0\n",
       "4     002d71b244beb91ca7030b15ab526446             0\n",
       "...                                ...           ...\n",
       "9134  ffe7752edcf14b5819058b1948e02f3a             0\n",
       "9135  ffe9102bb78a76921ba0ff3c4659616a             0\n",
       "9136  ffef0ffa736c7b3d9af741611089729b             0\n",
       "9137  fffcf5a5ff07b0908bd4e2dbc735a684             2\n",
       "9138  ffffd2657e2aad2907e67c3e9daecbeb             1\n",
       "\n",
       "[9139 rows x 2 columns]"
      ]
     },
     "execution_count": 42,
     "metadata": {},
     "output_type": "execute_result"
    }
   ],
   "source": [
    "rfm_clust_3m = pd.DataFrame()\n",
    "rfm_clust_3m['customer_unique_id'] = rfm_3m_df.index\n",
    "rfm_clust_3m['rfm_clust_3m'] = rfm_3m_km.labels_\n",
    "rfm_clust_3m"
   ]
  },
  {
   "cell_type": "code",
   "execution_count": 43,
   "metadata": {},
   "outputs": [
    {
     "data": {
      "text/html": [
       "<div>\n",
       "<style scoped>\n",
       "    .dataframe tbody tr th:only-of-type {\n",
       "        vertical-align: middle;\n",
       "    }\n",
       "\n",
       "    .dataframe tbody tr th {\n",
       "        vertical-align: top;\n",
       "    }\n",
       "\n",
       "    .dataframe thead th {\n",
       "        text-align: right;\n",
       "    }\n",
       "</style>\n",
       "<table border=\"1\" class=\"dataframe\">\n",
       "  <thead>\n",
       "    <tr style=\"text-align: right;\">\n",
       "      <th></th>\n",
       "      <th>customer_unique_id</th>\n",
       "      <th>rfm_clust_3m</th>\n",
       "      <th>monetary</th>\n",
       "    </tr>\n",
       "  </thead>\n",
       "  <tbody>\n",
       "    <tr>\n",
       "      <td>0</td>\n",
       "      <td>018b5a7502c30eb5f230f1b4eb23a156</td>\n",
       "      <td>1</td>\n",
       "      <td>55.09</td>\n",
       "    </tr>\n",
       "    <tr>\n",
       "      <td>1</td>\n",
       "      <td>01c289bb06354cdc7e6549570f20ada4</td>\n",
       "      <td>0</td>\n",
       "      <td>168.36</td>\n",
       "    </tr>\n",
       "    <tr>\n",
       "      <td>2</td>\n",
       "      <td>029b457bd01199c39136f89e0eddcd3a</td>\n",
       "      <td>1</td>\n",
       "      <td>215.06</td>\n",
       "    </tr>\n",
       "    <tr>\n",
       "      <td>3</td>\n",
       "      <td>031ea691b99fc101dcad357d1a83573f</td>\n",
       "      <td>1</td>\n",
       "      <td>25.77</td>\n",
       "    </tr>\n",
       "    <tr>\n",
       "      <td>4</td>\n",
       "      <td>043aee247e71edff7045664609f4d806</td>\n",
       "      <td>0</td>\n",
       "      <td>113.57</td>\n",
       "    </tr>\n",
       "    <tr>\n",
       "      <td>...</td>\n",
       "      <td>...</td>\n",
       "      <td>...</td>\n",
       "      <td>...</td>\n",
       "    </tr>\n",
       "    <tr>\n",
       "      <td>191</td>\n",
       "      <td>f561632522774ab728bb93f8f3ab5e61</td>\n",
       "      <td>0</td>\n",
       "      <td>319.58</td>\n",
       "    </tr>\n",
       "    <tr>\n",
       "      <td>192</td>\n",
       "      <td>f68cbab6cbaab1d6226e2dafed486578</td>\n",
       "      <td>0</td>\n",
       "      <td>54.09</td>\n",
       "    </tr>\n",
       "    <tr>\n",
       "      <td>193</td>\n",
       "      <td>f7d2fc6f0a2778f53d2a6bfc27bd0e8c</td>\n",
       "      <td>1</td>\n",
       "      <td>179.86</td>\n",
       "    </tr>\n",
       "    <tr>\n",
       "      <td>194</td>\n",
       "      <td>fe59d5878cd80080edbd29b5a0a4e1cf</td>\n",
       "      <td>0</td>\n",
       "      <td>79.20</td>\n",
       "    </tr>\n",
       "    <tr>\n",
       "      <td>195</td>\n",
       "      <td>ff8892f7c26aa0446da53d01b18df463</td>\n",
       "      <td>0</td>\n",
       "      <td>66.74</td>\n",
       "    </tr>\n",
       "  </tbody>\n",
       "</table>\n",
       "<p>196 rows × 3 columns</p>\n",
       "</div>"
      ],
      "text/plain": [
       "                   customer_unique_id  rfm_clust_3m  monetary\n",
       "0    018b5a7502c30eb5f230f1b4eb23a156             1     55.09\n",
       "1    01c289bb06354cdc7e6549570f20ada4             0    168.36\n",
       "2    029b457bd01199c39136f89e0eddcd3a             1    215.06\n",
       "3    031ea691b99fc101dcad357d1a83573f             1     25.77\n",
       "4    043aee247e71edff7045664609f4d806             0    113.57\n",
       "..                                ...           ...       ...\n",
       "191  f561632522774ab728bb93f8f3ab5e61             0    319.58\n",
       "192  f68cbab6cbaab1d6226e2dafed486578             0     54.09\n",
       "193  f7d2fc6f0a2778f53d2a6bfc27bd0e8c             1    179.86\n",
       "194  fe59d5878cd80080edbd29b5a0a4e1cf             0     79.20\n",
       "195  ff8892f7c26aa0446da53d01b18df463             0     66.74\n",
       "\n",
       "[196 rows x 3 columns]"
      ]
     },
     "execution_count": 43,
     "metadata": {},
     "output_type": "execute_result"
    }
   ],
   "source": [
    "common_cust = pd.merge(rfm_clust_3m, m_6m, on='customer_unique_id')\n",
    "common_cust"
   ]
  },
  {
   "cell_type": "code",
   "execution_count": 44,
   "metadata": {},
   "outputs": [],
   "source": [
    "X = np.array(common_cust.rfm_clust_3m).reshape(-1, 1)\n",
    "y = common_cust.monetary"
   ]
  },
  {
   "cell_type": "code",
   "execution_count": 45,
   "metadata": {
    "scrolled": false
   },
   "outputs": [
    {
     "data": {
      "text/plain": [
       "<matplotlib.collections.PathCollection at 0x25955e28ec8>"
      ]
     },
     "execution_count": 45,
     "metadata": {},
     "output_type": "execute_result"
    },
    {
     "data": {
      "image/png": "[encoded data removed]",
      "text/plain": [
       "<Figure size 432x288 with 1 Axes>"
      ]
     },
     "metadata": {
      "needs_background": "light"
     },
     "output_type": "display_data"
    }
   ],
   "source": [
    "plt.scatter(X, y)"
   ]
  },
  {
   "cell_type": "code",
   "execution_count": 46,
   "metadata": {},
   "outputs": [
    {
     "name": "stdout",
     "output_type": "stream",
     "text": [
      "0.07735776365472036\n",
      "-0.04489682739348222\n"
     ]
    }
   ],
   "source": [
    "from sklearn.model_selection import train_test_split\n",
    "X_train, X_test, y_train, y_test = train_test_split(X, y, test_size=0.25, random_state=42)\n",
    "\n",
    "from sklearn.linear_model import LinearRegression\n",
    "lr = LinearRegression().fit(X_train, y_train)\n",
    "print(lr.score(X_train, y_train))\n",
    "print(lr.score(X_test, y_test))"
   ]
  },
  {
   "cell_type": "code",
   "execution_count": 47,
   "metadata": {
    "scrolled": false
   },
   "outputs": [
    {
     "data": {
      "text/plain": [
       "array([109.12410991])"
      ]
     },
     "execution_count": 47,
     "metadata": {},
     "output_type": "execute_result"
    }
   ],
   "source": [
    "lr.coef_"
   ]
  },
  {
   "cell_type": "code",
   "execution_count": 52,
   "metadata": {},
   "outputs": [
    {
     "data": {
      "text/html": [
       "<div>\n",
       "<style scoped>\n",
       "    .dataframe tbody tr th:only-of-type {\n",
       "        vertical-align: middle;\n",
       "    }\n",
       "\n",
       "    .dataframe tbody tr th {\n",
       "        vertical-align: top;\n",
       "    }\n",
       "\n",
       "    .dataframe thead th {\n",
       "        text-align: right;\n",
       "    }\n",
       "</style>\n",
       "<table border=\"1\" class=\"dataframe\">\n",
       "  <thead>\n",
       "    <tr style=\"text-align: right;\">\n",
       "      <th></th>\n",
       "      <th>monetary</th>\n",
       "    </tr>\n",
       "  </thead>\n",
       "  <tbody>\n",
       "    <tr>\n",
       "      <td>0</td>\n",
       "      <td>55.09</td>\n",
       "    </tr>\n",
       "    <tr>\n",
       "      <td>1</td>\n",
       "      <td>168.36</td>\n",
       "    </tr>\n",
       "    <tr>\n",
       "      <td>2</td>\n",
       "      <td>215.06</td>\n",
       "    </tr>\n",
       "    <tr>\n",
       "      <td>3</td>\n",
       "      <td>25.77</td>\n",
       "    </tr>\n",
       "    <tr>\n",
       "      <td>4</td>\n",
       "      <td>113.57</td>\n",
       "    </tr>\n",
       "    <tr>\n",
       "      <td>...</td>\n",
       "      <td>...</td>\n",
       "    </tr>\n",
       "    <tr>\n",
       "      <td>191</td>\n",
       "      <td>319.58</td>\n",
       "    </tr>\n",
       "    <tr>\n",
       "      <td>192</td>\n",
       "      <td>54.09</td>\n",
       "    </tr>\n",
       "    <tr>\n",
       "      <td>193</td>\n",
       "      <td>179.86</td>\n",
       "    </tr>\n",
       "    <tr>\n",
       "      <td>194</td>\n",
       "      <td>79.20</td>\n",
       "    </tr>\n",
       "    <tr>\n",
       "      <td>195</td>\n",
       "      <td>66.74</td>\n",
       "    </tr>\n",
       "  </tbody>\n",
       "</table>\n",
       "<p>196 rows × 1 columns</p>\n",
       "</div>"
      ],
      "text/plain": [
       "     monetary\n",
       "0       55.09\n",
       "1      168.36\n",
       "2      215.06\n",
       "3       25.77\n",
       "4      113.57\n",
       "..        ...\n",
       "191    319.58\n",
       "192     54.09\n",
       "193    179.86\n",
       "194     79.20\n",
       "195     66.74\n",
       "\n",
       "[196 rows x 1 columns]"
      ]
     },
     "execution_count": 52,
     "metadata": {},
     "output_type": "execute_result"
    }
   ],
   "source": [
    "common_cust[['monetary']]"
   ]
  },
  {
   "cell_type": "code",
   "execution_count": 57,
   "metadata": {
    "scrolled": false
   },
   "outputs": [
    {
     "data": {
      "text/plain": [
       "<matplotlib.collections.PathCollection at 0x25956036308>"
      ]
     },
     "execution_count": 57,
     "metadata": {},
     "output_type": "execute_result"
    },
    {
     "data": {
      "image/png": "[encoded data removed]",
      "text/plain": [
       "<Figure size 432x288 with 1 Axes>"
      ]
     },
     "metadata": {
      "needs_background": "light"
     },
     "output_type": "display_data"
    }
   ],
   "source": [
    "m6m_km = KMeans(n_clusters=2)\n",
    "m6m_km.fit(common_cust[['monetary']])\n",
    "plt.scatter(common_cust.monetary, np.zeros([1,common_cust.shape[0]]), c=m6m_km.labels_)"
   ]
  },
  {
   "cell_type": "code",
   "execution_count": 68,
   "metadata": {},
   "outputs": [
    {
     "data": {
      "text/plain": [
       "0.9693877551020408"
      ]
     },
     "execution_count": 68,
     "metadata": {},
     "output_type": "execute_result"
    }
   ],
   "source": [
    "1-m6m_km.labels_.mean()"
   ]
  },
  {
   "cell_type": "code",
   "execution_count": 69,
   "metadata": {},
   "outputs": [
    {
     "data": {
      "text/plain": [
       "<matplotlib.collections.PathCollection at 0x25956410948>"
      ]
     },
     "execution_count": 69,
     "metadata": {},
     "output_type": "execute_result"
    },
    {
     "data": {
      "image/png": "[encoded data removed]",
      "text/plain": [
       "<Figure size 432x288 with 1 Axes>"
      ]
     },
     "metadata": {
      "needs_background": "light"
     },
     "output_type": "display_data"
    }
   ],
   "source": [
    "plt.scatter(common_cust.rfm_clust_3m, m6m_km.labels_)"
   ]
  },
  {
   "cell_type": "code",
   "execution_count": 65,
   "metadata": {
    "scrolled": true
   },
   "outputs": [
    {
     "name": "stderr",
     "output_type": "stream",
     "text": [
      "C:\\Users\\arali\\Anaconda3\\lib\\site-packages\\sklearn\\linear_model\\logistic.py:432: FutureWarning: Default solver will be changed to 'lbfgs' in 0.22. Specify a solver to silence this warning.\n",
      "  FutureWarning)\n"
     ]
    }
   ],
   "source": [
    "from sklearn.linear_model import LogisticRegression \n",
    "clust_lr = LogisticRegression().fit(common_cust[['rfm_clust_3m']], m6m_km.labels_)"
   ]
  },
  {
   "cell_type": "code",
   "execution_count": 66,
   "metadata": {},
   "outputs": [
    {
     "data": {
      "text/plain": [
       "0.9693877551020408"
      ]
     },
     "execution_count": 66,
     "metadata": {},
     "output_type": "execute_result"
    }
   ],
   "source": [
    "clust_lr.score(common_cust[['rfm_clust_3m']], m6m_km.labels_)"
   ]
  }
 ],
 "metadata": {
  "kernelspec": {
   "display_name": "Python 3",
   "language": "python",
   "name": "python3"
  },
  "language_info": {
   "codemirror_mode": {
    "name": "ipython",
    "version": 3
   },
   "file_extension": ".py",
   "mimetype": "text/x-python",
   "name": "python",
   "nbconvert_exporter": "python",
   "pygments_lexer": "ipython3",
   "version": "3.7.4"
  }
 },
 "nbformat": 4,
 "nbformat_minor": 2
}
