{
 "cells": [
  {
   "cell_type": "markdown",
   "metadata": {},
   "source": [
    "<h1 id=\"tocheading\">Table of Contents</h1>\n",
    "<div id=\"toc\"></div>"
   ]
  },
  {
   "cell_type": "code",
   "execution_count": 12,
   "metadata": {},
   "outputs": [
    {
     "data": {
      "application/javascript": [
       "$.getScript('https://kmahelona.github.io/ipython_notebook_goodies/ipython_notebook_toc.js') \n"
      ],
      "text/plain": [
       "<IPython.core.display.Javascript object>"
      ]
     },
     "metadata": {},
     "output_type": "display_data"
    }
   ],
   "source": [
    "%%javascript\n",
    "$.getScript('https://kmahelona.github.io/ipython_notebook_goodies/ipython_notebook_toc.js') "
   ]
  },
  {
   "cell_type": "markdown",
   "metadata": {},
   "source": [
    "# Problem Statement"
   ]
  },
  {
   "cell_type": "markdown",
   "metadata": {},
   "source": [
    "This report presents a interpretable model to predict monetary value of a customer over a prediod of time in the future based on their history in e-commerce business. These predictions can be used by the sales team to prioritize customers with higher value for the business. The data is obtained from a [public repository](https://www.kaggle.com/olistbr/brazilian-ecommerce) where information about the data can be found."
   ]
  },
  {
   "cell_type": "markdown",
   "metadata": {},
   "source": [
    "# Data Cleaning"
   ]
  },
  {
   "cell_type": "code",
   "execution_count": 13,
   "metadata": {},
   "outputs": [],
   "source": [
    "# frequently used libraries\n",
    "import numpy as np\n",
    "import pandas as pd\n",
    "import matplotlib.pyplot as plt\n",
    "import warnings\n",
    "warnings.filterwarnings('ignore')\n",
    "from datetime import datetime, date"
   ]
  },
  {
   "cell_type": "markdown",
   "metadata": {},
   "source": [
    "## Order Database"
   ]
  },
  {
   "cell_type": "code",
   "execution_count": 14,
   "metadata": {},
   "outputs": [
    {
     "name": "stdout",
     "output_type": "stream",
     "text": [
      "<class 'pandas.core.frame.DataFrame'>\n",
      "RangeIndex: 99441 entries, 0 to 99440\n",
      "Data columns (total 8 columns):\n",
      "order_id                         99441 non-null object\n",
      "customer_id                      99441 non-null object\n",
      "order_status                     99441 non-null object\n",
      "order_purchase_timestamp         99441 non-null object\n",
      "order_approved_at                99281 non-null object\n",
      "order_delivered_carrier_date     97658 non-null object\n",
      "order_delivered_customer_date    96476 non-null object\n",
      "order_estimated_delivery_date    99441 non-null object\n",
      "dtypes: object(8)\n",
      "memory usage: 6.1+ MB\n"
     ]
    }
   ],
   "source": [
    "# read data and show its high-level information\n",
    "order_df = pd.read_csv('olist_orders_dataset.csv')\n",
    "order_df.info()"
   ]
  },
  {
   "cell_type": "code",
   "execution_count": 15,
   "metadata": {
    "scrolled": false
   },
   "outputs": [
    {
     "data": {
      "text/plain": [
       "Index(['order_id', 'customer_id', 'order_purchase_timestamp',\n",
       "       'order_delivered_customer_date', 'order_estimated_delivery_date'],\n",
       "      dtype='object')"
      ]
     },
     "execution_count": 15,
     "metadata": {},
     "output_type": "execute_result"
    }
   ],
   "source": [
    "# drop irrelevant columns\n",
    "order_df.drop(['order_status',\n",
    "               'order_delivered_carrier_date',\n",
    "               'order_approved_at'], axis='columns', inplace=True)\n",
    "order_df.columns"
   ]
  },
  {
   "cell_type": "code",
   "execution_count": 16,
   "metadata": {},
   "outputs": [
    {
     "data": {
      "text/plain": [
       "order_id                                 object\n",
       "customer_id                              object\n",
       "order_purchase_timestamp         datetime64[ns]\n",
       "order_delivered_customer_date    datetime64[ns]\n",
       "order_estimated_delivery_date    datetime64[ns]\n",
       "dtype: object"
      ]
     },
     "execution_count": 16,
     "metadata": {},
     "output_type": "execute_result"
    }
   ],
   "source": [
    "# assign datetime data type for date/time columns  \n",
    "for column in ['order_purchase_timestamp',\n",
    "               'order_delivered_customer_date',\n",
    "               'order_estimated_delivery_date']:\n",
    "    order_df[column] = pd.to_datetime(order_df[column])\n",
    "order_df.dtypes"
   ]
  },
  {
   "cell_type": "code",
   "execution_count": 17,
   "metadata": {},
   "outputs": [
    {
     "data": {
      "text/html": [
       "<div>\n",
       "<style scoped>\n",
       "    .dataframe tbody tr th:only-of-type {\n",
       "        vertical-align: middle;\n",
       "    }\n",
       "\n",
       "    .dataframe tbody tr th {\n",
       "        vertical-align: top;\n",
       "    }\n",
       "\n",
       "    .dataframe thead th {\n",
       "        text-align: right;\n",
       "    }\n",
       "</style>\n",
       "<table border=\"1\" class=\"dataframe\">\n",
       "  <thead>\n",
       "    <tr style=\"text-align: right;\">\n",
       "      <th></th>\n",
       "      <th>order_id</th>\n",
       "      <th>customer_id</th>\n",
       "      <th>order_purchase_timestamp</th>\n",
       "      <th>order_delivered_customer_date</th>\n",
       "      <th>order_estimated_delivery_date</th>\n",
       "    </tr>\n",
       "  </thead>\n",
       "  <tbody>\n",
       "  </tbody>\n",
       "</table>\n",
       "</div>"
      ],
      "text/plain": [
       "Empty DataFrame\n",
       "Columns: [order_id, customer_id, order_purchase_timestamp, order_delivered_customer_date, order_estimated_delivery_date]\n",
       "Index: []"
      ]
     },
     "execution_count": 17,
     "metadata": {},
     "output_type": "execute_result"
    }
   ],
   "source": [
    "# duplicate rows of dataframe\n",
    "order_df[order_df.duplicated()]"
   ]
  },
  {
   "cell_type": "code",
   "execution_count": 18,
   "metadata": {},
   "outputs": [
    {
     "data": {
      "text/html": [
       "<div>\n",
       "<style scoped>\n",
       "    .dataframe tbody tr th:only-of-type {\n",
       "        vertical-align: middle;\n",
       "    }\n",
       "\n",
       "    .dataframe tbody tr th {\n",
       "        vertical-align: top;\n",
       "    }\n",
       "\n",
       "    .dataframe thead th {\n",
       "        text-align: right;\n",
       "    }\n",
       "</style>\n",
       "<table border=\"1\" class=\"dataframe\">\n",
       "  <thead>\n",
       "    <tr style=\"text-align: right;\">\n",
       "      <th></th>\n",
       "      <th>order_id</th>\n",
       "      <th>customer_id</th>\n",
       "      <th>order_purchase_timestamp</th>\n",
       "      <th>order_delivered_customer_date</th>\n",
       "      <th>order_estimated_delivery_date</th>\n",
       "    </tr>\n",
       "  </thead>\n",
       "  <tbody>\n",
       "    <tr>\n",
       "      <td>0</td>\n",
       "      <td>e481f51cbdc54678b7cc49136f2d6af7</td>\n",
       "      <td>9ef432eb6251297304e76186b10a928d</td>\n",
       "      <td>2017-10-02 10:56:33</td>\n",
       "      <td>2017-10-10 21:25:13</td>\n",
       "      <td>2017-10-18</td>\n",
       "    </tr>\n",
       "    <tr>\n",
       "      <td>1</td>\n",
       "      <td>53cdb2fc8bc7dce0b6741e2150273451</td>\n",
       "      <td>b0830fb4747a6c6d20dea0b8c802d7ef</td>\n",
       "      <td>2018-07-24 20:41:37</td>\n",
       "      <td>2018-08-07 15:27:45</td>\n",
       "      <td>2018-08-13</td>\n",
       "    </tr>\n",
       "    <tr>\n",
       "      <td>2</td>\n",
       "      <td>47770eb9100c2d0c44946d9cf07ec65d</td>\n",
       "      <td>41ce2a54c0b03bf3443c3d931a367089</td>\n",
       "      <td>2018-08-08 08:38:49</td>\n",
       "      <td>2018-08-17 18:06:29</td>\n",
       "      <td>2018-09-04</td>\n",
       "    </tr>\n",
       "    <tr>\n",
       "      <td>3</td>\n",
       "      <td>949d5b44dbf5de918fe9c16f97b45f8a</td>\n",
       "      <td>f88197465ea7920adcdbec7375364d82</td>\n",
       "      <td>2017-11-18 19:28:06</td>\n",
       "      <td>2017-12-02 00:28:42</td>\n",
       "      <td>2017-12-15</td>\n",
       "    </tr>\n",
       "    <tr>\n",
       "      <td>4</td>\n",
       "      <td>ad21c59c0840e6cb83a9ceb5573f8159</td>\n",
       "      <td>8ab97904e6daea8866dbdbc4fb7aad2c</td>\n",
       "      <td>2018-02-13 21:18:39</td>\n",
       "      <td>2018-02-16 18:17:02</td>\n",
       "      <td>2018-02-26</td>\n",
       "    </tr>\n",
       "  </tbody>\n",
       "</table>\n",
       "</div>"
      ],
      "text/plain": [
       "                           order_id                       customer_id  \\\n",
       "0  e481f51cbdc54678b7cc49136f2d6af7  9ef432eb6251297304e76186b10a928d   \n",
       "1  53cdb2fc8bc7dce0b6741e2150273451  b0830fb4747a6c6d20dea0b8c802d7ef   \n",
       "2  47770eb9100c2d0c44946d9cf07ec65d  41ce2a54c0b03bf3443c3d931a367089   \n",
       "3  949d5b44dbf5de918fe9c16f97b45f8a  f88197465ea7920adcdbec7375364d82   \n",
       "4  ad21c59c0840e6cb83a9ceb5573f8159  8ab97904e6daea8866dbdbc4fb7aad2c   \n",
       "\n",
       "  order_purchase_timestamp order_delivered_customer_date  \\\n",
       "0      2017-10-02 10:56:33           2017-10-10 21:25:13   \n",
       "1      2018-07-24 20:41:37           2018-08-07 15:27:45   \n",
       "2      2018-08-08 08:38:49           2018-08-17 18:06:29   \n",
       "3      2017-11-18 19:28:06           2017-12-02 00:28:42   \n",
       "4      2018-02-13 21:18:39           2018-02-16 18:17:02   \n",
       "\n",
       "  order_estimated_delivery_date  \n",
       "0                    2017-10-18  \n",
       "1                    2018-08-13  \n",
       "2                    2018-09-04  \n",
       "3                    2017-12-15  \n",
       "4                    2018-02-26  "
      ]
     },
     "execution_count": 18,
     "metadata": {},
     "output_type": "execute_result"
    }
   ],
   "source": [
    "# head of values\n",
    "order_df.head()"
   ]
  },
  {
   "cell_type": "markdown",
   "metadata": {},
   "source": [
    "## Payment Database"
   ]
  },
  {
   "cell_type": "code",
   "execution_count": 19,
   "metadata": {},
   "outputs": [
    {
     "name": "stdout",
     "output_type": "stream",
     "text": [
      "<class 'pandas.core.frame.DataFrame'>\n",
      "RangeIndex: 103886 entries, 0 to 103885\n",
      "Data columns (total 5 columns):\n",
      "order_id                103886 non-null object\n",
      "payment_sequential      103886 non-null int64\n",
      "payment_type            103886 non-null object\n",
      "payment_installments    103886 non-null int64\n",
      "payment_value           103886 non-null float64\n",
      "dtypes: float64(1), int64(2), object(2)\n",
      "memory usage: 4.0+ MB\n"
     ]
    }
   ],
   "source": [
    "# read data and show its high-level information\n",
    "payment_df = pd.read_csv('olist_order_payments_dataset.csv')\n",
    "payment_df.info()"
   ]
  },
  {
   "cell_type": "code",
   "execution_count": 20,
   "metadata": {
    "scrolled": false
   },
   "outputs": [
    {
     "data": {
      "text/html": [
       "<div>\n",
       "<style scoped>\n",
       "    .dataframe tbody tr th:only-of-type {\n",
       "        vertical-align: middle;\n",
       "    }\n",
       "\n",
       "    .dataframe tbody tr th {\n",
       "        vertical-align: top;\n",
       "    }\n",
       "\n",
       "    .dataframe thead th {\n",
       "        text-align: right;\n",
       "    }\n",
       "</style>\n",
       "<table border=\"1\" class=\"dataframe\">\n",
       "  <thead>\n",
       "    <tr style=\"text-align: right;\">\n",
       "      <th></th>\n",
       "      <th>payment_sequential</th>\n",
       "      <th>payment_installments</th>\n",
       "      <th>payment_value</th>\n",
       "    </tr>\n",
       "  </thead>\n",
       "  <tbody>\n",
       "    <tr>\n",
       "      <td>count</td>\n",
       "      <td>103886.000000</td>\n",
       "      <td>103886.000000</td>\n",
       "      <td>103886.000000</td>\n",
       "    </tr>\n",
       "    <tr>\n",
       "      <td>mean</td>\n",
       "      <td>1.092679</td>\n",
       "      <td>2.853349</td>\n",
       "      <td>154.100380</td>\n",
       "    </tr>\n",
       "    <tr>\n",
       "      <td>std</td>\n",
       "      <td>0.706584</td>\n",
       "      <td>2.687051</td>\n",
       "      <td>217.494064</td>\n",
       "    </tr>\n",
       "    <tr>\n",
       "      <td>min</td>\n",
       "      <td>1.000000</td>\n",
       "      <td>0.000000</td>\n",
       "      <td>0.000000</td>\n",
       "    </tr>\n",
       "    <tr>\n",
       "      <td>25%</td>\n",
       "      <td>1.000000</td>\n",
       "      <td>1.000000</td>\n",
       "      <td>56.790000</td>\n",
       "    </tr>\n",
       "    <tr>\n",
       "      <td>50%</td>\n",
       "      <td>1.000000</td>\n",
       "      <td>1.000000</td>\n",
       "      <td>100.000000</td>\n",
       "    </tr>\n",
       "    <tr>\n",
       "      <td>75%</td>\n",
       "      <td>1.000000</td>\n",
       "      <td>4.000000</td>\n",
       "      <td>171.837500</td>\n",
       "    </tr>\n",
       "    <tr>\n",
       "      <td>max</td>\n",
       "      <td>29.000000</td>\n",
       "      <td>24.000000</td>\n",
       "      <td>13664.080000</td>\n",
       "    </tr>\n",
       "  </tbody>\n",
       "</table>\n",
       "</div>"
      ],
      "text/plain": [
       "       payment_sequential  payment_installments  payment_value\n",
       "count       103886.000000         103886.000000  103886.000000\n",
       "mean             1.092679              2.853349     154.100380\n",
       "std              0.706584              2.687051     217.494064\n",
       "min              1.000000              0.000000       0.000000\n",
       "25%              1.000000              1.000000      56.790000\n",
       "50%              1.000000              1.000000     100.000000\n",
       "75%              1.000000              4.000000     171.837500\n",
       "max             29.000000             24.000000   13664.080000"
      ]
     },
     "execution_count": 20,
     "metadata": {},
     "output_type": "execute_result"
    }
   ],
   "source": [
    "payment_df.describe()"
   ]
  },
  {
   "cell_type": "code",
   "execution_count": 21,
   "metadata": {},
   "outputs": [
    {
     "data": {
      "text/html": [
       "<div>\n",
       "<style scoped>\n",
       "    .dataframe tbody tr th:only-of-type {\n",
       "        vertical-align: middle;\n",
       "    }\n",
       "\n",
       "    .dataframe tbody tr th {\n",
       "        vertical-align: top;\n",
       "    }\n",
       "\n",
       "    .dataframe thead th {\n",
       "        text-align: right;\n",
       "    }\n",
       "</style>\n",
       "<table border=\"1\" class=\"dataframe\">\n",
       "  <thead>\n",
       "    <tr style=\"text-align: right;\">\n",
       "      <th></th>\n",
       "      <th>order_id</th>\n",
       "      <th>payment_sequential</th>\n",
       "      <th>payment_type</th>\n",
       "      <th>payment_installments</th>\n",
       "      <th>payment_value</th>\n",
       "    </tr>\n",
       "  </thead>\n",
       "  <tbody>\n",
       "  </tbody>\n",
       "</table>\n",
       "</div>"
      ],
      "text/plain": [
       "Empty DataFrame\n",
       "Columns: [order_id, payment_sequential, payment_type, payment_installments, payment_value]\n",
       "Index: []"
      ]
     },
     "execution_count": 21,
     "metadata": {},
     "output_type": "execute_result"
    }
   ],
   "source": [
    "# duplicate rows of dataframe\n",
    "payment_df[payment_df.duplicated()]"
   ]
  },
  {
   "cell_type": "code",
   "execution_count": 22,
   "metadata": {
    "scrolled": true
   },
   "outputs": [
    {
     "data": {
      "text/html": [
       "<div>\n",
       "<style scoped>\n",
       "    .dataframe tbody tr th:only-of-type {\n",
       "        vertical-align: middle;\n",
       "    }\n",
       "\n",
       "    .dataframe tbody tr th {\n",
       "        vertical-align: top;\n",
       "    }\n",
       "\n",
       "    .dataframe thead th {\n",
       "        text-align: right;\n",
       "    }\n",
       "</style>\n",
       "<table border=\"1\" class=\"dataframe\">\n",
       "  <thead>\n",
       "    <tr style=\"text-align: right;\">\n",
       "      <th></th>\n",
       "      <th>order_id</th>\n",
       "      <th>payment_sequential</th>\n",
       "      <th>payment_type</th>\n",
       "      <th>payment_installments</th>\n",
       "      <th>payment_value</th>\n",
       "    </tr>\n",
       "  </thead>\n",
       "  <tbody>\n",
       "    <tr>\n",
       "      <td>0</td>\n",
       "      <td>b81ef226f3fe1789b1e8b2acac839d17</td>\n",
       "      <td>1</td>\n",
       "      <td>credit_card</td>\n",
       "      <td>8</td>\n",
       "      <td>99.33</td>\n",
       "    </tr>\n",
       "    <tr>\n",
       "      <td>1</td>\n",
       "      <td>a9810da82917af2d9aefd1278f1dcfa0</td>\n",
       "      <td>1</td>\n",
       "      <td>credit_card</td>\n",
       "      <td>1</td>\n",
       "      <td>24.39</td>\n",
       "    </tr>\n",
       "    <tr>\n",
       "      <td>2</td>\n",
       "      <td>25e8ea4e93396b6fa0d3dd708e76c1bd</td>\n",
       "      <td>1</td>\n",
       "      <td>credit_card</td>\n",
       "      <td>1</td>\n",
       "      <td>65.71</td>\n",
       "    </tr>\n",
       "    <tr>\n",
       "      <td>3</td>\n",
       "      <td>ba78997921bbcdc1373bb41e913ab953</td>\n",
       "      <td>1</td>\n",
       "      <td>credit_card</td>\n",
       "      <td>8</td>\n",
       "      <td>107.78</td>\n",
       "    </tr>\n",
       "    <tr>\n",
       "      <td>4</td>\n",
       "      <td>42fdf880ba16b47b59251dd489d4441a</td>\n",
       "      <td>1</td>\n",
       "      <td>credit_card</td>\n",
       "      <td>2</td>\n",
       "      <td>128.45</td>\n",
       "    </tr>\n",
       "  </tbody>\n",
       "</table>\n",
       "</div>"
      ],
      "text/plain": [
       "                           order_id  payment_sequential payment_type  \\\n",
       "0  b81ef226f3fe1789b1e8b2acac839d17                   1  credit_card   \n",
       "1  a9810da82917af2d9aefd1278f1dcfa0                   1  credit_card   \n",
       "2  25e8ea4e93396b6fa0d3dd708e76c1bd                   1  credit_card   \n",
       "3  ba78997921bbcdc1373bb41e913ab953                   1  credit_card   \n",
       "4  42fdf880ba16b47b59251dd489d4441a                   1  credit_card   \n",
       "\n",
       "   payment_installments  payment_value  \n",
       "0                     8          99.33  \n",
       "1                     1          24.39  \n",
       "2                     1          65.71  \n",
       "3                     8         107.78  \n",
       "4                     2         128.45  "
      ]
     },
     "execution_count": 22,
     "metadata": {},
     "output_type": "execute_result"
    }
   ],
   "source": [
    "# head of values\n",
    "payment_df.head()"
   ]
  },
  {
   "cell_type": "markdown",
   "metadata": {},
   "source": [
    "## Customer Database"
   ]
  },
  {
   "cell_type": "code",
   "execution_count": 23,
   "metadata": {
    "scrolled": false
   },
   "outputs": [
    {
     "name": "stdout",
     "output_type": "stream",
     "text": [
      "<class 'pandas.core.frame.DataFrame'>\n",
      "RangeIndex: 99441 entries, 0 to 99440\n",
      "Data columns (total 5 columns):\n",
      "customer_id                 99441 non-null object\n",
      "customer_unique_id          99441 non-null object\n",
      "customer_zip_code_prefix    99441 non-null int64\n",
      "customer_city               99441 non-null object\n",
      "customer_state              99441 non-null object\n",
      "dtypes: int64(1), object(4)\n",
      "memory usage: 3.8+ MB\n"
     ]
    }
   ],
   "source": [
    "# read data and show its high-level information\n",
    "customer_df = pd.read_csv('olist_customers_dataset.csv')\n",
    "customer_df.info()"
   ]
  },
  {
   "cell_type": "code",
   "execution_count": 24,
   "metadata": {
    "scrolled": true
   },
   "outputs": [
    {
     "data": {
      "text/plain": [
       "Index(['customer_id', 'customer_unique_id', 'customer_state'], dtype='object')"
      ]
     },
     "execution_count": 24,
     "metadata": {},
     "output_type": "execute_result"
    }
   ],
   "source": [
    "# drop irrelevant columns\n",
    "customer_df.drop(['customer_zip_code_prefix',\n",
    "                  'customer_city'], axis='columns', inplace=True)\n",
    "customer_df.columns"
   ]
  },
  {
   "cell_type": "code",
   "execution_count": 25,
   "metadata": {},
   "outputs": [
    {
     "data": {
      "text/html": [
       "<div>\n",
       "<style scoped>\n",
       "    .dataframe tbody tr th:only-of-type {\n",
       "        vertical-align: middle;\n",
       "    }\n",
       "\n",
       "    .dataframe tbody tr th {\n",
       "        vertical-align: top;\n",
       "    }\n",
       "\n",
       "    .dataframe thead th {\n",
       "        text-align: right;\n",
       "    }\n",
       "</style>\n",
       "<table border=\"1\" class=\"dataframe\">\n",
       "  <thead>\n",
       "    <tr style=\"text-align: right;\">\n",
       "      <th></th>\n",
       "      <th>customer_id</th>\n",
       "      <th>customer_unique_id</th>\n",
       "      <th>customer_state</th>\n",
       "    </tr>\n",
       "  </thead>\n",
       "  <tbody>\n",
       "  </tbody>\n",
       "</table>\n",
       "</div>"
      ],
      "text/plain": [
       "Empty DataFrame\n",
       "Columns: [customer_id, customer_unique_id, customer_state]\n",
       "Index: []"
      ]
     },
     "execution_count": 25,
     "metadata": {},
     "output_type": "execute_result"
    }
   ],
   "source": [
    "# duplicate rows of dataframe\n",
    "customer_df[customer_df.duplicated()]"
   ]
  },
  {
   "cell_type": "code",
   "execution_count": 26,
   "metadata": {
    "scrolled": true
   },
   "outputs": [
    {
     "data": {
      "text/html": [
       "<div>\n",
       "<style scoped>\n",
       "    .dataframe tbody tr th:only-of-type {\n",
       "        vertical-align: middle;\n",
       "    }\n",
       "\n",
       "    .dataframe tbody tr th {\n",
       "        vertical-align: top;\n",
       "    }\n",
       "\n",
       "    .dataframe thead th {\n",
       "        text-align: right;\n",
       "    }\n",
       "</style>\n",
       "<table border=\"1\" class=\"dataframe\">\n",
       "  <thead>\n",
       "    <tr style=\"text-align: right;\">\n",
       "      <th></th>\n",
       "      <th>customer_id</th>\n",
       "      <th>customer_unique_id</th>\n",
       "      <th>customer_state</th>\n",
       "    </tr>\n",
       "  </thead>\n",
       "  <tbody>\n",
       "    <tr>\n",
       "      <td>0</td>\n",
       "      <td>06b8999e2fba1a1fbc88172c00ba8bc7</td>\n",
       "      <td>861eff4711a542e4b93843c6dd7febb0</td>\n",
       "      <td>SP</td>\n",
       "    </tr>\n",
       "    <tr>\n",
       "      <td>1</td>\n",
       "      <td>18955e83d337fd6b2def6b18a428ac77</td>\n",
       "      <td>290c77bc529b7ac935b93aa66c333dc3</td>\n",
       "      <td>SP</td>\n",
       "    </tr>\n",
       "    <tr>\n",
       "      <td>2</td>\n",
       "      <td>4e7b3e00288586ebd08712fdd0374a03</td>\n",
       "      <td>060e732b5b29e8181a18229c7b0b2b5e</td>\n",
       "      <td>SP</td>\n",
       "    </tr>\n",
       "    <tr>\n",
       "      <td>3</td>\n",
       "      <td>b2b6027bc5c5109e529d4dc6358b12c3</td>\n",
       "      <td>259dac757896d24d7702b9acbbff3f3c</td>\n",
       "      <td>SP</td>\n",
       "    </tr>\n",
       "    <tr>\n",
       "      <td>4</td>\n",
       "      <td>4f2d8ab171c80ec8364f7c12e35b23ad</td>\n",
       "      <td>345ecd01c38d18a9036ed96c73b8d066</td>\n",
       "      <td>SP</td>\n",
       "    </tr>\n",
       "  </tbody>\n",
       "</table>\n",
       "</div>"
      ],
      "text/plain": [
       "                        customer_id                customer_unique_id  \\\n",
       "0  06b8999e2fba1a1fbc88172c00ba8bc7  861eff4711a542e4b93843c6dd7febb0   \n",
       "1  18955e83d337fd6b2def6b18a428ac77  290c77bc529b7ac935b93aa66c333dc3   \n",
       "2  4e7b3e00288586ebd08712fdd0374a03  060e732b5b29e8181a18229c7b0b2b5e   \n",
       "3  b2b6027bc5c5109e529d4dc6358b12c3  259dac757896d24d7702b9acbbff3f3c   \n",
       "4  4f2d8ab171c80ec8364f7c12e35b23ad  345ecd01c38d18a9036ed96c73b8d066   \n",
       "\n",
       "  customer_state  \n",
       "0             SP  \n",
       "1             SP  \n",
       "2             SP  \n",
       "3             SP  \n",
       "4             SP  "
      ]
     },
     "execution_count": 26,
     "metadata": {},
     "output_type": "execute_result"
    }
   ],
   "source": [
    "# head of values\n",
    "customer_df.head()"
   ]
  },
  {
   "cell_type": "markdown",
   "metadata": {},
   "source": [
    "## Review Database"
   ]
  },
  {
   "cell_type": "code",
   "execution_count": 27,
   "metadata": {
    "scrolled": true
   },
   "outputs": [
    {
     "name": "stdout",
     "output_type": "stream",
     "text": [
      "<class 'pandas.core.frame.DataFrame'>\n",
      "RangeIndex: 100000 entries, 0 to 99999\n",
      "Data columns (total 7 columns):\n",
      "review_id                  100000 non-null object\n",
      "order_id                   100000 non-null object\n",
      "review_score               100000 non-null int64\n",
      "review_comment_title       11715 non-null object\n",
      "review_comment_message     41753 non-null object\n",
      "review_creation_date       100000 non-null object\n",
      "review_answer_timestamp    100000 non-null object\n",
      "dtypes: int64(1), object(6)\n",
      "memory usage: 5.3+ MB\n"
     ]
    }
   ],
   "source": [
    "# read data and show its high-level information\n",
    "review_df = pd.read_csv('olist_order_reviews_dataset.csv')\n",
    "review_df.info()"
   ]
  },
  {
   "cell_type": "code",
   "execution_count": 28,
   "metadata": {},
   "outputs": [
    {
     "data": {
      "text/plain": [
       "Index(['order_id', 'review_score', 'review_comment_title',\n",
       "       'review_comment_message'],\n",
       "      dtype='object')"
      ]
     },
     "execution_count": 28,
     "metadata": {},
     "output_type": "execute_result"
    }
   ],
   "source": [
    "# drop irrelevant columns\n",
    "review_df.drop(['review_id',\n",
    "                'review_creation_date',\n",
    "                'review_answer_timestamp'], axis='columns', inplace=True)\n",
    "review_df.columns"
   ]
  },
  {
   "cell_type": "code",
   "execution_count": 29,
   "metadata": {},
   "outputs": [
    {
     "data": {
      "text/html": [
       "<div>\n",
       "<style scoped>\n",
       "    .dataframe tbody tr th:only-of-type {\n",
       "        vertical-align: middle;\n",
       "    }\n",
       "\n",
       "    .dataframe tbody tr th {\n",
       "        vertical-align: top;\n",
       "    }\n",
       "\n",
       "    .dataframe thead th {\n",
       "        text-align: right;\n",
       "    }\n",
       "</style>\n",
       "<table border=\"1\" class=\"dataframe\">\n",
       "  <thead>\n",
       "    <tr style=\"text-align: right;\">\n",
       "      <th></th>\n",
       "      <th>order_id</th>\n",
       "      <th>review_score</th>\n",
       "      <th>review_comment_title</th>\n",
       "      <th>review_comment_message</th>\n",
       "    </tr>\n",
       "  </thead>\n",
       "  <tbody>\n",
       "    <tr>\n",
       "      <td>1128</td>\n",
       "      <td>5040757d4e06a4be96d3827b860b4e7c</td>\n",
       "      <td>5</td>\n",
       "      <td>NaN</td>\n",
       "      <td>NaN</td>\n",
       "    </tr>\n",
       "    <tr>\n",
       "      <td>3127</td>\n",
       "      <td>cf73e2cb1f4a9480ed70c154da3d954a</td>\n",
       "      <td>5</td>\n",
       "      <td>NaN</td>\n",
       "      <td>NaN</td>\n",
       "    </tr>\n",
       "    <tr>\n",
       "      <td>9128</td>\n",
       "      <td>c7cfea0c153e6382e32e84c2a9dd7d2e</td>\n",
       "      <td>5</td>\n",
       "      <td>NaN</td>\n",
       "      <td>NaN</td>\n",
       "    </tr>\n",
       "    <tr>\n",
       "      <td>10652</td>\n",
       "      <td>0715dfcf2383aa72c181d8b47f6cb589</td>\n",
       "      <td>5</td>\n",
       "      <td>NaN</td>\n",
       "      <td>NaN</td>\n",
       "    </tr>\n",
       "    <tr>\n",
       "      <td>12682</td>\n",
       "      <td>f63a31c3349b87273468ff7e66852056</td>\n",
       "      <td>5</td>\n",
       "      <td>NaN</td>\n",
       "      <td>NaN</td>\n",
       "    </tr>\n",
       "    <tr>\n",
       "      <td>...</td>\n",
       "      <td>...</td>\n",
       "      <td>...</td>\n",
       "      <td>...</td>\n",
       "      <td>...</td>\n",
       "    </tr>\n",
       "    <tr>\n",
       "      <td>99332</td>\n",
       "      <td>157de1652c032429a625d034be79eeeb</td>\n",
       "      <td>5</td>\n",
       "      <td>NaN</td>\n",
       "      <td>NaN</td>\n",
       "    </tr>\n",
       "    <tr>\n",
       "      <td>99380</td>\n",
       "      <td>19fe6cd13dca5943f17abd2c37c46abd</td>\n",
       "      <td>5</td>\n",
       "      <td>NaN</td>\n",
       "      <td>NaN</td>\n",
       "    </tr>\n",
       "    <tr>\n",
       "      <td>99422</td>\n",
       "      <td>1de86d094f7dd41cca13d246d3b7fd07</td>\n",
       "      <td>5</td>\n",
       "      <td>NaN</td>\n",
       "      <td>NaN</td>\n",
       "    </tr>\n",
       "    <tr>\n",
       "      <td>99445</td>\n",
       "      <td>baed56f3eda9223b74c6cf175f05678e</td>\n",
       "      <td>5</td>\n",
       "      <td>NaN</td>\n",
       "      <td>NaN</td>\n",
       "    </tr>\n",
       "    <tr>\n",
       "      <td>99762</td>\n",
       "      <td>c0db7d31ace61fc360a3eaa34dd3457c</td>\n",
       "      <td>5</td>\n",
       "      <td>NaN</td>\n",
       "      <td>NaN</td>\n",
       "    </tr>\n",
       "  </tbody>\n",
       "</table>\n",
       "<p>227 rows × 4 columns</p>\n",
       "</div>"
      ],
      "text/plain": [
       "                               order_id  review_score review_comment_title  \\\n",
       "1128   5040757d4e06a4be96d3827b860b4e7c             5                  NaN   \n",
       "3127   cf73e2cb1f4a9480ed70c154da3d954a             5                  NaN   \n",
       "9128   c7cfea0c153e6382e32e84c2a9dd7d2e             5                  NaN   \n",
       "10652  0715dfcf2383aa72c181d8b47f6cb589             5                  NaN   \n",
       "12682  f63a31c3349b87273468ff7e66852056             5                  NaN   \n",
       "...                                 ...           ...                  ...   \n",
       "99332  157de1652c032429a625d034be79eeeb             5                  NaN   \n",
       "99380  19fe6cd13dca5943f17abd2c37c46abd             5                  NaN   \n",
       "99422  1de86d094f7dd41cca13d246d3b7fd07             5                  NaN   \n",
       "99445  baed56f3eda9223b74c6cf175f05678e             5                  NaN   \n",
       "99762  c0db7d31ace61fc360a3eaa34dd3457c             5                  NaN   \n",
       "\n",
       "      review_comment_message  \n",
       "1128                     NaN  \n",
       "3127                     NaN  \n",
       "9128                     NaN  \n",
       "10652                    NaN  \n",
       "12682                    NaN  \n",
       "...                      ...  \n",
       "99332                    NaN  \n",
       "99380                    NaN  \n",
       "99422                    NaN  \n",
       "99445                    NaN  \n",
       "99762                    NaN  \n",
       "\n",
       "[227 rows x 4 columns]"
      ]
     },
     "execution_count": 29,
     "metadata": {},
     "output_type": "execute_result"
    }
   ],
   "source": [
    "# duplicate rows of dataframe\n",
    "review_df[review_df.duplicated()]"
   ]
  },
  {
   "cell_type": "code",
   "execution_count": 30,
   "metadata": {
    "scrolled": true
   },
   "outputs": [
    {
     "data": {
      "text/html": [
       "<div>\n",
       "<style scoped>\n",
       "    .dataframe tbody tr th:only-of-type {\n",
       "        vertical-align: middle;\n",
       "    }\n",
       "\n",
       "    .dataframe tbody tr th {\n",
       "        vertical-align: top;\n",
       "    }\n",
       "\n",
       "    .dataframe thead th {\n",
       "        text-align: right;\n",
       "    }\n",
       "</style>\n",
       "<table border=\"1\" class=\"dataframe\">\n",
       "  <thead>\n",
       "    <tr style=\"text-align: right;\">\n",
       "      <th></th>\n",
       "      <th>order_id</th>\n",
       "      <th>review_score</th>\n",
       "      <th>review_comment_title</th>\n",
       "      <th>review_comment_message</th>\n",
       "    </tr>\n",
       "  </thead>\n",
       "  <tbody>\n",
       "    <tr>\n",
       "      <td>0</td>\n",
       "      <td>73fc7af87114b39712e6da79b0a377eb</td>\n",
       "      <td>4</td>\n",
       "      <td>NaN</td>\n",
       "      <td>NaN</td>\n",
       "    </tr>\n",
       "    <tr>\n",
       "      <td>1</td>\n",
       "      <td>a548910a1c6147796b98fdf73dbeba33</td>\n",
       "      <td>5</td>\n",
       "      <td>NaN</td>\n",
       "      <td>NaN</td>\n",
       "    </tr>\n",
       "    <tr>\n",
       "      <td>2</td>\n",
       "      <td>f9e4b658b201a9f2ecdecbb34bed034b</td>\n",
       "      <td>5</td>\n",
       "      <td>NaN</td>\n",
       "      <td>NaN</td>\n",
       "    </tr>\n",
       "    <tr>\n",
       "      <td>3</td>\n",
       "      <td>658677c97b385a9be170737859d3511b</td>\n",
       "      <td>5</td>\n",
       "      <td>NaN</td>\n",
       "      <td>Recebi bem antes do prazo estipulado.</td>\n",
       "    </tr>\n",
       "    <tr>\n",
       "      <td>4</td>\n",
       "      <td>8e6bfb81e283fa7e4f11123a3fb894f1</td>\n",
       "      <td>5</td>\n",
       "      <td>NaN</td>\n",
       "      <td>Parabéns lojas lannister adorei comprar pela I...</td>\n",
       "    </tr>\n",
       "  </tbody>\n",
       "</table>\n",
       "</div>"
      ],
      "text/plain": [
       "                           order_id  review_score review_comment_title  \\\n",
       "0  73fc7af87114b39712e6da79b0a377eb             4                  NaN   \n",
       "1  a548910a1c6147796b98fdf73dbeba33             5                  NaN   \n",
       "2  f9e4b658b201a9f2ecdecbb34bed034b             5                  NaN   \n",
       "3  658677c97b385a9be170737859d3511b             5                  NaN   \n",
       "4  8e6bfb81e283fa7e4f11123a3fb894f1             5                  NaN   \n",
       "\n",
       "                              review_comment_message  \n",
       "0                                                NaN  \n",
       "1                                                NaN  \n",
       "2                                                NaN  \n",
       "3              Recebi bem antes do prazo estipulado.  \n",
       "4  Parabéns lojas lannister adorei comprar pela I...  "
      ]
     },
     "execution_count": 30,
     "metadata": {},
     "output_type": "execute_result"
    }
   ],
   "source": [
    "# head of values\n",
    "review_df.head()"
   ]
  },
  {
   "cell_type": "markdown",
   "metadata": {},
   "source": [
    "## Item Database"
   ]
  },
  {
   "cell_type": "code",
   "execution_count": 31,
   "metadata": {},
   "outputs": [
    {
     "name": "stdout",
     "output_type": "stream",
     "text": [
      "<class 'pandas.core.frame.DataFrame'>\n",
      "RangeIndex: 112650 entries, 0 to 112649\n",
      "Data columns (total 7 columns):\n",
      "order_id               112650 non-null object\n",
      "order_item_id          112650 non-null int64\n",
      "product_id             112650 non-null object\n",
      "seller_id              112650 non-null object\n",
      "shipping_limit_date    112650 non-null object\n",
      "price                  112650 non-null float64\n",
      "freight_value          112650 non-null float64\n",
      "dtypes: float64(2), int64(1), object(4)\n",
      "memory usage: 6.0+ MB\n"
     ]
    }
   ],
   "source": [
    "# read data and show its high-level information\n",
    "item_df = pd.read_csv('olist_order_items_dataset.csv')\n",
    "item_df.info()"
   ]
  },
  {
   "cell_type": "code",
   "execution_count": 32,
   "metadata": {},
   "outputs": [
    {
     "data": {
      "text/plain": [
       "Index(['order_id', 'product_id'], dtype='object')"
      ]
     },
     "execution_count": 32,
     "metadata": {},
     "output_type": "execute_result"
    }
   ],
   "source": [
    "# drop irrelevant columns\n",
    "item_df.drop(['seller_id',\n",
    "              'shipping_limit_date',\n",
    "              'price',\n",
    "              'freight_value',\n",
    "              'order_item_id'], axis='columns', inplace=True)\n",
    "item_df.columns"
   ]
  },
  {
   "cell_type": "code",
   "execution_count": 33,
   "metadata": {
    "scrolled": true
   },
   "outputs": [
    {
     "data": {
      "text/html": [
       "<div>\n",
       "<style scoped>\n",
       "    .dataframe tbody tr th:only-of-type {\n",
       "        vertical-align: middle;\n",
       "    }\n",
       "\n",
       "    .dataframe tbody tr th {\n",
       "        vertical-align: top;\n",
       "    }\n",
       "\n",
       "    .dataframe thead th {\n",
       "        text-align: right;\n",
       "    }\n",
       "</style>\n",
       "<table border=\"1\" class=\"dataframe\">\n",
       "  <thead>\n",
       "    <tr style=\"text-align: right;\">\n",
       "      <th></th>\n",
       "      <th>order_id</th>\n",
       "      <th>product_id</th>\n",
       "    </tr>\n",
       "  </thead>\n",
       "  <tbody>\n",
       "    <tr>\n",
       "      <td>14</td>\n",
       "      <td>0008288aa423d2a3f00fcb17cd7d8719</td>\n",
       "      <td>368c6c730842d78016ad823897a372db</td>\n",
       "    </tr>\n",
       "    <tr>\n",
       "      <td>33</td>\n",
       "      <td>00143d0f86d6fbd9f9b38ab440ac16f5</td>\n",
       "      <td>e95ee6822b66ac6058e2e4aff656071a</td>\n",
       "    </tr>\n",
       "    <tr>\n",
       "      <td>34</td>\n",
       "      <td>00143d0f86d6fbd9f9b38ab440ac16f5</td>\n",
       "      <td>e95ee6822b66ac6058e2e4aff656071a</td>\n",
       "    </tr>\n",
       "    <tr>\n",
       "      <td>43</td>\n",
       "      <td>001ab0a7578dd66cd4b0a71f5b6e1e41</td>\n",
       "      <td>0b0172eb0fd18479d29c3bc122c058c2</td>\n",
       "    </tr>\n",
       "    <tr>\n",
       "      <td>44</td>\n",
       "      <td>001ab0a7578dd66cd4b0a71f5b6e1e41</td>\n",
       "      <td>0b0172eb0fd18479d29c3bc122c058c2</td>\n",
       "    </tr>\n",
       "    <tr>\n",
       "      <td>...</td>\n",
       "      <td>...</td>\n",
       "      <td>...</td>\n",
       "    </tr>\n",
       "    <tr>\n",
       "      <td>112617</td>\n",
       "      <td>ffecd5a79a0084f6a592288c67e3c298</td>\n",
       "      <td>50fd2b788dc166edd20512370dac54df</td>\n",
       "    </tr>\n",
       "    <tr>\n",
       "      <td>112635</td>\n",
       "      <td>fff8287bbae429a99bb7e8c21d151c41</td>\n",
       "      <td>bee2e070c39f3dd2f6883a17a5f0da45</td>\n",
       "    </tr>\n",
       "    <tr>\n",
       "      <td>112641</td>\n",
       "      <td>fffb9224b6fc7c43ebb0904318b10b5f</td>\n",
       "      <td>43423cdffde7fda63d0414ed38c11a73</td>\n",
       "    </tr>\n",
       "    <tr>\n",
       "      <td>112642</td>\n",
       "      <td>fffb9224b6fc7c43ebb0904318b10b5f</td>\n",
       "      <td>43423cdffde7fda63d0414ed38c11a73</td>\n",
       "    </tr>\n",
       "    <tr>\n",
       "      <td>112643</td>\n",
       "      <td>fffb9224b6fc7c43ebb0904318b10b5f</td>\n",
       "      <td>43423cdffde7fda63d0414ed38c11a73</td>\n",
       "    </tr>\n",
       "  </tbody>\n",
       "</table>\n",
       "<p>10225 rows × 2 columns</p>\n",
       "</div>"
      ],
      "text/plain": [
       "                                order_id                        product_id\n",
       "14      0008288aa423d2a3f00fcb17cd7d8719  368c6c730842d78016ad823897a372db\n",
       "33      00143d0f86d6fbd9f9b38ab440ac16f5  e95ee6822b66ac6058e2e4aff656071a\n",
       "34      00143d0f86d6fbd9f9b38ab440ac16f5  e95ee6822b66ac6058e2e4aff656071a\n",
       "43      001ab0a7578dd66cd4b0a71f5b6e1e41  0b0172eb0fd18479d29c3bc122c058c2\n",
       "44      001ab0a7578dd66cd4b0a71f5b6e1e41  0b0172eb0fd18479d29c3bc122c058c2\n",
       "...                                  ...                               ...\n",
       "112617  ffecd5a79a0084f6a592288c67e3c298  50fd2b788dc166edd20512370dac54df\n",
       "112635  fff8287bbae429a99bb7e8c21d151c41  bee2e070c39f3dd2f6883a17a5f0da45\n",
       "112641  fffb9224b6fc7c43ebb0904318b10b5f  43423cdffde7fda63d0414ed38c11a73\n",
       "112642  fffb9224b6fc7c43ebb0904318b10b5f  43423cdffde7fda63d0414ed38c11a73\n",
       "112643  fffb9224b6fc7c43ebb0904318b10b5f  43423cdffde7fda63d0414ed38c11a73\n",
       "\n",
       "[10225 rows x 2 columns]"
      ]
     },
     "execution_count": 33,
     "metadata": {},
     "output_type": "execute_result"
    }
   ],
   "source": [
    "# duplicate rows of dataframe\n",
    "item_df[item_df.duplicated()]"
   ]
  },
  {
   "cell_type": "code",
   "execution_count": 34,
   "metadata": {},
   "outputs": [
    {
     "data": {
      "text/html": [
       "<div>\n",
       "<style scoped>\n",
       "    .dataframe tbody tr th:only-of-type {\n",
       "        vertical-align: middle;\n",
       "    }\n",
       "\n",
       "    .dataframe tbody tr th {\n",
       "        vertical-align: top;\n",
       "    }\n",
       "\n",
       "    .dataframe thead th {\n",
       "        text-align: right;\n",
       "    }\n",
       "</style>\n",
       "<table border=\"1\" class=\"dataframe\">\n",
       "  <thead>\n",
       "    <tr style=\"text-align: right;\">\n",
       "      <th></th>\n",
       "      <th>order_id</th>\n",
       "      <th>product_id</th>\n",
       "    </tr>\n",
       "  </thead>\n",
       "  <tbody>\n",
       "    <tr>\n",
       "      <td>0</td>\n",
       "      <td>00010242fe8c5a6d1ba2dd792cb16214</td>\n",
       "      <td>4244733e06e7ecb4970a6e2683c13e61</td>\n",
       "    </tr>\n",
       "    <tr>\n",
       "      <td>1</td>\n",
       "      <td>00018f77f2f0320c557190d7a144bdd3</td>\n",
       "      <td>e5f2d52b802189ee658865ca93d83a8f</td>\n",
       "    </tr>\n",
       "    <tr>\n",
       "      <td>2</td>\n",
       "      <td>000229ec398224ef6ca0657da4fc703e</td>\n",
       "      <td>c777355d18b72b67abbeef9df44fd0fd</td>\n",
       "    </tr>\n",
       "    <tr>\n",
       "      <td>3</td>\n",
       "      <td>00024acbcdf0a6daa1e931b038114c75</td>\n",
       "      <td>7634da152a4610f1595efa32f14722fc</td>\n",
       "    </tr>\n",
       "    <tr>\n",
       "      <td>4</td>\n",
       "      <td>00042b26cf59d7ce69dfabb4e55b4fd9</td>\n",
       "      <td>ac6c3623068f30de03045865e4e10089</td>\n",
       "    </tr>\n",
       "  </tbody>\n",
       "</table>\n",
       "</div>"
      ],
      "text/plain": [
       "                           order_id                        product_id\n",
       "0  00010242fe8c5a6d1ba2dd792cb16214  4244733e06e7ecb4970a6e2683c13e61\n",
       "1  00018f77f2f0320c557190d7a144bdd3  e5f2d52b802189ee658865ca93d83a8f\n",
       "2  000229ec398224ef6ca0657da4fc703e  c777355d18b72b67abbeef9df44fd0fd\n",
       "3  00024acbcdf0a6daa1e931b038114c75  7634da152a4610f1595efa32f14722fc\n",
       "4  00042b26cf59d7ce69dfabb4e55b4fd9  ac6c3623068f30de03045865e4e10089"
      ]
     },
     "execution_count": 34,
     "metadata": {},
     "output_type": "execute_result"
    }
   ],
   "source": [
    "# head of values\n",
    "item_df.head()"
   ]
  },
  {
   "cell_type": "markdown",
   "metadata": {},
   "source": [
    "## Product Database"
   ]
  },
  {
   "cell_type": "code",
   "execution_count": 35,
   "metadata": {},
   "outputs": [
    {
     "name": "stdout",
     "output_type": "stream",
     "text": [
      "<class 'pandas.core.frame.DataFrame'>\n",
      "RangeIndex: 32951 entries, 0 to 32950\n",
      "Data columns (total 9 columns):\n",
      "product_id                    32951 non-null object\n",
      "product_category_name         32341 non-null object\n",
      "product_name_lenght           32341 non-null float64\n",
      "product_description_lenght    32341 non-null float64\n",
      "product_photos_qty            32341 non-null float64\n",
      "product_weight_g              32949 non-null float64\n",
      "product_length_cm             32949 non-null float64\n",
      "product_height_cm             32949 non-null float64\n",
      "product_width_cm              32949 non-null float64\n",
      "dtypes: float64(7), object(2)\n",
      "memory usage: 2.3+ MB\n"
     ]
    }
   ],
   "source": [
    "# read data and show its high-level information\n",
    "product_df = pd.read_csv('olist_products_dataset.csv')\n",
    "product_df.info()"
   ]
  },
  {
   "cell_type": "code",
   "execution_count": 36,
   "metadata": {},
   "outputs": [
    {
     "data": {
      "text/plain": [
       "Index(['product_id', 'product_category_name'], dtype='object')"
      ]
     },
     "execution_count": 36,
     "metadata": {},
     "output_type": "execute_result"
    }
   ],
   "source": [
    "# drop irrelevant columns\n",
    "product_df.drop(['product_name_lenght',\n",
    "                 'product_description_lenght', \n",
    "                 'product_photos_qty', \n",
    "                 'product_weight_g',\n",
    "                 'product_length_cm',\n",
    "                 'product_height_cm',\n",
    "                 'product_width_cm'], axis='columns', inplace=True)\n",
    "product_df.columns"
   ]
  },
  {
   "cell_type": "code",
   "execution_count": 37,
   "metadata": {
    "scrolled": true
   },
   "outputs": [
    {
     "name": "stdout",
     "output_type": "stream",
     "text": [
      "<class 'pandas.core.frame.DataFrame'>\n",
      "RangeIndex: 32951 entries, 0 to 32950\n",
      "Data columns (total 2 columns):\n",
      "product_id               32951 non-null object\n",
      "product_category_name    32951 non-null object\n",
      "dtypes: object(2)\n",
      "memory usage: 515.0+ KB\n"
     ]
    }
   ],
   "source": [
    "product_df.fillna('other', inplace=True)\n",
    "product_df.info()"
   ]
  },
  {
   "cell_type": "code",
   "execution_count": 38,
   "metadata": {
    "scrolled": true
   },
   "outputs": [
    {
     "data": {
      "text/html": [
       "<div>\n",
       "<style scoped>\n",
       "    .dataframe tbody tr th:only-of-type {\n",
       "        vertical-align: middle;\n",
       "    }\n",
       "\n",
       "    .dataframe tbody tr th {\n",
       "        vertical-align: top;\n",
       "    }\n",
       "\n",
       "    .dataframe thead th {\n",
       "        text-align: right;\n",
       "    }\n",
       "</style>\n",
       "<table border=\"1\" class=\"dataframe\">\n",
       "  <thead>\n",
       "    <tr style=\"text-align: right;\">\n",
       "      <th></th>\n",
       "      <th>product_id</th>\n",
       "      <th>product_category_name</th>\n",
       "    </tr>\n",
       "  </thead>\n",
       "  <tbody>\n",
       "  </tbody>\n",
       "</table>\n",
       "</div>"
      ],
      "text/plain": [
       "Empty DataFrame\n",
       "Columns: [product_id, product_category_name]\n",
       "Index: []"
      ]
     },
     "execution_count": 38,
     "metadata": {},
     "output_type": "execute_result"
    }
   ],
   "source": [
    "product_df[product_df.duplicated()]"
   ]
  },
  {
   "cell_type": "code",
   "execution_count": 39,
   "metadata": {
    "scrolled": false
   },
   "outputs": [
    {
     "data": {
      "text/html": [
       "<div>\n",
       "<style scoped>\n",
       "    .dataframe tbody tr th:only-of-type {\n",
       "        vertical-align: middle;\n",
       "    }\n",
       "\n",
       "    .dataframe tbody tr th {\n",
       "        vertical-align: top;\n",
       "    }\n",
       "\n",
       "    .dataframe thead th {\n",
       "        text-align: right;\n",
       "    }\n",
       "</style>\n",
       "<table border=\"1\" class=\"dataframe\">\n",
       "  <thead>\n",
       "    <tr style=\"text-align: right;\">\n",
       "      <th></th>\n",
       "      <th>product_id</th>\n",
       "      <th>product_category_name</th>\n",
       "    </tr>\n",
       "  </thead>\n",
       "  <tbody>\n",
       "    <tr>\n",
       "      <td>0</td>\n",
       "      <td>1e9e8ef04dbcff4541ed26657ea517e5</td>\n",
       "      <td>perfumaria</td>\n",
       "    </tr>\n",
       "    <tr>\n",
       "      <td>1</td>\n",
       "      <td>3aa071139cb16b67ca9e5dea641aaa2f</td>\n",
       "      <td>artes</td>\n",
       "    </tr>\n",
       "    <tr>\n",
       "      <td>2</td>\n",
       "      <td>96bd76ec8810374ed1b65e291975717f</td>\n",
       "      <td>esporte_lazer</td>\n",
       "    </tr>\n",
       "    <tr>\n",
       "      <td>3</td>\n",
       "      <td>cef67bcfe19066a932b7673e239eb23d</td>\n",
       "      <td>bebes</td>\n",
       "    </tr>\n",
       "    <tr>\n",
       "      <td>4</td>\n",
       "      <td>9dc1a7de274444849c219cff195d0b71</td>\n",
       "      <td>utilidades_domesticas</td>\n",
       "    </tr>\n",
       "  </tbody>\n",
       "</table>\n",
       "</div>"
      ],
      "text/plain": [
       "                         product_id  product_category_name\n",
       "0  1e9e8ef04dbcff4541ed26657ea517e5             perfumaria\n",
       "1  3aa071139cb16b67ca9e5dea641aaa2f                  artes\n",
       "2  96bd76ec8810374ed1b65e291975717f          esporte_lazer\n",
       "3  cef67bcfe19066a932b7673e239eb23d                  bebes\n",
       "4  9dc1a7de274444849c219cff195d0b71  utilidades_domesticas"
      ]
     },
     "execution_count": 39,
     "metadata": {},
     "output_type": "execute_result"
    }
   ],
   "source": [
    "# head of values\n",
    "product_df.head()"
   ]
  },
  {
   "cell_type": "markdown",
   "metadata": {},
   "source": [
    "## Translation Database"
   ]
  },
  {
   "cell_type": "code",
   "execution_count": 40,
   "metadata": {
    "scrolled": true
   },
   "outputs": [
    {
     "name": "stdout",
     "output_type": "stream",
     "text": [
      "<class 'pandas.core.frame.DataFrame'>\n",
      "RangeIndex: 71 entries, 0 to 70\n",
      "Data columns (total 2 columns):\n",
      "product_category_name            71 non-null object\n",
      "product_category_name_english    71 non-null object\n",
      "dtypes: object(2)\n",
      "memory usage: 1.2+ KB\n"
     ]
    }
   ],
   "source": [
    "# read data and show its high-level information\n",
    "translation_df = pd.read_csv('product_category_name_translation.csv')\n",
    "translation_df.info()"
   ]
  },
  {
   "cell_type": "code",
   "execution_count": 41,
   "metadata": {
    "scrolled": false
   },
   "outputs": [
    {
     "data": {
      "text/html": [
       "<div>\n",
       "<style scoped>\n",
       "    .dataframe tbody tr th:only-of-type {\n",
       "        vertical-align: middle;\n",
       "    }\n",
       "\n",
       "    .dataframe tbody tr th {\n",
       "        vertical-align: top;\n",
       "    }\n",
       "\n",
       "    .dataframe thead th {\n",
       "        text-align: right;\n",
       "    }\n",
       "</style>\n",
       "<table border=\"1\" class=\"dataframe\">\n",
       "  <thead>\n",
       "    <tr style=\"text-align: right;\">\n",
       "      <th></th>\n",
       "      <th>product_category_name</th>\n",
       "      <th>product_category_name_english</th>\n",
       "    </tr>\n",
       "  </thead>\n",
       "  <tbody>\n",
       "  </tbody>\n",
       "</table>\n",
       "</div>"
      ],
      "text/plain": [
       "Empty DataFrame\n",
       "Columns: [product_category_name, product_category_name_english]\n",
       "Index: []"
      ]
     },
     "execution_count": 41,
     "metadata": {},
     "output_type": "execute_result"
    }
   ],
   "source": [
    "# duplicate rows of dataframe\n",
    "translation_df[product_df.duplicated()]"
   ]
  },
  {
   "cell_type": "code",
   "execution_count": 42,
   "metadata": {
    "scrolled": false
   },
   "outputs": [
    {
     "data": {
      "text/html": [
       "<div>\n",
       "<style scoped>\n",
       "    .dataframe tbody tr th:only-of-type {\n",
       "        vertical-align: middle;\n",
       "    }\n",
       "\n",
       "    .dataframe tbody tr th {\n",
       "        vertical-align: top;\n",
       "    }\n",
       "\n",
       "    .dataframe thead th {\n",
       "        text-align: right;\n",
       "    }\n",
       "</style>\n",
       "<table border=\"1\" class=\"dataframe\">\n",
       "  <thead>\n",
       "    <tr style=\"text-align: right;\">\n",
       "      <th></th>\n",
       "      <th>product_category_name</th>\n",
       "      <th>product_category_name_english</th>\n",
       "    </tr>\n",
       "  </thead>\n",
       "  <tbody>\n",
       "    <tr>\n",
       "      <td>0</td>\n",
       "      <td>beleza_saude</td>\n",
       "      <td>health_beauty</td>\n",
       "    </tr>\n",
       "    <tr>\n",
       "      <td>1</td>\n",
       "      <td>informatica_acessorios</td>\n",
       "      <td>computers_accessories</td>\n",
       "    </tr>\n",
       "    <tr>\n",
       "      <td>2</td>\n",
       "      <td>automotivo</td>\n",
       "      <td>auto</td>\n",
       "    </tr>\n",
       "    <tr>\n",
       "      <td>3</td>\n",
       "      <td>cama_mesa_banho</td>\n",
       "      <td>bed_bath_table</td>\n",
       "    </tr>\n",
       "    <tr>\n",
       "      <td>4</td>\n",
       "      <td>moveis_decoracao</td>\n",
       "      <td>furniture_decor</td>\n",
       "    </tr>\n",
       "  </tbody>\n",
       "</table>\n",
       "</div>"
      ],
      "text/plain": [
       "    product_category_name product_category_name_english\n",
       "0            beleza_saude                 health_beauty\n",
       "1  informatica_acessorios         computers_accessories\n",
       "2              automotivo                          auto\n",
       "3         cama_mesa_banho                bed_bath_table\n",
       "4        moveis_decoracao               furniture_decor"
      ]
     },
     "execution_count": 42,
     "metadata": {},
     "output_type": "execute_result"
    }
   ],
   "source": [
    "# head of values\n",
    "translation_df.head()"
   ]
  },
  {
   "cell_type": "markdown",
   "metadata": {},
   "source": [
    "## Database Joins"
   ]
  },
  {
   "cell_type": "code",
   "execution_count": 43,
   "metadata": {
    "scrolled": true
   },
   "outputs": [
    {
     "name": "stdout",
     "output_type": "stream",
     "text": [
      "<class 'pandas.core.frame.DataFrame'>\n",
      "Int64Index: 103886 entries, 0 to 103885\n",
      "Data columns (total 9 columns):\n",
      "order_id                         103886 non-null object\n",
      "payment_sequential               103886 non-null int64\n",
      "payment_type                     103886 non-null object\n",
      "payment_installments             103886 non-null int64\n",
      "payment_value                    103886 non-null float64\n",
      "customer_id                      103886 non-null object\n",
      "order_purchase_timestamp         103886 non-null datetime64[ns]\n",
      "order_delivered_customer_date    100754 non-null datetime64[ns]\n",
      "order_estimated_delivery_date    103886 non-null datetime64[ns]\n",
      "dtypes: datetime64[ns](3), float64(1), int64(2), object(3)\n",
      "memory usage: 7.9+ MB\n"
     ]
    }
   ],
   "source": [
    "po_df = pd.merge(payment_df, order_df, how='left', on='order_id')\n",
    "po_df.info()"
   ]
  },
  {
   "cell_type": "code",
   "execution_count": 44,
   "metadata": {
    "scrolled": false
   },
   "outputs": [
    {
     "name": "stdout",
     "output_type": "stream",
     "text": [
      "<class 'pandas.core.frame.DataFrame'>\n",
      "Int64Index: 103886 entries, 0 to 103885\n",
      "Data columns (total 10 columns):\n",
      "order_id                         103886 non-null object\n",
      "payment_sequential               103886 non-null int64\n",
      "payment_type                     103886 non-null object\n",
      "payment_installments             103886 non-null int64\n",
      "payment_value                    103886 non-null float64\n",
      "order_purchase_timestamp         103886 non-null datetime64[ns]\n",
      "order_delivered_customer_date    100754 non-null datetime64[ns]\n",
      "order_estimated_delivery_date    103886 non-null datetime64[ns]\n",
      "customer_unique_id               103886 non-null object\n",
      "customer_state                   103886 non-null object\n",
      "dtypes: datetime64[ns](3), float64(1), int64(2), object(4)\n",
      "memory usage: 8.7+ MB\n"
     ]
    }
   ],
   "source": [
    "poc_df = pd.merge(po_df, customer_df, how='left', on='customer_id')\n",
    "poc_df.drop('customer_id', axis='columns', inplace=True)\n",
    "poc_df.info()"
   ]
  },
  {
   "cell_type": "code",
   "execution_count": 45,
   "metadata": {
    "scrolled": true
   },
   "outputs": [
    {
     "name": "stdout",
     "output_type": "stream",
     "text": [
      "<class 'pandas.core.frame.DataFrame'>\n",
      "Int64Index: 117604 entries, 0 to 117603\n",
      "Data columns (total 11 columns):\n",
      "order_id                         117604 non-null object\n",
      "payment_sequential               117601 non-null float64\n",
      "payment_type                     117601 non-null object\n",
      "payment_installments             117601 non-null float64\n",
      "payment_value                    117601 non-null float64\n",
      "order_purchase_timestamp         117601 non-null datetime64[ns]\n",
      "order_delivered_customer_date    115034 non-null datetime64[ns]\n",
      "order_estimated_delivery_date    117601 non-null datetime64[ns]\n",
      "customer_unique_id               117601 non-null object\n",
      "customer_state                   117601 non-null object\n",
      "product_id                       117604 non-null object\n",
      "dtypes: datetime64[ns](3), float64(3), object(5)\n",
      "memory usage: 10.8+ MB\n"
     ]
    }
   ],
   "source": [
    "poci_df = pd.merge(poc_df, item_df, how='right', on='order_id')\n",
    "poci_df.info()"
   ]
  },
  {
   "cell_type": "code",
   "execution_count": 46,
   "metadata": {
    "scrolled": true
   },
   "outputs": [
    {
     "name": "stdout",
     "output_type": "stream",
     "text": [
      "<class 'pandas.core.frame.DataFrame'>\n",
      "Int64Index: 117601 entries, 0 to 117600\n",
      "Data columns (total 11 columns):\n",
      "order_id                         117601 non-null object\n",
      "payment_sequential               117601 non-null float64\n",
      "payment_type                     117601 non-null object\n",
      "payment_installments             117601 non-null float64\n",
      "payment_value                    117601 non-null float64\n",
      "order_purchase_timestamp         117601 non-null datetime64[ns]\n",
      "order_delivered_customer_date    115034 non-null datetime64[ns]\n",
      "order_estimated_delivery_date    117601 non-null datetime64[ns]\n",
      "customer_unique_id               117601 non-null object\n",
      "customer_state                   117601 non-null object\n",
      "product_id                       117601 non-null object\n",
      "dtypes: datetime64[ns](3), float64(3), object(5)\n",
      "memory usage: 10.8+ MB\n"
     ]
    }
   ],
   "source": [
    "poci_df.drop(poci_df[poci_df.payment_value.isnull()].index, axis='index', inplace=True)\n",
    "poci_df.info()"
   ]
  },
  {
   "cell_type": "code",
   "execution_count": 47,
   "metadata": {
    "scrolled": true
   },
   "outputs": [
    {
     "name": "stdout",
     "output_type": "stream",
     "text": [
      "<class 'pandas.core.frame.DataFrame'>\n",
      "Int64Index: 117601 entries, 0 to 117600\n",
      "Data columns (total 11 columns):\n",
      "order_id                         117601 non-null object\n",
      "payment_sequential               117601 non-null float64\n",
      "payment_type                     117601 non-null object\n",
      "payment_installments             117601 non-null float64\n",
      "payment_value                    117601 non-null float64\n",
      "order_purchase_timestamp         117601 non-null datetime64[ns]\n",
      "order_delivered_customer_date    115034 non-null datetime64[ns]\n",
      "order_estimated_delivery_date    117601 non-null datetime64[ns]\n",
      "customer_unique_id               117601 non-null object\n",
      "customer_state                   117601 non-null object\n",
      "product_category_name            117601 non-null object\n",
      "dtypes: datetime64[ns](3), float64(3), object(5)\n",
      "memory usage: 10.8+ MB\n"
     ]
    },
    {
     "data": {
      "text/html": [
       "<div>\n",
       "<style scoped>\n",
       "    .dataframe tbody tr th:only-of-type {\n",
       "        vertical-align: middle;\n",
       "    }\n",
       "\n",
       "    .dataframe tbody tr th {\n",
       "        vertical-align: top;\n",
       "    }\n",
       "\n",
       "    .dataframe thead th {\n",
       "        text-align: right;\n",
       "    }\n",
       "</style>\n",
       "<table border=\"1\" class=\"dataframe\">\n",
       "  <thead>\n",
       "    <tr style=\"text-align: right;\">\n",
       "      <th></th>\n",
       "      <th>order_id</th>\n",
       "      <th>payment_sequential</th>\n",
       "      <th>payment_type</th>\n",
       "      <th>payment_installments</th>\n",
       "      <th>payment_value</th>\n",
       "      <th>order_purchase_timestamp</th>\n",
       "      <th>order_delivered_customer_date</th>\n",
       "      <th>order_estimated_delivery_date</th>\n",
       "      <th>customer_unique_id</th>\n",
       "      <th>customer_state</th>\n",
       "      <th>product_category_name</th>\n",
       "    </tr>\n",
       "  </thead>\n",
       "  <tbody>\n",
       "    <tr>\n",
       "      <td>0</td>\n",
       "      <td>b81ef226f3fe1789b1e8b2acac839d17</td>\n",
       "      <td>1.0</td>\n",
       "      <td>credit_card</td>\n",
       "      <td>8.0</td>\n",
       "      <td>99.33</td>\n",
       "      <td>2018-04-25 22:01:49</td>\n",
       "      <td>2018-05-09 17:36:51</td>\n",
       "      <td>2018-05-22</td>\n",
       "      <td>708ab75d2a007f0564aedd11139c7708</td>\n",
       "      <td>MG</td>\n",
       "      <td>casa_construcao</td>\n",
       "    </tr>\n",
       "    <tr>\n",
       "      <td>1</td>\n",
       "      <td>a9810da82917af2d9aefd1278f1dcfa0</td>\n",
       "      <td>1.0</td>\n",
       "      <td>credit_card</td>\n",
       "      <td>1.0</td>\n",
       "      <td>24.39</td>\n",
       "      <td>2018-06-26 11:01:38</td>\n",
       "      <td>2018-06-29 20:32:09</td>\n",
       "      <td>2018-07-16</td>\n",
       "      <td>a8b9d3a27068454b1c98cc67d4e31e6f</td>\n",
       "      <td>SP</td>\n",
       "      <td>automotivo</td>\n",
       "    </tr>\n",
       "    <tr>\n",
       "      <td>2</td>\n",
       "      <td>25e8ea4e93396b6fa0d3dd708e76c1bd</td>\n",
       "      <td>1.0</td>\n",
       "      <td>credit_card</td>\n",
       "      <td>1.0</td>\n",
       "      <td>65.71</td>\n",
       "      <td>2017-12-12 11:19:55</td>\n",
       "      <td>2017-12-18 17:24:41</td>\n",
       "      <td>2018-01-04</td>\n",
       "      <td>6f70c0b2f7552832ba46eb57b1c5651e</td>\n",
       "      <td>SP</td>\n",
       "      <td>perfumaria</td>\n",
       "    </tr>\n",
       "    <tr>\n",
       "      <td>3</td>\n",
       "      <td>ba78997921bbcdc1373bb41e913ab953</td>\n",
       "      <td>1.0</td>\n",
       "      <td>credit_card</td>\n",
       "      <td>8.0</td>\n",
       "      <td>107.78</td>\n",
       "      <td>2017-12-06 12:04:06</td>\n",
       "      <td>2017-12-21 01:35:51</td>\n",
       "      <td>2018-01-04</td>\n",
       "      <td>87695ed086ebd36f20404c82d20fca87</td>\n",
       "      <td>MG</td>\n",
       "      <td>cama_mesa_banho</td>\n",
       "    </tr>\n",
       "    <tr>\n",
       "      <td>4</td>\n",
       "      <td>42fdf880ba16b47b59251dd489d4441a</td>\n",
       "      <td>1.0</td>\n",
       "      <td>credit_card</td>\n",
       "      <td>2.0</td>\n",
       "      <td>128.45</td>\n",
       "      <td>2018-05-21 13:59:17</td>\n",
       "      <td>2018-06-01 21:44:53</td>\n",
       "      <td>2018-06-13</td>\n",
       "      <td>4291db0da71914754618cd789aebcd56</td>\n",
       "      <td>SP</td>\n",
       "      <td>cama_mesa_banho</td>\n",
       "    </tr>\n",
       "  </tbody>\n",
       "</table>\n",
       "</div>"
      ],
      "text/plain": [
       "                           order_id  payment_sequential payment_type  \\\n",
       "0  b81ef226f3fe1789b1e8b2acac839d17                 1.0  credit_card   \n",
       "1  a9810da82917af2d9aefd1278f1dcfa0                 1.0  credit_card   \n",
       "2  25e8ea4e93396b6fa0d3dd708e76c1bd                 1.0  credit_card   \n",
       "3  ba78997921bbcdc1373bb41e913ab953                 1.0  credit_card   \n",
       "4  42fdf880ba16b47b59251dd489d4441a                 1.0  credit_card   \n",
       "\n",
       "   payment_installments  payment_value order_purchase_timestamp  \\\n",
       "0                   8.0          99.33      2018-04-25 22:01:49   \n",
       "1                   1.0          24.39      2018-06-26 11:01:38   \n",
       "2                   1.0          65.71      2017-12-12 11:19:55   \n",
       "3                   8.0         107.78      2017-12-06 12:04:06   \n",
       "4                   2.0         128.45      2018-05-21 13:59:17   \n",
       "\n",
       "  order_delivered_customer_date order_estimated_delivery_date  \\\n",
       "0           2018-05-09 17:36:51                    2018-05-22   \n",
       "1           2018-06-29 20:32:09                    2018-07-16   \n",
       "2           2017-12-18 17:24:41                    2018-01-04   \n",
       "3           2017-12-21 01:35:51                    2018-01-04   \n",
       "4           2018-06-01 21:44:53                    2018-06-13   \n",
       "\n",
       "                 customer_unique_id customer_state product_category_name  \n",
       "0  708ab75d2a007f0564aedd11139c7708             MG       casa_construcao  \n",
       "1  a8b9d3a27068454b1c98cc67d4e31e6f             SP            automotivo  \n",
       "2  6f70c0b2f7552832ba46eb57b1c5651e             SP            perfumaria  \n",
       "3  87695ed086ebd36f20404c82d20fca87             MG       cama_mesa_banho  \n",
       "4  4291db0da71914754618cd789aebcd56             SP       cama_mesa_banho  "
      ]
     },
     "execution_count": 47,
     "metadata": {},
     "output_type": "execute_result"
    }
   ],
   "source": [
    "pocip_df = pd.merge(poci_df, product_df, how='left', on='product_id')\n",
    "pocip_df.drop('product_id', axis='columns', inplace=True)\n",
    "pocip_df.info()\n",
    "pocip_df.head()"
   ]
  },
  {
   "cell_type": "code",
   "execution_count": 48,
   "metadata": {
    "scrolled": true
   },
   "outputs": [
    {
     "name": "stdout",
     "output_type": "stream",
     "text": [
      "<class 'pandas.core.frame.DataFrame'>\n",
      "Int64Index: 119094 entries, 0 to 119093\n",
      "Data columns (total 14 columns):\n",
      "order_id                         119094 non-null object\n",
      "payment_sequential               118315 non-null float64\n",
      "payment_type                     118315 non-null object\n",
      "payment_installments             118315 non-null float64\n",
      "payment_value                    118315 non-null float64\n",
      "order_purchase_timestamp         118315 non-null datetime64[ns]\n",
      "order_delivered_customer_date    115727 non-null datetime64[ns]\n",
      "order_estimated_delivery_date    118315 non-null datetime64[ns]\n",
      "customer_unique_id               118315 non-null object\n",
      "customer_state                   118315 non-null object\n",
      "product_category_name            118315 non-null object\n",
      "review_score                     119094 non-null int64\n",
      "review_comment_title             14181 non-null object\n",
      "review_comment_message           51209 non-null object\n",
      "dtypes: datetime64[ns](3), float64(3), int64(1), object(7)\n",
      "memory usage: 13.6+ MB\n"
     ]
    }
   ],
   "source": [
    "pocipr_df = pd.merge(pocip_df, review_df, how='right', on='order_id')\n",
    "pocipr_df.info()"
   ]
  },
  {
   "cell_type": "code",
   "execution_count": 49,
   "metadata": {
    "scrolled": true
   },
   "outputs": [
    {
     "name": "stdout",
     "output_type": "stream",
     "text": [
      "<class 'pandas.core.frame.DataFrame'>\n",
      "Int64Index: 118315 entries, 0 to 118314\n",
      "Data columns (total 14 columns):\n",
      "order_id                         118315 non-null object\n",
      "payment_sequential               118315 non-null float64\n",
      "payment_type                     118315 non-null object\n",
      "payment_installments             118315 non-null float64\n",
      "payment_value                    118315 non-null float64\n",
      "order_purchase_timestamp         118315 non-null datetime64[ns]\n",
      "order_delivered_customer_date    115727 non-null datetime64[ns]\n",
      "order_estimated_delivery_date    118315 non-null datetime64[ns]\n",
      "customer_unique_id               118315 non-null object\n",
      "customer_state                   118315 non-null object\n",
      "product_category_name            118315 non-null object\n",
      "review_score                     118315 non-null int64\n",
      "review_comment_title             14089 non-null object\n",
      "review_comment_message           50665 non-null object\n",
      "dtypes: datetime64[ns](3), float64(3), int64(1), object(7)\n",
      "memory usage: 13.5+ MB\n"
     ]
    }
   ],
   "source": [
    "pocipr_df.drop(pocipr_df[pocipr_df.payment_value.isnull()].index, axis='index', inplace=True)\n",
    "pocipr_df.info()"
   ]
  },
  {
   "cell_type": "code",
   "execution_count": 50,
   "metadata": {
    "scrolled": true
   },
   "outputs": [
    {
     "name": "stdout",
     "output_type": "stream",
     "text": [
      "<class 'pandas.core.frame.DataFrame'>\n",
      "Int64Index: 118315 entries, 0 to 118314\n",
      "Data columns (total 14 columns):\n",
      "order_id                         118315 non-null object\n",
      "payment_sequential               118315 non-null float64\n",
      "payment_type                     118315 non-null object\n",
      "payment_installments             118315 non-null float64\n",
      "payment_value                    118315 non-null float64\n",
      "order_purchase_timestamp         118315 non-null datetime64[ns]\n",
      "order_delivered_customer_date    115727 non-null datetime64[ns]\n",
      "order_estimated_delivery_date    118315 non-null datetime64[ns]\n",
      "customer_unique_id               118315 non-null object\n",
      "customer_state                   118315 non-null object\n",
      "product_category_name            118315 non-null object\n",
      "review_score                     118315 non-null int64\n",
      "review_comment_title             14089 non-null object\n",
      "review_comment_message           50665 non-null object\n",
      "dtypes: datetime64[ns](3), float64(3), int64(1), object(7)\n",
      "memory usage: 13.5+ MB\n"
     ]
    }
   ],
   "source": [
    "pocipr_df.info()"
   ]
  },
  {
   "cell_type": "code",
   "execution_count": 51,
   "metadata": {
    "scrolled": true
   },
   "outputs": [
    {
     "name": "stdout",
     "output_type": "stream",
     "text": [
      "<class 'pandas.core.frame.DataFrame'>\n",
      "Int64Index: 118315 entries, 0 to 118314\n",
      "Data columns (total 14 columns):\n",
      "order_id                         118315 non-null object\n",
      "payment_sequential               118315 non-null float64\n",
      "payment_type                     118315 non-null object\n",
      "payment_installments             118315 non-null float64\n",
      "payment_value                    118315 non-null float64\n",
      "order_purchase_timestamp         118315 non-null datetime64[ns]\n",
      "order_delivered_customer_date    115727 non-null datetime64[ns]\n",
      "order_estimated_delivery_date    118315 non-null datetime64[ns]\n",
      "customer_unique_id               118315 non-null object\n",
      "customer_state                   118315 non-null object\n",
      "product_category_name            118315 non-null object\n",
      "review_score                     118315 non-null int64\n",
      "review_comment_title             14089 non-null object\n",
      "review_comment_message           50665 non-null object\n",
      "dtypes: datetime64[ns](3), float64(3), int64(1), object(7)\n",
      "memory usage: 13.5+ MB\n"
     ]
    }
   ],
   "source": [
    "pocipr_df.fillna(pocipr_df.median(), inplace=True)\n",
    "pocipr_df.info()"
   ]
  },
  {
   "cell_type": "code",
   "execution_count": 52,
   "metadata": {
    "scrolled": true
   },
   "outputs": [
    {
     "name": "stdout",
     "output_type": "stream",
     "text": [
      "<class 'pandas.core.frame.DataFrame'>\n",
      "Int64Index: 118315 entries, 0 to 118314\n",
      "Data columns (total 14 columns):\n",
      "order_id                         118315 non-null object\n",
      "payment_sequential               118315 non-null float64\n",
      "payment_type                     118315 non-null object\n",
      "payment_installments             118315 non-null float64\n",
      "payment_value                    118315 non-null float64\n",
      "order_purchase_timestamp         118315 non-null datetime64[ns]\n",
      "order_delivered_customer_date    115727 non-null datetime64[ns]\n",
      "order_estimated_delivery_date    118315 non-null datetime64[ns]\n",
      "customer_unique_id               118315 non-null object\n",
      "customer_state                   118315 non-null object\n",
      "review_score                     118315 non-null int64\n",
      "review_comment_title             14089 non-null object\n",
      "review_comment_message           50665 non-null object\n",
      "product_category_name_english    116581 non-null object\n",
      "dtypes: datetime64[ns](3), float64(3), int64(1), object(7)\n",
      "memory usage: 13.5+ MB\n"
     ]
    }
   ],
   "source": [
    "pocipr_df = pd.merge(pocipr_df, translation_df, how='left', on='product_category_name')\n",
    "pocipr_df.drop('product_category_name', axis='columns', inplace=True)\n",
    "pocipr_df.info()"
   ]
  },
  {
   "cell_type": "code",
   "execution_count": 53,
   "metadata": {
    "scrolled": false
   },
   "outputs": [
    {
     "name": "stdout",
     "output_type": "stream",
     "text": [
      "<class 'pandas.core.frame.DataFrame'>\n",
      "Int64Index: 118315 entries, 0 to 118314\n",
      "Data columns (total 14 columns):\n",
      "order_id                         118315 non-null object\n",
      "payment_sequential               118315 non-null float64\n",
      "payment_type                     118315 non-null object\n",
      "payment_installments             118315 non-null float64\n",
      "payment_value                    118315 non-null float64\n",
      "order_purchase_timestamp         118315 non-null datetime64[ns]\n",
      "order_delivered_customer_date    115727 non-null datetime64[ns]\n",
      "order_estimated_delivery_date    118315 non-null datetime64[ns]\n",
      "customer_unique_id               118315 non-null object\n",
      "customer_state                   118315 non-null object\n",
      "review_score                     118315 non-null int64\n",
      "review_comment_title             14089 non-null object\n",
      "review_comment_message           50665 non-null object\n",
      "product_category_name_english    118315 non-null object\n",
      "dtypes: datetime64[ns](3), float64(3), int64(1), object(7)\n",
      "memory usage: 13.5+ MB\n"
     ]
    }
   ],
   "source": [
    "pocipr_df.product_category_name_english.fillna('other', inplace=True)\n",
    "pocipr_df.info()"
   ]
  },
  {
   "cell_type": "markdown",
   "metadata": {},
   "source": [
    "# Feature Engineering"
   ]
  },
  {
   "cell_type": "markdown",
   "metadata": {},
   "source": [
    "## Review Comments"
   ]
  },
  {
   "cell_type": "code",
   "execution_count": 54,
   "metadata": {
    "scrolled": true
   },
   "outputs": [],
   "source": [
    "# replace comment with 1 or 0 depending on existence \n",
    "for columns in ['review_comment_title', 'review_comment_message']:\n",
    "    # replace present values with 1\n",
    "    pocipr_df.loc[pocipr_df[columns].notnull(), columns] = 1\n",
    "    # replace null values with 0\n",
    "    pocipr_df.loc[pocipr_df[columns].isna(), columns] = 0"
   ]
  },
  {
   "cell_type": "code",
   "execution_count": 55,
   "metadata": {
    "scrolled": true
   },
   "outputs": [
    {
     "name": "stdout",
     "output_type": "stream",
     "text": [
      "<class 'pandas.core.frame.DataFrame'>\n",
      "Int64Index: 118315 entries, 0 to 118314\n",
      "Data columns (total 13 columns):\n",
      "order_id                         118315 non-null object\n",
      "payment_sequential               118315 non-null float64\n",
      "payment_type                     118315 non-null object\n",
      "payment_installments             118315 non-null float64\n",
      "payment_value                    118315 non-null float64\n",
      "customer_unique_id               118315 non-null object\n",
      "customer_state                   118315 non-null object\n",
      "review_score                     118315 non-null int64\n",
      "review_comment_title             118315 non-null int64\n",
      "review_comment_message           118315 non-null int64\n",
      "product_category_name_english    118315 non-null object\n",
      "delay                            115727 non-null float64\n",
      "purchase_date                    118315 non-null object\n",
      "dtypes: float64(4), int64(3), object(6)\n",
      "memory usage: 12.6+ MB\n"
     ]
    }
   ],
   "source": [
    "# create features and drop columns they were built on\n",
    "pocipr_df['delay'] = (pocipr_df.order_delivered_customer_date - pocipr_df.order_estimated_delivery_date).dt.days\n",
    "pocipr_df['purchase_date'] = pocipr_df['order_purchase_timestamp'].dt.date\n",
    "pocipr_df.drop(['order_purchase_timestamp',\n",
    "                'order_delivered_customer_date',\n",
    "                'order_estimated_delivery_date'], axis='columns', inplace=True)\n",
    "pocipr_df.info()"
   ]
  },
  {
   "cell_type": "code",
   "execution_count": 56,
   "metadata": {},
   "outputs": [
    {
     "name": "stdout",
     "output_type": "stream",
     "text": [
      "<class 'pandas.core.frame.DataFrame'>\n",
      "Int64Index: 118315 entries, 0 to 118314\n",
      "Data columns (total 13 columns):\n",
      "order_id                         118315 non-null object\n",
      "payment_sequential               118315 non-null float64\n",
      "payment_type                     118315 non-null object\n",
      "payment_installments             118315 non-null float64\n",
      "payment_value                    118315 non-null float64\n",
      "customer_unique_id               118315 non-null object\n",
      "customer_state                   118315 non-null object\n",
      "review_score                     118315 non-null int64\n",
      "review_comment_title             118315 non-null int64\n",
      "review_comment_message           118315 non-null int64\n",
      "product_category_name_english    118315 non-null object\n",
      "delay                            118315 non-null float64\n",
      "purchase_date                    118315 non-null object\n",
      "dtypes: float64(4), int64(3), object(6)\n",
      "memory usage: 12.6+ MB\n"
     ]
    }
   ],
   "source": [
    "pocipr_df.delay.fillna(pocipr_df.delay.median(), inplace=True)\n",
    "pocipr_df.info()"
   ]
  },
  {
   "cell_type": "markdown",
   "metadata": {},
   "source": [
    "## Annual Division"
   ]
  },
  {
   "cell_type": "code",
   "execution_count": 57,
   "metadata": {
    "scrolled": false
   },
   "outputs": [],
   "source": [
    "# seperate feature and target transaction histories\n",
    "pocipr_df1 = pocipr_df[(date(2016,10,1) <= pocipr_df.purchase_date) & (pocipr_df.purchase_date < date(2018,4,1))]\n",
    "pocipr_df2 = pocipr_df[(date(2018,4,1) <= pocipr_df.purchase_date) & (pocipr_df.purchase_date < date(2018,10,1))]\n",
    "pocipr_df2 = pocipr_df2[['customer_unique_id', 'payment_value']]"
   ]
  },
  {
   "cell_type": "code",
   "execution_count": 6,
   "metadata": {
    "scrolled": true
   },
   "outputs": [
    {
     "data": {
      "text/plain": [
       "Index(['recency', 'frequency', 'monetary', 'delay', 'installments',\n",
       "       'review_score', 'comment_title', 'comment_message', 'pop_payment_type',\n",
       "       'pop_category', 'customer_state'],\n",
       "      dtype='object')"
      ]
     },
     "execution_count": 6,
     "metadata": {},
     "output_type": "execute_result"
    }
   ],
   "source": [
    "# group features by customer with approperiate metric\n",
    "feature_df = pocipr_df1.groupby('customer_unique_id').agg({'purchase_date': lambda x: min((max(pocipr_df1.purchase_date)-x).dt.days),  \n",
    "                                                    'order_id': 'count',\n",
    "                                                    'payment_value': 'sum',\n",
    "                                                    'delay': 'mean',\n",
    "                                                    'payment_installments': 'mean',\n",
    "                                                    'review_score': 'mean',\n",
    "                                                    'review_comment_title': 'mean',\n",
    "                                                    'review_comment_message': 'mean',\n",
    "                                                    'payment_type': lambda x: x.value_counts().index[0],\n",
    "                                                    'product_category_name_english': lambda x: x.value_counts().index[0],\n",
    "                                                    'customer_state': lambda x: x.value_counts().index[0]})\n",
    "feature_df.columns = ['recency', 'frequency', 'monetary', 'delay', 'installments', 'review_score',\n",
    "                           'comment_title', 'comment_message', 'pop_payment_type', 'pop_category', 'customer_state']\n",
    "feature_df.columns"
   ]
  },
  {
   "cell_type": "code",
   "execution_count": 59,
   "metadata": {},
   "outputs": [],
   "source": [
    "feature_df = pd.read_csv('feature_df.csv', index_col='customer_unique_id')"
   ]
  },
  {
   "cell_type": "code",
   "execution_count": 60,
   "metadata": {},
   "outputs": [],
   "source": [
    "target_df = pocipr_df2.groupby('customer_unique_id').agg({'payment_value':'sum'})"
   ]
  },
  {
   "cell_type": "code",
   "execution_count": 61,
   "metadata": {},
   "outputs": [
    {
     "name": "stdout",
     "output_type": "stream",
     "text": [
      "<class 'pandas.core.frame.DataFrame'>\n",
      "Index: 626 entries, 004b45ec5c64187465168251cd1c9c2f to fe81bb32c243a86b2f86fbf053fe6140\n",
      "Data columns (total 12 columns):\n",
      "recency             626 non-null int64\n",
      "frequency           626 non-null int64\n",
      "monetary            626 non-null float64\n",
      "delay               626 non-null float64\n",
      "installments        626 non-null float64\n",
      "review_score        626 non-null float64\n",
      "comment_title       626 non-null float64\n",
      "comment_message     626 non-null float64\n",
      "pop_payment_type    626 non-null object\n",
      "pop_category        626 non-null object\n",
      "customer_state      626 non-null object\n",
      "payment_value       626 non-null float64\n",
      "dtypes: float64(7), int64(2), object(3)\n",
      "memory usage: 63.6+ KB\n"
     ]
    },
    {
     "data": {
      "text/html": [
       "<div>\n",
       "<style scoped>\n",
       "    .dataframe tbody tr th:only-of-type {\n",
       "        vertical-align: middle;\n",
       "    }\n",
       "\n",
       "    .dataframe tbody tr th {\n",
       "        vertical-align: top;\n",
       "    }\n",
       "\n",
       "    .dataframe thead th {\n",
       "        text-align: right;\n",
       "    }\n",
       "</style>\n",
       "<table border=\"1\" class=\"dataframe\">\n",
       "  <thead>\n",
       "    <tr style=\"text-align: right;\">\n",
       "      <th></th>\n",
       "      <th>recency</th>\n",
       "      <th>frequency</th>\n",
       "      <th>monetary</th>\n",
       "      <th>delay</th>\n",
       "      <th>installments</th>\n",
       "      <th>review_score</th>\n",
       "      <th>comment_title</th>\n",
       "      <th>comment_message</th>\n",
       "      <th>pop_payment_type</th>\n",
       "      <th>pop_category</th>\n",
       "      <th>customer_state</th>\n",
       "      <th>payment_value</th>\n",
       "    </tr>\n",
       "    <tr>\n",
       "      <th>customer_unique_id</th>\n",
       "      <th></th>\n",
       "      <th></th>\n",
       "      <th></th>\n",
       "      <th></th>\n",
       "      <th></th>\n",
       "      <th></th>\n",
       "      <th></th>\n",
       "      <th></th>\n",
       "      <th></th>\n",
       "      <th></th>\n",
       "      <th></th>\n",
       "      <th></th>\n",
       "    </tr>\n",
       "  </thead>\n",
       "  <tbody>\n",
       "    <tr>\n",
       "      <td>004b45ec5c64187465168251cd1c9c2f</td>\n",
       "      <td>211</td>\n",
       "      <td>1</td>\n",
       "      <td>97.87</td>\n",
       "      <td>-13.0</td>\n",
       "      <td>1.0</td>\n",
       "      <td>1.0</td>\n",
       "      <td>0.0</td>\n",
       "      <td>1.0</td>\n",
       "      <td>boleto</td>\n",
       "      <td>garden_tools</td>\n",
       "      <td>AL</td>\n",
       "      <td>49.85</td>\n",
       "    </tr>\n",
       "    <tr>\n",
       "      <td>011575986092c30523ecb71ff10cb473</td>\n",
       "      <td>42</td>\n",
       "      <td>1</td>\n",
       "      <td>134.58</td>\n",
       "      <td>-5.0</td>\n",
       "      <td>2.0</td>\n",
       "      <td>3.0</td>\n",
       "      <td>0.0</td>\n",
       "      <td>1.0</td>\n",
       "      <td>credit_card</td>\n",
       "      <td>toys</td>\n",
       "      <td>MG</td>\n",
       "      <td>80.32</td>\n",
       "    </tr>\n",
       "    <tr>\n",
       "      <td>012452d40dafae4df401bced74cdb490</td>\n",
       "      <td>286</td>\n",
       "      <td>1</td>\n",
       "      <td>155.26</td>\n",
       "      <td>-6.0</td>\n",
       "      <td>5.0</td>\n",
       "      <td>4.0</td>\n",
       "      <td>0.0</td>\n",
       "      <td>0.0</td>\n",
       "      <td>credit_card</td>\n",
       "      <td>office_furniture</td>\n",
       "      <td>SP</td>\n",
       "      <td>340.07</td>\n",
       "    </tr>\n",
       "    <tr>\n",
       "      <td>0178b244a5c281fb2ade54038dd4b161</td>\n",
       "      <td>325</td>\n",
       "      <td>1</td>\n",
       "      <td>102.03</td>\n",
       "      <td>-11.0</td>\n",
       "      <td>9.0</td>\n",
       "      <td>4.0</td>\n",
       "      <td>0.0</td>\n",
       "      <td>0.0</td>\n",
       "      <td>credit_card</td>\n",
       "      <td>bed_bath_table</td>\n",
       "      <td>SP</td>\n",
       "      <td>473.58</td>\n",
       "    </tr>\n",
       "    <tr>\n",
       "      <td>01f2285f85a1c603eb7ef755ad311769</td>\n",
       "      <td>336</td>\n",
       "      <td>1</td>\n",
       "      <td>191.40</td>\n",
       "      <td>-15.0</td>\n",
       "      <td>3.0</td>\n",
       "      <td>4.0</td>\n",
       "      <td>0.0</td>\n",
       "      <td>1.0</td>\n",
       "      <td>credit_card</td>\n",
       "      <td>sports_leisure</td>\n",
       "      <td>MG</td>\n",
       "      <td>271.64</td>\n",
       "    </tr>\n",
       "  </tbody>\n",
       "</table>\n",
       "</div>"
      ],
      "text/plain": [
       "                                  recency  frequency  monetary  delay  \\\n",
       "customer_unique_id                                                      \n",
       "004b45ec5c64187465168251cd1c9c2f      211          1     97.87  -13.0   \n",
       "011575986092c30523ecb71ff10cb473       42          1    134.58   -5.0   \n",
       "012452d40dafae4df401bced74cdb490      286          1    155.26   -6.0   \n",
       "0178b244a5c281fb2ade54038dd4b161      325          1    102.03  -11.0   \n",
       "01f2285f85a1c603eb7ef755ad311769      336          1    191.40  -15.0   \n",
       "\n",
       "                                  installments  review_score  comment_title  \\\n",
       "customer_unique_id                                                            \n",
       "004b45ec5c64187465168251cd1c9c2f           1.0           1.0            0.0   \n",
       "011575986092c30523ecb71ff10cb473           2.0           3.0            0.0   \n",
       "012452d40dafae4df401bced74cdb490           5.0           4.0            0.0   \n",
       "0178b244a5c281fb2ade54038dd4b161           9.0           4.0            0.0   \n",
       "01f2285f85a1c603eb7ef755ad311769           3.0           4.0            0.0   \n",
       "\n",
       "                                  comment_message pop_payment_type  \\\n",
       "customer_unique_id                                                   \n",
       "004b45ec5c64187465168251cd1c9c2f              1.0           boleto   \n",
       "011575986092c30523ecb71ff10cb473              1.0      credit_card   \n",
       "012452d40dafae4df401bced74cdb490              0.0      credit_card   \n",
       "0178b244a5c281fb2ade54038dd4b161              0.0      credit_card   \n",
       "01f2285f85a1c603eb7ef755ad311769              1.0      credit_card   \n",
       "\n",
       "                                      pop_category customer_state  \\\n",
       "customer_unique_id                                                  \n",
       "004b45ec5c64187465168251cd1c9c2f      garden_tools             AL   \n",
       "011575986092c30523ecb71ff10cb473              toys             MG   \n",
       "012452d40dafae4df401bced74cdb490  office_furniture             SP   \n",
       "0178b244a5c281fb2ade54038dd4b161    bed_bath_table             SP   \n",
       "01f2285f85a1c603eb7ef755ad311769    sports_leisure             MG   \n",
       "\n",
       "                                  payment_value  \n",
       "customer_unique_id                               \n",
       "004b45ec5c64187465168251cd1c9c2f          49.85  \n",
       "011575986092c30523ecb71ff10cb473          80.32  \n",
       "012452d40dafae4df401bced74cdb490         340.07  \n",
       "0178b244a5c281fb2ade54038dd4b161         473.58  \n",
       "01f2285f85a1c603eb7ef755ad311769         271.64  "
      ]
     },
     "execution_count": 61,
     "metadata": {},
     "output_type": "execute_result"
    }
   ],
   "source": [
    "# create dataframe associated with business problem for EDA\n",
    "df = pd.merge(feature_df, target_df, on='customer_unique_id')\n",
    "df.info()\n",
    "df.head()"
   ]
  },
  {
   "cell_type": "code",
   "execution_count": 62,
   "metadata": {},
   "outputs": [
    {
     "data": {
      "text/plain": [
       "12"
      ]
     },
     "execution_count": 62,
     "metadata": {},
     "output_type": "execute_result"
    }
   ],
   "source": [
    "# drop constant columns due to grouping\n",
    "df = df.loc[:, (df != df.iloc[0]).any()] \n",
    "df.shape[1]"
   ]
  },
  {
   "cell_type": "markdown",
   "metadata": {},
   "source": [
    "# Exploratory Data Analytics"
   ]
  },
  {
   "cell_type": "markdown",
   "metadata": {},
   "source": [
    "## Value Variation\n",
    "<a id='value'></a>"
   ]
  },
  {
   "cell_type": "code",
   "execution_count": 63,
   "metadata": {
    "scrolled": true
   },
   "outputs": [
    {
     "data": {
      "image/png": "[encoded data removed]",
      "text/plain": [
       "<Figure size 432x288 with 1 Axes>"
      ]
     },
     "metadata": {
      "needs_background": "light"
     },
     "output_type": "display_data"
    }
   ],
   "source": [
    "# payment value distribution\n",
    "plt.hist(df.payment_value, bins=200)\n",
    "plt.xlabel('payment value')\n",
    "plt.ylabel('count');"
   ]
  },
  {
   "cell_type": "markdown",
   "metadata": {},
   "source": [
    "The value of the customers indeed differ. There are a large number of customers with low value while there are a few with high value."
   ]
  },
  {
   "cell_type": "markdown",
   "metadata": {},
   "source": [
    "## Location Value\n",
    "<a id='location'></a>"
   ]
  },
  {
   "cell_type": "code",
   "execution_count": 64,
   "metadata": {
    "scrolled": false
   },
   "outputs": [
    {
     "data": {
      "image/png": "[encoded data removed]",
      "text/plain": [
       "<Figure size 720x360 with 1 Axes>"
      ]
     },
     "metadata": {
      "needs_background": "light"
     },
     "output_type": "display_data"
    }
   ],
   "source": [
    "pay_by_state_series = df.groupby('customer_state').sum()['payment_value']\n",
    "cust_by_state_series = df.groupby('customer_state').count()['payment_value']\n",
    "pay_per_cust_series = pay_by_state_series/cust_by_state_series\n",
    "pay_per_cust_series.sort_values(inplace=True, ascending=False)\n",
    "plt.figure(figsize=(10,5))\n",
    "plt.bar(pay_per_cust_series.index, pay_per_cust_series.values);\n",
    "plt.xlabel('state')\n",
    "plt.ylabel('average payment per customer');"
   ]
  },
  {
   "cell_type": "markdown",
   "metadata": {},
   "source": [
    "Customers from certain state have higher value than others. For example, SN, RN, and PB have top 3 states while MS, AM, and AL or bottom 3."
   ]
  },
  {
   "cell_type": "markdown",
   "metadata": {},
   "source": [
    "## Product Category\n",
    "<a id='category'></a>"
   ]
  },
  {
   "cell_type": "code",
   "execution_count": 65,
   "metadata": {
    "scrolled": false
   },
   "outputs": [],
   "source": [
    "pay_by_cat_series = df.groupby('pop_category')['payment_value'].sum()\n",
    "cust_by_cat_series = df.groupby('pop_category')['payment_value'].count()\n",
    "pay_per_cust_series = pay_by_cat_series/cust_by_cat_series\n",
    "pay_per_cust_series.sort_values(inplace=True, ascending=False)\n"
   ]
  },
  {
   "cell_type": "markdown",
   "metadata": {},
   "source": [
    "Customers interested in different categories have different payment values. For example, customers interested in furniture, game, watch, auto, and drinks have top five values."
   ]
  },
  {
   "cell_type": "code",
   "execution_count": 66,
   "metadata": {
    "scrolled": true
   },
   "outputs": [
    {
     "data": {
      "text/plain": [
       "order_id                  99441\n",
       "review_score                  5\n",
       "review_comment_title       4600\n",
       "review_comment_message    36921\n",
       "dtype: int64"
      ]
     },
     "execution_count": 66,
     "metadata": {},
     "output_type": "execute_result"
    }
   ],
   "source": [
    "review_df.nunique()"
   ]
  },
  {
   "cell_type": "code",
   "execution_count": 67,
   "metadata": {
    "scrolled": false
   },
   "outputs": [
    {
     "data": {
      "text/plain": [
       "credit_card    76795\n",
       "boleto         19784\n",
       "voucher         5775\n",
       "debit_card      1529\n",
       "not_defined        3\n",
       "Name: payment_type, dtype: int64"
      ]
     },
     "execution_count": 67,
     "metadata": {},
     "output_type": "execute_result"
    }
   ],
   "source": [
    "payment_df['payment_type'].value_counts()"
   ]
  },
  {
   "cell_type": "code",
   "execution_count": 68,
   "metadata": {
    "scrolled": true
   },
   "outputs": [
    {
     "data": {
      "image/png": "[encoded data removed]",
      "text/plain": [
       "<Figure size 432x288 with 1 Axes>"
      ]
     },
     "metadata": {
      "needs_background": "light"
     },
     "output_type": "display_data"
    }
   ],
   "source": [
    "plt.bar(payment_df.groupby('payment_type').mean().index, \n",
    "        payment_df.groupby('payment_type').mean()['payment_value'])\n",
    "plt.ylabel('count');"
   ]
  },
  {
   "cell_type": "code",
   "execution_count": 69,
   "metadata": {
    "scrolled": true
   },
   "outputs": [
    {
     "data": {
      "image/png": "[encoded data removed]",
      "text/plain": [
       "<Figure size 432x288 with 1 Axes>"
      ]
     },
     "metadata": {
      "needs_background": "light"
     },
     "output_type": "display_data"
    }
   ],
   "source": [
    "plt.scatter(payment_df.payment_installments, payment_df.payment_value)\n",
    "plt.xlabel('installments')\n",
    "plt.ylabel('payment');"
   ]
  },
  {
   "cell_type": "code",
   "execution_count": 70,
   "metadata": {
    "scrolled": false
   },
   "outputs": [
    {
     "data": {
      "image/png": "[encoded data removed]",
      "text/plain": [
       "<Figure size 432x288 with 1 Axes>"
      ]
     },
     "metadata": {
      "needs_background": "light"
     },
     "output_type": "display_data"
    }
   ],
   "source": [
    "plt.bar(review_df.review_score.value_counts().index, review_df.review_score.value_counts().values)\n",
    "plt.xlabel('rating')\n",
    "plt.ylabel('count');"
   ]
  },
  {
   "cell_type": "code",
   "execution_count": 71,
   "metadata": {},
   "outputs": [
    {
     "data": {
      "image/png": "[encoded data removed]",
      "text/plain": [
       "<Figure size 432x288 with 1 Axes>"
      ]
     },
     "metadata": {
      "needs_background": "light"
     },
     "output_type": "display_data"
    }
   ],
   "source": [
    "plt.scatter(df.monetary, df.payment_value)\n",
    "plt.xlabel('monetary')\n",
    "plt.ylabel('payment');"
   ]
  },
  {
   "cell_type": "code",
   "execution_count": 72,
   "metadata": {},
   "outputs": [
    {
     "data": {
      "image/png": "[encoded data removed]",
      "text/plain": [
       "<Figure size 432x288 with 1 Axes>"
      ]
     },
     "metadata": {
      "needs_background": "light"
     },
     "output_type": "display_data"
    }
   ],
   "source": [
    "plt.scatter(df.frequency, df.payment_value)\n",
    "plt.xlabel('frequency')\n",
    "plt.ylabel('payment');"
   ]
  },
  {
   "cell_type": "code",
   "execution_count": 73,
   "metadata": {
    "scrolled": true
   },
   "outputs": [
    {
     "data": {
      "image/png": "[encoded data removed]",
      "text/plain": [
       "<Figure size 432x288 with 1 Axes>"
      ]
     },
     "metadata": {
      "needs_background": "light"
     },
     "output_type": "display_data"
    }
   ],
   "source": [
    "plt.scatter(df.installments, df.payment_value)\n",
    "plt.xlabel('installments')\n",
    "plt.ylabel('payment');"
   ]
  },
  {
   "cell_type": "code",
   "execution_count": 74,
   "metadata": {
    "scrolled": true
   },
   "outputs": [
    {
     "data": {
      "text/plain": [
       "4"
      ]
     },
     "execution_count": 74,
     "metadata": {},
     "output_type": "execute_result"
    }
   ],
   "source": [
    "pocipr_df.payment_type.nunique()"
   ]
  },
  {
   "cell_type": "code",
   "execution_count": 75,
   "metadata": {
    "scrolled": true
   },
   "outputs": [
    {
     "data": {
      "text/plain": [
       "72"
      ]
     },
     "execution_count": 75,
     "metadata": {},
     "output_type": "execute_result"
    }
   ],
   "source": [
    "pocipr_df.product_category_name_english.nunique()"
   ]
  },
  {
   "cell_type": "code",
   "execution_count": 76,
   "metadata": {
    "scrolled": true
   },
   "outputs": [
    {
     "data": {
      "text/plain": [
       "27"
      ]
     },
     "execution_count": 76,
     "metadata": {},
     "output_type": "execute_result"
    }
   ],
   "source": [
    "pocipr_df.customer_state.nunique()"
   ]
  },
  {
   "cell_type": "markdown",
   "metadata": {},
   "source": [
    "The number of unique values for categorical features are not very large. Therefore, it is decided to one hot encode all of them for the first modeling round."
   ]
  },
  {
   "cell_type": "code",
   "execution_count": 77,
   "metadata": {
    "scrolled": true
   },
   "outputs": [],
   "source": [
    "# one hot encoder\n",
    "df = pd.get_dummies(df)"
   ]
  },
  {
   "cell_type": "markdown",
   "metadata": {},
   "source": [
    "# Corrlation Analysis"
   ]
  },
  {
   "cell_type": "code",
   "execution_count": 78,
   "metadata": {
    "scrolled": false
   },
   "outputs": [
    {
     "data": {
      "text/html": [
       "<div>\n",
       "<style scoped>\n",
       "    .dataframe tbody tr th:only-of-type {\n",
       "        vertical-align: middle;\n",
       "    }\n",
       "\n",
       "    .dataframe tbody tr th {\n",
       "        vertical-align: top;\n",
       "    }\n",
       "\n",
       "    .dataframe thead th {\n",
       "        text-align: right;\n",
       "    }\n",
       "</style>\n",
       "<table border=\"1\" class=\"dataframe\">\n",
       "  <thead>\n",
       "    <tr style=\"text-align: right;\">\n",
       "      <th></th>\n",
       "      <th>feature</th>\n",
       "      <th>abs_corr</th>\n",
       "      <th>corr</th>\n",
       "      <th>p_value</th>\n",
       "    </tr>\n",
       "  </thead>\n",
       "  <tbody>\n",
       "    <tr>\n",
       "      <td>0</td>\n",
       "      <td>payment_value</td>\n",
       "      <td>1.000000</td>\n",
       "      <td>1.000000</td>\n",
       "      <td>0.000000e+00</td>\n",
       "    </tr>\n",
       "    <tr>\n",
       "      <td>1</td>\n",
       "      <td>monetary</td>\n",
       "      <td>0.384817</td>\n",
       "      <td>0.384817</td>\n",
       "      <td>1.580540e-23</td>\n",
       "    </tr>\n",
       "    <tr>\n",
       "      <td>2</td>\n",
       "      <td>frequency</td>\n",
       "      <td>0.234428</td>\n",
       "      <td>0.234428</td>\n",
       "      <td>2.910304e-09</td>\n",
       "    </tr>\n",
       "    <tr>\n",
       "      <td>3</td>\n",
       "      <td>pop_category_watches_gifts</td>\n",
       "      <td>0.149191</td>\n",
       "      <td>0.149191</td>\n",
       "      <td>1.794787e-04</td>\n",
       "    </tr>\n",
       "    <tr>\n",
       "      <td>4</td>\n",
       "      <td>pop_category_office_furniture</td>\n",
       "      <td>0.143431</td>\n",
       "      <td>0.143431</td>\n",
       "      <td>3.180792e-04</td>\n",
       "    </tr>\n",
       "    <tr>\n",
       "      <td>...</td>\n",
       "      <td>...</td>\n",
       "      <td>...</td>\n",
       "      <td>...</td>\n",
       "      <td>...</td>\n",
       "    </tr>\n",
       "    <tr>\n",
       "      <td>76</td>\n",
       "      <td>comment_title</td>\n",
       "      <td>0.005605</td>\n",
       "      <td>-0.005605</td>\n",
       "      <td>8.886970e-01</td>\n",
       "    </tr>\n",
       "    <tr>\n",
       "      <td>77</td>\n",
       "      <td>customer_state_CE</td>\n",
       "      <td>0.002225</td>\n",
       "      <td>-0.002225</td>\n",
       "      <td>9.556867e-01</td>\n",
       "    </tr>\n",
       "    <tr>\n",
       "      <td>78</td>\n",
       "      <td>pop_category_audio</td>\n",
       "      <td>0.001493</td>\n",
       "      <td>-0.001493</td>\n",
       "      <td>9.702540e-01</td>\n",
       "    </tr>\n",
       "    <tr>\n",
       "      <td>79</td>\n",
       "      <td>pop_category_cool_stuff</td>\n",
       "      <td>0.000204</td>\n",
       "      <td>0.000204</td>\n",
       "      <td>9.959356e-01</td>\n",
       "    </tr>\n",
       "    <tr>\n",
       "      <td>80</td>\n",
       "      <td>pop_category_other</td>\n",
       "      <td>0.000162</td>\n",
       "      <td>0.000162</td>\n",
       "      <td>9.967630e-01</td>\n",
       "    </tr>\n",
       "  </tbody>\n",
       "</table>\n",
       "<p>81 rows × 4 columns</p>\n",
       "</div>"
      ],
      "text/plain": [
       "                          feature  abs_corr      corr       p_value\n",
       "0                   payment_value  1.000000  1.000000  0.000000e+00\n",
       "1                        monetary  0.384817  0.384817  1.580540e-23\n",
       "2                       frequency  0.234428  0.234428  2.910304e-09\n",
       "3      pop_category_watches_gifts  0.149191  0.149191  1.794787e-04\n",
       "4   pop_category_office_furniture  0.143431  0.143431  3.180792e-04\n",
       "..                            ...       ...       ...           ...\n",
       "76                  comment_title  0.005605 -0.005605  8.886970e-01\n",
       "77              customer_state_CE  0.002225 -0.002225  9.556867e-01\n",
       "78             pop_category_audio  0.001493 -0.001493  9.702540e-01\n",
       "79        pop_category_cool_stuff  0.000204  0.000204  9.959356e-01\n",
       "80             pop_category_other  0.000162  0.000162  9.967630e-01\n",
       "\n",
       "[81 rows x 4 columns]"
      ]
     },
     "execution_count": 78,
     "metadata": {},
     "output_type": "execute_result"
    }
   ],
   "source": [
    "from scipy import stats\n",
    "corr_array=[]\n",
    "for i in range(df.shape[1]-1):  \n",
    "    corr_array.append([df.columns[i], \n",
    "    np.abs(stats.pearsonr(df[df.columns[i]], df.payment_value)[0]),\n",
    "    stats.pearsonr(df[df.columns[i]], df.payment_value)[0],\n",
    "    stats.pearsonr(df[df.columns[i]], df.payment_value)[1]])\n",
    "    \n",
    "corr_df = pd.DataFrame(corr_array, columns = ['feature', 'abs_corr', 'corr', 'p_value'])\n",
    "corr_df.sort_values(by = 'abs_corr', ascending = False, inplace = True)\n",
    "corr_df.reset_index(drop = True, inplace = True)\n",
    "corr_df"
   ]
  },
  {
   "cell_type": "markdown",
   "metadata": {},
   "source": [
    "Correlations show that differences in customer value observed in [Value Variation](#value) is indeed related to some features. Furthermore, p-values smaller than 5% indicates that these relationships are indeed statistically significant."
   ]
  },
  {
   "cell_type": "markdown",
   "metadata": {},
   "source": [
    "# Logistic Regression"
   ]
  },
  {
   "cell_type": "markdown",
   "metadata": {},
   "source": [
    "## Value-based"
   ]
  },
  {
   "cell_type": "code",
   "execution_count": 79,
   "metadata": {
    "scrolled": false
   },
   "outputs": [
    {
     "data": {
      "text/plain": [
       "Text(0.5, 0, 'normalized coefficient')"
      ]
     },
     "execution_count": 79,
     "metadata": {},
     "output_type": "execute_result"
    },
    {
     "data": {
      "image/png": "[encoded data removed]",
      "text/plain": [
       "<Figure size 432x288 with 1 Axes>"
      ]
     },
     "metadata": {
      "needs_background": "light"
     },
     "output_type": "display_data"
    }
   ],
   "source": [
    "# seperate target from features\n",
    "X = df.iloc[:,:-1]\n",
    "y = df.iloc[:,-1].reset_index(drop=True)\n",
    "\n",
    "# scale data with standard scaler\n",
    "from sklearn.preprocessing import StandardScaler\n",
    "scaler = StandardScaler()\n",
    "X = pd.DataFrame(data=scaler.fit_transform(X), columns=X.columns)\n",
    "\n",
    "# fit OLS function \n",
    "import statsmodels.api as sm\n",
    "X_withconstant = sm.add_constant(X)\n",
    "lr = sm.OLS(y, X_withconstant).fit()\n",
    "#display(lr.summary())\n",
    "\n",
    "# table of significant coefficinets sorted by absolute value\n",
    "coef_table = lr.summary().tables[1]\n",
    "coef_df = pd.DataFrame(data=coef_table.data[1:], columns=coef_table.data[0])\n",
    "coef_df['coef'] = coef_df['coef'].astype(float)\n",
    "coef_df['P>|t|'] = coef_df['P>|t|'].astype(float)\n",
    "coef_df['abs_coef'] = np.abs(coef_df['coef'])\n",
    "coef_df.drop(0, axis='index', inplace=True)\n",
    "coefs_by_mag = coef_df.sort_values(by='abs_coef', ascending=False)\n",
    "coefs_by_mag = coefs_by_mag[coefs_by_mag['P>|t|'] <= 0.05]\n",
    "\n",
    "# bar chart of feature coefficients\n",
    "plt.barh(coefs_by_mag[''], coefs_by_mag['coef'], color=np.where(coefs_by_mag['coef']>0, 'blue', 'red'))\n",
    "plt.xlabel('normalized coefficient')"
   ]
  },
  {
   "cell_type": "markdown",
   "metadata": {},
   "source": [
    "## Quartile-based"
   ]
  },
  {
   "cell_type": "code",
   "execution_count": 80,
   "metadata": {},
   "outputs": [
    {
     "data": {
      "text/html": [
       "<div>\n",
       "<style scoped>\n",
       "    .dataframe tbody tr th:only-of-type {\n",
       "        vertical-align: middle;\n",
       "    }\n",
       "\n",
       "    .dataframe tbody tr th {\n",
       "        vertical-align: top;\n",
       "    }\n",
       "\n",
       "    .dataframe thead th {\n",
       "        text-align: right;\n",
       "    }\n",
       "</style>\n",
       "<table border=\"1\" class=\"dataframe\">\n",
       "  <thead>\n",
       "    <tr style=\"text-align: right;\">\n",
       "      <th></th>\n",
       "      <th>recency</th>\n",
       "      <th>frequency</th>\n",
       "      <th>monetary</th>\n",
       "      <th>delay</th>\n",
       "      <th>installments</th>\n",
       "      <th>review_score</th>\n",
       "      <th>comment_title</th>\n",
       "      <th>comment_message</th>\n",
       "      <th>payment_value</th>\n",
       "      <th>pop_payment_type_boleto</th>\n",
       "      <th>...</th>\n",
       "      <th>customer_state_PI</th>\n",
       "      <th>customer_state_PR</th>\n",
       "      <th>customer_state_RJ</th>\n",
       "      <th>customer_state_RN</th>\n",
       "      <th>customer_state_RO</th>\n",
       "      <th>customer_state_RS</th>\n",
       "      <th>customer_state_SC</th>\n",
       "      <th>customer_state_SE</th>\n",
       "      <th>customer_state_SP</th>\n",
       "      <th>customer_state_TO</th>\n",
       "    </tr>\n",
       "    <tr>\n",
       "      <th>customer_unique_id</th>\n",
       "      <th></th>\n",
       "      <th></th>\n",
       "      <th></th>\n",
       "      <th></th>\n",
       "      <th></th>\n",
       "      <th></th>\n",
       "      <th></th>\n",
       "      <th></th>\n",
       "      <th></th>\n",
       "      <th></th>\n",
       "      <th></th>\n",
       "      <th></th>\n",
       "      <th></th>\n",
       "      <th></th>\n",
       "      <th></th>\n",
       "      <th></th>\n",
       "      <th></th>\n",
       "      <th></th>\n",
       "      <th></th>\n",
       "      <th></th>\n",
       "      <th></th>\n",
       "    </tr>\n",
       "  </thead>\n",
       "  <tbody>\n",
       "    <tr>\n",
       "      <td>004b45ec5c64187465168251cd1c9c2f</td>\n",
       "      <td>211</td>\n",
       "      <td>1</td>\n",
       "      <td>97.87</td>\n",
       "      <td>-13.000000</td>\n",
       "      <td>1.0</td>\n",
       "      <td>1.000000</td>\n",
       "      <td>0.0</td>\n",
       "      <td>1.000000</td>\n",
       "      <td>1</td>\n",
       "      <td>1</td>\n",
       "      <td>...</td>\n",
       "      <td>0</td>\n",
       "      <td>0</td>\n",
       "      <td>0</td>\n",
       "      <td>0</td>\n",
       "      <td>0</td>\n",
       "      <td>0</td>\n",
       "      <td>0</td>\n",
       "      <td>0</td>\n",
       "      <td>0</td>\n",
       "      <td>0</td>\n",
       "    </tr>\n",
       "    <tr>\n",
       "      <td>011575986092c30523ecb71ff10cb473</td>\n",
       "      <td>42</td>\n",
       "      <td>1</td>\n",
       "      <td>134.58</td>\n",
       "      <td>-5.000000</td>\n",
       "      <td>2.0</td>\n",
       "      <td>3.000000</td>\n",
       "      <td>0.0</td>\n",
       "      <td>1.000000</td>\n",
       "      <td>2</td>\n",
       "      <td>0</td>\n",
       "      <td>...</td>\n",
       "      <td>0</td>\n",
       "      <td>0</td>\n",
       "      <td>0</td>\n",
       "      <td>0</td>\n",
       "      <td>0</td>\n",
       "      <td>0</td>\n",
       "      <td>0</td>\n",
       "      <td>0</td>\n",
       "      <td>0</td>\n",
       "      <td>0</td>\n",
       "    </tr>\n",
       "    <tr>\n",
       "      <td>012452d40dafae4df401bced74cdb490</td>\n",
       "      <td>286</td>\n",
       "      <td>1</td>\n",
       "      <td>155.26</td>\n",
       "      <td>-6.000000</td>\n",
       "      <td>5.0</td>\n",
       "      <td>4.000000</td>\n",
       "      <td>0.0</td>\n",
       "      <td>0.000000</td>\n",
       "      <td>4</td>\n",
       "      <td>0</td>\n",
       "      <td>...</td>\n",
       "      <td>0</td>\n",
       "      <td>0</td>\n",
       "      <td>0</td>\n",
       "      <td>0</td>\n",
       "      <td>0</td>\n",
       "      <td>0</td>\n",
       "      <td>0</td>\n",
       "      <td>0</td>\n",
       "      <td>1</td>\n",
       "      <td>0</td>\n",
       "    </tr>\n",
       "    <tr>\n",
       "      <td>0178b244a5c281fb2ade54038dd4b161</td>\n",
       "      <td>325</td>\n",
       "      <td>1</td>\n",
       "      <td>102.03</td>\n",
       "      <td>-11.000000</td>\n",
       "      <td>9.0</td>\n",
       "      <td>4.000000</td>\n",
       "      <td>0.0</td>\n",
       "      <td>0.000000</td>\n",
       "      <td>4</td>\n",
       "      <td>0</td>\n",
       "      <td>...</td>\n",
       "      <td>0</td>\n",
       "      <td>0</td>\n",
       "      <td>0</td>\n",
       "      <td>0</td>\n",
       "      <td>0</td>\n",
       "      <td>0</td>\n",
       "      <td>0</td>\n",
       "      <td>0</td>\n",
       "      <td>1</td>\n",
       "      <td>0</td>\n",
       "    </tr>\n",
       "    <tr>\n",
       "      <td>01f2285f85a1c603eb7ef755ad311769</td>\n",
       "      <td>336</td>\n",
       "      <td>1</td>\n",
       "      <td>191.40</td>\n",
       "      <td>-15.000000</td>\n",
       "      <td>3.0</td>\n",
       "      <td>4.000000</td>\n",
       "      <td>0.0</td>\n",
       "      <td>1.000000</td>\n",
       "      <td>4</td>\n",
       "      <td>0</td>\n",
       "      <td>...</td>\n",
       "      <td>0</td>\n",
       "      <td>0</td>\n",
       "      <td>0</td>\n",
       "      <td>0</td>\n",
       "      <td>0</td>\n",
       "      <td>0</td>\n",
       "      <td>0</td>\n",
       "      <td>0</td>\n",
       "      <td>0</td>\n",
       "      <td>0</td>\n",
       "    </tr>\n",
       "    <tr>\n",
       "      <td>...</td>\n",
       "      <td>...</td>\n",
       "      <td>...</td>\n",
       "      <td>...</td>\n",
       "      <td>...</td>\n",
       "      <td>...</td>\n",
       "      <td>...</td>\n",
       "      <td>...</td>\n",
       "      <td>...</td>\n",
       "      <td>...</td>\n",
       "      <td>...</td>\n",
       "      <td>...</td>\n",
       "      <td>...</td>\n",
       "      <td>...</td>\n",
       "      <td>...</td>\n",
       "      <td>...</td>\n",
       "      <td>...</td>\n",
       "      <td>...</td>\n",
       "      <td>...</td>\n",
       "      <td>...</td>\n",
       "      <td>...</td>\n",
       "      <td>...</td>\n",
       "    </tr>\n",
       "    <tr>\n",
       "      <td>fc19fe9ac733e36ff8227c29435c2030</td>\n",
       "      <td>430</td>\n",
       "      <td>2</td>\n",
       "      <td>60.86</td>\n",
       "      <td>-30.000000</td>\n",
       "      <td>1.0</td>\n",
       "      <td>5.000000</td>\n",
       "      <td>0.0</td>\n",
       "      <td>0.000000</td>\n",
       "      <td>2</td>\n",
       "      <td>0</td>\n",
       "      <td>...</td>\n",
       "      <td>0</td>\n",
       "      <td>0</td>\n",
       "      <td>0</td>\n",
       "      <td>0</td>\n",
       "      <td>0</td>\n",
       "      <td>0</td>\n",
       "      <td>0</td>\n",
       "      <td>0</td>\n",
       "      <td>1</td>\n",
       "      <td>0</td>\n",
       "    </tr>\n",
       "    <tr>\n",
       "      <td>fcd0ab79592faab19e2bf386cf69fbcd</td>\n",
       "      <td>414</td>\n",
       "      <td>1</td>\n",
       "      <td>45.95</td>\n",
       "      <td>-27.000000</td>\n",
       "      <td>1.0</td>\n",
       "      <td>5.000000</td>\n",
       "      <td>0.0</td>\n",
       "      <td>0.000000</td>\n",
       "      <td>1</td>\n",
       "      <td>0</td>\n",
       "      <td>...</td>\n",
       "      <td>0</td>\n",
       "      <td>0</td>\n",
       "      <td>0</td>\n",
       "      <td>0</td>\n",
       "      <td>0</td>\n",
       "      <td>1</td>\n",
       "      <td>0</td>\n",
       "      <td>0</td>\n",
       "      <td>0</td>\n",
       "      <td>0</td>\n",
       "    </tr>\n",
       "    <tr>\n",
       "      <td>fd8ccc89be43894d2553494c71a61fd8</td>\n",
       "      <td>18</td>\n",
       "      <td>3</td>\n",
       "      <td>206.01</td>\n",
       "      <td>-22.000000</td>\n",
       "      <td>1.0</td>\n",
       "      <td>4.666667</td>\n",
       "      <td>0.0</td>\n",
       "      <td>1.000000</td>\n",
       "      <td>4</td>\n",
       "      <td>0</td>\n",
       "      <td>...</td>\n",
       "      <td>0</td>\n",
       "      <td>0</td>\n",
       "      <td>1</td>\n",
       "      <td>0</td>\n",
       "      <td>0</td>\n",
       "      <td>0</td>\n",
       "      <td>0</td>\n",
       "      <td>0</td>\n",
       "      <td>0</td>\n",
       "      <td>0</td>\n",
       "    </tr>\n",
       "    <tr>\n",
       "      <td>fe3e52de024b82706717c38c8e183084</td>\n",
       "      <td>200</td>\n",
       "      <td>2</td>\n",
       "      <td>85.16</td>\n",
       "      <td>4.000000</td>\n",
       "      <td>1.0</td>\n",
       "      <td>1.000000</td>\n",
       "      <td>0.0</td>\n",
       "      <td>1.000000</td>\n",
       "      <td>2</td>\n",
       "      <td>0</td>\n",
       "      <td>...</td>\n",
       "      <td>0</td>\n",
       "      <td>0</td>\n",
       "      <td>0</td>\n",
       "      <td>0</td>\n",
       "      <td>0</td>\n",
       "      <td>0</td>\n",
       "      <td>0</td>\n",
       "      <td>0</td>\n",
       "      <td>0</td>\n",
       "      <td>0</td>\n",
       "    </tr>\n",
       "    <tr>\n",
       "      <td>fe81bb32c243a86b2f86fbf053fe6140</td>\n",
       "      <td>36</td>\n",
       "      <td>3</td>\n",
       "      <td>206.44</td>\n",
       "      <td>-7.666667</td>\n",
       "      <td>1.0</td>\n",
       "      <td>3.666667</td>\n",
       "      <td>0.0</td>\n",
       "      <td>0.333333</td>\n",
       "      <td>4</td>\n",
       "      <td>0</td>\n",
       "      <td>...</td>\n",
       "      <td>0</td>\n",
       "      <td>0</td>\n",
       "      <td>0</td>\n",
       "      <td>0</td>\n",
       "      <td>0</td>\n",
       "      <td>0</td>\n",
       "      <td>0</td>\n",
       "      <td>0</td>\n",
       "      <td>1</td>\n",
       "      <td>0</td>\n",
       "    </tr>\n",
       "  </tbody>\n",
       "</table>\n",
       "<p>626 rows × 82 columns</p>\n",
       "</div>"
      ],
      "text/plain": [
       "                                  recency  frequency  monetary      delay  \\\n",
       "customer_unique_id                                                          \n",
       "004b45ec5c64187465168251cd1c9c2f      211          1     97.87 -13.000000   \n",
       "011575986092c30523ecb71ff10cb473       42          1    134.58  -5.000000   \n",
       "012452d40dafae4df401bced74cdb490      286          1    155.26  -6.000000   \n",
       "0178b244a5c281fb2ade54038dd4b161      325          1    102.03 -11.000000   \n",
       "01f2285f85a1c603eb7ef755ad311769      336          1    191.40 -15.000000   \n",
       "...                                   ...        ...       ...        ...   \n",
       "fc19fe9ac733e36ff8227c29435c2030      430          2     60.86 -30.000000   \n",
       "fcd0ab79592faab19e2bf386cf69fbcd      414          1     45.95 -27.000000   \n",
       "fd8ccc89be43894d2553494c71a61fd8       18          3    206.01 -22.000000   \n",
       "fe3e52de024b82706717c38c8e183084      200          2     85.16   4.000000   \n",
       "fe81bb32c243a86b2f86fbf053fe6140       36          3    206.44  -7.666667   \n",
       "\n",
       "                                  installments  review_score  comment_title  \\\n",
       "customer_unique_id                                                            \n",
       "004b45ec5c64187465168251cd1c9c2f           1.0      1.000000            0.0   \n",
       "011575986092c30523ecb71ff10cb473           2.0      3.000000            0.0   \n",
       "012452d40dafae4df401bced74cdb490           5.0      4.000000            0.0   \n",
       "0178b244a5c281fb2ade54038dd4b161           9.0      4.000000            0.0   \n",
       "01f2285f85a1c603eb7ef755ad311769           3.0      4.000000            0.0   \n",
       "...                                        ...           ...            ...   \n",
       "fc19fe9ac733e36ff8227c29435c2030           1.0      5.000000            0.0   \n",
       "fcd0ab79592faab19e2bf386cf69fbcd           1.0      5.000000            0.0   \n",
       "fd8ccc89be43894d2553494c71a61fd8           1.0      4.666667            0.0   \n",
       "fe3e52de024b82706717c38c8e183084           1.0      1.000000            0.0   \n",
       "fe81bb32c243a86b2f86fbf053fe6140           1.0      3.666667            0.0   \n",
       "\n",
       "                                  comment_message payment_value  \\\n",
       "customer_unique_id                                                \n",
       "004b45ec5c64187465168251cd1c9c2f         1.000000             1   \n",
       "011575986092c30523ecb71ff10cb473         1.000000             2   \n",
       "012452d40dafae4df401bced74cdb490         0.000000             4   \n",
       "0178b244a5c281fb2ade54038dd4b161         0.000000             4   \n",
       "01f2285f85a1c603eb7ef755ad311769         1.000000             4   \n",
       "...                                           ...           ...   \n",
       "fc19fe9ac733e36ff8227c29435c2030         0.000000             2   \n",
       "fcd0ab79592faab19e2bf386cf69fbcd         0.000000             1   \n",
       "fd8ccc89be43894d2553494c71a61fd8         1.000000             4   \n",
       "fe3e52de024b82706717c38c8e183084         1.000000             2   \n",
       "fe81bb32c243a86b2f86fbf053fe6140         0.333333             4   \n",
       "\n",
       "                                  pop_payment_type_boleto  ...  \\\n",
       "customer_unique_id                                         ...   \n",
       "004b45ec5c64187465168251cd1c9c2f                        1  ...   \n",
       "011575986092c30523ecb71ff10cb473                        0  ...   \n",
       "012452d40dafae4df401bced74cdb490                        0  ...   \n",
       "0178b244a5c281fb2ade54038dd4b161                        0  ...   \n",
       "01f2285f85a1c603eb7ef755ad311769                        0  ...   \n",
       "...                                                   ...  ...   \n",
       "fc19fe9ac733e36ff8227c29435c2030                        0  ...   \n",
       "fcd0ab79592faab19e2bf386cf69fbcd                        0  ...   \n",
       "fd8ccc89be43894d2553494c71a61fd8                        0  ...   \n",
       "fe3e52de024b82706717c38c8e183084                        0  ...   \n",
       "fe81bb32c243a86b2f86fbf053fe6140                        0  ...   \n",
       "\n",
       "                                  customer_state_PI  customer_state_PR  \\\n",
       "customer_unique_id                                                       \n",
       "004b45ec5c64187465168251cd1c9c2f                  0                  0   \n",
       "011575986092c30523ecb71ff10cb473                  0                  0   \n",
       "012452d40dafae4df401bced74cdb490                  0                  0   \n",
       "0178b244a5c281fb2ade54038dd4b161                  0                  0   \n",
       "01f2285f85a1c603eb7ef755ad311769                  0                  0   \n",
       "...                                             ...                ...   \n",
       "fc19fe9ac733e36ff8227c29435c2030                  0                  0   \n",
       "fcd0ab79592faab19e2bf386cf69fbcd                  0                  0   \n",
       "fd8ccc89be43894d2553494c71a61fd8                  0                  0   \n",
       "fe3e52de024b82706717c38c8e183084                  0                  0   \n",
       "fe81bb32c243a86b2f86fbf053fe6140                  0                  0   \n",
       "\n",
       "                                  customer_state_RJ  customer_state_RN  \\\n",
       "customer_unique_id                                                       \n",
       "004b45ec5c64187465168251cd1c9c2f                  0                  0   \n",
       "011575986092c30523ecb71ff10cb473                  0                  0   \n",
       "012452d40dafae4df401bced74cdb490                  0                  0   \n",
       "0178b244a5c281fb2ade54038dd4b161                  0                  0   \n",
       "01f2285f85a1c603eb7ef755ad311769                  0                  0   \n",
       "...                                             ...                ...   \n",
       "fc19fe9ac733e36ff8227c29435c2030                  0                  0   \n",
       "fcd0ab79592faab19e2bf386cf69fbcd                  0                  0   \n",
       "fd8ccc89be43894d2553494c71a61fd8                  1                  0   \n",
       "fe3e52de024b82706717c38c8e183084                  0                  0   \n",
       "fe81bb32c243a86b2f86fbf053fe6140                  0                  0   \n",
       "\n",
       "                                  customer_state_RO  customer_state_RS  \\\n",
       "customer_unique_id                                                       \n",
       "004b45ec5c64187465168251cd1c9c2f                  0                  0   \n",
       "011575986092c30523ecb71ff10cb473                  0                  0   \n",
       "012452d40dafae4df401bced74cdb490                  0                  0   \n",
       "0178b244a5c281fb2ade54038dd4b161                  0                  0   \n",
       "01f2285f85a1c603eb7ef755ad311769                  0                  0   \n",
       "...                                             ...                ...   \n",
       "fc19fe9ac733e36ff8227c29435c2030                  0                  0   \n",
       "fcd0ab79592faab19e2bf386cf69fbcd                  0                  1   \n",
       "fd8ccc89be43894d2553494c71a61fd8                  0                  0   \n",
       "fe3e52de024b82706717c38c8e183084                  0                  0   \n",
       "fe81bb32c243a86b2f86fbf053fe6140                  0                  0   \n",
       "\n",
       "                                  customer_state_SC  customer_state_SE  \\\n",
       "customer_unique_id                                                       \n",
       "004b45ec5c64187465168251cd1c9c2f                  0                  0   \n",
       "011575986092c30523ecb71ff10cb473                  0                  0   \n",
       "012452d40dafae4df401bced74cdb490                  0                  0   \n",
       "0178b244a5c281fb2ade54038dd4b161                  0                  0   \n",
       "01f2285f85a1c603eb7ef755ad311769                  0                  0   \n",
       "...                                             ...                ...   \n",
       "fc19fe9ac733e36ff8227c29435c2030                  0                  0   \n",
       "fcd0ab79592faab19e2bf386cf69fbcd                  0                  0   \n",
       "fd8ccc89be43894d2553494c71a61fd8                  0                  0   \n",
       "fe3e52de024b82706717c38c8e183084                  0                  0   \n",
       "fe81bb32c243a86b2f86fbf053fe6140                  0                  0   \n",
       "\n",
       "                                  customer_state_SP  customer_state_TO  \n",
       "customer_unique_id                                                      \n",
       "004b45ec5c64187465168251cd1c9c2f                  0                  0  \n",
       "011575986092c30523ecb71ff10cb473                  0                  0  \n",
       "012452d40dafae4df401bced74cdb490                  1                  0  \n",
       "0178b244a5c281fb2ade54038dd4b161                  1                  0  \n",
       "01f2285f85a1c603eb7ef755ad311769                  0                  0  \n",
       "...                                             ...                ...  \n",
       "fc19fe9ac733e36ff8227c29435c2030                  1                  0  \n",
       "fcd0ab79592faab19e2bf386cf69fbcd                  0                  0  \n",
       "fd8ccc89be43894d2553494c71a61fd8                  0                  0  \n",
       "fe3e52de024b82706717c38c8e183084                  0                  0  \n",
       "fe81bb32c243a86b2f86fbf053fe6140                  1                  0  \n",
       "\n",
       "[626 rows x 82 columns]"
      ]
     },
     "execution_count": 80,
     "metadata": {},
     "output_type": "execute_result"
    }
   ],
   "source": [
    "df_q4 = df\n",
    "df_q4.payment_value = pd.qcut(df_q4.payment_value, 4, labels=[1, 2, 3, 4])\n",
    "df_q4"
   ]
  },
  {
   "cell_type": "code",
   "execution_count": 82,
   "metadata": {
    "scrolled": true
   },
   "outputs": [
    {
     "name": "stdout",
     "output_type": "stream",
     "text": [
      "Optimization terminated successfully.    (Exit mode 0)\n",
      "            Current function value: 0.6931471837181578\n",
      "            Iterations: 1\n",
      "            Function evaluations: 12\n",
      "            Gradient evaluations: 1\n"
     ]
    },
    {
     "name": "stderr",
     "output_type": "stream",
     "text": [
      "C:\\Users\\arali\\Anaconda3\\lib\\site-packages\\statsmodels\\base\\model.py:492: HessianInversionWarning: Inverting hessian failed, no bse or cov_params available\n",
      "  'available', HessianInversionWarning)\n",
      "C:\\Users\\arali\\Anaconda3\\lib\\site-packages\\statsmodels\\base\\model.py:492: HessianInversionWarning: Inverting hessian failed, no bse or cov_params available\n",
      "  'available', HessianInversionWarning)\n"
     ]
    },
    {
     "data": {
      "image/png": "[encoded data removed]",
      "text/plain": [
       "<Figure size 432x288 with 1 Axes>"
      ]
     },
     "metadata": {
      "needs_background": "light"
     },
     "output_type": "display_data"
    }
   ],
   "source": [
    "# seperate target from features\n",
    "X = df_q4.iloc[:,:-1]\n",
    "y = df_q4.iloc[:,-1].reset_index(drop=True)\n",
    "\n",
    "# scale data with standard scaler\n",
    "from sklearn.preprocessing import StandardScaler\n",
    "scaler = StandardScaler()\n",
    "X = pd.DataFrame(data=scaler.fit_transform(X), columns=X.columns)\n",
    "\n",
    "# fit OLS function \n",
    "import statsmodels.api as sm\n",
    "X_withconstant = sm.add_constant(X)\n",
    "lr = sm.Logit(y, X_withconstant).fit_regularized()\n",
    "#display(lr.summary())\n",
    "\n",
    "# table of significant coefficinets sorted by absolute value\n",
    "coef_table = lr.summary().tables[1]\n",
    "coef_df = pd.DataFrame(data=coef_table.data[1:], columns=coef_table.data[0])\n",
    "coef_df['coef'] = coef_df['coef'].astype(float)\n",
    "coef_df['P>|z|'] = coef_df['P>|z|'].astype(float)\n",
    "coef_df['abs_coef'] = np.abs(coef_df['coef'])\n",
    "coef_df.drop(0, axis='index', inplace=True)\n",
    "coefs_by_mag = coef_df.sort_values(by='abs_coef', ascending=False)\n",
    "#coefs_by_mag = coefs_by_mag[coefs_by_mag['P>|z|'] <= 0.05]\n",
    "\n",
    "# bar chart of feature coefficients\n",
    "plt.barh(coefs_by_mag[''][:10], coefs_by_mag['coef'][:10], color=np.where(coefs_by_mag['coef']>0, 'blue', 'red'))\n",
    "plt.xlabel('normalized coefficient');"
   ]
  },
  {
   "cell_type": "markdown",
   "metadata": {},
   "source": [
    "The results are quite compatible with exploration results in [Location Value](#location). In terms of location, RN and SE were two highest value states while MS was the lowest value. Similarly for product categories, drinks is shown to have a large effect which was also shown as one of top 5 categories in [Product Category](#category) and construction tools right after that while construction safety tools were in the bottom five followed closely by female clothing and home construction."
   ]
  },
  {
   "cell_type": "markdown",
   "metadata": {},
   "source": [
    "## Binary Classification"
   ]
  },
  {
   "cell_type": "code",
   "execution_count": 83,
   "metadata": {
    "scrolled": true
   },
   "outputs": [
    {
     "data": {
      "text/html": [
       "<div>\n",
       "<style scoped>\n",
       "    .dataframe tbody tr th:only-of-type {\n",
       "        vertical-align: middle;\n",
       "    }\n",
       "\n",
       "    .dataframe tbody tr th {\n",
       "        vertical-align: top;\n",
       "    }\n",
       "\n",
       "    .dataframe thead th {\n",
       "        text-align: right;\n",
       "    }\n",
       "</style>\n",
       "<table border=\"1\" class=\"dataframe\">\n",
       "  <thead>\n",
       "    <tr style=\"text-align: right;\">\n",
       "      <th></th>\n",
       "      <th>recency</th>\n",
       "      <th>frequency</th>\n",
       "      <th>monetary</th>\n",
       "      <th>delay</th>\n",
       "      <th>installments</th>\n",
       "      <th>review_score</th>\n",
       "      <th>comment_title</th>\n",
       "      <th>comment_message</th>\n",
       "      <th>payment_value</th>\n",
       "      <th>pop_payment_type_boleto</th>\n",
       "      <th>...</th>\n",
       "      <th>customer_state_PI</th>\n",
       "      <th>customer_state_PR</th>\n",
       "      <th>customer_state_RJ</th>\n",
       "      <th>customer_state_RN</th>\n",
       "      <th>customer_state_RO</th>\n",
       "      <th>customer_state_RS</th>\n",
       "      <th>customer_state_SC</th>\n",
       "      <th>customer_state_SE</th>\n",
       "      <th>customer_state_SP</th>\n",
       "      <th>customer_state_TO</th>\n",
       "    </tr>\n",
       "    <tr>\n",
       "      <th>customer_unique_id</th>\n",
       "      <th></th>\n",
       "      <th></th>\n",
       "      <th></th>\n",
       "      <th></th>\n",
       "      <th></th>\n",
       "      <th></th>\n",
       "      <th></th>\n",
       "      <th></th>\n",
       "      <th></th>\n",
       "      <th></th>\n",
       "      <th></th>\n",
       "      <th></th>\n",
       "      <th></th>\n",
       "      <th></th>\n",
       "      <th></th>\n",
       "      <th></th>\n",
       "      <th></th>\n",
       "      <th></th>\n",
       "      <th></th>\n",
       "      <th></th>\n",
       "      <th></th>\n",
       "    </tr>\n",
       "  </thead>\n",
       "  <tbody>\n",
       "    <tr>\n",
       "      <td>004b45ec5c64187465168251cd1c9c2f</td>\n",
       "      <td>211</td>\n",
       "      <td>1</td>\n",
       "      <td>97.87</td>\n",
       "      <td>-13.000000</td>\n",
       "      <td>1.0</td>\n",
       "      <td>1.000000</td>\n",
       "      <td>0.0</td>\n",
       "      <td>1.000000</td>\n",
       "      <td>0</td>\n",
       "      <td>1</td>\n",
       "      <td>...</td>\n",
       "      <td>0</td>\n",
       "      <td>0</td>\n",
       "      <td>0</td>\n",
       "      <td>0</td>\n",
       "      <td>0</td>\n",
       "      <td>0</td>\n",
       "      <td>0</td>\n",
       "      <td>0</td>\n",
       "      <td>0</td>\n",
       "      <td>0</td>\n",
       "    </tr>\n",
       "    <tr>\n",
       "      <td>011575986092c30523ecb71ff10cb473</td>\n",
       "      <td>42</td>\n",
       "      <td>1</td>\n",
       "      <td>134.58</td>\n",
       "      <td>-5.000000</td>\n",
       "      <td>2.0</td>\n",
       "      <td>3.000000</td>\n",
       "      <td>0.0</td>\n",
       "      <td>1.000000</td>\n",
       "      <td>0</td>\n",
       "      <td>0</td>\n",
       "      <td>...</td>\n",
       "      <td>0</td>\n",
       "      <td>0</td>\n",
       "      <td>0</td>\n",
       "      <td>0</td>\n",
       "      <td>0</td>\n",
       "      <td>0</td>\n",
       "      <td>0</td>\n",
       "      <td>0</td>\n",
       "      <td>0</td>\n",
       "      <td>0</td>\n",
       "    </tr>\n",
       "    <tr>\n",
       "      <td>012452d40dafae4df401bced74cdb490</td>\n",
       "      <td>286</td>\n",
       "      <td>1</td>\n",
       "      <td>155.26</td>\n",
       "      <td>-6.000000</td>\n",
       "      <td>5.0</td>\n",
       "      <td>4.000000</td>\n",
       "      <td>0.0</td>\n",
       "      <td>0.000000</td>\n",
       "      <td>1</td>\n",
       "      <td>0</td>\n",
       "      <td>...</td>\n",
       "      <td>0</td>\n",
       "      <td>0</td>\n",
       "      <td>0</td>\n",
       "      <td>0</td>\n",
       "      <td>0</td>\n",
       "      <td>0</td>\n",
       "      <td>0</td>\n",
       "      <td>0</td>\n",
       "      <td>1</td>\n",
       "      <td>0</td>\n",
       "    </tr>\n",
       "    <tr>\n",
       "      <td>0178b244a5c281fb2ade54038dd4b161</td>\n",
       "      <td>325</td>\n",
       "      <td>1</td>\n",
       "      <td>102.03</td>\n",
       "      <td>-11.000000</td>\n",
       "      <td>9.0</td>\n",
       "      <td>4.000000</td>\n",
       "      <td>0.0</td>\n",
       "      <td>0.000000</td>\n",
       "      <td>1</td>\n",
       "      <td>0</td>\n",
       "      <td>...</td>\n",
       "      <td>0</td>\n",
       "      <td>0</td>\n",
       "      <td>0</td>\n",
       "      <td>0</td>\n",
       "      <td>0</td>\n",
       "      <td>0</td>\n",
       "      <td>0</td>\n",
       "      <td>0</td>\n",
       "      <td>1</td>\n",
       "      <td>0</td>\n",
       "    </tr>\n",
       "    <tr>\n",
       "      <td>01f2285f85a1c603eb7ef755ad311769</td>\n",
       "      <td>336</td>\n",
       "      <td>1</td>\n",
       "      <td>191.40</td>\n",
       "      <td>-15.000000</td>\n",
       "      <td>3.0</td>\n",
       "      <td>4.000000</td>\n",
       "      <td>0.0</td>\n",
       "      <td>1.000000</td>\n",
       "      <td>1</td>\n",
       "      <td>0</td>\n",
       "      <td>...</td>\n",
       "      <td>0</td>\n",
       "      <td>0</td>\n",
       "      <td>0</td>\n",
       "      <td>0</td>\n",
       "      <td>0</td>\n",
       "      <td>0</td>\n",
       "      <td>0</td>\n",
       "      <td>0</td>\n",
       "      <td>0</td>\n",
       "      <td>0</td>\n",
       "    </tr>\n",
       "    <tr>\n",
       "      <td>...</td>\n",
       "      <td>...</td>\n",
       "      <td>...</td>\n",
       "      <td>...</td>\n",
       "      <td>...</td>\n",
       "      <td>...</td>\n",
       "      <td>...</td>\n",
       "      <td>...</td>\n",
       "      <td>...</td>\n",
       "      <td>...</td>\n",
       "      <td>...</td>\n",
       "      <td>...</td>\n",
       "      <td>...</td>\n",
       "      <td>...</td>\n",
       "      <td>...</td>\n",
       "      <td>...</td>\n",
       "      <td>...</td>\n",
       "      <td>...</td>\n",
       "      <td>...</td>\n",
       "      <td>...</td>\n",
       "      <td>...</td>\n",
       "      <td>...</td>\n",
       "    </tr>\n",
       "    <tr>\n",
       "      <td>fc19fe9ac733e36ff8227c29435c2030</td>\n",
       "      <td>430</td>\n",
       "      <td>2</td>\n",
       "      <td>60.86</td>\n",
       "      <td>-30.000000</td>\n",
       "      <td>1.0</td>\n",
       "      <td>5.000000</td>\n",
       "      <td>0.0</td>\n",
       "      <td>0.000000</td>\n",
       "      <td>0</td>\n",
       "      <td>0</td>\n",
       "      <td>...</td>\n",
       "      <td>0</td>\n",
       "      <td>0</td>\n",
       "      <td>0</td>\n",
       "      <td>0</td>\n",
       "      <td>0</td>\n",
       "      <td>0</td>\n",
       "      <td>0</td>\n",
       "      <td>0</td>\n",
       "      <td>1</td>\n",
       "      <td>0</td>\n",
       "    </tr>\n",
       "    <tr>\n",
       "      <td>fcd0ab79592faab19e2bf386cf69fbcd</td>\n",
       "      <td>414</td>\n",
       "      <td>1</td>\n",
       "      <td>45.95</td>\n",
       "      <td>-27.000000</td>\n",
       "      <td>1.0</td>\n",
       "      <td>5.000000</td>\n",
       "      <td>0.0</td>\n",
       "      <td>0.000000</td>\n",
       "      <td>0</td>\n",
       "      <td>0</td>\n",
       "      <td>...</td>\n",
       "      <td>0</td>\n",
       "      <td>0</td>\n",
       "      <td>0</td>\n",
       "      <td>0</td>\n",
       "      <td>0</td>\n",
       "      <td>1</td>\n",
       "      <td>0</td>\n",
       "      <td>0</td>\n",
       "      <td>0</td>\n",
       "      <td>0</td>\n",
       "    </tr>\n",
       "    <tr>\n",
       "      <td>fd8ccc89be43894d2553494c71a61fd8</td>\n",
       "      <td>18</td>\n",
       "      <td>3</td>\n",
       "      <td>206.01</td>\n",
       "      <td>-22.000000</td>\n",
       "      <td>1.0</td>\n",
       "      <td>4.666667</td>\n",
       "      <td>0.0</td>\n",
       "      <td>1.000000</td>\n",
       "      <td>1</td>\n",
       "      <td>0</td>\n",
       "      <td>...</td>\n",
       "      <td>0</td>\n",
       "      <td>0</td>\n",
       "      <td>1</td>\n",
       "      <td>0</td>\n",
       "      <td>0</td>\n",
       "      <td>0</td>\n",
       "      <td>0</td>\n",
       "      <td>0</td>\n",
       "      <td>0</td>\n",
       "      <td>0</td>\n",
       "    </tr>\n",
       "    <tr>\n",
       "      <td>fe3e52de024b82706717c38c8e183084</td>\n",
       "      <td>200</td>\n",
       "      <td>2</td>\n",
       "      <td>85.16</td>\n",
       "      <td>4.000000</td>\n",
       "      <td>1.0</td>\n",
       "      <td>1.000000</td>\n",
       "      <td>0.0</td>\n",
       "      <td>1.000000</td>\n",
       "      <td>0</td>\n",
       "      <td>0</td>\n",
       "      <td>...</td>\n",
       "      <td>0</td>\n",
       "      <td>0</td>\n",
       "      <td>0</td>\n",
       "      <td>0</td>\n",
       "      <td>0</td>\n",
       "      <td>0</td>\n",
       "      <td>0</td>\n",
       "      <td>0</td>\n",
       "      <td>0</td>\n",
       "      <td>0</td>\n",
       "    </tr>\n",
       "    <tr>\n",
       "      <td>fe81bb32c243a86b2f86fbf053fe6140</td>\n",
       "      <td>36</td>\n",
       "      <td>3</td>\n",
       "      <td>206.44</td>\n",
       "      <td>-7.666667</td>\n",
       "      <td>1.0</td>\n",
       "      <td>3.666667</td>\n",
       "      <td>0.0</td>\n",
       "      <td>0.333333</td>\n",
       "      <td>1</td>\n",
       "      <td>0</td>\n",
       "      <td>...</td>\n",
       "      <td>0</td>\n",
       "      <td>0</td>\n",
       "      <td>0</td>\n",
       "      <td>0</td>\n",
       "      <td>0</td>\n",
       "      <td>0</td>\n",
       "      <td>0</td>\n",
       "      <td>0</td>\n",
       "      <td>1</td>\n",
       "      <td>0</td>\n",
       "    </tr>\n",
       "  </tbody>\n",
       "</table>\n",
       "<p>626 rows × 82 columns</p>\n",
       "</div>"
      ],
      "text/plain": [
       "                                  recency  frequency  monetary      delay  \\\n",
       "customer_unique_id                                                          \n",
       "004b45ec5c64187465168251cd1c9c2f      211          1     97.87 -13.000000   \n",
       "011575986092c30523ecb71ff10cb473       42          1    134.58  -5.000000   \n",
       "012452d40dafae4df401bced74cdb490      286          1    155.26  -6.000000   \n",
       "0178b244a5c281fb2ade54038dd4b161      325          1    102.03 -11.000000   \n",
       "01f2285f85a1c603eb7ef755ad311769      336          1    191.40 -15.000000   \n",
       "...                                   ...        ...       ...        ...   \n",
       "fc19fe9ac733e36ff8227c29435c2030      430          2     60.86 -30.000000   \n",
       "fcd0ab79592faab19e2bf386cf69fbcd      414          1     45.95 -27.000000   \n",
       "fd8ccc89be43894d2553494c71a61fd8       18          3    206.01 -22.000000   \n",
       "fe3e52de024b82706717c38c8e183084      200          2     85.16   4.000000   \n",
       "fe81bb32c243a86b2f86fbf053fe6140       36          3    206.44  -7.666667   \n",
       "\n",
       "                                  installments  review_score  comment_title  \\\n",
       "customer_unique_id                                                            \n",
       "004b45ec5c64187465168251cd1c9c2f           1.0      1.000000            0.0   \n",
       "011575986092c30523ecb71ff10cb473           2.0      3.000000            0.0   \n",
       "012452d40dafae4df401bced74cdb490           5.0      4.000000            0.0   \n",
       "0178b244a5c281fb2ade54038dd4b161           9.0      4.000000            0.0   \n",
       "01f2285f85a1c603eb7ef755ad311769           3.0      4.000000            0.0   \n",
       "...                                        ...           ...            ...   \n",
       "fc19fe9ac733e36ff8227c29435c2030           1.0      5.000000            0.0   \n",
       "fcd0ab79592faab19e2bf386cf69fbcd           1.0      5.000000            0.0   \n",
       "fd8ccc89be43894d2553494c71a61fd8           1.0      4.666667            0.0   \n",
       "fe3e52de024b82706717c38c8e183084           1.0      1.000000            0.0   \n",
       "fe81bb32c243a86b2f86fbf053fe6140           1.0      3.666667            0.0   \n",
       "\n",
       "                                  comment_message payment_value  \\\n",
       "customer_unique_id                                                \n",
       "004b45ec5c64187465168251cd1c9c2f         1.000000             0   \n",
       "011575986092c30523ecb71ff10cb473         1.000000             0   \n",
       "012452d40dafae4df401bced74cdb490         0.000000             1   \n",
       "0178b244a5c281fb2ade54038dd4b161         0.000000             1   \n",
       "01f2285f85a1c603eb7ef755ad311769         1.000000             1   \n",
       "...                                           ...           ...   \n",
       "fc19fe9ac733e36ff8227c29435c2030         0.000000             0   \n",
       "fcd0ab79592faab19e2bf386cf69fbcd         0.000000             0   \n",
       "fd8ccc89be43894d2553494c71a61fd8         1.000000             1   \n",
       "fe3e52de024b82706717c38c8e183084         1.000000             0   \n",
       "fe81bb32c243a86b2f86fbf053fe6140         0.333333             1   \n",
       "\n",
       "                                  pop_payment_type_boleto  ...  \\\n",
       "customer_unique_id                                         ...   \n",
       "004b45ec5c64187465168251cd1c9c2f                        1  ...   \n",
       "011575986092c30523ecb71ff10cb473                        0  ...   \n",
       "012452d40dafae4df401bced74cdb490                        0  ...   \n",
       "0178b244a5c281fb2ade54038dd4b161                        0  ...   \n",
       "01f2285f85a1c603eb7ef755ad311769                        0  ...   \n",
       "...                                                   ...  ...   \n",
       "fc19fe9ac733e36ff8227c29435c2030                        0  ...   \n",
       "fcd0ab79592faab19e2bf386cf69fbcd                        0  ...   \n",
       "fd8ccc89be43894d2553494c71a61fd8                        0  ...   \n",
       "fe3e52de024b82706717c38c8e183084                        0  ...   \n",
       "fe81bb32c243a86b2f86fbf053fe6140                        0  ...   \n",
       "\n",
       "                                  customer_state_PI  customer_state_PR  \\\n",
       "customer_unique_id                                                       \n",
       "004b45ec5c64187465168251cd1c9c2f                  0                  0   \n",
       "011575986092c30523ecb71ff10cb473                  0                  0   \n",
       "012452d40dafae4df401bced74cdb490                  0                  0   \n",
       "0178b244a5c281fb2ade54038dd4b161                  0                  0   \n",
       "01f2285f85a1c603eb7ef755ad311769                  0                  0   \n",
       "...                                             ...                ...   \n",
       "fc19fe9ac733e36ff8227c29435c2030                  0                  0   \n",
       "fcd0ab79592faab19e2bf386cf69fbcd                  0                  0   \n",
       "fd8ccc89be43894d2553494c71a61fd8                  0                  0   \n",
       "fe3e52de024b82706717c38c8e183084                  0                  0   \n",
       "fe81bb32c243a86b2f86fbf053fe6140                  0                  0   \n",
       "\n",
       "                                  customer_state_RJ  customer_state_RN  \\\n",
       "customer_unique_id                                                       \n",
       "004b45ec5c64187465168251cd1c9c2f                  0                  0   \n",
       "011575986092c30523ecb71ff10cb473                  0                  0   \n",
       "012452d40dafae4df401bced74cdb490                  0                  0   \n",
       "0178b244a5c281fb2ade54038dd4b161                  0                  0   \n",
       "01f2285f85a1c603eb7ef755ad311769                  0                  0   \n",
       "...                                             ...                ...   \n",
       "fc19fe9ac733e36ff8227c29435c2030                  0                  0   \n",
       "fcd0ab79592faab19e2bf386cf69fbcd                  0                  0   \n",
       "fd8ccc89be43894d2553494c71a61fd8                  1                  0   \n",
       "fe3e52de024b82706717c38c8e183084                  0                  0   \n",
       "fe81bb32c243a86b2f86fbf053fe6140                  0                  0   \n",
       "\n",
       "                                  customer_state_RO  customer_state_RS  \\\n",
       "customer_unique_id                                                       \n",
       "004b45ec5c64187465168251cd1c9c2f                  0                  0   \n",
       "011575986092c30523ecb71ff10cb473                  0                  0   \n",
       "012452d40dafae4df401bced74cdb490                  0                  0   \n",
       "0178b244a5c281fb2ade54038dd4b161                  0                  0   \n",
       "01f2285f85a1c603eb7ef755ad311769                  0                  0   \n",
       "...                                             ...                ...   \n",
       "fc19fe9ac733e36ff8227c29435c2030                  0                  0   \n",
       "fcd0ab79592faab19e2bf386cf69fbcd                  0                  1   \n",
       "fd8ccc89be43894d2553494c71a61fd8                  0                  0   \n",
       "fe3e52de024b82706717c38c8e183084                  0                  0   \n",
       "fe81bb32c243a86b2f86fbf053fe6140                  0                  0   \n",
       "\n",
       "                                  customer_state_SC  customer_state_SE  \\\n",
       "customer_unique_id                                                       \n",
       "004b45ec5c64187465168251cd1c9c2f                  0                  0   \n",
       "011575986092c30523ecb71ff10cb473                  0                  0   \n",
       "012452d40dafae4df401bced74cdb490                  0                  0   \n",
       "0178b244a5c281fb2ade54038dd4b161                  0                  0   \n",
       "01f2285f85a1c603eb7ef755ad311769                  0                  0   \n",
       "...                                             ...                ...   \n",
       "fc19fe9ac733e36ff8227c29435c2030                  0                  0   \n",
       "fcd0ab79592faab19e2bf386cf69fbcd                  0                  0   \n",
       "fd8ccc89be43894d2553494c71a61fd8                  0                  0   \n",
       "fe3e52de024b82706717c38c8e183084                  0                  0   \n",
       "fe81bb32c243a86b2f86fbf053fe6140                  0                  0   \n",
       "\n",
       "                                  customer_state_SP  customer_state_TO  \n",
       "customer_unique_id                                                      \n",
       "004b45ec5c64187465168251cd1c9c2f                  0                  0  \n",
       "011575986092c30523ecb71ff10cb473                  0                  0  \n",
       "012452d40dafae4df401bced74cdb490                  1                  0  \n",
       "0178b244a5c281fb2ade54038dd4b161                  1                  0  \n",
       "01f2285f85a1c603eb7ef755ad311769                  0                  0  \n",
       "...                                             ...                ...  \n",
       "fc19fe9ac733e36ff8227c29435c2030                  1                  0  \n",
       "fcd0ab79592faab19e2bf386cf69fbcd                  0                  0  \n",
       "fd8ccc89be43894d2553494c71a61fd8                  0                  0  \n",
       "fe3e52de024b82706717c38c8e183084                  0                  0  \n",
       "fe81bb32c243a86b2f86fbf053fe6140                  1                  0  \n",
       "\n",
       "[626 rows x 82 columns]"
      ]
     },
     "execution_count": 83,
     "metadata": {},
     "output_type": "execute_result"
    }
   ],
   "source": [
    "df_q2 = df\n",
    "df_q2.payment_value = pd.qcut(df_q2.payment_value, 2, labels=[0, 1])\n",
    "df_q2"
   ]
  },
  {
   "cell_type": "code",
   "execution_count": 85,
   "metadata": {
    "scrolled": false
   },
   "outputs": [
    {
     "name": "stdout",
     "output_type": "stream",
     "text": [
      "Optimization terminated successfully.    (Exit mode 0)\n",
      "            Current function value: 0.6931471837181707\n",
      "            Iterations: 1\n",
      "            Function evaluations: 12\n",
      "            Gradient evaluations: 1\n"
     ]
    },
    {
     "name": "stderr",
     "output_type": "stream",
     "text": [
      "C:\\Users\\arali\\Anaconda3\\lib\\site-packages\\statsmodels\\base\\model.py:492: HessianInversionWarning: Inverting hessian failed, no bse or cov_params available\n",
      "  'available', HessianInversionWarning)\n",
      "C:\\Users\\arali\\Anaconda3\\lib\\site-packages\\statsmodels\\base\\model.py:492: HessianInversionWarning: Inverting hessian failed, no bse or cov_params available\n",
      "  'available', HessianInversionWarning)\n"
     ]
    },
    {
     "data": {
      "text/plain": [
       "Text(0.5, 0, 'normalized coefficient')"
      ]
     },
     "execution_count": 85,
     "metadata": {},
     "output_type": "execute_result"
    },
    {
     "data": {
      "image/png": "[encoded data removed]",
      "text/plain": [
       "<Figure size 432x288 with 1 Axes>"
      ]
     },
     "metadata": {
      "needs_background": "light"
     },
     "output_type": "display_data"
    }
   ],
   "source": [
    "# seperate target from features\n",
    "X = df_q2[df_q2.columns[:-1]]\n",
    "y = df_q2[df_q2.columns[-1]].reset_index(drop=True)\n",
    "\n",
    "# scale data with standard scaler\n",
    "from sklearn.preprocessing import StandardScaler\n",
    "scaler = StandardScaler()\n",
    "X = pd.DataFrame(data=scaler.fit_transform(X), columns=X.columns)\n",
    "\n",
    "# fit OLS function \n",
    "import statsmodels.api as sm\n",
    "X_withconstant = sm.add_constant(X)\n",
    "lr = sm.Logit(y, X_withconstant).fit_regularized()\n",
    "#display(lr.summary())\n",
    "\n",
    "# table of significant coefficinets sorted by absolute value\n",
    "coef_table = lr.summary().tables[1]\n",
    "coef_df = pd.DataFrame(data=coef_table.data[1:], columns=coef_table.data[0])\n",
    "coef_df['coef'] = coef_df['coef'].astype(float)\n",
    "coef_df['P>|z|'] = coef_df['P>|z|'].astype(float)\n",
    "coef_df['abs_coef'] = np.abs(coef_df['coef'])\n",
    "coef_df.drop(0, axis='index', inplace=True)\n",
    "coefs_by_mag = coef_df.sort_values(by='abs_coef', ascending=False)\n",
    "#coefs_by_mag = coefs_by_mag[coefs_by_mag['P>|z|'] <= 0.05]\n",
    "\n",
    "# bar chart of feature coefficients\n",
    "plt.barh(coefs_by_mag[''][:10], coefs_by_mag['coef'][:10], color=np.where(coefs_by_mag['coef']>0, 'blue', 'red'))\n",
    "plt.xlabel('normalized coefficient')"
   ]
  },
  {
   "cell_type": "markdown",
   "metadata": {},
   "source": [
    "# Hyperparameter Optimization"
   ]
  },
  {
   "cell_type": "code",
   "execution_count": 92,
   "metadata": {},
   "outputs": [],
   "source": [
    "# split data to train and test sets\n",
    "from sklearn.model_selection import train_test_split\n",
    "X = df_q2.iloc[:,:-1]\n",
    "y = df_q2.iloc[:,-1]\n",
    "X_train, X_test, y_train, y_test = train_test_split(X, y, test_size=0.25, random_state=42)"
   ]
  },
  {
   "cell_type": "code",
   "execution_count": 93,
   "metadata": {
    "scrolled": true
   },
   "outputs": [
    {
     "data": {
      "image/png": "[encoded data removed]",
      "text/plain": [
       "<Figure size 432x288 with 1 Axes>"
      ]
     },
     "metadata": {
      "needs_background": "light"
     },
     "output_type": "display_data"
    }
   ],
   "source": [
    "# hyperparameter optimization with cross validation score\n",
    "from sklearn.linear_model import LogisticRegression\n",
    "from sklearn.model_selection import cross_val_score\n",
    "\n",
    "valid_scores = []\n",
    "train_scores = []\n",
    "for n in range(-10,3):\n",
    "    lr = LogisticRegression(C=10**n, random_state=42)\n",
    "    lr.fit(X_train, y_train)\n",
    "    train_scores.append(lr.score(X_train, y_train))\n",
    "    valid_scores.append(np.mean(cross_val_score(lr, X_train, y_train, cv = 5)))\n",
    "    \n",
    "plt.plot(range(-10,3), train_scores, label='train')\n",
    "plt.plot(range(-10,3), valid_scores, label='valid')\n",
    "plt.legend()\n",
    "plt.xlabel('c')\n",
    "plt.ylabel('score');"
   ]
  },
  {
   "cell_type": "markdown",
   "metadata": {},
   "source": [
    "Train and validation tests both show low accuracy in low c values because because strong regularization leads to underfitting. In high c values, train accuracy increases while validation accuracy decreases because there is very small regularization and model is overfitting to data. In the mid range (i.e., -7 to -5) validation accuracy is the largest and indeed validation accuracy surpasses train accuracy at -5 which is chose as the optimal hyperparameter value."
   ]
  },
  {
   "cell_type": "code",
   "execution_count": 94,
   "metadata": {
    "scrolled": true
   },
   "outputs": [
    {
     "name": "stdout",
     "output_type": "stream",
     "text": [
      "Train Accuracy:  0.9957356076759062\n",
      "Test Accuracy:  1.0\n"
     ]
    }
   ],
   "source": [
    "lr = LogisticRegression(C=10**-5, random_state=42)\n",
    "lr.fit(X_train, y_train)\n",
    "print('Train Accuracy: ', lr.score(X_train, y_train))\n",
    "print('Test Accuracy: ', lr.score(X_test, y_test))"
   ]
  },
  {
   "cell_type": "markdown",
   "metadata": {},
   "source": [
    "# Model Evaluation"
   ]
  },
  {
   "cell_type": "code",
   "execution_count": 95,
   "metadata": {
    "scrolled": false
   },
   "outputs": [
    {
     "data": {
      "text/plain": [
       "<matplotlib.legend.Legend at 0x23906a59b48>"
      ]
     },
     "execution_count": 95,
     "metadata": {},
     "output_type": "execute_result"
    },
    {
     "data": {
      "image/png": "[encoded data removed]",
      "text/plain": [
       "<Figure size 432x288 with 1 Axes>"
      ]
     },
     "metadata": {
      "needs_background": "light"
     },
     "output_type": "display_data"
    }
   ],
   "source": [
    "# probabilities of positive predictions\n",
    "y_proba = lr.predict_proba(X_test)[:,1]\n",
    "\n",
    "# accuracy metric functions from scikit learn\n",
    "from sklearn.metrics import precision_score\n",
    "from sklearn.metrics import recall_score\n",
    "from sklearn.metrics import accuracy_score\n",
    "\n",
    "# list of accuracy metrics for each threshold value\n",
    "precision_list = []\n",
    "recall_list = []\n",
    "accuracy_list = []\n",
    "threshold_list = np.arange(y_proba.min(), y_proba.max(), 0.01)\n",
    "for threshold in threshold_list:\n",
    "    y_threshold = np.where(y_proba >= threshold, 1, 0)\n",
    "    precision_list.append(precision_score(y_test, y_threshold))\n",
    "    recall_list.append(recall_score(y_test, y_threshold))\n",
    "    accuracy_list.append(accuracy_score(y_test, y_threshold))\n",
    "\n",
    "# plot all accuracy metrics versus threshold in one plot\n",
    "plt.plot(threshold_list, precision_list, label='precision')\n",
    "plt.plot(threshold_list, recall_list, label='recall')\n",
    "plt.plot(threshold_list, accuracy_list, label='accuracy')\n",
    "plt.xlabel('threshold')\n",
    "plt.ylabel('score')\n",
    "plt.legend()"
   ]
  },
  {
   "cell_type": "markdown",
   "metadata": {},
   "source": [
    "As threshold increases precision increases because model is classifing as high-value only customers that have high probability of being a high-value customer, however, recall decreases because many cases with not as high probability might have been high-value customers that were missed. There is also a steep slope associated with decrease of recall that can be used to recommend different prediction methods based on sales strategies and business goals."
   ]
  },
  {
   "cell_type": "markdown",
   "metadata": {},
   "source": [
    "# Tailoring Predictions to Sales Strategie"
   ]
  },
  {
   "cell_type": "code",
   "execution_count": 96,
   "metadata": {},
   "outputs": [
    {
     "data": {
      "text/html": [
       "<div>\n",
       "<style scoped>\n",
       "    .dataframe tbody tr th:only-of-type {\n",
       "        vertical-align: middle;\n",
       "    }\n",
       "\n",
       "    .dataframe tbody tr th {\n",
       "        vertical-align: top;\n",
       "    }\n",
       "\n",
       "    .dataframe thead th {\n",
       "        text-align: right;\n",
       "    }\n",
       "</style>\n",
       "<table border=\"1\" class=\"dataframe\">\n",
       "  <thead>\n",
       "    <tr style=\"text-align: right;\">\n",
       "      <th></th>\n",
       "      <th>threshold</th>\n",
       "      <th>precision</th>\n",
       "      <th>recall</th>\n",
       "      <th>accuracy</th>\n",
       "    </tr>\n",
       "  </thead>\n",
       "  <tbody>\n",
       "  </tbody>\n",
       "</table>\n",
       "</div>"
      ],
      "text/plain": [
       "Empty DataFrame\n",
       "Columns: [threshold, precision, recall, accuracy]\n",
       "Index: []"
      ]
     },
     "execution_count": 96,
     "metadata": {},
     "output_type": "execute_result"
    }
   ],
   "source": [
    "# table of threshold and score values for different metrics\n",
    "prc_df = pd.DataFrame({'threshold': threshold_list,\n",
    "                       'precision': precision_list,\n",
    "                       'recall': recall_list,\n",
    "                       'accuracy': accuracy_list})\n",
    "prc_df[(prc_df['threshold']>=0.45) & (prc_df['threshold']<=0.55)]"
   ]
  },
  {
   "cell_type": "markdown",
   "metadata": {},
   "source": [
    "The steep slope of recall score suggests that a large number of high-value customers can be captured if we risk investing on a few customers that were not actually high-value. This prediction method can be particularly useful for a low-investment sales strategy where it is not intended to invest a lot on customers predicted as high-value. Specifically, about 71% recall can be achieved at about 48% threshold with about 54% precision. Taking the baseline 50% threshold as reference, this means about 20% increase in recall with merely 7% decrease in precision and 4% decrease in accuracy. \n",
    "\n",
    "For high-investment sales strategy it is essential to maximize precision because every classification of a low-value customer as high-value leads to large monetary setback for the business. Specifically, about 68% precision can be achieved at about 51% threshold with about 22% recall. This means 6% increase in precision compared to baseline strategy; however, not many high-value customers can be identified with this method. A summary various strategies is compiled in the table below:"
   ]
  },
  {
   "cell_type": "markdown",
   "metadata": {},
   "source": [
    "||Base<br />Strat.|High<br />Inv.|Low<br />Inv.|\n",
    "|-|-|-|-|\n",
    "|Threshold|50%|51%|48%|\n",
    "|Precision|62%|68%|54%|\n",
    "|Recall|51%|22%|71%|\n",
    "|Accuracy|59%|55%|55%|"
   ]
  },
  {
   "cell_type": "markdown",
   "metadata": {},
   "source": [
    "# Conclusion "
   ]
  },
  {
   "cell_type": "markdown",
   "metadata": {},
   "source": [
    "This report presents a interpretable model to predict monetary value of a customer over a prediod of time in the future based on their history in e-commerce business. These predictions can be used by the sales team to prioritize customers with higher value for the business. The data points are in form of transaction history where information about different aspects of the order exists in a seperate database. These databases are joined with the order database in the approperiate format to build the transaction history. The dataset used for value prediction is generated by grouping transaction information by unique customer IDs. A challenge with dataset was that most of the customer information was related to them being in the business. This challenged was tackled by using the shopping behavior in the first year as feature and the monetary value in the second year as the target. A logsitic regression model is implemented for prediction and description of important factors. First, it is attempted to predict dollar values, but later the problem is simplified to quartile and binary classification to improve performance. Furthermore, precision and recall results are used to propose different prediction methods for different sales strategies."
   ]
  }
 ],
 "metadata": {
  "kernelspec": {
   "display_name": "Python 3",
   "language": "python",
   "name": "python3"
  },
  "language_info": {
   "codemirror_mode": {
    "name": "ipython",
    "version": 3
   },
   "file_extension": ".py",
   "mimetype": "text/x-python",
   "name": "python",
   "nbconvert_exporter": "python",
   "pygments_lexer": "ipython3",
   "version": "3.7.4"
  }
 },
 "nbformat": 4,
 "nbformat_minor": 2
}
