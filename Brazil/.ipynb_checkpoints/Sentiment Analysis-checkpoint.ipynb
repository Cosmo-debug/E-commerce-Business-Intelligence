{
 "cells": [
  {
   "cell_type": "markdown",
   "metadata": {},
   "source": [
    "<h1 id=\"tocheading\">Table of Contents</h1>\n",
    "<div id=\"toc\"></div>"
   ]
  },
  {
   "cell_type": "code",
   "execution_count": null,
   "metadata": {},
   "outputs": [],
   "source": [
    "%%javascript\n",
    "$.getScript('https://kmahelona.github.io/ipython_notebook_goodies/ipython_notebook_toc.js')"
   ]
  },
  {
   "cell_type": "markdown",
   "metadata": {},
   "source": [
    "# Data Cleaning"
   ]
  },
  {
   "cell_type": "code",
   "execution_count": null,
   "metadata": {},
   "outputs": [],
   "source": [
    "import numpy as np\n",
    "import pandas as pd\n",
    "import matplotlib.pyplot as plt\n",
    "%matplotlib inline \n",
    "import warnings\n",
    "warnings.filterwarnings('ignore')\n",
    "from datetime import datetime, date\n",
    "from sklearn.cluster import KMeans"
   ]
  },
  {
   "cell_type": "markdown",
   "metadata": {},
   "source": [
    "## Order Dataset"
   ]
  },
  {
   "cell_type": "code",
   "execution_count": null,
   "metadata": {},
   "outputs": [],
   "source": [
    "order_df = pd.read_csv('olist_orders_dataset.csv')\n",
    "order_df.info()"
   ]
  },
  {
   "cell_type": "code",
   "execution_count": null,
   "metadata": {},
   "outputs": [],
   "source": [
    "order_df[order_df.duplicated()]"
   ]
  },
  {
   "cell_type": "code",
   "execution_count": null,
   "metadata": {
    "scrolled": true
   },
   "outputs": [],
   "source": [
    "order_df.drop(['order_status',\n",
    "               'order_delivered_carrier_date',\n",
    "               'order_approved_at',\n",
    "               'order_purchase_timestamp'], axis='columns', inplace=True)\n",
    "#for column in ['order_purchase_timestamp', 'order_delivered_customer_date', 'order_estimated_delivery_date']:\n",
    "#    order_df[column] = pd.to_datetime(order_df[column])\n",
    "#order_df.info()\n",
    "\n",
    "for column in ['order_delivered_customer_date', 'order_estimated_delivery_date']:\n",
    "    order_df[column] = pd.to_datetime(order_df[column])\n",
    "order_df.info()"
   ]
  },
  {
   "cell_type": "code",
   "execution_count": null,
   "metadata": {},
   "outputs": [],
   "source": [
    "order_df.head()"
   ]
  },
  {
   "cell_type": "markdown",
   "metadata": {},
   "source": [
    "## Payment Dataset"
   ]
  },
  {
   "cell_type": "code",
   "execution_count": null,
   "metadata": {},
   "outputs": [],
   "source": [
    "payment_df = pd.read_csv('olist_order_payments_dataset.csv')\n",
    "payment_df.info()"
   ]
  },
  {
   "cell_type": "code",
   "execution_count": null,
   "metadata": {},
   "outputs": [],
   "source": [
    "payment_df[payment_df.duplicated()]"
   ]
  },
  {
   "cell_type": "code",
   "execution_count": null,
   "metadata": {
    "scrolled": true
   },
   "outputs": [],
   "source": [
    "payment_df.head()"
   ]
  },
  {
   "cell_type": "code",
   "execution_count": null,
   "metadata": {
    "scrolled": false
   },
   "outputs": [],
   "source": [
    "payment_df.describe()"
   ]
  },
  {
   "cell_type": "code",
   "execution_count": null,
   "metadata": {},
   "outputs": [],
   "source": [
    "payment_df.nunique()"
   ]
  },
  {
   "cell_type": "markdown",
   "metadata": {},
   "source": [
    "## Customer Dataset"
   ]
  },
  {
   "cell_type": "code",
   "execution_count": null,
   "metadata": {
    "scrolled": false
   },
   "outputs": [],
   "source": [
    "customer_df = pd.read_csv('olist_customers_dataset.csv')\n",
    "customer_df.info()"
   ]
  },
  {
   "cell_type": "code",
   "execution_count": null,
   "metadata": {},
   "outputs": [],
   "source": [
    "customer_df[customer_df.duplicated()]"
   ]
  },
  {
   "cell_type": "code",
   "execution_count": null,
   "metadata": {
    "scrolled": true
   },
   "outputs": [],
   "source": [
    "customer_df.drop(['customer_zip_code_prefix', 'customer_city'], axis='columns', inplace=True)"
   ]
  },
  {
   "cell_type": "code",
   "execution_count": null,
   "metadata": {
    "scrolled": false
   },
   "outputs": [],
   "source": [
    "customer_df.nunique()"
   ]
  },
  {
   "cell_type": "code",
   "execution_count": null,
   "metadata": {
    "scrolled": false
   },
   "outputs": [],
   "source": [
    "customer_df.head()"
   ]
  },
  {
   "cell_type": "markdown",
   "metadata": {},
   "source": [
    "## Item Dataset"
   ]
  },
  {
   "cell_type": "code",
   "execution_count": null,
   "metadata": {},
   "outputs": [],
   "source": [
    "item_df = pd.read_csv('olist_order_items_dataset.csv')"
   ]
  },
  {
   "cell_type": "code",
   "execution_count": null,
   "metadata": {
    "scrolled": true
   },
   "outputs": [],
   "source": [
    "item_df.info()"
   ]
  },
  {
   "cell_type": "code",
   "execution_count": null,
   "metadata": {
    "scrolled": true
   },
   "outputs": [],
   "source": [
    "item_df[item_df.duplicated()]"
   ]
  },
  {
   "cell_type": "code",
   "execution_count": null,
   "metadata": {},
   "outputs": [],
   "source": [
    "'''\n",
    "item_df.drop(['seller_id',\n",
    "              'shipping_limit_date',\n",
    "              'price',\n",
    "              'freight_value',\n",
    "              'order_item_id'], axis='columns', inplace=True)\n",
    "item_df.columns\n",
    "'''"
   ]
  },
  {
   "cell_type": "code",
   "execution_count": null,
   "metadata": {},
   "outputs": [],
   "source": [
    "item_df.head()"
   ]
  },
  {
   "cell_type": "markdown",
   "metadata": {},
   "source": [
    "## Product Dataset"
   ]
  },
  {
   "cell_type": "code",
   "execution_count": null,
   "metadata": {},
   "outputs": [],
   "source": [
    "product_df = pd.read_csv('olist_products_dataset.csv')"
   ]
  },
  {
   "cell_type": "code",
   "execution_count": null,
   "metadata": {
    "scrolled": false
   },
   "outputs": [],
   "source": [
    "product_df.info()"
   ]
  },
  {
   "cell_type": "code",
   "execution_count": null,
   "metadata": {
    "scrolled": true
   },
   "outputs": [],
   "source": [
    "product_df[product_df.duplicated()]"
   ]
  },
  {
   "cell_type": "code",
   "execution_count": null,
   "metadata": {},
   "outputs": [],
   "source": [
    "'''\n",
    "product_df.drop(['product_name_lenght',\n",
    "                 'product_description_lenght', \n",
    "                 'product_photos_qty', \n",
    "                 'product_weight_g',\n",
    "                 'product_length_cm',\n",
    "                 'product_height_cm',\n",
    "                 'product_width_cm'], axis='columns', inplace=True)\n",
    "'''"
   ]
  },
  {
   "cell_type": "code",
   "execution_count": null,
   "metadata": {
    "scrolled": false
   },
   "outputs": [],
   "source": [
    "product_df.fillna(product_df.median(), inplace=True)\n",
    "product_df.info()"
   ]
  },
  {
   "cell_type": "code",
   "execution_count": null,
   "metadata": {},
   "outputs": [],
   "source": [
    "product_df.fillna('other', inplace=True)\n",
    "product_df.info()"
   ]
  },
  {
   "cell_type": "code",
   "execution_count": null,
   "metadata": {
    "scrolled": false
   },
   "outputs": [],
   "source": [
    "product_df.head()"
   ]
  },
  {
   "cell_type": "code",
   "execution_count": null,
   "metadata": {
    "scrolled": true
   },
   "outputs": [],
   "source": [
    "product_df.product_category_name.nunique()"
   ]
  },
  {
   "cell_type": "markdown",
   "metadata": {},
   "source": [
    "## Translation Dataset"
   ]
  },
  {
   "cell_type": "code",
   "execution_count": null,
   "metadata": {},
   "outputs": [],
   "source": [
    "translation_df = pd.read_csv('product_category_name_translation.csv')\n",
    "translation_df.info()\n",
    "translation_df.head()"
   ]
  },
  {
   "cell_type": "markdown",
   "metadata": {},
   "source": [
    "## Review Dataset"
   ]
  },
  {
   "cell_type": "code",
   "execution_count": null,
   "metadata": {
    "scrolled": true
   },
   "outputs": [],
   "source": [
    "review_df = pd.read_csv('olist_order_reviews_dataset.csv')\n",
    "review_df.info()"
   ]
  },
  {
   "cell_type": "code",
   "execution_count": null,
   "metadata": {},
   "outputs": [],
   "source": [
    "review_df[review_df.duplicated()]"
   ]
  },
  {
   "cell_type": "code",
   "execution_count": null,
   "metadata": {},
   "outputs": [],
   "source": [
    "review_df.drop(['review_id', 'review_creation_date', 'review_answer_timestamp'], axis='columns', inplace=True)\n",
    "review_df.columns"
   ]
  },
  {
   "cell_type": "code",
   "execution_count": null,
   "metadata": {
    "scrolled": false
   },
   "outputs": [],
   "source": [
    "for columns in ['review_comment_title', 'review_comment_message']:\n",
    "    # replace present values with 1\n",
    "    review_df.loc[review_df[columns].notnull(), columns] = 1\n",
    "    # replace null values with 0\n",
    "    review_df.loc[review_df[columns].isna(), columns] = 0\n",
    "review_df.info()"
   ]
  },
  {
   "cell_type": "code",
   "execution_count": null,
   "metadata": {
    "scrolled": true
   },
   "outputs": [],
   "source": [
    "review_df.head()"
   ]
  },
  {
   "cell_type": "code",
   "execution_count": null,
   "metadata": {
    "scrolled": true
   },
   "outputs": [],
   "source": [
    "review_df.nunique()"
   ]
  },
  {
   "cell_type": "code",
   "execution_count": null,
   "metadata": {
    "scrolled": true
   },
   "outputs": [],
   "source": [
    "review_df.review_score.value_counts(normalize=True)"
   ]
  },
  {
   "cell_type": "code",
   "execution_count": null,
   "metadata": {},
   "outputs": [],
   "source": [
    "plt.bar(review_df.review_score.value_counts().index, review_df.review_score.value_counts().values)"
   ]
  },
  {
   "cell_type": "markdown",
   "metadata": {},
   "source": [
    "## Seller Dataset"
   ]
  },
  {
   "cell_type": "code",
   "execution_count": null,
   "metadata": {},
   "outputs": [],
   "source": [
    "seller_df = pd.read_csv('olist_sellers_dataset.csv')\n",
    "seller_df.info()"
   ]
  },
  {
   "cell_type": "code",
   "execution_count": null,
   "metadata": {},
   "outputs": [],
   "source": [
    "seller_df.drop(['seller_zip_code_prefix', 'seller_city'], axis='columns', inplace=True)\n",
    "seller_df.columns"
   ]
  },
  {
   "cell_type": "markdown",
   "metadata": {},
   "source": [
    "# Exploratory Data Analytics with Raw Data"
   ]
  },
  {
   "cell_type": "code",
   "execution_count": null,
   "metadata": {},
   "outputs": [],
   "source": [
    "ro_df = pd.merge(review_df, order_df, how='left', on='order_id')\n",
    "ro_df.info()\n",
    "ro_df.head()"
   ]
  },
  {
   "cell_type": "code",
   "execution_count": null,
   "metadata": {
    "scrolled": true
   },
   "outputs": [],
   "source": [
    "roc_df = pd.merge(ro_df, customer_df, how='left', on='customer_id')\n",
    "roc_df.drop(['customer_id', 'customer_unique_id'], axis='columns', inplace=True)\n",
    "roc_df.info()\n",
    "roc_df.head()"
   ]
  },
  {
   "cell_type": "code",
   "execution_count": null,
   "metadata": {
    "scrolled": true
   },
   "outputs": [],
   "source": [
    "rocp_df = pd.merge(roc_df, payment_df, on='order_id')\n",
    "rocp_df.drop('payment_sequential', axis='columns', inplace=True)\n",
    "rocp_df.info()\n",
    "rocp_df.head()"
   ]
  },
  {
   "cell_type": "code",
   "execution_count": null,
   "metadata": {},
   "outputs": [],
   "source": [
    "rocpi_df = pd.merge(rocp_df, item_df, on='order_id')\n",
    "rocpi_df.drop(['order_id', 'shipping_limit_date', 'order_item_id'], axis='columns', inplace=True)\n",
    "rocpi_df.info()\n",
    "rocpi_df.head()"
   ]
  },
  {
   "cell_type": "code",
   "execution_count": null,
   "metadata": {
    "scrolled": false
   },
   "outputs": [],
   "source": [
    "rocpip_df = pd.merge(rocpi_df, product_df, on='product_id')\n",
    "rocpip_df.drop('product_id', axis='columns', inplace=True)\n",
    "rocpip_df.info()\n",
    "rocpip_df.head()"
   ]
  },
  {
   "cell_type": "code",
   "execution_count": null,
   "metadata": {
    "scrolled": false
   },
   "outputs": [],
   "source": [
    "rocpips_df = pd.merge(rocpip_df, seller_df, on='seller_id')\n",
    "rocpips_df.drop('seller_id', axis='columns', inplace=True)\n",
    "rocpips_df.info()\n",
    "rocpips_df.head()"
   ]
  },
  {
   "cell_type": "markdown",
   "metadata": {},
   "source": [
    "## Feature Engineering"
   ]
  },
  {
   "cell_type": "code",
   "execution_count": null,
   "metadata": {},
   "outputs": [],
   "source": [
    "rocpips_df['delay'] = (rocpips_df.order_delivered_customer_date - rocpips_df.order_estimated_delivery_date).dt.days\n",
    "rocpips_df.drop(['order_delivered_customer_date', 'order_estimated_delivery_date'], axis='columns', inplace=True)\n",
    "rocpips_df.fillna(rocpips_df.median(), inplace=True)"
   ]
  },
  {
   "cell_type": "code",
   "execution_count": null,
   "metadata": {},
   "outputs": [],
   "source": [
    "rocpips_df"
   ]
  },
  {
   "cell_type": "markdown",
   "metadata": {},
   "source": [
    "## Linear Modeling"
   ]
  },
  {
   "cell_type": "code",
   "execution_count": null,
   "metadata": {},
   "outputs": [],
   "source": [
    "dummies_df = pd.get_dummies(rocpips_df)"
   ]
  },
  {
   "cell_type": "code",
   "execution_count": null,
   "metadata": {
    "scrolled": true
   },
   "outputs": [],
   "source": [
    "dummies_df.info()\n",
    "dummies_df.head()"
   ]
  },
  {
   "cell_type": "code",
   "execution_count": null,
   "metadata": {},
   "outputs": [],
   "source": [
    "target = dummies_df.review_score\n",
    "df = dummies_df.drop('review_score', axis='columns')\n",
    "df['review_score'] = target\n",
    "df"
   ]
  },
  {
   "cell_type": "code",
   "execution_count": null,
   "metadata": {},
   "outputs": [],
   "source": [
    "from scipy import stats\n",
    "corr_array=[]\n",
    "for i in range(df.shape[1]-1):  \n",
    "    corr_array.append([df.columns[i],\n",
    "                       np.abs(stats.pearsonr(df[df.columns[i]], df[df.columns[-1]])[0]),\n",
    "                       stats.pearsonr(df[df.columns[i]], df[df.columns[-1]])[0],\n",
    "                       stats.pearsonr(df[df.columns[i]], df[df.columns[-1]])[1]])\n",
    "    \n",
    "corr_df = pd.DataFrame(corr_array, columns = ['feature', 'abs_corr', 'corr', 'p_value'])\n",
    "corr_df.sort_values(by='abs_corr', ascending=False, inplace=True)\n",
    "corr_df.reset_index(drop=True, inplace=True)\n",
    "corr_df"
   ]
  },
  {
   "cell_type": "code",
   "execution_count": null,
   "metadata": {
    "scrolled": true
   },
   "outputs": [],
   "source": [
    "corr_df.head(10)"
   ]
  },
  {
   "cell_type": "code",
   "execution_count": null,
   "metadata": {},
   "outputs": [],
   "source": [
    "df[df.columns[:-1]]"
   ]
  },
  {
   "cell_type": "code",
   "execution_count": null,
   "metadata": {
    "scrolled": false
   },
   "outputs": [],
   "source": [
    "'''\n",
    "X = df[df.columns[:-1]]\n",
    "y = df[df.columns[-1]]\n",
    "\n",
    "from sklearn.model_selection import train_test_split\n",
    "X_train, X_test, y_train, y_test = train_test_split(X, y, test_size=0.25)\n",
    "\n",
    "# logistic regression \n",
    "from sklearn.linear_model import LogisticRegression\n",
    "lr = LogisticRegression()\n",
    "lr.fit(X_train, y_train)\n",
    "print('Train Accuracy: ', lr.score(X_train, y_train))\n",
    "print('Test Accuracy: ', lr.score(X_test, y_test))"
   ]
  },
  {
   "cell_type": "code",
   "execution_count": 57,
   "metadata": {
    "scrolled": false
   },
   "outputs": [],
   "source": [
    "df.loc[df.review_score < 5, 'review_score'] = 0\n",
    "df.loc[df.review_score == 5, 'review_score'] = 1"
   ]
  },
  {
   "cell_type": "code",
   "execution_count": 61,
   "metadata": {},
   "outputs": [
    {
     "data": {
      "text/plain": [
       "seller_state_SP                                 inf\n",
       "product_category_name_eletroportateis           inf\n",
       "product_category_name_alimentos                 inf\n",
       "product_category_name_alimentos_bebidas         inf\n",
       "product_category_name_artes                     inf\n",
       "                                             ...   \n",
       "product_photos_qty                         1.173839\n",
       "review_comment_title                       1.148259\n",
       "review_comment_message                     1.138200\n",
       "product_name_lenght                        1.118339\n",
       "delay                                      1.040132\n",
       "Length: 142, dtype: float64"
      ]
     },
     "execution_count": 61,
     "metadata": {},
     "output_type": "execute_result"
    }
   ],
   "source": [
    "# variance inflation factors\n",
    "from statsmodels.stats.outliers_influence import variance_inflation_factor\n",
    "VIF_series = pd.Series([variance_inflation_factor(X.values, i) for i in range(X.shape[1])], index=X.columns)\n",
    "VIF_series.sort_values(ascending=False, inplace=True)"
   ]
  },
  {
   "cell_type": "code",
   "execution_count": 59,
   "metadata": {},
   "outputs": [
    {
     "name": "stdout",
     "output_type": "stream",
     "text": [
      "Warning: Maximum number of iterations has been exceeded.\n",
      "         Current function value: 0.650620\n",
      "         Iterations: 35\n"
     ]
    },
    {
     "name": "stderr",
     "output_type": "stream",
     "text": [
      "C:\\Users\\arali\\Anaconda3\\lib\\site-packages\\statsmodels\\base\\model.py:512: ConvergenceWarning: Maximum Likelihood optimization failed to converge. Check mle_retvals\n",
      "  \"Check mle_retvals\", ConvergenceWarning)\n"
     ]
    },
    {
     "data": {
      "text/html": [
       "<table class=\"simpletable\">\n",
       "<caption>Logit Regression Results</caption>\n",
       "<tr>\n",
       "  <th>Dep. Variable:</th>     <td>review_score</td>   <th>  No. Observations:  </th>  <td>118315</td> \n",
       "</tr>\n",
       "<tr>\n",
       "  <th>Model:</th>                 <td>Logit</td>      <th>  Df Residuals:      </th>  <td>118176</td> \n",
       "</tr>\n",
       "<tr>\n",
       "  <th>Method:</th>                 <td>MLE</td>       <th>  Df Model:          </th>  <td>   138</td> \n",
       "</tr>\n",
       "<tr>\n",
       "  <th>Date:</th>            <td>Tue, 17 Mar 2020</td> <th>  Pseudo R-squ.:     </th>  <td>0.05115</td>\n",
       "</tr>\n",
       "<tr>\n",
       "  <th>Time:</th>                <td>20:38:52</td>     <th>  Log-Likelihood:    </th> <td> -76978.</td>\n",
       "</tr>\n",
       "<tr>\n",
       "  <th>converged:</th>             <td>False</td>      <th>  LL-Null:           </th> <td> -81128.</td>\n",
       "</tr>\n",
       "<tr>\n",
       "  <th>Covariance Type:</th>     <td>nonrobust</td>    <th>  LLR p-value:       </th>  <td> 0.000</td> \n",
       "</tr>\n",
       "</table>\n",
       "<table class=\"simpletable\">\n",
       "<tr>\n",
       "                                    <td></td>                                      <th>coef</th>     <th>std err</th>      <th>z</th>      <th>P>|z|</th>  <th>[0.025</th>    <th>0.975]</th>  \n",
       "</tr>\n",
       "<tr>\n",
       "  <th>const</th>                                                                <td>    0.2507</td> <td>    7.510</td> <td>    0.033</td> <td> 0.973</td> <td>  -14.468</td> <td>   14.970</td>\n",
       "</tr>\n",
       "<tr>\n",
       "  <th>review_comment_title</th>                                                 <td>    0.0732</td> <td>    0.006</td> <td>   11.340</td> <td> 0.000</td> <td>    0.061</td> <td>    0.086</td>\n",
       "</tr>\n",
       "<tr>\n",
       "  <th>review_comment_message</th>                                               <td>   -0.3291</td> <td>    0.006</td> <td>  -51.080</td> <td> 0.000</td> <td>   -0.342</td> <td>   -0.316</td>\n",
       "</tr>\n",
       "<tr>\n",
       "  <th>payment_installments</th>                                                 <td>    0.0022</td> <td>    0.007</td> <td>    0.301</td> <td> 0.764</td> <td>   -0.012</td> <td>    0.016</td>\n",
       "</tr>\n",
       "<tr>\n",
       "  <th>payment_value</th>                                                        <td>   -0.3552</td> <td>    0.015</td> <td>  -24.222</td> <td> 0.000</td> <td>   -0.384</td> <td>   -0.326</td>\n",
       "</tr>\n",
       "<tr>\n",
       "  <th>price</th>                                                                <td>    0.2738</td> <td>    0.012</td> <td>   22.006</td> <td> 0.000</td> <td>    0.249</td> <td>    0.298</td>\n",
       "</tr>\n",
       "<tr>\n",
       "  <th>freight_value</th>                                                        <td>   -0.0096</td> <td>    0.009</td> <td>   -1.017</td> <td> 0.309</td> <td>   -0.028</td> <td>    0.009</td>\n",
       "</tr>\n",
       "<tr>\n",
       "  <th>product_name_lenght</th>                                                  <td>   -0.0248</td> <td>    0.006</td> <td>   -3.849</td> <td> 0.000</td> <td>   -0.037</td> <td>   -0.012</td>\n",
       "</tr>\n",
       "<tr>\n",
       "  <th>product_description_lenght</th>                                           <td>    0.0062</td> <td>    0.007</td> <td>    0.909</td> <td> 0.364</td> <td>   -0.007</td> <td>    0.019</td>\n",
       "</tr>\n",
       "<tr>\n",
       "  <th>product_photos_qty</th>                                                   <td>    0.0078</td> <td>    0.007</td> <td>    1.187</td> <td> 0.235</td> <td>   -0.005</td> <td>    0.021</td>\n",
       "</tr>\n",
       "<tr>\n",
       "  <th>product_weight_g</th>                                                     <td>    0.0182</td> <td>    0.010</td> <td>    1.760</td> <td> 0.078</td> <td>   -0.002</td> <td>    0.038</td>\n",
       "</tr>\n",
       "<tr>\n",
       "  <th>product_length_cm</th>                                                    <td>   -0.0203</td> <td>    0.008</td> <td>   -2.517</td> <td> 0.012</td> <td>   -0.036</td> <td>   -0.004</td>\n",
       "</tr>\n",
       "<tr>\n",
       "  <th>product_height_cm</th>                                                    <td>   -0.0301</td> <td>    0.008</td> <td>   -3.570</td> <td> 0.000</td> <td>   -0.047</td> <td>   -0.014</td>\n",
       "</tr>\n",
       "<tr>\n",
       "  <th>product_width_cm</th>                                                     <td>    0.0070</td> <td>    0.008</td> <td>    0.837</td> <td> 0.403</td> <td>   -0.009</td> <td>    0.023</td>\n",
       "</tr>\n",
       "<tr>\n",
       "  <th>delay</th>                                                                <td>   -0.3650</td> <td>    0.007</td> <td>  -51.380</td> <td> 0.000</td> <td>   -0.379</td> <td>   -0.351</td>\n",
       "</tr>\n",
       "<tr>\n",
       "  <th>customer_state_AC</th>                                                    <td>   -0.0047</td> <td>      nan</td> <td>      nan</td> <td>   nan</td> <td>      nan</td> <td>      nan</td>\n",
       "</tr>\n",
       "<tr>\n",
       "  <th>customer_state_AL</th>                                                    <td>   -0.0124</td> <td>      nan</td> <td>      nan</td> <td>   nan</td> <td>      nan</td> <td>      nan</td>\n",
       "</tr>\n",
       "<tr>\n",
       "  <th>customer_state_AM</th>                                                    <td>   -0.0051</td> <td>      nan</td> <td>      nan</td> <td>   nan</td> <td>      nan</td> <td>      nan</td>\n",
       "</tr>\n",
       "<tr>\n",
       "  <th>customer_state_AP</th>                                                    <td>   -0.0094</td> <td>      nan</td> <td>      nan</td> <td>   nan</td> <td>      nan</td> <td>      nan</td>\n",
       "</tr>\n",
       "<tr>\n",
       "  <th>customer_state_BA</th>                                                    <td>   -0.0432</td> <td>      nan</td> <td>      nan</td> <td>   nan</td> <td>      nan</td> <td>      nan</td>\n",
       "</tr>\n",
       "<tr>\n",
       "  <th>customer_state_CE</th>                                                    <td>   -0.0200</td> <td>      nan</td> <td>      nan</td> <td>   nan</td> <td>      nan</td> <td>      nan</td>\n",
       "</tr>\n",
       "<tr>\n",
       "  <th>customer_state_DF</th>                                                    <td>   -0.0077</td> <td>      nan</td> <td>      nan</td> <td>   nan</td> <td>      nan</td> <td>      nan</td>\n",
       "</tr>\n",
       "<tr>\n",
       "  <th>customer_state_ES</th>                                                    <td>   -0.0068</td> <td>      nan</td> <td>      nan</td> <td>   nan</td> <td>      nan</td> <td>      nan</td>\n",
       "</tr>\n",
       "<tr>\n",
       "  <th>customer_state_GO</th>                                                    <td>   -0.0146</td> <td>      nan</td> <td>      nan</td> <td>   nan</td> <td>      nan</td> <td>      nan</td>\n",
       "</tr>\n",
       "<tr>\n",
       "  <th>customer_state_MA</th>                                                    <td>   -0.0224</td> <td>      nan</td> <td>      nan</td> <td>   nan</td> <td>      nan</td> <td>      nan</td>\n",
       "</tr>\n",
       "<tr>\n",
       "  <th>customer_state_MG</th>                                                    <td>    0.0084</td> <td>      nan</td> <td>      nan</td> <td>   nan</td> <td>      nan</td> <td>      nan</td>\n",
       "</tr>\n",
       "<tr>\n",
       "  <th>customer_state_MS</th>                                                    <td>    0.0119</td> <td>      nan</td> <td>      nan</td> <td>   nan</td> <td>      nan</td> <td>      nan</td>\n",
       "</tr>\n",
       "<tr>\n",
       "  <th>customer_state_MT</th>                                                    <td>   -0.0199</td> <td>      nan</td> <td>      nan</td> <td>   nan</td> <td>      nan</td> <td>      nan</td>\n",
       "</tr>\n",
       "<tr>\n",
       "  <th>customer_state_PA</th>                                                    <td>   -0.0342</td> <td>      nan</td> <td>      nan</td> <td>   nan</td> <td>      nan</td> <td>      nan</td>\n",
       "</tr>\n",
       "<tr>\n",
       "  <th>customer_state_PB</th>                                                    <td>    0.0043</td> <td>      nan</td> <td>      nan</td> <td>   nan</td> <td>      nan</td> <td>      nan</td>\n",
       "</tr>\n",
       "<tr>\n",
       "  <th>customer_state_PE</th>                                                    <td>   -0.0075</td> <td>      nan</td> <td>      nan</td> <td>   nan</td> <td>      nan</td> <td>      nan</td>\n",
       "</tr>\n",
       "<tr>\n",
       "  <th>customer_state_PI</th>                                                    <td>   -0.0143</td> <td>      nan</td> <td>      nan</td> <td>   nan</td> <td>      nan</td> <td>      nan</td>\n",
       "</tr>\n",
       "<tr>\n",
       "  <th>customer_state_PR</th>                                                    <td>    0.0119</td> <td>      nan</td> <td>      nan</td> <td>   nan</td> <td>      nan</td> <td>      nan</td>\n",
       "</tr>\n",
       "<tr>\n",
       "  <th>customer_state_RJ</th>                                                    <td>   -0.0363</td> <td>      nan</td> <td>      nan</td> <td>   nan</td> <td>      nan</td> <td>      nan</td>\n",
       "</tr>\n",
       "<tr>\n",
       "  <th>customer_state_RN</th>                                                    <td>   -0.0020</td> <td>      nan</td> <td>      nan</td> <td>   nan</td> <td>      nan</td> <td>      nan</td>\n",
       "</tr>\n",
       "<tr>\n",
       "  <th>customer_state_RO</th>                                                    <td>   -0.0117</td> <td>      nan</td> <td>      nan</td> <td>   nan</td> <td>      nan</td> <td>      nan</td>\n",
       "</tr>\n",
       "<tr>\n",
       "  <th>customer_state_RR</th>                                                    <td>   -0.0143</td> <td>      nan</td> <td>      nan</td> <td>   nan</td> <td>      nan</td> <td>      nan</td>\n",
       "</tr>\n",
       "<tr>\n",
       "  <th>customer_state_RS</th>                                                    <td>   -0.0168</td> <td>      nan</td> <td>      nan</td> <td>   nan</td> <td>      nan</td> <td>      nan</td>\n",
       "</tr>\n",
       "<tr>\n",
       "  <th>customer_state_SC</th>                                                    <td>   -0.0016</td> <td>      nan</td> <td>      nan</td> <td>   nan</td> <td>      nan</td> <td>      nan</td>\n",
       "</tr>\n",
       "<tr>\n",
       "  <th>customer_state_SE</th>                                                    <td>   -0.0004</td> <td>      nan</td> <td>      nan</td> <td>   nan</td> <td>      nan</td> <td>      nan</td>\n",
       "</tr>\n",
       "<tr>\n",
       "  <th>customer_state_SP</th>                                                    <td>    0.0717</td> <td>      nan</td> <td>      nan</td> <td>   nan</td> <td>      nan</td> <td>      nan</td>\n",
       "</tr>\n",
       "<tr>\n",
       "  <th>customer_state_TO</th>                                                    <td>    0.0018</td> <td>      nan</td> <td>      nan</td> <td>   nan</td> <td>      nan</td> <td>      nan</td>\n",
       "</tr>\n",
       "<tr>\n",
       "  <th>payment_type_boleto</th>                                                  <td>    0.0158</td> <td> 2.62e+05</td> <td> 6.02e-08</td> <td> 1.000</td> <td>-5.13e+05</td> <td> 5.13e+05</td>\n",
       "</tr>\n",
       "<tr>\n",
       "  <th>payment_type_credit_card</th>                                             <td>   -0.0020</td> <td> 2.91e+05</td> <td>-6.74e-09</td> <td> 1.000</td> <td> -5.7e+05</td> <td>  5.7e+05</td>\n",
       "</tr>\n",
       "<tr>\n",
       "  <th>payment_type_debit_card</th>                                              <td>    0.0198</td> <td> 7.86e+04</td> <td> 2.52e-07</td> <td> 1.000</td> <td>-1.54e+05</td> <td> 1.54e+05</td>\n",
       "</tr>\n",
       "<tr>\n",
       "  <th>payment_type_voucher</th>                                                 <td>   -0.0343</td> <td> 1.49e+05</td> <td>-2.31e-07</td> <td> 1.000</td> <td>-2.92e+05</td> <td> 2.92e+05</td>\n",
       "</tr>\n",
       "<tr>\n",
       "  <th>product_category_name_agro_industria_e_comercio</th>                      <td>   -0.0013</td> <td>      nan</td> <td>      nan</td> <td>   nan</td> <td>      nan</td> <td>      nan</td>\n",
       "</tr>\n",
       "<tr>\n",
       "  <th>product_category_name_alimentos</th>                                      <td>    0.0151</td> <td>      nan</td> <td>      nan</td> <td>   nan</td> <td>      nan</td> <td>      nan</td>\n",
       "</tr>\n",
       "<tr>\n",
       "  <th>product_category_name_alimentos_bebidas</th>                              <td>    0.0134</td> <td>      nan</td> <td>      nan</td> <td>   nan</td> <td>      nan</td> <td>      nan</td>\n",
       "</tr>\n",
       "<tr>\n",
       "  <th>product_category_name_artes</th>                                          <td>   -0.0077</td> <td>      nan</td> <td>      nan</td> <td>   nan</td> <td>      nan</td> <td>      nan</td>\n",
       "</tr>\n",
       "<tr>\n",
       "  <th>product_category_name_artes_e_artesanato</th>                             <td>    0.0043</td> <td>      nan</td> <td>      nan</td> <td>   nan</td> <td>      nan</td> <td>      nan</td>\n",
       "</tr>\n",
       "<tr>\n",
       "  <th>product_category_name_artigos_de_festas</th>                              <td>   -0.0024</td> <td>      nan</td> <td>      nan</td> <td>   nan</td> <td>      nan</td> <td>      nan</td>\n",
       "</tr>\n",
       "<tr>\n",
       "  <th>product_category_name_artigos_de_natal</th>                               <td>   -0.0066</td> <td>      nan</td> <td>      nan</td> <td>   nan</td> <td>      nan</td> <td>      nan</td>\n",
       "</tr>\n",
       "<tr>\n",
       "  <th>product_category_name_audio</th>                                          <td>   -0.0066</td> <td>      nan</td> <td>      nan</td> <td>   nan</td> <td>      nan</td> <td>      nan</td>\n",
       "</tr>\n",
       "<tr>\n",
       "  <th>product_category_name_automotivo</th>                                     <td>    0.0026</td> <td>      nan</td> <td>      nan</td> <td>   nan</td> <td>      nan</td> <td>      nan</td>\n",
       "</tr>\n",
       "<tr>\n",
       "  <th>product_category_name_bebes</th>                                          <td>   -0.0082</td> <td>      nan</td> <td>      nan</td> <td>   nan</td> <td>      nan</td> <td>      nan</td>\n",
       "</tr>\n",
       "<tr>\n",
       "  <th>product_category_name_bebidas</th>                                        <td>   -0.0028</td> <td>      nan</td> <td>      nan</td> <td>   nan</td> <td>      nan</td> <td>      nan</td>\n",
       "</tr>\n",
       "<tr>\n",
       "  <th>product_category_name_beleza_saude</th>                                   <td>    0.0339</td> <td>      nan</td> <td>      nan</td> <td>   nan</td> <td>      nan</td> <td>      nan</td>\n",
       "</tr>\n",
       "<tr>\n",
       "  <th>product_category_name_brinquedos</th>                                     <td>    0.0316</td> <td>      nan</td> <td>      nan</td> <td>   nan</td> <td>      nan</td> <td>      nan</td>\n",
       "</tr>\n",
       "<tr>\n",
       "  <th>product_category_name_cama_mesa_banho</th>                                <td>   -0.0435</td> <td>      nan</td> <td>      nan</td> <td>   nan</td> <td>      nan</td> <td>      nan</td>\n",
       "</tr>\n",
       "<tr>\n",
       "  <th>product_category_name_casa_conforto</th>                                  <td>    0.0081</td> <td>      nan</td> <td>      nan</td> <td>   nan</td> <td>      nan</td> <td>      nan</td>\n",
       "</tr>\n",
       "<tr>\n",
       "  <th>product_category_name_casa_conforto_2</th>                                <td>   -0.0058</td> <td>      nan</td> <td>      nan</td> <td>   nan</td> <td>      nan</td> <td>      nan</td>\n",
       "</tr>\n",
       "<tr>\n",
       "  <th>product_category_name_casa_construcao</th>                                <td>   -0.0170</td> <td>      nan</td> <td>      nan</td> <td>   nan</td> <td>      nan</td> <td>      nan</td>\n",
       "</tr>\n",
       "<tr>\n",
       "  <th>product_category_name_cds_dvds_musicais</th>                              <td>    0.0055</td> <td>      nan</td> <td>      nan</td> <td>   nan</td> <td>      nan</td> <td>      nan</td>\n",
       "</tr>\n",
       "<tr>\n",
       "  <th>product_category_name_cine_foto</th>                                      <td>    0.0142</td> <td>      nan</td> <td>      nan</td> <td>   nan</td> <td>      nan</td> <td>      nan</td>\n",
       "</tr>\n",
       "<tr>\n",
       "  <th>product_category_name_climatizacao</th>                                   <td>   -0.0028</td> <td>      nan</td> <td>      nan</td> <td>   nan</td> <td>      nan</td> <td>      nan</td>\n",
       "</tr>\n",
       "<tr>\n",
       "  <th>product_category_name_consoles_games</th>                                 <td>   -0.0124</td> <td>      nan</td> <td>      nan</td> <td>   nan</td> <td>      nan</td> <td>      nan</td>\n",
       "</tr>\n",
       "<tr>\n",
       "  <th>product_category_name_construcao_ferramentas_construcao</th>              <td>    0.0032</td> <td>      nan</td> <td>      nan</td> <td>   nan</td> <td>      nan</td> <td>      nan</td>\n",
       "</tr>\n",
       "<tr>\n",
       "  <th>product_category_name_construcao_ferramentas_ferramentas</th>             <td>    0.0152</td> <td>      nan</td> <td>      nan</td> <td>   nan</td> <td>      nan</td> <td>      nan</td>\n",
       "</tr>\n",
       "<tr>\n",
       "  <th>product_category_name_construcao_ferramentas_iluminacao</th>              <td>   -0.0060</td> <td>      nan</td> <td>      nan</td> <td>   nan</td> <td>      nan</td> <td>      nan</td>\n",
       "</tr>\n",
       "<tr>\n",
       "  <th>product_category_name_construcao_ferramentas_jardim</th>                  <td>    0.0085</td> <td>      nan</td> <td>      nan</td> <td>   nan</td> <td>      nan</td> <td>      nan</td>\n",
       "</tr>\n",
       "<tr>\n",
       "  <th>product_category_name_construcao_ferramentas_seguranca</th>               <td>   -0.0076</td> <td>      nan</td> <td>      nan</td> <td>   nan</td> <td>      nan</td> <td>      nan</td>\n",
       "</tr>\n",
       "<tr>\n",
       "  <th>product_category_name_cool_stuff</th>                                     <td>    0.0143</td> <td>      nan</td> <td>      nan</td> <td>   nan</td> <td>      nan</td> <td>      nan</td>\n",
       "</tr>\n",
       "<tr>\n",
       "  <th>product_category_name_dvds_blu_ray</th>                                   <td>   -0.0006</td> <td>      nan</td> <td>      nan</td> <td>   nan</td> <td>      nan</td> <td>      nan</td>\n",
       "</tr>\n",
       "<tr>\n",
       "  <th>product_category_name_eletrodomesticos</th>                               <td>    0.0059</td> <td>      nan</td> <td>      nan</td> <td>   nan</td> <td>      nan</td> <td>      nan</td>\n",
       "</tr>\n",
       "<tr>\n",
       "  <th>product_category_name_eletrodomesticos_2</th>                             <td>   -0.0022</td> <td>      nan</td> <td>      nan</td> <td>   nan</td> <td>      nan</td> <td>      nan</td>\n",
       "</tr>\n",
       "<tr>\n",
       "  <th>product_category_name_eletronicos</th>                                    <td>   -0.0063</td> <td>      nan</td> <td>      nan</td> <td>   nan</td> <td>      nan</td> <td>      nan</td>\n",
       "</tr>\n",
       "<tr>\n",
       "  <th>product_category_name_eletroportateis</th>                                <td>    0.0053</td> <td>      nan</td> <td>      nan</td> <td>   nan</td> <td>      nan</td> <td>      nan</td>\n",
       "</tr>\n",
       "<tr>\n",
       "  <th>product_category_name_esporte_lazer</th>                                  <td>    0.0216</td> <td>      nan</td> <td>      nan</td> <td>   nan</td> <td>      nan</td> <td>      nan</td>\n",
       "</tr>\n",
       "<tr>\n",
       "  <th>product_category_name_fashion_bolsas_e_acessorios</th>                    <td>   -0.0040</td> <td>      nan</td> <td>      nan</td> <td>   nan</td> <td>      nan</td> <td>      nan</td>\n",
       "</tr>\n",
       "<tr>\n",
       "  <th>product_category_name_fashion_calcados</th>                               <td>    0.0128</td> <td>      nan</td> <td>      nan</td> <td>   nan</td> <td>      nan</td> <td>      nan</td>\n",
       "</tr>\n",
       "<tr>\n",
       "  <th>product_category_name_fashion_esporte</th>                                <td>-1.478e-05</td> <td>      nan</td> <td>      nan</td> <td>   nan</td> <td>      nan</td> <td>      nan</td>\n",
       "</tr>\n",
       "<tr>\n",
       "  <th>product_category_name_fashion_roupa_feminina</th>                         <td>   -0.0138</td> <td>      nan</td> <td>      nan</td> <td>   nan</td> <td>      nan</td> <td>      nan</td>\n",
       "</tr>\n",
       "<tr>\n",
       "  <th>product_category_name_fashion_roupa_infanto_juvenil</th>                  <td>    0.0108</td> <td>      nan</td> <td>      nan</td> <td>   nan</td> <td>      nan</td> <td>      nan</td>\n",
       "</tr>\n",
       "<tr>\n",
       "  <th>product_category_name_fashion_roupa_masculina</th>                        <td>   -0.0050</td> <td>      nan</td> <td>      nan</td> <td>   nan</td> <td>      nan</td> <td>      nan</td>\n",
       "</tr>\n",
       "<tr>\n",
       "  <th>product_category_name_fashion_underwear_e_moda_praia</th>                 <td>   -0.0075</td> <td>      nan</td> <td>      nan</td> <td>   nan</td> <td>      nan</td> <td>      nan</td>\n",
       "</tr>\n",
       "<tr>\n",
       "  <th>product_category_name_ferramentas_jardim</th>                             <td>    0.0197</td> <td>      nan</td> <td>      nan</td> <td>   nan</td> <td>      nan</td> <td>      nan</td>\n",
       "</tr>\n",
       "<tr>\n",
       "  <th>product_category_name_flores</th>                                         <td>    0.0062</td> <td>      nan</td> <td>      nan</td> <td>   nan</td> <td>      nan</td> <td>      nan</td>\n",
       "</tr>\n",
       "<tr>\n",
       "  <th>product_category_name_fraldas_higiene</th>                                <td>   -0.0220</td> <td>      nan</td> <td>      nan</td> <td>   nan</td> <td>      nan</td> <td>      nan</td>\n",
       "</tr>\n",
       "<tr>\n",
       "  <th>product_category_name_industria_comercio_e_negocios</th>                  <td>    0.0008</td> <td>      nan</td> <td>      nan</td> <td>   nan</td> <td>      nan</td> <td>      nan</td>\n",
       "</tr>\n",
       "<tr>\n",
       "  <th>product_category_name_informatica_acessorios</th>                         <td>   -0.0283</td> <td>      nan</td> <td>      nan</td> <td>   nan</td> <td>      nan</td> <td>      nan</td>\n",
       "</tr>\n",
       "<tr>\n",
       "  <th>product_category_name_instrumentos_musicais</th>                          <td>    0.0118</td> <td>      nan</td> <td>      nan</td> <td>   nan</td> <td>      nan</td> <td>      nan</td>\n",
       "</tr>\n",
       "<tr>\n",
       "  <th>product_category_name_la_cuisine</th>                                     <td>    0.0068</td> <td>      nan</td> <td>      nan</td> <td>   nan</td> <td>      nan</td> <td>      nan</td>\n",
       "</tr>\n",
       "<tr>\n",
       "  <th>product_category_name_livros_importados</th>                              <td>    0.0200</td> <td>      nan</td> <td>      nan</td> <td>   nan</td> <td>      nan</td> <td>      nan</td>\n",
       "</tr>\n",
       "<tr>\n",
       "  <th>product_category_name_livros_interesse_geral</th>                         <td>    0.0405</td> <td>      nan</td> <td>      nan</td> <td>   nan</td> <td>      nan</td> <td>      nan</td>\n",
       "</tr>\n",
       "<tr>\n",
       "  <th>product_category_name_livros_tecnicos</th>                                <td>    0.0246</td> <td>      nan</td> <td>      nan</td> <td>   nan</td> <td>      nan</td> <td>      nan</td>\n",
       "</tr>\n",
       "<tr>\n",
       "  <th>product_category_name_malas_acessorios</th>                               <td>    0.0344</td> <td>      nan</td> <td>      nan</td> <td>   nan</td> <td>      nan</td> <td>      nan</td>\n",
       "</tr>\n",
       "<tr>\n",
       "  <th>product_category_name_market_place</th>                                   <td>   -0.0161</td> <td>      nan</td> <td>      nan</td> <td>   nan</td> <td>      nan</td> <td>      nan</td>\n",
       "</tr>\n",
       "<tr>\n",
       "  <th>product_category_name_moveis_colchao_e_estofado</th>                      <td>   -0.0042</td> <td>      nan</td> <td>      nan</td> <td>   nan</td> <td>      nan</td> <td>      nan</td>\n",
       "</tr>\n",
       "<tr>\n",
       "  <th>product_category_name_moveis_cozinha_area_de_servico_jantar_e_jardim</th> <td>   -0.0134</td> <td>      nan</td> <td>      nan</td> <td>   nan</td> <td>      nan</td> <td>      nan</td>\n",
       "</tr>\n",
       "<tr>\n",
       "  <th>product_category_name_moveis_decoracao</th>                               <td>   -0.0200</td> <td>      nan</td> <td>      nan</td> <td>   nan</td> <td>      nan</td> <td>      nan</td>\n",
       "</tr>\n",
       "<tr>\n",
       "  <th>product_category_name_moveis_escritorio</th>                              <td>   -0.0611</td> <td>      nan</td> <td>      nan</td> <td>   nan</td> <td>      nan</td> <td>      nan</td>\n",
       "</tr>\n",
       "<tr>\n",
       "  <th>product_category_name_moveis_quarto</th>                                  <td>   -0.0008</td> <td>      nan</td> <td>      nan</td> <td>   nan</td> <td>      nan</td> <td>      nan</td>\n",
       "</tr>\n",
       "<tr>\n",
       "  <th>product_category_name_moveis_sala</th>                                    <td>   -0.0126</td> <td>      nan</td> <td>      nan</td> <td>   nan</td> <td>      nan</td> <td>      nan</td>\n",
       "</tr>\n",
       "<tr>\n",
       "  <th>product_category_name_musica</th>                                         <td>    0.0014</td> <td>      nan</td> <td>      nan</td> <td>   nan</td> <td>      nan</td> <td>      nan</td>\n",
       "</tr>\n",
       "<tr>\n",
       "  <th>product_category_name_other</th>                                          <td>   -0.0182</td> <td>      nan</td> <td>      nan</td> <td>   nan</td> <td>      nan</td> <td>      nan</td>\n",
       "</tr>\n",
       "<tr>\n",
       "  <th>product_category_name_papelaria</th>                                      <td>    0.0256</td> <td>      nan</td> <td>      nan</td> <td>   nan</td> <td>      nan</td> <td>      nan</td>\n",
       "</tr>\n",
       "<tr>\n",
       "  <th>product_category_name_pc_gamer</th>                                       <td>   -0.0111</td> <td>      nan</td> <td>      nan</td> <td>   nan</td> <td>      nan</td> <td>      nan</td>\n",
       "</tr>\n",
       "<tr>\n",
       "  <th>product_category_name_pcs</th>                                            <td>    0.0152</td> <td>      nan</td> <td>      nan</td> <td>   nan</td> <td>      nan</td> <td>      nan</td>\n",
       "</tr>\n",
       "<tr>\n",
       "  <th>product_category_name_perfumaria</th>                                     <td>    0.0340</td> <td>      nan</td> <td>      nan</td> <td>   nan</td> <td>      nan</td> <td>      nan</td>\n",
       "</tr>\n",
       "<tr>\n",
       "  <th>product_category_name_pet_shop</th>                                       <td>    0.0239</td> <td>      nan</td> <td>      nan</td> <td>   nan</td> <td>      nan</td> <td>      nan</td>\n",
       "</tr>\n",
       "<tr>\n",
       "  <th>product_category_name_portateis_casa_forno_e_cafe</th>                    <td>    0.0084</td> <td>      nan</td> <td>      nan</td> <td>   nan</td> <td>      nan</td> <td>      nan</td>\n",
       "</tr>\n",
       "<tr>\n",
       "  <th>product_category_name_portateis_cozinha_e_preparadores_de_alimentos</th>  <td>   -0.0100</td> <td>      nan</td> <td>      nan</td> <td>   nan</td> <td>      nan</td> <td>      nan</td>\n",
       "</tr>\n",
       "<tr>\n",
       "  <th>product_category_name_relogios_presentes</th>                             <td>   -0.0143</td> <td>      nan</td> <td>      nan</td> <td>   nan</td> <td>      nan</td> <td>      nan</td>\n",
       "</tr>\n",
       "<tr>\n",
       "  <th>product_category_name_seguros_e_servicos</th>                             <td>   -0.1074</td> <td>      nan</td> <td>      nan</td> <td>   nan</td> <td>      nan</td> <td>      nan</td>\n",
       "</tr>\n",
       "<tr>\n",
       "  <th>product_category_name_sinalizacao_e_seguranca</th>                        <td>    0.0063</td> <td>      nan</td> <td>      nan</td> <td>   nan</td> <td>      nan</td> <td>      nan</td>\n",
       "</tr>\n",
       "<tr>\n",
       "  <th>product_category_name_tablets_impressao_imagem</th>                       <td>   -0.0064</td> <td>      nan</td> <td>      nan</td> <td>   nan</td> <td>      nan</td> <td>      nan</td>\n",
       "</tr>\n",
       "<tr>\n",
       "  <th>product_category_name_telefonia</th>                                      <td>   -0.0343</td> <td>      nan</td> <td>      nan</td> <td>   nan</td> <td>      nan</td> <td>      nan</td>\n",
       "</tr>\n",
       "<tr>\n",
       "  <th>product_category_name_telefonia_fixa</th>                                 <td>   -0.0168</td> <td>      nan</td> <td>      nan</td> <td>   nan</td> <td>      nan</td> <td>      nan</td>\n",
       "</tr>\n",
       "<tr>\n",
       "  <th>product_category_name_utilidades_domesticas</th>                          <td>    0.0068</td> <td>      nan</td> <td>      nan</td> <td>   nan</td> <td>      nan</td> <td>      nan</td>\n",
       "</tr>\n",
       "<tr>\n",
       "  <th>seller_state_AC</th>                                                      <td>   -0.0804</td> <td>  631.591</td> <td>   -0.000</td> <td> 1.000</td> <td>-1237.976</td> <td> 1237.815</td>\n",
       "</tr>\n",
       "<tr>\n",
       "  <th>seller_state_AM</th>                                                      <td>    0.0011</td> <td>      nan</td> <td>      nan</td> <td>   nan</td> <td>      nan</td> <td>      nan</td>\n",
       "</tr>\n",
       "<tr>\n",
       "  <th>seller_state_BA</th>                                                      <td>   -0.0079</td> <td>      nan</td> <td>      nan</td> <td>   nan</td> <td>      nan</td> <td>      nan</td>\n",
       "</tr>\n",
       "<tr>\n",
       "  <th>seller_state_CE</th>                                                      <td>    0.0080</td> <td>      nan</td> <td>      nan</td> <td>   nan</td> <td>      nan</td> <td>      nan</td>\n",
       "</tr>\n",
       "<tr>\n",
       "  <th>seller_state_DF</th>                                                      <td>    0.0017</td> <td>      nan</td> <td>      nan</td> <td>   nan</td> <td>      nan</td> <td>      nan</td>\n",
       "</tr>\n",
       "<tr>\n",
       "  <th>seller_state_ES</th>                                                      <td>   -0.0102</td> <td>      nan</td> <td>      nan</td> <td>   nan</td> <td>      nan</td> <td>      nan</td>\n",
       "</tr>\n",
       "<tr>\n",
       "  <th>seller_state_GO</th>                                                      <td>    0.0145</td> <td>      nan</td> <td>      nan</td> <td>   nan</td> <td>      nan</td> <td>      nan</td>\n",
       "</tr>\n",
       "<tr>\n",
       "  <th>seller_state_MA</th>                                                      <td>   -0.0116</td> <td>      nan</td> <td>      nan</td> <td>   nan</td> <td>      nan</td> <td>      nan</td>\n",
       "</tr>\n",
       "<tr>\n",
       "  <th>seller_state_MG</th>                                                      <td>   -0.0008</td> <td>      nan</td> <td>      nan</td> <td>   nan</td> <td>      nan</td> <td>      nan</td>\n",
       "</tr>\n",
       "<tr>\n",
       "  <th>seller_state_MS</th>                                                      <td>    0.0206</td> <td>      nan</td> <td>      nan</td> <td>   nan</td> <td>      nan</td> <td>      nan</td>\n",
       "</tr>\n",
       "<tr>\n",
       "  <th>seller_state_MT</th>                                                      <td>   -0.0058</td> <td>      nan</td> <td>      nan</td> <td>   nan</td> <td>      nan</td> <td>      nan</td>\n",
       "</tr>\n",
       "<tr>\n",
       "  <th>seller_state_PA</th>                                                      <td>    0.0042</td> <td>      nan</td> <td>      nan</td> <td>   nan</td> <td>      nan</td> <td>      nan</td>\n",
       "</tr>\n",
       "<tr>\n",
       "  <th>seller_state_PB</th>                                                      <td>   -0.0034</td> <td>      nan</td> <td>      nan</td> <td>   nan</td> <td>      nan</td> <td>      nan</td>\n",
       "</tr>\n",
       "<tr>\n",
       "  <th>seller_state_PE</th>                                                      <td>   -0.0017</td> <td>      nan</td> <td>      nan</td> <td>   nan</td> <td>      nan</td> <td>      nan</td>\n",
       "</tr>\n",
       "<tr>\n",
       "  <th>seller_state_PI</th>                                                      <td>   -0.0004</td> <td>      nan</td> <td>      nan</td> <td>   nan</td> <td>      nan</td> <td>      nan</td>\n",
       "</tr>\n",
       "<tr>\n",
       "  <th>seller_state_PR</th>                                                      <td>   -0.0039</td> <td>      nan</td> <td>      nan</td> <td>   nan</td> <td>      nan</td> <td>      nan</td>\n",
       "</tr>\n",
       "<tr>\n",
       "  <th>seller_state_RJ</th>                                                      <td>    0.0169</td> <td>      nan</td> <td>      nan</td> <td>   nan</td> <td>      nan</td> <td>      nan</td>\n",
       "</tr>\n",
       "<tr>\n",
       "  <th>seller_state_RN</th>                                                      <td>    0.0063</td> <td>      nan</td> <td>      nan</td> <td>   nan</td> <td>      nan</td> <td>      nan</td>\n",
       "</tr>\n",
       "<tr>\n",
       "  <th>seller_state_RO</th>                                                      <td>   -0.0030</td> <td>      nan</td> <td>      nan</td> <td>   nan</td> <td>      nan</td> <td>      nan</td>\n",
       "</tr>\n",
       "<tr>\n",
       "  <th>seller_state_RS</th>                                                      <td>    0.0099</td> <td>      nan</td> <td>      nan</td> <td>   nan</td> <td>      nan</td> <td>      nan</td>\n",
       "</tr>\n",
       "<tr>\n",
       "  <th>seller_state_SC</th>                                                      <td>   -0.0069</td> <td>      nan</td> <td>      nan</td> <td>   nan</td> <td>      nan</td> <td>      nan</td>\n",
       "</tr>\n",
       "<tr>\n",
       "  <th>seller_state_SE</th>                                                      <td>-6.719e-05</td> <td>      nan</td> <td>      nan</td> <td>   nan</td> <td>      nan</td> <td>      nan</td>\n",
       "</tr>\n",
       "<tr>\n",
       "  <th>seller_state_SP</th>                                                      <td>   -0.0038</td> <td>      nan</td> <td>      nan</td> <td>   nan</td> <td>      nan</td> <td>      nan</td>\n",
       "</tr>\n",
       "</table>"
      ],
      "text/plain": [
       "<class 'statsmodels.iolib.summary.Summary'>\n",
       "\"\"\"\n",
       "                           Logit Regression Results                           \n",
       "==============================================================================\n",
       "Dep. Variable:           review_score   No. Observations:               118315\n",
       "Model:                          Logit   Df Residuals:                   118176\n",
       "Method:                           MLE   Df Model:                          138\n",
       "Date:                Tue, 17 Mar 2020   Pseudo R-squ.:                 0.05115\n",
       "Time:                        20:38:52   Log-Likelihood:                -76978.\n",
       "converged:                      False   LL-Null:                       -81128.\n",
       "Covariance Type:            nonrobust   LLR p-value:                     0.000\n",
       "========================================================================================================================================\n",
       "                                                                           coef    std err          z      P>|z|      [0.025      0.975]\n",
       "----------------------------------------------------------------------------------------------------------------------------------------\n",
       "const                                                                    0.2507      7.510      0.033      0.973     -14.468      14.970\n",
       "review_comment_title                                                     0.0732      0.006     11.340      0.000       0.061       0.086\n",
       "review_comment_message                                                  -0.3291      0.006    -51.080      0.000      -0.342      -0.316\n",
       "payment_installments                                                     0.0022      0.007      0.301      0.764      -0.012       0.016\n",
       "payment_value                                                           -0.3552      0.015    -24.222      0.000      -0.384      -0.326\n",
       "price                                                                    0.2738      0.012     22.006      0.000       0.249       0.298\n",
       "freight_value                                                           -0.0096      0.009     -1.017      0.309      -0.028       0.009\n",
       "product_name_lenght                                                     -0.0248      0.006     -3.849      0.000      -0.037      -0.012\n",
       "product_description_lenght                                               0.0062      0.007      0.909      0.364      -0.007       0.019\n",
       "product_photos_qty                                                       0.0078      0.007      1.187      0.235      -0.005       0.021\n",
       "product_weight_g                                                         0.0182      0.010      1.760      0.078      -0.002       0.038\n",
       "product_length_cm                                                       -0.0203      0.008     -2.517      0.012      -0.036      -0.004\n",
       "product_height_cm                                                       -0.0301      0.008     -3.570      0.000      -0.047      -0.014\n",
       "product_width_cm                                                         0.0070      0.008      0.837      0.403      -0.009       0.023\n",
       "delay                                                                   -0.3650      0.007    -51.380      0.000      -0.379      -0.351\n",
       "customer_state_AC                                                       -0.0047        nan        nan        nan         nan         nan\n",
       "customer_state_AL                                                       -0.0124        nan        nan        nan         nan         nan\n",
       "customer_state_AM                                                       -0.0051        nan        nan        nan         nan         nan\n",
       "customer_state_AP                                                       -0.0094        nan        nan        nan         nan         nan\n",
       "customer_state_BA                                                       -0.0432        nan        nan        nan         nan         nan\n",
       "customer_state_CE                                                       -0.0200        nan        nan        nan         nan         nan\n",
       "customer_state_DF                                                       -0.0077        nan        nan        nan         nan         nan\n",
       "customer_state_ES                                                       -0.0068        nan        nan        nan         nan         nan\n",
       "customer_state_GO                                                       -0.0146        nan        nan        nan         nan         nan\n",
       "customer_state_MA                                                       -0.0224        nan        nan        nan         nan         nan\n",
       "customer_state_MG                                                        0.0084        nan        nan        nan         nan         nan\n",
       "customer_state_MS                                                        0.0119        nan        nan        nan         nan         nan\n",
       "customer_state_MT                                                       -0.0199        nan        nan        nan         nan         nan\n",
       "customer_state_PA                                                       -0.0342        nan        nan        nan         nan         nan\n",
       "customer_state_PB                                                        0.0043        nan        nan        nan         nan         nan\n",
       "customer_state_PE                                                       -0.0075        nan        nan        nan         nan         nan\n",
       "customer_state_PI                                                       -0.0143        nan        nan        nan         nan         nan\n",
       "customer_state_PR                                                        0.0119        nan        nan        nan         nan         nan\n",
       "customer_state_RJ                                                       -0.0363        nan        nan        nan         nan         nan\n",
       "customer_state_RN                                                       -0.0020        nan        nan        nan         nan         nan\n",
       "customer_state_RO                                                       -0.0117        nan        nan        nan         nan         nan\n",
       "customer_state_RR                                                       -0.0143        nan        nan        nan         nan         nan\n",
       "customer_state_RS                                                       -0.0168        nan        nan        nan         nan         nan\n",
       "customer_state_SC                                                       -0.0016        nan        nan        nan         nan         nan\n",
       "customer_state_SE                                                       -0.0004        nan        nan        nan         nan         nan\n",
       "customer_state_SP                                                        0.0717        nan        nan        nan         nan         nan\n",
       "customer_state_TO                                                        0.0018        nan        nan        nan         nan         nan\n",
       "payment_type_boleto                                                      0.0158   2.62e+05   6.02e-08      1.000   -5.13e+05    5.13e+05\n",
       "payment_type_credit_card                                                -0.0020   2.91e+05  -6.74e-09      1.000    -5.7e+05     5.7e+05\n",
       "payment_type_debit_card                                                  0.0198   7.86e+04   2.52e-07      1.000   -1.54e+05    1.54e+05\n",
       "payment_type_voucher                                                    -0.0343   1.49e+05  -2.31e-07      1.000   -2.92e+05    2.92e+05\n",
       "product_category_name_agro_industria_e_comercio                         -0.0013        nan        nan        nan         nan         nan\n",
       "product_category_name_alimentos                                          0.0151        nan        nan        nan         nan         nan\n",
       "product_category_name_alimentos_bebidas                                  0.0134        nan        nan        nan         nan         nan\n",
       "product_category_name_artes                                             -0.0077        nan        nan        nan         nan         nan\n",
       "product_category_name_artes_e_artesanato                                 0.0043        nan        nan        nan         nan         nan\n",
       "product_category_name_artigos_de_festas                                 -0.0024        nan        nan        nan         nan         nan\n",
       "product_category_name_artigos_de_natal                                  -0.0066        nan        nan        nan         nan         nan\n",
       "product_category_name_audio                                             -0.0066        nan        nan        nan         nan         nan\n",
       "product_category_name_automotivo                                         0.0026        nan        nan        nan         nan         nan\n",
       "product_category_name_bebes                                             -0.0082        nan        nan        nan         nan         nan\n",
       "product_category_name_bebidas                                           -0.0028        nan        nan        nan         nan         nan\n",
       "product_category_name_beleza_saude                                       0.0339        nan        nan        nan         nan         nan\n",
       "product_category_name_brinquedos                                         0.0316        nan        nan        nan         nan         nan\n",
       "product_category_name_cama_mesa_banho                                   -0.0435        nan        nan        nan         nan         nan\n",
       "product_category_name_casa_conforto                                      0.0081        nan        nan        nan         nan         nan\n",
       "product_category_name_casa_conforto_2                                   -0.0058        nan        nan        nan         nan         nan\n",
       "product_category_name_casa_construcao                                   -0.0170        nan        nan        nan         nan         nan\n",
       "product_category_name_cds_dvds_musicais                                  0.0055        nan        nan        nan         nan         nan\n",
       "product_category_name_cine_foto                                          0.0142        nan        nan        nan         nan         nan\n",
       "product_category_name_climatizacao                                      -0.0028        nan        nan        nan         nan         nan\n",
       "product_category_name_consoles_games                                    -0.0124        nan        nan        nan         nan         nan\n",
       "product_category_name_construcao_ferramentas_construcao                  0.0032        nan        nan        nan         nan         nan\n",
       "product_category_name_construcao_ferramentas_ferramentas                 0.0152        nan        nan        nan         nan         nan\n",
       "product_category_name_construcao_ferramentas_iluminacao                 -0.0060        nan        nan        nan         nan         nan\n",
       "product_category_name_construcao_ferramentas_jardim                      0.0085        nan        nan        nan         nan         nan\n",
       "product_category_name_construcao_ferramentas_seguranca                  -0.0076        nan        nan        nan         nan         nan\n",
       "product_category_name_cool_stuff                                         0.0143        nan        nan        nan         nan         nan\n",
       "product_category_name_dvds_blu_ray                                      -0.0006        nan        nan        nan         nan         nan\n",
       "product_category_name_eletrodomesticos                                   0.0059        nan        nan        nan         nan         nan\n",
       "product_category_name_eletrodomesticos_2                                -0.0022        nan        nan        nan         nan         nan\n",
       "product_category_name_eletronicos                                       -0.0063        nan        nan        nan         nan         nan\n",
       "product_category_name_eletroportateis                                    0.0053        nan        nan        nan         nan         nan\n",
       "product_category_name_esporte_lazer                                      0.0216        nan        nan        nan         nan         nan\n",
       "product_category_name_fashion_bolsas_e_acessorios                       -0.0040        nan        nan        nan         nan         nan\n",
       "product_category_name_fashion_calcados                                   0.0128        nan        nan        nan         nan         nan\n",
       "product_category_name_fashion_esporte                                -1.478e-05        nan        nan        nan         nan         nan\n",
       "product_category_name_fashion_roupa_feminina                            -0.0138        nan        nan        nan         nan         nan\n",
       "product_category_name_fashion_roupa_infanto_juvenil                      0.0108        nan        nan        nan         nan         nan\n",
       "product_category_name_fashion_roupa_masculina                           -0.0050        nan        nan        nan         nan         nan\n",
       "product_category_name_fashion_underwear_e_moda_praia                    -0.0075        nan        nan        nan         nan         nan\n",
       "product_category_name_ferramentas_jardim                                 0.0197        nan        nan        nan         nan         nan\n",
       "product_category_name_flores                                             0.0062        nan        nan        nan         nan         nan\n",
       "product_category_name_fraldas_higiene                                   -0.0220        nan        nan        nan         nan         nan\n",
       "product_category_name_industria_comercio_e_negocios                      0.0008        nan        nan        nan         nan         nan\n",
       "product_category_name_informatica_acessorios                            -0.0283        nan        nan        nan         nan         nan\n",
       "product_category_name_instrumentos_musicais                              0.0118        nan        nan        nan         nan         nan\n",
       "product_category_name_la_cuisine                                         0.0068        nan        nan        nan         nan         nan\n",
       "product_category_name_livros_importados                                  0.0200        nan        nan        nan         nan         nan\n",
       "product_category_name_livros_interesse_geral                             0.0405        nan        nan        nan         nan         nan\n",
       "product_category_name_livros_tecnicos                                    0.0246        nan        nan        nan         nan         nan\n",
       "product_category_name_malas_acessorios                                   0.0344        nan        nan        nan         nan         nan\n",
       "product_category_name_market_place                                      -0.0161        nan        nan        nan         nan         nan\n",
       "product_category_name_moveis_colchao_e_estofado                         -0.0042        nan        nan        nan         nan         nan\n",
       "product_category_name_moveis_cozinha_area_de_servico_jantar_e_jardim    -0.0134        nan        nan        nan         nan         nan\n",
       "product_category_name_moveis_decoracao                                  -0.0200        nan        nan        nan         nan         nan\n",
       "product_category_name_moveis_escritorio                                 -0.0611        nan        nan        nan         nan         nan\n",
       "product_category_name_moveis_quarto                                     -0.0008        nan        nan        nan         nan         nan\n",
       "product_category_name_moveis_sala                                       -0.0126        nan        nan        nan         nan         nan\n",
       "product_category_name_musica                                             0.0014        nan        nan        nan         nan         nan\n",
       "product_category_name_other                                             -0.0182        nan        nan        nan         nan         nan\n",
       "product_category_name_papelaria                                          0.0256        nan        nan        nan         nan         nan\n",
       "product_category_name_pc_gamer                                          -0.0111        nan        nan        nan         nan         nan\n",
       "product_category_name_pcs                                                0.0152        nan        nan        nan         nan         nan\n",
       "product_category_name_perfumaria                                         0.0340        nan        nan        nan         nan         nan\n",
       "product_category_name_pet_shop                                           0.0239        nan        nan        nan         nan         nan\n",
       "product_category_name_portateis_casa_forno_e_cafe                        0.0084        nan        nan        nan         nan         nan\n",
       "product_category_name_portateis_cozinha_e_preparadores_de_alimentos     -0.0100        nan        nan        nan         nan         nan\n",
       "product_category_name_relogios_presentes                                -0.0143        nan        nan        nan         nan         nan\n",
       "product_category_name_seguros_e_servicos                                -0.1074        nan        nan        nan         nan         nan\n",
       "product_category_name_sinalizacao_e_seguranca                            0.0063        nan        nan        nan         nan         nan\n",
       "product_category_name_tablets_impressao_imagem                          -0.0064        nan        nan        nan         nan         nan\n",
       "product_category_name_telefonia                                         -0.0343        nan        nan        nan         nan         nan\n",
       "product_category_name_telefonia_fixa                                    -0.0168        nan        nan        nan         nan         nan\n",
       "product_category_name_utilidades_domesticas                              0.0068        nan        nan        nan         nan         nan\n",
       "seller_state_AC                                                         -0.0804    631.591     -0.000      1.000   -1237.976    1237.815\n",
       "seller_state_AM                                                          0.0011        nan        nan        nan         nan         nan\n",
       "seller_state_BA                                                         -0.0079        nan        nan        nan         nan         nan\n",
       "seller_state_CE                                                          0.0080        nan        nan        nan         nan         nan\n",
       "seller_state_DF                                                          0.0017        nan        nan        nan         nan         nan\n",
       "seller_state_ES                                                         -0.0102        nan        nan        nan         nan         nan\n",
       "seller_state_GO                                                          0.0145        nan        nan        nan         nan         nan\n",
       "seller_state_MA                                                         -0.0116        nan        nan        nan         nan         nan\n",
       "seller_state_MG                                                         -0.0008        nan        nan        nan         nan         nan\n",
       "seller_state_MS                                                          0.0206        nan        nan        nan         nan         nan\n",
       "seller_state_MT                                                         -0.0058        nan        nan        nan         nan         nan\n",
       "seller_state_PA                                                          0.0042        nan        nan        nan         nan         nan\n",
       "seller_state_PB                                                         -0.0034        nan        nan        nan         nan         nan\n",
       "seller_state_PE                                                         -0.0017        nan        nan        nan         nan         nan\n",
       "seller_state_PI                                                         -0.0004        nan        nan        nan         nan         nan\n",
       "seller_state_PR                                                         -0.0039        nan        nan        nan         nan         nan\n",
       "seller_state_RJ                                                          0.0169        nan        nan        nan         nan         nan\n",
       "seller_state_RN                                                          0.0063        nan        nan        nan         nan         nan\n",
       "seller_state_RO                                                         -0.0030        nan        nan        nan         nan         nan\n",
       "seller_state_RS                                                          0.0099        nan        nan        nan         nan         nan\n",
       "seller_state_SC                                                         -0.0069        nan        nan        nan         nan         nan\n",
       "seller_state_SE                                                      -6.719e-05        nan        nan        nan         nan         nan\n",
       "seller_state_SP                                                         -0.0038        nan        nan        nan         nan         nan\n",
       "========================================================================================================================================\n",
       "\"\"\""
      ]
     },
     "metadata": {},
     "output_type": "display_data"
    },
    {
     "data": {
      "text/plain": [
       "Text(0.5, 0, 'normalized coefficient')"
      ]
     },
     "execution_count": 59,
     "metadata": {},
     "output_type": "execute_result"
    },
    {
     "data": {
      "image/png": "[encoded data removed]",
      "text/plain": [
       "<Figure size 360x288 with 1 Axes>"
      ]
     },
     "metadata": {
      "needs_background": "light"
     },
     "output_type": "display_data"
    }
   ],
   "source": [
    "# seperate target from features\n",
    "X = df[df.columns[:-1]]\n",
    "y = df[df.columns[-1]]\n",
    "\n",
    "# scale data with standard scaler\n",
    "from sklearn.preprocessing import StandardScaler\n",
    "scaler = StandardScaler()\n",
    "X = pd.DataFrame(data=scaler.fit_transform(X), columns=X.columns)\n",
    "\n",
    "# fit logit function \n",
    "import statsmodels.api as sm\n",
    "X_withconstant = sm.add_constant(X)\n",
    "logit = sm.Logit(y, X_withconstant).fit()\n",
    "display(logit.summary()) \n",
    "\n",
    "# table of significant coefficinets sorted by absolute value\n",
    "coef_table = summary.tables[1]\n",
    "coef_df = pd.DataFrame(data=coef_table.data[1:], columns=coef_table.data[0])\n",
    "coef_df['coef'] = coef_df['coef'].astype(float)\n",
    "coef_df['P>|z|'] = coef_df['P>|z|'].astype(float)\n",
    "coef_df['abs_coef'] = np.abs(coef_df['coef'])\n",
    "coef_df.drop(0, axis='index', inplace=True)\n",
    "coefs_by_mag = coef_df.sort_values(by='abs_coef', ascending=False)\n",
    "coefs_by_mag = coefs_by_mag[coefs_by_mag['P>|z|'] <= 0.05]\n",
    "\n",
    "# bar chart of feature coefficients\n",
    "bar_names = coefs_by_mag['']\n",
    "bar_heights = coefs_by_mag['coef']\n",
    "bar_colors = np.where(bar_heights>0, 'blue', 'red')\n",
    "plt.figure(figsize=(5.0, 4.0))\n",
    "plt.barh(bar_names, bar_heights, color=bar_colors)\n",
    "plt.xlabel('normalized coefficient')"
   ]
  },
  {
   "cell_type": "code",
   "execution_count": null,
   "metadata": {},
   "outputs": [],
   "source": [
    "import statsmodels.api as sm\n",
    "X_withconstant = sm.add_constant(X)\n",
    "logit = sm.Logit(y, X_withconstant).fit()\n",
    "summary = logit.summary()\n",
    "display(summary)"
   ]
  },
  {
   "cell_type": "markdown",
   "metadata": {},
   "source": [
    "## Review Dataset"
   ]
  },
  {
   "cell_type": "code",
   "execution_count": null,
   "metadata": {
    "scrolled": true
   },
   "outputs": [],
   "source": [
    "review_df = pd.read_csv('olist_order_reviews_dataset.csv')\n",
    "review_df.info()"
   ]
  },
  {
   "cell_type": "code",
   "execution_count": null,
   "metadata": {
    "scrolled": false
   },
   "outputs": [],
   "source": [
    "df.groupby('review_score').mean()"
   ]
  },
  {
   "cell_type": "code",
   "execution_count": null,
   "metadata": {
    "scrolled": false
   },
   "outputs": [],
   "source": [
    "plt.bar(df.columns[:-1], df.groupby('review_score').mean().iloc[0])"
   ]
  },
  {
   "cell_type": "code",
   "execution_count": null,
   "metadata": {},
   "outputs": [],
   "source": [
    "review_df[review_df.duplicated()]"
   ]
  },
  {
   "cell_type": "code",
   "execution_count": null,
   "metadata": {},
   "outputs": [],
   "source": [
    "review_df.drop(['review_id', 'review_creation_date', 'review_answer_timestamp'], axis='columns', inplace=True)\n",
    "review_df.columns"
   ]
  },
  {
   "cell_type": "code",
   "execution_count": null,
   "metadata": {
    "scrolled": false
   },
   "outputs": [],
   "source": [
    "for columns in ['review_comment_title', 'review_comment_message']:\n",
    "    # replace present values with 1\n",
    "    review_df.loc[review_df[columns].notnull(), columns] = 1\n",
    "    # replace null values with 0\n",
    "    review_df.loc[review_df[columns].isna(), columns] = 0\n",
    "review_df.info()"
   ]
  },
  {
   "cell_type": "code",
   "execution_count": null,
   "metadata": {
    "scrolled": true
   },
   "outputs": [],
   "source": [
    "review_df.head()"
   ]
  },
  {
   "cell_type": "code",
   "execution_count": null,
   "metadata": {},
   "outputs": [],
   "source": [
    "review_df.nunique()"
   ]
  },
  {
   "cell_type": "code",
   "execution_count": null,
   "metadata": {
    "scrolled": true
   },
   "outputs": [],
   "source": [
    "plt.bar(payment_df.groupby('payment_type').sum().index, \n",
    "        payment_df.groupby('payment_type').sum()['payment_value']/payment_df.groupby('payment_type').count()['payment_value']);"
   ]
  },
  {
   "cell_type": "code",
   "execution_count": null,
   "metadata": {
    "scrolled": true
   },
   "outputs": [],
   "source": [
    "plt.scatter(payment_df.payment_installments, payment_df.payment_value);"
   ]
  },
  {
   "cell_type": "code",
   "execution_count": null,
   "metadata": {
    "scrolled": true
   },
   "outputs": [],
   "source": [
    "plt.hist(review_df.review_score);"
   ]
  },
  {
   "cell_type": "code",
   "execution_count": null,
   "metadata": {
    "scrolled": true
   },
   "outputs": [],
   "source": [
    "po_df = pd.merge(payment_df, order_df, how='left', on='order_id')\n",
    "po_df.info()\n",
    "po_df.head()"
   ]
  },
  {
   "cell_type": "code",
   "execution_count": null,
   "metadata": {
    "scrolled": false
   },
   "outputs": [],
   "source": [
    "poc_df = pd.merge(po_df, customer_df, how='left', on='customer_id')\n",
    "poc_df.drop('customer_id', axis='columns', inplace=True)\n",
    "poc_df.info()\n",
    "poc_df.head()"
   ]
  },
  {
   "cell_type": "code",
   "execution_count": null,
   "metadata": {},
   "outputs": [],
   "source": [
    "state_pay_series = poc_df.groupby('customer_state').sum()['payment_value']/poc_df.groupby('customer_state').count()['payment_value']\n",
    "state_pay_series.sort_values(inplace=True, ascending=False)\n",
    "plt.bar(state_pay_series.index, state_pay_series);"
   ]
  },
  {
   "cell_type": "code",
   "execution_count": null,
   "metadata": {
    "scrolled": false
   },
   "outputs": [],
   "source": [
    "poci_df = pd.merge(poc_df, item_df, how='right', on='order_id')\n",
    "poci_df.info()"
   ]
  },
  {
   "cell_type": "code",
   "execution_count": null,
   "metadata": {},
   "outputs": [],
   "source": [
    "poci_df.drop(poci_df[poci_df.payment_value.isnull()].index, axis='index', inplace=True)\n",
    "poci_df.info()"
   ]
  },
  {
   "cell_type": "code",
   "execution_count": null,
   "metadata": {
    "scrolled": true
   },
   "outputs": [],
   "source": [
    "pocip_df = pd.merge(poci_df, product_df, how='left', on='product_id')\n",
    "pocip_df.drop('product_id', axis='columns', inplace=True)\n",
    "pocip_df.info()\n",
    "pocip_df.head()"
   ]
  },
  {
   "cell_type": "code",
   "execution_count": null,
   "metadata": {},
   "outputs": [],
   "source": [
    "#df = pd.merge(df, translation_df, how='left', on='product_category_name')\n",
    "#df.drop('product_category_name', axis='columns', inplace=True)\n",
    "#df.head()"
   ]
  },
  {
   "cell_type": "code",
   "execution_count": null,
   "metadata": {
    "scrolled": false
   },
   "outputs": [],
   "source": [
    "payment_by_category = pocip_df.groupby('product_category_name')['payment_value'].sum()\n",
    "payment_by_category.sort_values(ascending=False, inplace=True)\n",
    "plt.figure(figsize=(12,20))\n",
    "plt.barh(payment_by_category.index, payment_by_category)"
   ]
  },
  {
   "cell_type": "code",
   "execution_count": null,
   "metadata": {
    "scrolled": true
   },
   "outputs": [],
   "source": [
    "pocipr_df = pd.merge(pocip_df, review_df, how='right', on='order_id')\n",
    "pocipr_df.info()\n",
    "pocipr_df.head()"
   ]
  },
  {
   "cell_type": "code",
   "execution_count": null,
   "metadata": {},
   "outputs": [],
   "source": [
    "pocipr_df.drop(pocipr_df[pocipr_df.payment_value.isnull()].index, axis='index', inplace=True)\n",
    "pocipr_df.info()"
   ]
  },
  {
   "cell_type": "markdown",
   "metadata": {},
   "source": [
    "# Feature Engineering"
   ]
  },
  {
   "cell_type": "code",
   "execution_count": null,
   "metadata": {},
   "outputs": [],
   "source": [
    "pocipr_df['purchase_date'] = pocipr_df['order_purchase_timestamp'].dt.date\n",
    "pocipr_df['delay'] = (pocipr_df.order_delivered_customer_date - pocipr_df.order_estimated_delivery_date).dt.days\n",
    "pocipr_df.drop(['order_purchase_timestamp', 'order_delivered_customer_date', 'order_estimated_delivery_date'], axis='columns', inplace=True)\n",
    "pocipr_df.head()"
   ]
  },
  {
   "cell_type": "code",
   "execution_count": null,
   "metadata": {
    "scrolled": true
   },
   "outputs": [],
   "source": [
    "pocipr_df.info()"
   ]
  },
  {
   "cell_type": "code",
   "execution_count": null,
   "metadata": {},
   "outputs": [],
   "source": [
    "pocipr_df.fillna(pocipr_df.median(), inplace=True)"
   ]
  },
  {
   "cell_type": "code",
   "execution_count": null,
   "metadata": {},
   "outputs": [],
   "source": [
    "pocipr_df.info()"
   ]
  },
  {
   "cell_type": "code",
   "execution_count": null,
   "metadata": {
    "scrolled": true
   },
   "outputs": [],
   "source": [
    "plt.hist(pocipr_df.delay, bins=50);"
   ]
  },
  {
   "cell_type": "code",
   "execution_count": null,
   "metadata": {
    "scrolled": false
   },
   "outputs": [],
   "source": [
    "plt.scatter(pocipr_df.purchase_date, pocipr_df.delay);"
   ]
  },
  {
   "cell_type": "code",
   "execution_count": null,
   "metadata": {},
   "outputs": [],
   "source": [
    "pocipr_df.head()"
   ]
  },
  {
   "cell_type": "code",
   "execution_count": null,
   "metadata": {
    "scrolled": false
   },
   "outputs": [],
   "source": [
    "pocipr_df1 = pocipr_df[(date(2016,10,1) <= pocipr_df.purchase_date) & (pocipr_df.purchase_date < date(2018,4,1))]\n",
    "pocipr_df2 = pocipr_df[(date(2018,4,1) <= pocipr_df.purchase_date) & (pocipr_df.purchase_date < date(2018,10,1))]\n",
    "pocipr_df2 = pocipr_df2[['customer_unique_id', 'payment_value']]"
   ]
  },
  {
   "cell_type": "code",
   "execution_count": null,
   "metadata": {
    "scrolled": true
   },
   "outputs": [],
   "source": [
    "pocipr_df1"
   ]
  },
  {
   "cell_type": "code",
   "execution_count": null,
   "metadata": {},
   "outputs": [],
   "source": [
    "pocipr_df2"
   ]
  },
  {
   "cell_type": "markdown",
   "metadata": {},
   "source": [
    "# Exploratory Data Analytics"
   ]
  },
  {
   "cell_type": "code",
   "execution_count": null,
   "metadata": {
    "scrolled": false
   },
   "outputs": [],
   "source": [
    "cust_pocipr_df1 = pocipr_df1.groupby('customer_unique_id').agg({'purchase_date': lambda x: min((max(pocipr_df1.purchase_date)-x).dt.days),  \n",
    "                                                    'order_id': 'count',\n",
    "                                                    'payment_value': 'sum',\n",
    "                                                    'delay': 'mean',\n",
    "                                                    'payment_installments': 'mean',\n",
    "                                                    'review_score': 'mean',\n",
    "                                                    'review_comment_title': 'mean',\n",
    "                                                    'review_comment_message': 'mean',\n",
    "                                           'payment_type': lambda x: x.value_counts().index[0],\n",
    "                                           'product_category_name': lambda x: x.value_counts().index[0],\n",
    "                                                'customer_state': lambda x: x.value_counts().index[0]})\n",
    "\n"
   ]
  },
  {
   "cell_type": "code",
   "execution_count": null,
   "metadata": {},
   "outputs": [],
   "source": [
    "cust_pocipr_df1.columns = ['recency', 'frequency', 'monetary', 'delay', 'installments', 'review_score', 'comment_title', 'comment_message',\n",
    "            'pop_payment_type', 'pop_category', 'customer_state']\n",
    "\n",
    "cust_pocipr_df1"
   ]
  },
  {
   "cell_type": "code",
   "execution_count": null,
   "metadata": {},
   "outputs": [],
   "source": [
    "cust_pocipr_df1.head()"
   ]
  },
  {
   "cell_type": "code",
   "execution_count": null,
   "metadata": {},
   "outputs": [],
   "source": [
    "cust_pocipr_df1.to_csv('cust_pocipr_df1.csv', index=True);\n",
    "#cust_pocipr_df1 = pd.read_csv('cust_pocipr_df1.csv', index_col=0)"
   ]
  },
  {
   "cell_type": "code",
   "execution_count": null,
   "metadata": {
    "scrolled": true
   },
   "outputs": [],
   "source": [
    "cust_pocipr_df1"
   ]
  },
  {
   "cell_type": "code",
   "execution_count": null,
   "metadata": {},
   "outputs": [],
   "source": [
    "#cust_pocipr_df1['customer_state'] = pocipr_df1.groupby('customer_unique_id').agg({'customer_state': lambda x: x.value_counts().index[0]})\n",
    "#cust_pocipr_df1"
   ]
  },
  {
   "cell_type": "code",
   "execution_count": null,
   "metadata": {
    "scrolled": false
   },
   "outputs": [],
   "source": [
    "#cust_pocipr_df1 = pd.merge(cust_pocipr_df1, customer_df.set_index('customer_unique_id')['customer_state'], how='left', left_index=True, right_index=True)\n",
    "#cust_pocipr_df1"
   ]
  },
  {
   "cell_type": "code",
   "execution_count": null,
   "metadata": {
    "scrolled": true
   },
   "outputs": [],
   "source": [
    "cust_pocipr_df1"
   ]
  },
  {
   "cell_type": "code",
   "execution_count": null,
   "metadata": {},
   "outputs": [],
   "source": [
    "feature_df = pd.get_dummies(cust_pocipr_df1)\n",
    "feature_df"
   ]
  },
  {
   "cell_type": "code",
   "execution_count": null,
   "metadata": {
    "scrolled": false
   },
   "outputs": [],
   "source": [
    "target_df = pocipr_df2.groupby('customer_unique_id').agg({'payment_value':'sum'})\n",
    "target_df"
   ]
  },
  {
   "cell_type": "code",
   "execution_count": null,
   "metadata": {
    "scrolled": false
   },
   "outputs": [],
   "source": [
    "df = pd.merge(feature_df, target_df, on='customer_unique_id')\n",
    "df.info()\n",
    "df.head()"
   ]
  },
  {
   "cell_type": "code",
   "execution_count": null,
   "metadata": {},
   "outputs": [],
   "source": [
    "df = df.loc[:, (df != df.iloc[0]).any()] "
   ]
  },
  {
   "cell_type": "markdown",
   "metadata": {},
   "source": [
    "## Corrlation Analysis"
   ]
  },
  {
   "cell_type": "code",
   "execution_count": null,
   "metadata": {
    "scrolled": true
   },
   "outputs": [],
   "source": [
    "from scipy import stats\n",
    "corr_array=[]\n",
    "for i in range(df.shape[1]-1):  \n",
    "    corr_array.append([df.columns[i], \n",
    "    np.abs(stats.pearsonr(df[df.columns[i]], df.payment_value)[0]),\n",
    "    stats.pearsonr(df[df.columns[i]], df.payment_value)[0],\n",
    "    stats.pearsonr(df[df.columns[i]], df.payment_value)[1]])\n",
    "    \n",
    "    \n",
    "    \n",
    "corr_df = pd.DataFrame(corr_array, columns = ['Info', 'abs_corr', 'corr', 'p_value'])\n",
    "corr_df.sort_values(by = 'abs_corr', ascending = False, inplace = True)\n",
    "corr_df.reset_index(drop = True, inplace = True)\n",
    "corr_df"
   ]
  },
  {
   "cell_type": "code",
   "execution_count": null,
   "metadata": {},
   "outputs": [],
   "source": [
    "plt.scatter(df.monetary, df.payment_value)"
   ]
  },
  {
   "cell_type": "code",
   "execution_count": null,
   "metadata": {},
   "outputs": [],
   "source": [
    "plt.scatter(df.frequency, df.payment_value)"
   ]
  },
  {
   "cell_type": "code",
   "execution_count": null,
   "metadata": {},
   "outputs": [],
   "source": [
    "plt.scatter(df.installments, df.payment_value)"
   ]
  },
  {
   "cell_type": "code",
   "execution_count": null,
   "metadata": {
    "scrolled": true
   },
   "outputs": [],
   "source": [
    "plt.scatter(df.pop_category_relogios_presentes, df.payment_value)"
   ]
  },
  {
   "cell_type": "code",
   "execution_count": null,
   "metadata": {
    "scrolled": true
   },
   "outputs": [],
   "source": [
    "X = df.iloc[:,:-1]\n",
    "y = df.iloc[:,-1]\n",
    "\n",
    "from sklearn.model_selection import train_test_split\n",
    "X_train, X_test, y_train, y_test = train_test_split(X, y, test_size=0.25)\n",
    "\n",
    "# logistic regression \n",
    "from sklearn.linear_model import LinearRegression\n",
    "lr = LinearRegression()\n",
    "lr.fit(X_train, y_train)\n",
    "print('Train Accuracy: ', lr.score(X_train, y_train))\n",
    "print('Test Accuracy: ', lr.score(X_test, y_test))"
   ]
  },
  {
   "cell_type": "markdown",
   "metadata": {},
   "source": [
    "## Quartile-based"
   ]
  },
  {
   "cell_type": "code",
   "execution_count": null,
   "metadata": {},
   "outputs": [],
   "source": [
    "df_q4 = df\n",
    "df_q4.payment_value = pd.qcut(df_q4.payment_value, 4, labels=[1, 2, 3, 4])\n",
    "df_q4"
   ]
  },
  {
   "cell_type": "code",
   "execution_count": null,
   "metadata": {
    "scrolled": false
   },
   "outputs": [],
   "source": [
    "from scipy import stats\n",
    "corr_array=[]\n",
    "for i in range(df_q4.shape[1]-1):  \n",
    "    corr_array.append([df_q4.columns[i], \n",
    "    np.abs(stats.pearsonr(df_q4[df_q4.columns[i]], df_q4.payment_value)[0]),\n",
    "    stats.pearsonr(df_q4[df_q4.columns[i]], df_q4.payment_value)[0],\n",
    "    stats.pearsonr(df_q4[df_q4.columns[i]], df_q4.payment_value)[1]])\n",
    "        \n",
    "corr_df_q4 = pd.DataFrame(corr_array, columns = ['Info', 'abs_corr', 'corr', 'p_value'])\n",
    "corr_df_q4.sort_values(by = 'abs_corr', ascending = False, inplace = True)\n",
    "corr_df_q4.reset_index(drop = True, inplace = True)\n",
    "corr_df_q4"
   ]
  },
  {
   "cell_type": "markdown",
   "metadata": {},
   "source": [
    "## Binary"
   ]
  },
  {
   "cell_type": "code",
   "execution_count": null,
   "metadata": {},
   "outputs": [],
   "source": [
    "df_q2 = df\n",
    "df_q2.payment_value = pd.qcut(df_q2.payment_value, 2, labels=[0, 1])\n",
    "df_q2"
   ]
  },
  {
   "cell_type": "code",
   "execution_count": null,
   "metadata": {
    "scrolled": true
   },
   "outputs": [],
   "source": [
    "from scipy import stats\n",
    "corr_array=[]\n",
    "for i in range(df_q2.shape[1]-1):  \n",
    "    corr_array.append([df_q2.columns[i], \n",
    "    np.abs(stats.pearsonr(df_q2[df_q2.columns[i]], df_q2.payment_value)[0]),\n",
    "    stats.pearsonr(df_q2[df_q2.columns[i]], df_q2.payment_value)[0],\n",
    "    stats.pearsonr(df_q2[df_q2.columns[i]], df_q2.payment_value)[1]])\n",
    "        \n",
    "corr_df_q2 = pd.DataFrame(corr_array, columns = ['Info', 'abs_corr', 'corr', 'p_value'])\n",
    "corr_df_q2.sort_values(by = 'abs_corr', ascending = False, inplace = True)\n",
    "corr_df_q2.reset_index(drop = True, inplace = True)\n",
    "corr_df_q2"
   ]
  },
  {
   "cell_type": "code",
   "execution_count": null,
   "metadata": {
    "scrolled": false
   },
   "outputs": [],
   "source": [
    "plt.scatter(common_customer_df.review_score, common_customer_df.payment_value)"
   ]
  },
  {
   "cell_type": "code",
   "execution_count": null,
   "metadata": {
    "scrolled": true
   },
   "outputs": [],
   "source": [
    "plt.scatter(common_cust.delay, common_cust.payment_value)"
   ]
  },
  {
   "cell_type": "code",
   "execution_count": null,
   "metadata": {},
   "outputs": [],
   "source": [
    "boleto_series = common_cust.loc[common_cust.payment_type_boleto==1, 'payment_value']\n",
    "credit_series = common_cust.loc[common_cust.payment_type_credit_card==1, 'payment_value']\n",
    "debit_series = common_cust.loc[common_cust.payment_type_debit_card==1, 'payment_value']\n",
    "voucher_series = common_cust.loc[common_cust.payment_type_voucher==1, 'payment_value']\n",
    "\n",
    "type_dict = {}\n",
    "type_dict['boleto'] = boleto_series.sum()/boleto_series.count()\n",
    "type_dict['credit'] = credit_series.sum()/credit_series.count()\n",
    "type_dict['debit'] = debit_series.sum()/debit_series.count()\n",
    "type_dict['voucher'] = voucher_series.sum()/voucher_series.count()\n",
    "\n",
    "type_dict"
   ]
  },
  {
   "cell_type": "code",
   "execution_count": null,
   "metadata": {},
   "outputs": [],
   "source": [
    "X = common_cust.iloc[:,:-1]\n",
    "y = common_cust.iloc[:,-1]\n",
    "\n",
    "from sklearn.model_selection import train_test_split\n",
    "X_train, X_test, y_train, y_test = train_test_split(X, y, test_size=0.25, random_state=42)\n",
    "\n",
    "# logistic regression \n",
    "from sklearn.linear_model import LinearRegression\n",
    "lr = LinearRegression()\n",
    "lr.fit(X_train, y_train)\n",
    "print('Train Accuracy: ', lr.score(X_train, y_train))\n",
    "print('Test Accuracy: ', lr.score(X_test, y_test))\n",
    "\n",
    "from sklearn.model_selection import cross_val_score\n",
    "print('CV Score:', np.mean(cross_val_score(lr, X_train, y_train, cv = 5)))"
   ]
  },
  {
   "cell_type": "code",
   "execution_count": null,
   "metadata": {
    "scrolled": true
   },
   "outputs": [],
   "source": [
    "rfm1_df = poc1_df.groupby('customer_unique_id').agg({'purchase_date':'max', 'order_id':'count', 'payment_value':'sum'})\n",
    "rfm1_df.columns = ['recency', 'frequency', 'monetary']\n",
    "rfm1_df"
   ]
  },
  {
   "cell_type": "code",
   "execution_count": null,
   "metadata": {
    "scrolled": true
   },
   "outputs": [],
   "source": [
    "rfm1_df.recency = rfm1_df.recency.apply(lambda x: (poc1_df.purchase_date.max()-x).days)\n",
    "rfm1_df"
   ]
  },
  {
   "cell_type": "code",
   "execution_count": null,
   "metadata": {},
   "outputs": [],
   "source": [
    "#rfm1_df = pd.read_csv('rfm3m.csv', index_col=0)"
   ]
  },
  {
   "cell_type": "code",
   "execution_count": null,
   "metadata": {},
   "outputs": [],
   "source": [
    "from sklearn.preprocessing import StandardScaler\n",
    "scaler = StandardScaler()\n",
    "scaler.fit(rfm1_df)\n",
    "X_scaled = scaler.transform(rfm1_df)\n",
    "rfm1_km = KMeans(n_clusters=4).fit(X_scaled)"
   ]
  },
  {
   "cell_type": "code",
   "execution_count": null,
   "metadata": {
    "scrolled": true
   },
   "outputs": [],
   "source": [
    "plt.scatter(rfm1_df.recency, rfm1_df.monetary, c=rfm1_km.labels_)"
   ]
  },
  {
   "cell_type": "code",
   "execution_count": null,
   "metadata": {
    "scrolled": true
   },
   "outputs": [],
   "source": [
    "plt.scatter(rfm1_df.frequency, rfm1_df.monetary, c=rfm1_km.labels_)"
   ]
  },
  {
   "cell_type": "code",
   "execution_count": null,
   "metadata": {
    "scrolled": true
   },
   "outputs": [],
   "source": [
    "rfm2_df = poc2_df.groupby('customer_unique_id').agg({'purchase_date':'max', 'order_id':'count', 'payment_value':'sum'})\n",
    "rfm2_df.columns = ['recency', 'frequency', 'monetary']\n",
    "rfm2_df"
   ]
  },
  {
   "cell_type": "code",
   "execution_count": null,
   "metadata": {
    "scrolled": false
   },
   "outputs": [],
   "source": [
    "m2 = rfm2_df[['monetary']]"
   ]
  },
  {
   "cell_type": "code",
   "execution_count": null,
   "metadata": {},
   "outputs": [],
   "source": [
    "clust1_df = pd.DataFrame()\n",
    "clust1_df['customer_unique_id'] = rfm1_df.index\n",
    "clust1_df['segment'] = rfm1_km.labels_\n",
    "clust1_df"
   ]
  },
  {
   "cell_type": "code",
   "execution_count": null,
   "metadata": {},
   "outputs": [],
   "source": [
    "common_cust = pd.merge(clust1_df, m2, on='customer_unique_id')\n",
    "common_cust"
   ]
  },
  {
   "cell_type": "code",
   "execution_count": null,
   "metadata": {},
   "outputs": [],
   "source": [
    "X = np.array(common_cust.segment).reshape(-1, 1)\n",
    "y = common_cust.monetary"
   ]
  },
  {
   "cell_type": "code",
   "execution_count": null,
   "metadata": {
    "scrolled": false
   },
   "outputs": [],
   "source": [
    "plt.scatter(X, y)"
   ]
  },
  {
   "cell_type": "code",
   "execution_count": null,
   "metadata": {},
   "outputs": [],
   "source": [
    "from sklearn.model_selection import train_test_split\n",
    "X_train, X_test, y_train, y_test = train_test_split(X, y, test_size=0.25, random_state=42)\n",
    "\n",
    "from sklearn.linear_model import LinearRegression\n",
    "lr = LinearRegression().fit(X_train, y_train)\n",
    "print(lr.score(X_train, y_train))\n",
    "print(lr.score(X_test, y_test))"
   ]
  },
  {
   "cell_type": "code",
   "execution_count": null,
   "metadata": {
    "scrolled": false
   },
   "outputs": [],
   "source": [
    "lr.coef_"
   ]
  },
  {
   "cell_type": "code",
   "execution_count": null,
   "metadata": {
    "scrolled": true
   },
   "outputs": [],
   "source": [
    "rfm1_m2_df = pd.merge(rfm1_df, m2, left_index=True, right_index=True)\n",
    "rfm1_m2_df"
   ]
  },
  {
   "cell_type": "code",
   "execution_count": null,
   "metadata": {},
   "outputs": [],
   "source": []
  },
  {
   "cell_type": "code",
   "execution_count": null,
   "metadata": {
    "scrolled": true
   },
   "outputs": [],
   "source": [
    "plt.scatter(rfm1_m2_df.recency, rfm1_m2_df.monetary_y)"
   ]
  },
  {
   "cell_type": "code",
   "execution_count": null,
   "metadata": {
    "scrolled": true
   },
   "outputs": [],
   "source": [
    "plt.scatter(rfm1_m2_df.frequency, rfm1_m2_df.monetary_y)"
   ]
  },
  {
   "cell_type": "code",
   "execution_count": null,
   "metadata": {
    "scrolled": true
   },
   "outputs": [],
   "source": [
    "plt.scatter(rfm1_m2_df.monetary_x, rfm1_m2_df.monetary_y)"
   ]
  },
  {
   "cell_type": "code",
   "execution_count": null,
   "metadata": {
    "scrolled": true
   },
   "outputs": [],
   "source": [
    "X = rfm1_m2_df.iloc[:,:-1]\n",
    "y = rfm1_m2_df.iloc[:,-1]\n",
    "\n",
    "from sklearn.model_selection import train_test_split\n",
    "X_train, X_test, y_train, y_test = train_test_split(X, y, test_size=0.25)\n",
    "\n",
    "# logistic regression \n",
    "from sklearn.linear_model import LinearRegression\n",
    "lr = LinearRegression()\n",
    "lr.fit(X_train, y_train)\n",
    "print('Train Accuracy: ', lr.score(X_train, y_train))\n",
    "print('Test Accuracy: ', lr.score(X_test, y_test))"
   ]
  },
  {
   "cell_type": "code",
   "execution_count": null,
   "metadata": {},
   "outputs": [],
   "source": [
    "lr.coef_"
   ]
  },
  {
   "cell_type": "code",
   "execution_count": null,
   "metadata": {},
   "outputs": [],
   "source": [
    "common_cust[['monetary']]"
   ]
  },
  {
   "cell_type": "code",
   "execution_count": null,
   "metadata": {
    "scrolled": false
   },
   "outputs": [],
   "source": [
    "m6m_km = KMeans(n_clusters=2)\n",
    "m6m_km.fit(common_cust[['monetary']])\n",
    "plt.scatter(common_cust.monetary, np.zeros([1,common_cust.shape[0]]), c=m6m_km.labels_)"
   ]
  },
  {
   "cell_type": "code",
   "execution_count": null,
   "metadata": {},
   "outputs": [],
   "source": [
    "1-m6m_km.labels_.mean()"
   ]
  },
  {
   "cell_type": "code",
   "execution_count": null,
   "metadata": {},
   "outputs": [],
   "source": [
    "plt.scatter(common_cust.rfm_clust_3m, m6m_km.labels_)"
   ]
  },
  {
   "cell_type": "code",
   "execution_count": null,
   "metadata": {
    "scrolled": true
   },
   "outputs": [],
   "source": [
    "from sklearn.linear_model import LogisticRegression \n",
    "clust_lr = LogisticRegression().fit(common_cust[['rfm_clust_3m']], m6m_km.labels_)"
   ]
  },
  {
   "cell_type": "code",
   "execution_count": null,
   "metadata": {},
   "outputs": [],
   "source": [
    "clust_lr.score(common_cust[['rfm_clust_3m']], m6m_km.labels_)"
   ]
  }
 ],
 "metadata": {
  "kernelspec": {
   "display_name": "Python 3",
   "language": "python",
   "name": "python3"
  }
 },
 "nbformat": 4,
 "nbformat_minor": 2
}
