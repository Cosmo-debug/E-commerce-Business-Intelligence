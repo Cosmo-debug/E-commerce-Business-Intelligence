{
 "cells": [
  {
   "cell_type": "markdown",
   "metadata": {},
   "source": [
    "<h1 id=\"tocheading\">Table of Contents</h1>\n",
    "<div id=\"toc\"></div>"
   ]
  },
  {
   "cell_type": "code",
   "execution_count": null,
   "metadata": {},
   "outputs": [],
   "source": [
    "%%javascript\n",
    "$.getScript('https://kmahelona.github.io/ipython_notebook_goodies/ipython_notebook_toc.js')"
   ]
  },
  {
   "cell_type": "markdown",
   "metadata": {},
   "source": [
    "# Data Cleaning"
   ]
  },
  {
   "cell_type": "code",
   "execution_count": null,
   "metadata": {},
   "outputs": [],
   "source": [
    "import numpy as np\n",
    "import pandas as pd\n",
    "import matplotlib.pyplot as plt\n",
    "%matplotlib inline \n",
    "import warnings\n",
    "warnings.filterwarnings('ignore')\n",
    "from datetime import datetime, date\n",
    "from sklearn.cluster import KMeans"
   ]
  },
  {
   "cell_type": "markdown",
   "metadata": {},
   "source": [
    "## Order Dataset"
   ]
  },
  {
   "cell_type": "code",
   "execution_count": null,
   "metadata": {},
   "outputs": [],
   "source": [
    "order_df = pd.read_csv('olist_orders_dataset.csv')\n",
    "order_df.info()"
   ]
  },
  {
   "cell_type": "code",
   "execution_count": null,
   "metadata": {},
   "outputs": [],
   "source": [
    "order_df[order_df.duplicated()]"
   ]
  },
  {
   "cell_type": "code",
   "execution_count": null,
   "metadata": {
    "scrolled": true
   },
   "outputs": [],
   "source": [
    "order_df.drop(['order_status', 'order_delivered_carrier_date', 'order_approved_at'], axis='columns', inplace=True)\n",
    "for column in ['order_purchase_timestamp', 'order_delivered_customer_date', 'order_estimated_delivery_date']:\n",
    "    order_df[column] = pd.to_datetime(order_df[column])\n",
    "order_df.info()"
   ]
  },
  {
   "cell_type": "code",
   "execution_count": null,
   "metadata": {},
   "outputs": [],
   "source": [
    "order_df.head()"
   ]
  },
  {
   "cell_type": "markdown",
   "metadata": {},
   "source": [
    "## Payment Dataset"
   ]
  },
  {
   "cell_type": "code",
   "execution_count": null,
   "metadata": {},
   "outputs": [],
   "source": [
    "payment_df = pd.read_csv('olist_order_payments_dataset.csv')\n",
    "payment_df.info()"
   ]
  },
  {
   "cell_type": "code",
   "execution_count": null,
   "metadata": {},
   "outputs": [],
   "source": [
    "payment_df[payment_df.duplicated()]"
   ]
  },
  {
   "cell_type": "code",
   "execution_count": null,
   "metadata": {
    "scrolled": true
   },
   "outputs": [],
   "source": [
    "payment_df.head()"
   ]
  },
  {
   "cell_type": "code",
   "execution_count": null,
   "metadata": {
    "scrolled": false
   },
   "outputs": [],
   "source": [
    "payment_df.describe()"
   ]
  },
  {
   "cell_type": "code",
   "execution_count": null,
   "metadata": {},
   "outputs": [],
   "source": [
    "payment_df.nunique()"
   ]
  },
  {
   "cell_type": "markdown",
   "metadata": {},
   "source": [
    "## Customer Dataset"
   ]
  },
  {
   "cell_type": "code",
   "execution_count": null,
   "metadata": {
    "scrolled": false
   },
   "outputs": [],
   "source": [
    "customer_df = pd.read_csv('olist_customers_dataset.csv')\n",
    "customer_df.info()"
   ]
  },
  {
   "cell_type": "code",
   "execution_count": null,
   "metadata": {},
   "outputs": [],
   "source": [
    "customer_df[customer_df.duplicated()]"
   ]
  },
  {
   "cell_type": "code",
   "execution_count": null,
   "metadata": {},
   "outputs": [],
   "source": [
    "customer_df.drop(['customer_zip_code_prefix', 'customer_city'], axis='columns', inplace=True)\n",
    "customer_df.columns"
   ]
  },
  {
   "cell_type": "code",
   "execution_count": null,
   "metadata": {
    "scrolled": false
   },
   "outputs": [],
   "source": [
    "customer_df.nunique()"
   ]
  },
  {
   "cell_type": "code",
   "execution_count": null,
   "metadata": {
    "scrolled": false
   },
   "outputs": [],
   "source": [
    "customer_df.head()"
   ]
  },
  {
   "cell_type": "markdown",
   "metadata": {},
   "source": [
    "## Item Dataset"
   ]
  },
  {
   "cell_type": "code",
   "execution_count": null,
   "metadata": {},
   "outputs": [],
   "source": [
    "item_df = pd.read_csv('olist_order_items_dataset.csv')"
   ]
  },
  {
   "cell_type": "code",
   "execution_count": null,
   "metadata": {
    "scrolled": false
   },
   "outputs": [],
   "source": [
    "item_df.info()"
   ]
  },
  {
   "cell_type": "code",
   "execution_count": null,
   "metadata": {
    "scrolled": true
   },
   "outputs": [],
   "source": [
    "item_df[item_df.duplicated()]"
   ]
  },
  {
   "cell_type": "code",
   "execution_count": null,
   "metadata": {},
   "outputs": [],
   "source": [
    "item_df.drop(['seller_id',\n",
    "              'shipping_limit_date',\n",
    "              'price',\n",
    "              'freight_value'], axis='columns', inplace=True)\n",
    "item_df.columns"
   ]
  },
  {
   "cell_type": "code",
   "execution_count": null,
   "metadata": {},
   "outputs": [],
   "source": [
    "item_df.head()"
   ]
  },
  {
   "cell_type": "markdown",
   "metadata": {},
   "source": [
    "## Product Dataset"
   ]
  },
  {
   "cell_type": "code",
   "execution_count": null,
   "metadata": {},
   "outputs": [],
   "source": [
    "product_df = pd.read_csv('olist_products_dataset.csv')"
   ]
  },
  {
   "cell_type": "code",
   "execution_count": null,
   "metadata": {
    "scrolled": false
   },
   "outputs": [],
   "source": [
    "product_df.info()"
   ]
  },
  {
   "cell_type": "code",
   "execution_count": null,
   "metadata": {
    "scrolled": true
   },
   "outputs": [],
   "source": [
    "product_df[product_df.duplicated()]"
   ]
  },
  {
   "cell_type": "code",
   "execution_count": null,
   "metadata": {},
   "outputs": [],
   "source": [
    "product_df.drop(['product_name_lenght',\n",
    "                 'product_description_lenght', \n",
    "                 'product_photos_qty', \n",
    "                 'product_weight_g',\n",
    "                 'product_length_cm',\n",
    "                 'product_height_cm',\n",
    "                 'product_width_cm'], axis='columns', inplace=True)\n",
    "product_df.columns"
   ]
  },
  {
   "cell_type": "code",
   "execution_count": null,
   "metadata": {
    "scrolled": true
   },
   "outputs": [],
   "source": [
    "product_df.fillna('other', inplace=True)\n",
    "product_df.info()"
   ]
  },
  {
   "cell_type": "code",
   "execution_count": null,
   "metadata": {
    "scrolled": false
   },
   "outputs": [],
   "source": [
    "product_df.head()"
   ]
  },
  {
   "cell_type": "code",
   "execution_count": null,
   "metadata": {},
   "outputs": [],
   "source": [
    "product_df.product_category_name.nunique()"
   ]
  },
  {
   "cell_type": "markdown",
   "metadata": {},
   "source": [
    "## Translation Dataset"
   ]
  },
  {
   "cell_type": "code",
   "execution_count": null,
   "metadata": {},
   "outputs": [],
   "source": [
    "translation_df = pd.read_csv('product_category_name_translation.csv')\n",
    "translation_df.info()\n",
    "translation_df.head()"
   ]
  },
  {
   "cell_type": "markdown",
   "metadata": {},
   "source": [
    "## Review Dataset"
   ]
  },
  {
   "cell_type": "code",
   "execution_count": null,
   "metadata": {
    "scrolled": true
   },
   "outputs": [],
   "source": [
    "review_df = pd.read_csv('olist_order_reviews_dataset.csv')\n",
    "review_df.info()"
   ]
  },
  {
   "cell_type": "code",
   "execution_count": null,
   "metadata": {},
   "outputs": [],
   "source": [
    "review_df[review_df.duplicated()]"
   ]
  },
  {
   "cell_type": "code",
   "execution_count": null,
   "metadata": {},
   "outputs": [],
   "source": [
    "review_df.drop(['review_creation_date', 'review_answer_timestamp'], axis='columns', inplace=True)\n",
    "review_df.columns"
   ]
  },
  {
   "cell_type": "code",
   "execution_count": null,
   "metadata": {
    "scrolled": false
   },
   "outputs": [],
   "source": [
    "for columns in ['review_comment_title', 'review_comment_message']:\n",
    "    # replace present values with 1\n",
    "    review_df.loc[review_df[columns].notnull(), columns] = 1\n",
    "    # replace null values with 0\n",
    "    review_df.loc[review_df[columns].isna(), columns] = 0\n",
    "review_df.info()"
   ]
  },
  {
   "cell_type": "code",
   "execution_count": null,
   "metadata": {
    "scrolled": true
   },
   "outputs": [],
   "source": [
    "review_df.head()"
   ]
  },
  {
   "cell_type": "code",
   "execution_count": null,
   "metadata": {},
   "outputs": [],
   "source": [
    "review_df.nunique()"
   ]
  },
  {
   "cell_type": "markdown",
   "metadata": {},
   "source": [
    "# Exploratory Data Analytics with Raw Data"
   ]
  },
  {
   "cell_type": "code",
   "execution_count": null,
   "metadata": {
    "scrolled": true
   },
   "outputs": [],
   "source": [
    "plt.bar(payment_df.groupby('payment_type').sum().index, \n",
    "        payment_df.groupby('payment_type').sum()['payment_value']/payment_df.groupby('payment_type').count()['payment_value']);"
   ]
  },
  {
   "cell_type": "code",
   "execution_count": null,
   "metadata": {
    "scrolled": true
   },
   "outputs": [],
   "source": [
    "plt.scatter(payment_df.payment_installments, payment_df.payment_value);"
   ]
  },
  {
   "cell_type": "code",
   "execution_count": null,
   "metadata": {},
   "outputs": [],
   "source": [
    "plt.hist(review_df.review_score);"
   ]
  },
  {
   "cell_type": "code",
   "execution_count": null,
   "metadata": {
    "scrolled": true
   },
   "outputs": [],
   "source": [
    "df = pd.merge(payment_df, order_df, how='left', on='order_id')\n",
    "df.head()"
   ]
  },
  {
   "cell_type": "code",
   "execution_count": null,
   "metadata": {
    "scrolled": false
   },
   "outputs": [],
   "source": [
    "df = pd.merge(df, customer_df, how='left', on='customer_id')\n",
    "df.head()"
   ]
  },
  {
   "cell_type": "code",
   "execution_count": null,
   "metadata": {},
   "outputs": [],
   "source": [
    "state_pay_series = df.groupby('customer_state').sum()['payment_value']/df.groupby('customer_state').count()['payment_value']\n",
    "state_pay_series.sort_values(inplace=True, ascending=False)\n",
    "plt.bar(state_pay_series.index, state_pay_series);"
   ]
  },
  {
   "cell_type": "code",
   "execution_count": null,
   "metadata": {
    "scrolled": true
   },
   "outputs": [],
   "source": [
    "df = pd.merge(df, item_df, how='right', on='order_id')\n",
    "df.info()"
   ]
  },
  {
   "cell_type": "code",
   "execution_count": null,
   "metadata": {
    "scrolled": true
   },
   "outputs": [],
   "source": [
    "df = pd.merge(df, product_df, how='left', on='product_id')\n",
    "df.head()"
   ]
  },
  {
   "cell_type": "code",
   "execution_count": null,
   "metadata": {},
   "outputs": [],
   "source": [
    "#df = pd.merge(df, translation_df, how='left', on='product_category_name')\n",
    "#df.drop('product_category_name', axis='columns', inplace=True)\n",
    "#df.head()"
   ]
  },
  {
   "cell_type": "code",
   "execution_count": null,
   "metadata": {
    "scrolled": false
   },
   "outputs": [],
   "source": [
    "payment_by_category = df.groupby('product_category_name')['payment_value'].sum()\n",
    "payment_by_category.sort_values(ascending=False, inplace=True)\n",
    "plt.figure(figsize=(12,20))\n",
    "plt.barh(payment_by_category.index, payment_by_category)"
   ]
  },
  {
   "cell_type": "code",
   "execution_count": null,
   "metadata": {},
   "outputs": [],
   "source": [
    "df = pd.merge(df, review_df, how='right', on='order_id')\n",
    "df.head()"
   ]
  },
  {
   "cell_type": "markdown",
   "metadata": {},
   "source": [
    "# Feature Engineering"
   ]
  },
  {
   "cell_type": "code",
   "execution_count": null,
   "metadata": {},
   "outputs": [],
   "source": [
    "df['purchase_date'] = df['order_purchase_timestamp'].dt.date\n",
    "df['delay'] = (df.order_delivered_customer_date - df.order_estimated_delivery_date).dt.days\n",
    "df.drop(['order_purchase_timestamp', 'order_delivered_customer_date', 'order_estimated_delivery_date'], axis='columns', inplace=True)\n",
    "df.head()"
   ]
  },
  {
   "cell_type": "code",
   "execution_count": null,
   "metadata": {
    "scrolled": false
   },
   "outputs": [],
   "source": [
    "plt.hist(df.delay, bins=50);"
   ]
  },
  {
   "cell_type": "code",
   "execution_count": null,
   "metadata": {
    "scrolled": false
   },
   "outputs": [],
   "source": [
    "plt.scatter(df.purchase_date, df.delay);"
   ]
  },
  {
   "cell_type": "code",
   "execution_count": null,
   "metadata": {
    "scrolled": false
   },
   "outputs": [],
   "source": [
    "df1 = df[(date(2016,10,1) <= df.purchase_date) & (df.purchase_date < date(2017,10,1))]\n",
    "df2 = df[(date(2017,10,1) <= df.purchase_date) & (df.purchase_date < date(2018,10,1))]"
   ]
  },
  {
   "cell_type": "markdown",
   "metadata": {},
   "source": [
    "# Exploratory Data Analytics"
   ]
  },
  {
   "cell_type": "code",
   "execution_count": null,
   "metadata": {},
   "outputs": [],
   "source": [
    "df1.head()"
   ]
  },
  {
   "cell_type": "code",
   "execution_count": null,
   "metadata": {},
   "outputs": [],
   "source": [
    "feature_df = df1.groupby('customer_unique_id').agg({'purchase_date': 'max', \n",
    "                                                    'order_id': 'count',\n",
    "                                                    'payment_value': 'sum',\n",
    "                                                    'delay': 'mean',\n",
    "                                                    'payment_installments': 'mean',\n",
    "                                                    'review_score': 'mean',\n",
    "                                                    'review_comment_title': 'mean',\n",
    "                                                    'review_comment_message': 'mean'})\n",
    "feature_df.columns = ['recency', 'frequency', 'monetary', 'delay', 'installments', 'review_score', 'comment_title', 'comment_message']\n",
    "feature_df"
   ]
  },
  {
   "cell_type": "code",
   "execution_count": null,
   "metadata": {
    "scrolled": true
   },
   "outputs": [],
   "source": [
    "type_series = df1.groupby('customer_unique_id')['payment_type'].agg(lambda x:x.value_counts().index[0])\n",
    "type_series"
   ]
  },
  {
   "cell_type": "code",
   "execution_count": null,
   "metadata": {},
   "outputs": [],
   "source": [
    "df1 = pd.merge(df1, type_series, left_on='customer_unique_id', right_index=True)\n",
    "df1"
   ]
  },
  {
   "cell_type": "code",
   "execution_count": null,
   "metadata": {
    "scrolled": true
   },
   "outputs": [],
   "source": [
    "df1.info()"
   ]
  },
  {
   "cell_type": "code",
   "execution_count": 56,
   "metadata": {},
   "outputs": [
    {
     "data": {
      "text/plain": [
       "customer_unique_id\n",
       "0000f46a3911fa3c0805444483337064                      papelaria\n",
       "0005e1862207bf6ccc02e4228effd9a0    fashion_bolsas_e_acessorios\n",
       "0006fdc98a402fceb4eb0ee528f6a8d4                cama_mesa_banho\n",
       "000a5ad9c4601d2bbdd9ed765d5213b3                   beleza_saude\n",
       "000bfa1d2f1a41876493be685390d6d3    fashion_bolsas_e_acessorios\n",
       "                                               ...             \n",
       "fff3a9369e4b7102fab406a334a678c3               malas_acessorios\n",
       "fff699c184bcc967d62fa2c6171765f7                 consoles_games\n",
       "fffcf5a5ff07b0908bd4e2dbc735a684                   beleza_saude\n",
       "ffff371b4d645b6ecea244b27531430a                     automotivo\n",
       "ffffd2657e2aad2907e67c3e9daecbeb                     perfumaria\n",
       "Name: product_category_name, Length: 26455, dtype: object"
      ]
     },
     "execution_count": 56,
     "metadata": {},
     "output_type": "execute_result"
    }
   ],
   "source": [
    "category_series = df1.groupby('customer_unique_id')['product_category_name'].agg(lambda x:x.value_counts().index[0])\n",
    "category_series"
   ]
  },
  {
   "cell_type": "code",
   "execution_count": 57,
   "metadata": {},
   "outputs": [
    {
     "data": {
      "text/html": [
       "<div>\n",
       "<style scoped>\n",
       "    .dataframe tbody tr th:only-of-type {\n",
       "        vertical-align: middle;\n",
       "    }\n",
       "\n",
       "    .dataframe tbody tr th {\n",
       "        vertical-align: top;\n",
       "    }\n",
       "\n",
       "    .dataframe thead th {\n",
       "        text-align: right;\n",
       "    }\n",
       "</style>\n",
       "<table border=\"1\" class=\"dataframe\">\n",
       "  <thead>\n",
       "    <tr style=\"text-align: right;\">\n",
       "      <th></th>\n",
       "      <th>order_id</th>\n",
       "      <th>payment_sequential</th>\n",
       "      <th>payment_type_x</th>\n",
       "      <th>payment_installments</th>\n",
       "      <th>payment_value</th>\n",
       "      <th>customer_id</th>\n",
       "      <th>customer_unique_id</th>\n",
       "      <th>customer_state</th>\n",
       "      <th>order_item_id</th>\n",
       "      <th>product_id</th>\n",
       "      <th>product_category_name_x</th>\n",
       "      <th>review_id</th>\n",
       "      <th>review_score</th>\n",
       "      <th>review_comment_title</th>\n",
       "      <th>review_comment_message</th>\n",
       "      <th>purchase_date</th>\n",
       "      <th>delay</th>\n",
       "      <th>payment_type_y</th>\n",
       "      <th>product_category_name_y</th>\n",
       "    </tr>\n",
       "  </thead>\n",
       "  <tbody>\n",
       "    <tr>\n",
       "      <td>8</td>\n",
       "      <td>771ee386b001f06208a7419e4fc1bbd7</td>\n",
       "      <td>1.0</td>\n",
       "      <td>credit_card</td>\n",
       "      <td>1.0</td>\n",
       "      <td>81.16</td>\n",
       "      <td>206c0fcc717333d169ff95933fb47341</td>\n",
       "      <td>9a3526eee723accd014ec683afe5bf20</td>\n",
       "      <td>MG</td>\n",
       "      <td>1.0</td>\n",
       "      <td>42a2c92a0979a949ca4ea89ec5c7b934</td>\n",
       "      <td>utilidades_domesticas</td>\n",
       "      <td>35f54313f077af011b5e3a8f0dafb9d7</td>\n",
       "      <td>5</td>\n",
       "      <td>0</td>\n",
       "      <td>1</td>\n",
       "      <td>2017-06-23</td>\n",
       "      <td>-14.0</td>\n",
       "      <td>credit_card</td>\n",
       "      <td>utilidades_domesticas</td>\n",
       "    </tr>\n",
       "    <tr>\n",
       "      <td>9</td>\n",
       "      <td>3d7239c394a212faae122962df514ac7</td>\n",
       "      <td>1.0</td>\n",
       "      <td>credit_card</td>\n",
       "      <td>3.0</td>\n",
       "      <td>51.84</td>\n",
       "      <td>4d7a9b8bba459dce09d1b8fa637a0cba</td>\n",
       "      <td>9db67268a3fee1d4b13faaeb90af07c0</td>\n",
       "      <td>SP</td>\n",
       "      <td>1.0</td>\n",
       "      <td>92e16cf2fab490ab9ae87a305d5f8f7f</td>\n",
       "      <td>perfumaria</td>\n",
       "      <td>1e23005084e0ca486cb6be7f343ab1ef</td>\n",
       "      <td>4</td>\n",
       "      <td>0</td>\n",
       "      <td>0</td>\n",
       "      <td>2017-06-05</td>\n",
       "      <td>-3.0</td>\n",
       "      <td>credit_card</td>\n",
       "      <td>perfumaria</td>\n",
       "    </tr>\n",
       "    <tr>\n",
       "      <td>11</td>\n",
       "      <td>0573b5e23cbd798006520e1d5b4c6714</td>\n",
       "      <td>1.0</td>\n",
       "      <td>boleto</td>\n",
       "      <td>1.0</td>\n",
       "      <td>51.95</td>\n",
       "      <td>c4e17eff78176dfe3401f03db0346f85</td>\n",
       "      <td>511c345b0383af6ef25406c564e4d6b6</td>\n",
       "      <td>SP</td>\n",
       "      <td>1.0</td>\n",
       "      <td>5299e0a0336b5839e2a0ccb0d3d589d1</td>\n",
       "      <td>artes</td>\n",
       "      <td>327425bbda502d806f410c544b730a23</td>\n",
       "      <td>4</td>\n",
       "      <td>0</td>\n",
       "      <td>1</td>\n",
       "      <td>2017-07-04</td>\n",
       "      <td>-13.0</td>\n",
       "      <td>boleto</td>\n",
       "      <td>artes</td>\n",
       "    </tr>\n",
       "    <tr>\n",
       "      <td>17</td>\n",
       "      <td>cf95215a722f3ebf29e6bbab87a29e61</td>\n",
       "      <td>1.0</td>\n",
       "      <td>credit_card</td>\n",
       "      <td>5.0</td>\n",
       "      <td>102.66</td>\n",
       "      <td>e2a8d07201639004b090670ce5efe355</td>\n",
       "      <td>ec103b892f579de25189dda196a4c5b3</td>\n",
       "      <td>MG</td>\n",
       "      <td>1.0</td>\n",
       "      <td>57d2fa6882b789ad55e86074398826c4</td>\n",
       "      <td>perfumaria</td>\n",
       "      <td>a49bf122101cc876bb5cdf5d1dfca33c</td>\n",
       "      <td>5</td>\n",
       "      <td>0</td>\n",
       "      <td>1</td>\n",
       "      <td>2017-08-25</td>\n",
       "      <td>-11.0</td>\n",
       "      <td>credit_card</td>\n",
       "      <td>perfumaria</td>\n",
       "    </tr>\n",
       "    <tr>\n",
       "      <td>18</td>\n",
       "      <td>769214176682788a92801d8907fa1b40</td>\n",
       "      <td>1.0</td>\n",
       "      <td>credit_card</td>\n",
       "      <td>4.0</td>\n",
       "      <td>105.28</td>\n",
       "      <td>2b01b5fb8141bbb9fcdc853a0e26da83</td>\n",
       "      <td>9b61cfcf9bc923fed1c1c8d38fab5a1c</td>\n",
       "      <td>ES</td>\n",
       "      <td>1.0</td>\n",
       "      <td>99a4788cb24856965c36a24e339b6058</td>\n",
       "      <td>cama_mesa_banho</td>\n",
       "      <td>b438431e04ae1ad0cb7ef798fb609742</td>\n",
       "      <td>5</td>\n",
       "      <td>0</td>\n",
       "      <td>0</td>\n",
       "      <td>2017-06-29</td>\n",
       "      <td>-5.0</td>\n",
       "      <td>credit_card</td>\n",
       "      <td>cama_mesa_banho</td>\n",
       "    </tr>\n",
       "    <tr>\n",
       "      <td>...</td>\n",
       "      <td>...</td>\n",
       "      <td>...</td>\n",
       "      <td>...</td>\n",
       "      <td>...</td>\n",
       "      <td>...</td>\n",
       "      <td>...</td>\n",
       "      <td>...</td>\n",
       "      <td>...</td>\n",
       "      <td>...</td>\n",
       "      <td>...</td>\n",
       "      <td>...</td>\n",
       "      <td>...</td>\n",
       "      <td>...</td>\n",
       "      <td>...</td>\n",
       "      <td>...</td>\n",
       "      <td>...</td>\n",
       "      <td>...</td>\n",
       "      <td>...</td>\n",
       "      <td>...</td>\n",
       "    </tr>\n",
       "    <tr>\n",
       "      <td>118293</td>\n",
       "      <td>807f4ef550f104708e2190eca7e4c37a</td>\n",
       "      <td>1.0</td>\n",
       "      <td>credit_card</td>\n",
       "      <td>3.0</td>\n",
       "      <td>205.71</td>\n",
       "      <td>993f60535be5935dba6ea0fd2e71c092</td>\n",
       "      <td>3146229460ce28f41121b47929b046b0</td>\n",
       "      <td>MA</td>\n",
       "      <td>1.0</td>\n",
       "      <td>7afa8c8eca2a26b599823eed4975a820</td>\n",
       "      <td>utilidades_domesticas</td>\n",
       "      <td>fcfdc4552257b85fd2a7c20182a61a7c</td>\n",
       "      <td>5</td>\n",
       "      <td>0</td>\n",
       "      <td>1</td>\n",
       "      <td>2017-02-17</td>\n",
       "      <td>-22.0</td>\n",
       "      <td>credit_card</td>\n",
       "      <td>utilidades_domesticas</td>\n",
       "    </tr>\n",
       "    <tr>\n",
       "      <td>118294</td>\n",
       "      <td>4b186efcda6f283e9c4a71332f6d3ad0</td>\n",
       "      <td>1.0</td>\n",
       "      <td>credit_card</td>\n",
       "      <td>1.0</td>\n",
       "      <td>57.51</td>\n",
       "      <td>cb58cd7d199d31c8320261119c8eca20</td>\n",
       "      <td>8247de12f35a00cf569c5b6a00a746ec</td>\n",
       "      <td>PR</td>\n",
       "      <td>1.0</td>\n",
       "      <td>7926af7d3e25dce27c3eee0279afb530</td>\n",
       "      <td>pet_shop</td>\n",
       "      <td>e82392dcd96a4ac41981eddcc6df5611</td>\n",
       "      <td>3</td>\n",
       "      <td>0</td>\n",
       "      <td>0</td>\n",
       "      <td>2017-04-07</td>\n",
       "      <td>-15.0</td>\n",
       "      <td>credit_card</td>\n",
       "      <td>pet_shop</td>\n",
       "    </tr>\n",
       "    <tr>\n",
       "      <td>118295</td>\n",
       "      <td>c11717d999ffc510a6441df946f0a94d</td>\n",
       "      <td>1.0</td>\n",
       "      <td>credit_card</td>\n",
       "      <td>9.0</td>\n",
       "      <td>96.90</td>\n",
       "      <td>f04581c79df64e4152c87007e29da2f4</td>\n",
       "      <td>b388a93f3fdda4dc124231dfb9bd06d3</td>\n",
       "      <td>PR</td>\n",
       "      <td>1.0</td>\n",
       "      <td>cd2c03056720c7de4d6a59c1167bdee0</td>\n",
       "      <td>fashion_bolsas_e_acessorios</td>\n",
       "      <td>80efb32ebbe7c60ad3e8d4a13f573712</td>\n",
       "      <td>5</td>\n",
       "      <td>0</td>\n",
       "      <td>1</td>\n",
       "      <td>2017-05-19</td>\n",
       "      <td>-8.0</td>\n",
       "      <td>credit_card</td>\n",
       "      <td>fashion_bolsas_e_acessorios</td>\n",
       "    </tr>\n",
       "    <tr>\n",
       "      <td>118297</td>\n",
       "      <td>387c2c33e495538e94878a500bf8e6d5</td>\n",
       "      <td>1.0</td>\n",
       "      <td>credit_card</td>\n",
       "      <td>1.0</td>\n",
       "      <td>87.58</td>\n",
       "      <td>27f7d35941527e3ab4db13c6fe2a5e77</td>\n",
       "      <td>d8ce0e44ece69672d6bb5dafabb21aa5</td>\n",
       "      <td>RJ</td>\n",
       "      <td>1.0</td>\n",
       "      <td>6a0713a63e990052795623e76cc2995e</td>\n",
       "      <td>cama_mesa_banho</td>\n",
       "      <td>ee9210128e9071190196956a76fba623</td>\n",
       "      <td>1</td>\n",
       "      <td>0</td>\n",
       "      <td>1</td>\n",
       "      <td>2017-04-22</td>\n",
       "      <td>-20.0</td>\n",
       "      <td>credit_card</td>\n",
       "      <td>cama_mesa_banho</td>\n",
       "    </tr>\n",
       "    <tr>\n",
       "      <td>118306</td>\n",
       "      <td>0872d0faafe0cb56e6f2c594cca1522c</td>\n",
       "      <td>1.0</td>\n",
       "      <td>credit_card</td>\n",
       "      <td>2.0</td>\n",
       "      <td>127.92</td>\n",
       "      <td>dd2f0d64271438f6ad3a75d2a930a4b5</td>\n",
       "      <td>4a57b2a3676de278e26a50b7e60214e6</td>\n",
       "      <td>MG</td>\n",
       "      <td>1.0</td>\n",
       "      <td>fb783e3e545937820b57fe539b2c5a6c</td>\n",
       "      <td>cama_mesa_banho</td>\n",
       "      <td>21224bd6338538b8ad1ee3a5f2b3c527</td>\n",
       "      <td>5</td>\n",
       "      <td>0</td>\n",
       "      <td>1</td>\n",
       "      <td>2017-09-26</td>\n",
       "      <td>-20.0</td>\n",
       "      <td>credit_card</td>\n",
       "      <td>cama_mesa_banho</td>\n",
       "    </tr>\n",
       "  </tbody>\n",
       "</table>\n",
       "<p>33063 rows × 19 columns</p>\n",
       "</div>"
      ],
      "text/plain": [
       "                                order_id  payment_sequential payment_type_x  \\\n",
       "8       771ee386b001f06208a7419e4fc1bbd7                 1.0    credit_card   \n",
       "9       3d7239c394a212faae122962df514ac7                 1.0    credit_card   \n",
       "11      0573b5e23cbd798006520e1d5b4c6714                 1.0         boleto   \n",
       "17      cf95215a722f3ebf29e6bbab87a29e61                 1.0    credit_card   \n",
       "18      769214176682788a92801d8907fa1b40                 1.0    credit_card   \n",
       "...                                  ...                 ...            ...   \n",
       "118293  807f4ef550f104708e2190eca7e4c37a                 1.0    credit_card   \n",
       "118294  4b186efcda6f283e9c4a71332f6d3ad0                 1.0    credit_card   \n",
       "118295  c11717d999ffc510a6441df946f0a94d                 1.0    credit_card   \n",
       "118297  387c2c33e495538e94878a500bf8e6d5                 1.0    credit_card   \n",
       "118306  0872d0faafe0cb56e6f2c594cca1522c                 1.0    credit_card   \n",
       "\n",
       "        payment_installments  payment_value                       customer_id  \\\n",
       "8                        1.0          81.16  206c0fcc717333d169ff95933fb47341   \n",
       "9                        3.0          51.84  4d7a9b8bba459dce09d1b8fa637a0cba   \n",
       "11                       1.0          51.95  c4e17eff78176dfe3401f03db0346f85   \n",
       "17                       5.0         102.66  e2a8d07201639004b090670ce5efe355   \n",
       "18                       4.0         105.28  2b01b5fb8141bbb9fcdc853a0e26da83   \n",
       "...                      ...            ...                               ...   \n",
       "118293                   3.0         205.71  993f60535be5935dba6ea0fd2e71c092   \n",
       "118294                   1.0          57.51  cb58cd7d199d31c8320261119c8eca20   \n",
       "118295                   9.0          96.90  f04581c79df64e4152c87007e29da2f4   \n",
       "118297                   1.0          87.58  27f7d35941527e3ab4db13c6fe2a5e77   \n",
       "118306                   2.0         127.92  dd2f0d64271438f6ad3a75d2a930a4b5   \n",
       "\n",
       "                      customer_unique_id customer_state  order_item_id  \\\n",
       "8       9a3526eee723accd014ec683afe5bf20             MG            1.0   \n",
       "9       9db67268a3fee1d4b13faaeb90af07c0             SP            1.0   \n",
       "11      511c345b0383af6ef25406c564e4d6b6             SP            1.0   \n",
       "17      ec103b892f579de25189dda196a4c5b3             MG            1.0   \n",
       "18      9b61cfcf9bc923fed1c1c8d38fab5a1c             ES            1.0   \n",
       "...                                  ...            ...            ...   \n",
       "118293  3146229460ce28f41121b47929b046b0             MA            1.0   \n",
       "118294  8247de12f35a00cf569c5b6a00a746ec             PR            1.0   \n",
       "118295  b388a93f3fdda4dc124231dfb9bd06d3             PR            1.0   \n",
       "118297  d8ce0e44ece69672d6bb5dafabb21aa5             RJ            1.0   \n",
       "118306  4a57b2a3676de278e26a50b7e60214e6             MG            1.0   \n",
       "\n",
       "                              product_id      product_category_name_x  \\\n",
       "8       42a2c92a0979a949ca4ea89ec5c7b934        utilidades_domesticas   \n",
       "9       92e16cf2fab490ab9ae87a305d5f8f7f                   perfumaria   \n",
       "11      5299e0a0336b5839e2a0ccb0d3d589d1                        artes   \n",
       "17      57d2fa6882b789ad55e86074398826c4                   perfumaria   \n",
       "18      99a4788cb24856965c36a24e339b6058              cama_mesa_banho   \n",
       "...                                  ...                          ...   \n",
       "118293  7afa8c8eca2a26b599823eed4975a820        utilidades_domesticas   \n",
       "118294  7926af7d3e25dce27c3eee0279afb530                     pet_shop   \n",
       "118295  cd2c03056720c7de4d6a59c1167bdee0  fashion_bolsas_e_acessorios   \n",
       "118297  6a0713a63e990052795623e76cc2995e              cama_mesa_banho   \n",
       "118306  fb783e3e545937820b57fe539b2c5a6c              cama_mesa_banho   \n",
       "\n",
       "                               review_id  review_score  review_comment_title  \\\n",
       "8       35f54313f077af011b5e3a8f0dafb9d7             5                     0   \n",
       "9       1e23005084e0ca486cb6be7f343ab1ef             4                     0   \n",
       "11      327425bbda502d806f410c544b730a23             4                     0   \n",
       "17      a49bf122101cc876bb5cdf5d1dfca33c             5                     0   \n",
       "18      b438431e04ae1ad0cb7ef798fb609742             5                     0   \n",
       "...                                  ...           ...                   ...   \n",
       "118293  fcfdc4552257b85fd2a7c20182a61a7c             5                     0   \n",
       "118294  e82392dcd96a4ac41981eddcc6df5611             3                     0   \n",
       "118295  80efb32ebbe7c60ad3e8d4a13f573712             5                     0   \n",
       "118297  ee9210128e9071190196956a76fba623             1                     0   \n",
       "118306  21224bd6338538b8ad1ee3a5f2b3c527             5                     0   \n",
       "\n",
       "        review_comment_message purchase_date  delay payment_type_y  \\\n",
       "8                            1    2017-06-23  -14.0    credit_card   \n",
       "9                            0    2017-06-05   -3.0    credit_card   \n",
       "11                           1    2017-07-04  -13.0         boleto   \n",
       "17                           1    2017-08-25  -11.0    credit_card   \n",
       "18                           0    2017-06-29   -5.0    credit_card   \n",
       "...                        ...           ...    ...            ...   \n",
       "118293                       1    2017-02-17  -22.0    credit_card   \n",
       "118294                       0    2017-04-07  -15.0    credit_card   \n",
       "118295                       1    2017-05-19   -8.0    credit_card   \n",
       "118297                       1    2017-04-22  -20.0    credit_card   \n",
       "118306                       1    2017-09-26  -20.0    credit_card   \n",
       "\n",
       "            product_category_name_y  \n",
       "8             utilidades_domesticas  \n",
       "9                        perfumaria  \n",
       "11                            artes  \n",
       "17                       perfumaria  \n",
       "18                  cama_mesa_banho  \n",
       "...                             ...  \n",
       "118293        utilidades_domesticas  \n",
       "118294                     pet_shop  \n",
       "118295  fashion_bolsas_e_acessorios  \n",
       "118297              cama_mesa_banho  \n",
       "118306              cama_mesa_banho  \n",
       "\n",
       "[33063 rows x 19 columns]"
      ]
     },
     "execution_count": 57,
     "metadata": {},
     "output_type": "execute_result"
    }
   ],
   "source": [
    "df1 = pd.merge(df1, category_series, left_on='customer_unique_id', right_index=True)\n",
    "df1"
   ]
  },
  {
   "cell_type": "code",
   "execution_count": null,
   "metadata": {},
   "outputs": [],
   "source": [
    "customer_df1 = customer_df.set_index('customer_unique_id')['customer_state']\n",
    "customer_df1"
   ]
  },
  {
   "cell_type": "code",
   "execution_count": null,
   "metadata": {
    "scrolled": false
   },
   "outputs": [],
   "source": [
    "df1 = pd.merge(df1, customer_df[['customer_unique_id', 'customer_state']], how='left', on='customer_unique_id')\n",
    "df1"
   ]
  },
  {
   "cell_type": "code",
   "execution_count": null,
   "metadata": {},
   "outputs": [],
   "source": [
    "df1 = pd.merge(df1, customer_df.set_index('customer_unique_id')['customer_state'], left_on='customer_unique_id', right_index=True)\n",
    "df1"
   ]
  },
  {
   "cell_type": "code",
   "execution_count": null,
   "metadata": {},
   "outputs": [],
   "source": [
    "df1 = pd.get_dummies(df1)\n",
    "df1"
   ]
  },
  {
   "cell_type": "code",
   "execution_count": null,
   "metadata": {
    "scrolled": true
   },
   "outputs": [],
   "source": [
    "df2 = poc2_df.groupby('customer_unique_id').agg({'payment_value':'sum'})\n",
    "df2"
   ]
  },
  {
   "cell_type": "code",
   "execution_count": null,
   "metadata": {
    "scrolled": true
   },
   "outputs": [],
   "source": [
    "common_cust = pd.merge(df1, df2, on='customer_unique_id')\n",
    "common_cust.info()\n",
    "common_cust.head()"
   ]
  },
  {
   "cell_type": "code",
   "execution_count": null,
   "metadata": {
    "scrolled": false
   },
   "outputs": [],
   "source": [
    "plt.scatter(common_cust.review_score, common_cust.payment_value)"
   ]
  },
  {
   "cell_type": "code",
   "execution_count": null,
   "metadata": {},
   "outputs": [],
   "source": [
    "plt.scatter(common_cust.payment_installments, common_cust.payment_value)"
   ]
  },
  {
   "cell_type": "code",
   "execution_count": null,
   "metadata": {
    "scrolled": true
   },
   "outputs": [],
   "source": [
    "plt.scatter(common_cust.delay, common_cust.payment_value)"
   ]
  },
  {
   "cell_type": "code",
   "execution_count": null,
   "metadata": {},
   "outputs": [],
   "source": [
    "boleto_series = common_cust.loc[common_cust.payment_type_boleto==1, 'payment_value']\n",
    "credit_series = common_cust.loc[common_cust.payment_type_credit_card==1, 'payment_value']\n",
    "debit_series = common_cust.loc[common_cust.payment_type_debit_card==1, 'payment_value']\n",
    "voucher_series = common_cust.loc[common_cust.payment_type_voucher==1, 'payment_value']\n",
    "\n",
    "type_dict = {}\n",
    "type_dict['boleto'] = boleto_series.sum()/boleto_series.count()\n",
    "type_dict['credit'] = credit_series.sum()/credit_series.count()\n",
    "type_dict['debit'] = debit_series.sum()/debit_series.count()\n",
    "type_dict['voucher'] = voucher_series.sum()/voucher_series.count()\n",
    "\n",
    "type_dict"
   ]
  },
  {
   "cell_type": "code",
   "execution_count": null,
   "metadata": {},
   "outputs": [],
   "source": [
    "X = common_cust.iloc[:,:-1]\n",
    "y = common_cust.iloc[:,-1]\n",
    "\n",
    "from sklearn.model_selection import train_test_split\n",
    "X_train, X_test, y_train, y_test = train_test_split(X, y, test_size=0.25, random_state=42)\n",
    "\n",
    "# logistic regression \n",
    "from sklearn.linear_model import LinearRegression\n",
    "lr = LinearRegression()\n",
    "lr.fit(X_train, y_train)\n",
    "print('Train Accuracy: ', lr.score(X_train, y_train))\n",
    "print('Test Accuracy: ', lr.score(X_test, y_test))\n",
    "\n",
    "from sklearn.model_selection import cross_val_score\n",
    "print('CV Score:', np.mean(cross_val_score(lr, X_train, y_train, cv = 5)))"
   ]
  },
  {
   "cell_type": "code",
   "execution_count": null,
   "metadata": {
    "scrolled": true
   },
   "outputs": [],
   "source": [
    "rfm1_df = poc1_df.groupby('customer_unique_id').agg({'purchase_date':'max', 'order_id':'count', 'payment_value':'sum'})\n",
    "rfm1_df.columns = ['recency', 'frequency', 'monetary']\n",
    "rfm1_df"
   ]
  },
  {
   "cell_type": "code",
   "execution_count": null,
   "metadata": {
    "scrolled": true
   },
   "outputs": [],
   "source": [
    "rfm1_df.recency = rfm1_df.recency.apply(lambda x: (poc1_df.purchase_date.max()-x).days)\n",
    "rfm1_df"
   ]
  },
  {
   "cell_type": "code",
   "execution_count": null,
   "metadata": {},
   "outputs": [],
   "source": [
    "#rfm1_df = pd.read_csv('rfm3m.csv', index_col=0)"
   ]
  },
  {
   "cell_type": "code",
   "execution_count": null,
   "metadata": {},
   "outputs": [],
   "source": [
    "from sklearn.preprocessing import StandardScaler\n",
    "scaler = StandardScaler()\n",
    "scaler.fit(rfm1_df)\n",
    "X_scaled = scaler.transform(rfm1_df)\n",
    "rfm1_km = KMeans(n_clusters=4).fit(X_scaled)"
   ]
  },
  {
   "cell_type": "code",
   "execution_count": null,
   "metadata": {
    "scrolled": true
   },
   "outputs": [],
   "source": [
    "plt.scatter(rfm1_df.recency, rfm1_df.monetary, c=rfm1_km.labels_)"
   ]
  },
  {
   "cell_type": "code",
   "execution_count": null,
   "metadata": {
    "scrolled": true
   },
   "outputs": [],
   "source": [
    "plt.scatter(rfm1_df.frequency, rfm1_df.monetary, c=rfm1_km.labels_)"
   ]
  },
  {
   "cell_type": "code",
   "execution_count": null,
   "metadata": {
    "scrolled": true
   },
   "outputs": [],
   "source": [
    "rfm2_df = poc2_df.groupby('customer_unique_id').agg({'purchase_date':'max', 'order_id':'count', 'payment_value':'sum'})\n",
    "rfm2_df.columns = ['recency', 'frequency', 'monetary']\n",
    "rfm2_df"
   ]
  },
  {
   "cell_type": "code",
   "execution_count": null,
   "metadata": {
    "scrolled": false
   },
   "outputs": [],
   "source": [
    "m2 = rfm2_df[['monetary']]"
   ]
  },
  {
   "cell_type": "code",
   "execution_count": null,
   "metadata": {},
   "outputs": [],
   "source": [
    "clust1_df = pd.DataFrame()\n",
    "clust1_df['customer_unique_id'] = rfm1_df.index\n",
    "clust1_df['segment'] = rfm1_km.labels_\n",
    "clust1_df"
   ]
  },
  {
   "cell_type": "code",
   "execution_count": null,
   "metadata": {},
   "outputs": [],
   "source": [
    "common_cust = pd.merge(clust1_df, m2, on='customer_unique_id')\n",
    "common_cust"
   ]
  },
  {
   "cell_type": "code",
   "execution_count": null,
   "metadata": {},
   "outputs": [],
   "source": [
    "X = np.array(common_cust.segment).reshape(-1, 1)\n",
    "y = common_cust.monetary"
   ]
  },
  {
   "cell_type": "code",
   "execution_count": null,
   "metadata": {
    "scrolled": false
   },
   "outputs": [],
   "source": [
    "plt.scatter(X, y)"
   ]
  },
  {
   "cell_type": "code",
   "execution_count": null,
   "metadata": {},
   "outputs": [],
   "source": [
    "from sklearn.model_selection import train_test_split\n",
    "X_train, X_test, y_train, y_test = train_test_split(X, y, test_size=0.25, random_state=42)\n",
    "\n",
    "from sklearn.linear_model import LinearRegression\n",
    "lr = LinearRegression().fit(X_train, y_train)\n",
    "print(lr.score(X_train, y_train))\n",
    "print(lr.score(X_test, y_test))"
   ]
  },
  {
   "cell_type": "code",
   "execution_count": null,
   "metadata": {
    "scrolled": false
   },
   "outputs": [],
   "source": [
    "lr.coef_"
   ]
  },
  {
   "cell_type": "code",
   "execution_count": null,
   "metadata": {
    "scrolled": true
   },
   "outputs": [],
   "source": [
    "rfm1_m2_df = pd.merge(rfm1_df, m2, left_index=True, right_index=True)\n",
    "rfm1_m2_df"
   ]
  },
  {
   "cell_type": "code",
   "execution_count": null,
   "metadata": {},
   "outputs": [],
   "source": []
  },
  {
   "cell_type": "code",
   "execution_count": null,
   "metadata": {
    "scrolled": true
   },
   "outputs": [],
   "source": [
    "plt.scatter(rfm1_m2_df.recency, rfm1_m2_df.monetary_y)"
   ]
  },
  {
   "cell_type": "code",
   "execution_count": null,
   "metadata": {
    "scrolled": true
   },
   "outputs": [],
   "source": [
    "plt.scatter(rfm1_m2_df.frequency, rfm1_m2_df.monetary_y)"
   ]
  },
  {
   "cell_type": "code",
   "execution_count": null,
   "metadata": {
    "scrolled": true
   },
   "outputs": [],
   "source": [
    "plt.scatter(rfm1_m2_df.monetary_x, rfm1_m2_df.monetary_y)"
   ]
  },
  {
   "cell_type": "code",
   "execution_count": null,
   "metadata": {
    "scrolled": true
   },
   "outputs": [],
   "source": [
    "X = rfm1_m2_df.iloc[:,:-1]\n",
    "y = rfm1_m2_df.iloc[:,-1]\n",
    "\n",
    "from sklearn.model_selection import train_test_split\n",
    "X_train, X_test, y_train, y_test = train_test_split(X, y, test_size=0.25)\n",
    "\n",
    "# logistic regression \n",
    "from sklearn.linear_model import LinearRegression\n",
    "lr = LinearRegression()\n",
    "lr.fit(X_train, y_train)\n",
    "print('Train Accuracy: ', lr.score(X_train, y_train))\n",
    "print('Test Accuracy: ', lr.score(X_test, y_test))"
   ]
  },
  {
   "cell_type": "code",
   "execution_count": null,
   "metadata": {},
   "outputs": [],
   "source": [
    "lr.coef_"
   ]
  },
  {
   "cell_type": "code",
   "execution_count": null,
   "metadata": {},
   "outputs": [],
   "source": [
    "common_cust[['monetary']]"
   ]
  },
  {
   "cell_type": "code",
   "execution_count": null,
   "metadata": {
    "scrolled": false
   },
   "outputs": [],
   "source": [
    "m6m_km = KMeans(n_clusters=2)\n",
    "m6m_km.fit(common_cust[['monetary']])\n",
    "plt.scatter(common_cust.monetary, np.zeros([1,common_cust.shape[0]]), c=m6m_km.labels_)"
   ]
  },
  {
   "cell_type": "code",
   "execution_count": null,
   "metadata": {},
   "outputs": [],
   "source": [
    "1-m6m_km.labels_.mean()"
   ]
  },
  {
   "cell_type": "code",
   "execution_count": null,
   "metadata": {},
   "outputs": [],
   "source": [
    "plt.scatter(common_cust.rfm_clust_3m, m6m_km.labels_)"
   ]
  },
  {
   "cell_type": "code",
   "execution_count": null,
   "metadata": {
    "scrolled": true
   },
   "outputs": [],
   "source": [
    "from sklearn.linear_model import LogisticRegression \n",
    "clust_lr = LogisticRegression().fit(common_cust[['rfm_clust_3m']], m6m_km.labels_)"
   ]
  },
  {
   "cell_type": "code",
   "execution_count": null,
   "metadata": {},
   "outputs": [],
   "source": [
    "clust_lr.score(common_cust[['rfm_clust_3m']], m6m_km.labels_)"
   ]
  }
 ],
 "metadata": {
  "kernelspec": {
   "display_name": "Python 3",
   "language": "python",
   "name": "python3"
  },
  "language_info": {
   "codemirror_mode": {
    "name": "ipython",
    "version": 3
   },
   "file_extension": ".py",
   "mimetype": "text/x-python",
   "name": "python",
   "nbconvert_exporter": "python",
   "pygments_lexer": "ipython3",
   "version": "3.7.4"
  }
 },
 "nbformat": 4,
 "nbformat_minor": 2
}
