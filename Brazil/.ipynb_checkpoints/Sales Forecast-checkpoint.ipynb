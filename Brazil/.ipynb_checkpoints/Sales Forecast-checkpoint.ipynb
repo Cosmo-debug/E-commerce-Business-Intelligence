{
 "cells": [
  {
   "cell_type": "markdown",
   "metadata": {},
   "source": [
    "<h1 id=\"tocheading\">Table of Contents</h1>\n",
    "<div id=\"toc\"></div>"
   ]
  },
  {
   "cell_type": "code",
   "execution_count": 39,
   "metadata": {},
   "outputs": [
    {
     "data": {
      "application/javascript": [
       "$.getScript('https://kmahelona.github.io/ipython_notebook_goodies/ipython_notebook_toc.js')\n"
      ],
      "text/plain": [
       "<IPython.core.display.Javascript object>"
      ]
     },
     "metadata": {},
     "output_type": "display_data"
    }
   ],
   "source": [
    "%%javascript\n",
    "$.getScript('https://kmahelona.github.io/ipython_notebook_goodies/ipython_notebook_toc.js')"
   ]
  },
  {
   "cell_type": "markdown",
   "metadata": {},
   "source": [
    "# Data Cleaning"
   ]
  },
  {
   "cell_type": "code",
   "execution_count": 40,
   "metadata": {},
   "outputs": [],
   "source": [
    "import numpy as np\n",
    "import pandas as pd\n",
    "import matplotlib.pyplot as plt\n",
    "%matplotlib inline \n",
    "import seaborn as sns\n",
    "from fbprophet import Prophet "
   ]
  },
  {
   "cell_type": "markdown",
   "metadata": {},
   "source": [
    "## Orders Dataset"
   ]
  },
  {
   "cell_type": "code",
   "execution_count": 41,
   "metadata": {},
   "outputs": [],
   "source": [
    "orders_df = pd.read_csv('olist_orders_dataset.csv')"
   ]
  },
  {
   "cell_type": "code",
   "execution_count": 42,
   "metadata": {
    "scrolled": true
   },
   "outputs": [
    {
     "name": "stdout",
     "output_type": "stream",
     "text": [
      "<class 'pandas.core.frame.DataFrame'>\n",
      "RangeIndex: 99441 entries, 0 to 99440\n",
      "Data columns (total 8 columns):\n",
      "order_id                         99441 non-null object\n",
      "customer_id                      99441 non-null object\n",
      "order_status                     99441 non-null object\n",
      "order_purchase_timestamp         99441 non-null object\n",
      "order_approved_at                99281 non-null object\n",
      "order_delivered_carrier_date     97658 non-null object\n",
      "order_delivered_customer_date    96476 non-null object\n",
      "order_estimated_delivery_date    99441 non-null object\n",
      "dtypes: object(8)\n",
      "memory usage: 6.1+ MB\n"
     ]
    }
   ],
   "source": [
    "orders_df.info()"
   ]
  },
  {
   "cell_type": "code",
   "execution_count": 43,
   "metadata": {
    "scrolled": true
   },
   "outputs": [],
   "source": [
    "orders_df.drop(['order_status', 'order_approved_at', 'order_delivered_carrier_date', 'order_delivered_customer_date',\n",
    "                'order_estimated_delivery_date'], axis='columns', inplace=True)"
   ]
  },
  {
   "cell_type": "code",
   "execution_count": 44,
   "metadata": {},
   "outputs": [
    {
     "name": "stdout",
     "output_type": "stream",
     "text": [
      "<class 'pandas.core.frame.DataFrame'>\n",
      "RangeIndex: 99441 entries, 0 to 99440\n",
      "Data columns (total 3 columns):\n",
      "order_id                    99441 non-null object\n",
      "customer_id                 99441 non-null object\n",
      "order_purchase_timestamp    99441 non-null object\n",
      "dtypes: object(3)\n",
      "memory usage: 2.3+ MB\n"
     ]
    }
   ],
   "source": [
    "orders_df.info()"
   ]
  },
  {
   "cell_type": "code",
   "execution_count": 45,
   "metadata": {
    "scrolled": true
   },
   "outputs": [
    {
     "data": {
      "text/plain": [
       "order_id                            object\n",
       "customer_id                         object\n",
       "order_purchase_timestamp    datetime64[ns]\n",
       "dtype: object"
      ]
     },
     "execution_count": 45,
     "metadata": {},
     "output_type": "execute_result"
    }
   ],
   "source": [
    "orders_df['order_purchase_timestamp'] = pd.to_datetime(orders_df['order_purchase_timestamp'])\n",
    "orders_df.dtypes"
   ]
  },
  {
   "cell_type": "code",
   "execution_count": 46,
   "metadata": {},
   "outputs": [
    {
     "data": {
      "text/html": [
       "<div>\n",
       "<style scoped>\n",
       "    .dataframe tbody tr th:only-of-type {\n",
       "        vertical-align: middle;\n",
       "    }\n",
       "\n",
       "    .dataframe tbody tr th {\n",
       "        vertical-align: top;\n",
       "    }\n",
       "\n",
       "    .dataframe thead th {\n",
       "        text-align: right;\n",
       "    }\n",
       "</style>\n",
       "<table border=\"1\" class=\"dataframe\">\n",
       "  <thead>\n",
       "    <tr style=\"text-align: right;\">\n",
       "      <th></th>\n",
       "      <th>order_id</th>\n",
       "      <th>customer_id</th>\n",
       "      <th>order_purchase_timestamp</th>\n",
       "    </tr>\n",
       "  </thead>\n",
       "  <tbody>\n",
       "  </tbody>\n",
       "</table>\n",
       "</div>"
      ],
      "text/plain": [
       "Empty DataFrame\n",
       "Columns: [order_id, customer_id, order_purchase_timestamp]\n",
       "Index: []"
      ]
     },
     "execution_count": 46,
     "metadata": {},
     "output_type": "execute_result"
    }
   ],
   "source": [
    "orders_df[orders_df.duplicated()]"
   ]
  },
  {
   "cell_type": "code",
   "execution_count": 51,
   "metadata": {
    "scrolled": true
   },
   "outputs": [
    {
     "data": {
      "text/html": [
       "<div>\n",
       "<style scoped>\n",
       "    .dataframe tbody tr th:only-of-type {\n",
       "        vertical-align: middle;\n",
       "    }\n",
       "\n",
       "    .dataframe tbody tr th {\n",
       "        vertical-align: top;\n",
       "    }\n",
       "\n",
       "    .dataframe thead th {\n",
       "        text-align: right;\n",
       "    }\n",
       "</style>\n",
       "<table border=\"1\" class=\"dataframe\">\n",
       "  <thead>\n",
       "    <tr style=\"text-align: right;\">\n",
       "      <th></th>\n",
       "      <th>order_id</th>\n",
       "      <th>customer_id</th>\n",
       "      <th>order_purchase_timestamp</th>\n",
       "    </tr>\n",
       "  </thead>\n",
       "  <tbody>\n",
       "    <tr>\n",
       "      <td>0</td>\n",
       "      <td>e481f51cbdc54678b7cc49136f2d6af7</td>\n",
       "      <td>9ef432eb6251297304e76186b10a928d</td>\n",
       "      <td>2017-10-02 10:56:33</td>\n",
       "    </tr>\n",
       "    <tr>\n",
       "      <td>1</td>\n",
       "      <td>53cdb2fc8bc7dce0b6741e2150273451</td>\n",
       "      <td>b0830fb4747a6c6d20dea0b8c802d7ef</td>\n",
       "      <td>2018-07-24 20:41:37</td>\n",
       "    </tr>\n",
       "    <tr>\n",
       "      <td>2</td>\n",
       "      <td>47770eb9100c2d0c44946d9cf07ec65d</td>\n",
       "      <td>41ce2a54c0b03bf3443c3d931a367089</td>\n",
       "      <td>2018-08-08 08:38:49</td>\n",
       "    </tr>\n",
       "    <tr>\n",
       "      <td>3</td>\n",
       "      <td>949d5b44dbf5de918fe9c16f97b45f8a</td>\n",
       "      <td>f88197465ea7920adcdbec7375364d82</td>\n",
       "      <td>2017-11-18 19:28:06</td>\n",
       "    </tr>\n",
       "    <tr>\n",
       "      <td>4</td>\n",
       "      <td>ad21c59c0840e6cb83a9ceb5573f8159</td>\n",
       "      <td>8ab97904e6daea8866dbdbc4fb7aad2c</td>\n",
       "      <td>2018-02-13 21:18:39</td>\n",
       "    </tr>\n",
       "  </tbody>\n",
       "</table>\n",
       "</div>"
      ],
      "text/plain": [
       "                           order_id                       customer_id  \\\n",
       "0  e481f51cbdc54678b7cc49136f2d6af7  9ef432eb6251297304e76186b10a928d   \n",
       "1  53cdb2fc8bc7dce0b6741e2150273451  b0830fb4747a6c6d20dea0b8c802d7ef   \n",
       "2  47770eb9100c2d0c44946d9cf07ec65d  41ce2a54c0b03bf3443c3d931a367089   \n",
       "3  949d5b44dbf5de918fe9c16f97b45f8a  f88197465ea7920adcdbec7375364d82   \n",
       "4  ad21c59c0840e6cb83a9ceb5573f8159  8ab97904e6daea8866dbdbc4fb7aad2c   \n",
       "\n",
       "  order_purchase_timestamp  \n",
       "0      2017-10-02 10:56:33  \n",
       "1      2018-07-24 20:41:37  \n",
       "2      2018-08-08 08:38:49  \n",
       "3      2017-11-18 19:28:06  \n",
       "4      2018-02-13 21:18:39  "
      ]
     },
     "execution_count": 51,
     "metadata": {},
     "output_type": "execute_result"
    }
   ],
   "source": [
    "orders_df.head()"
   ]
  },
  {
   "cell_type": "code",
   "execution_count": 62,
   "metadata": {
    "scrolled": true
   },
   "outputs": [
    {
     "data": {
      "text/plain": [
       "[<matplotlib.lines.Line2D at 0x20842ee50c8>]"
      ]
     },
     "execution_count": 62,
     "metadata": {},
     "output_type": "execute_result"
    },
    {
     "data": {
      "text/plain": [
       "<Figure size 432x288 with 0 Axes>"
      ]
     },
     "metadata": {},
     "output_type": "display_data"
    },
    {
     "data": {
      "image/png": "[encoded data removed]",
      "text/plain": [
       "<Figure size 1080x432 with 1 Axes>"
      ]
     },
     "metadata": {
      "needs_background": "light"
     },
     "output_type": "display_data"
    }
   ],
   "source": [
    "plt.figure(figsize=(15,6))\n",
    "orders_df['purchase_date'] = orders_df['order_purchase_timestamp'].dt.date\n",
    "plt.plot(orders_df.groupby('purchase_date')['order_id'].count())"
   ]
  },
  {
   "cell_type": "code",
   "execution_count": 63,
   "metadata": {},
   "outputs": [],
   "source": [
    "sales_df = orders_df.groupby('purchase_date')['order_id'].count()"
   ]
  },
  {
   "cell_type": "code",
   "execution_count": 90,
   "metadata": {
    "scrolled": true
   },
   "outputs": [
    {
     "data": {
      "text/html": [
       "<div>\n",
       "<style scoped>\n",
       "    .dataframe tbody tr th:only-of-type {\n",
       "        vertical-align: middle;\n",
       "    }\n",
       "\n",
       "    .dataframe tbody tr th {\n",
       "        vertical-align: top;\n",
       "    }\n",
       "\n",
       "    .dataframe thead th {\n",
       "        text-align: right;\n",
       "    }\n",
       "</style>\n",
       "<table border=\"1\" class=\"dataframe\">\n",
       "  <thead>\n",
       "    <tr style=\"text-align: right;\">\n",
       "      <th></th>\n",
       "      <th>ds</th>\n",
       "      <th>y</th>\n",
       "    </tr>\n",
       "  </thead>\n",
       "  <tbody>\n",
       "    <tr>\n",
       "      <td>0</td>\n",
       "      <td>2016-09-04</td>\n",
       "      <td>1</td>\n",
       "    </tr>\n",
       "    <tr>\n",
       "      <td>1</td>\n",
       "      <td>2016-09-05</td>\n",
       "      <td>1</td>\n",
       "    </tr>\n",
       "    <tr>\n",
       "      <td>2</td>\n",
       "      <td>2016-09-13</td>\n",
       "      <td>1</td>\n",
       "    </tr>\n",
       "    <tr>\n",
       "      <td>3</td>\n",
       "      <td>2016-09-15</td>\n",
       "      <td>1</td>\n",
       "    </tr>\n",
       "    <tr>\n",
       "      <td>4</td>\n",
       "      <td>2016-10-02</td>\n",
       "      <td>1</td>\n",
       "    </tr>\n",
       "  </tbody>\n",
       "</table>\n",
       "</div>"
      ],
      "text/plain": [
       "          ds  y\n",
       "0 2016-09-04  1\n",
       "1 2016-09-05  1\n",
       "2 2016-09-13  1\n",
       "3 2016-09-15  1\n",
       "4 2016-10-02  1"
      ]
     },
     "execution_count": 90,
     "metadata": {},
     "output_type": "execute_result"
    }
   ],
   "source": [
    "sales_df = pd.DataFrame(orders_df.groupby('purchase_date')['order_id'].count())\n",
    "sales_df.reset_index(inplace=True)\n",
    "sales_df.purchase_date = pd.to_datetime(sales_df.purchase_date)\n",
    "sales_df.columns = ['ds', 'y']\n",
    "sales_df.head()"
   ]
  },
  {
   "cell_type": "code",
   "execution_count": 91,
   "metadata": {
    "scrolled": false
   },
   "outputs": [
    {
     "name": "stdout",
     "output_type": "stream",
     "text": [
      "<class 'pandas.core.frame.DataFrame'>\n",
      "RangeIndex: 634 entries, 0 to 633\n",
      "Data columns (total 2 columns):\n",
      "ds    634 non-null datetime64[ns]\n",
      "y     634 non-null int64\n",
      "dtypes: datetime64[ns](1), int64(1)\n",
      "memory usage: 10.0 KB\n"
     ]
    }
   ],
   "source": [
    "sales_df.info()"
   ]
  },
  {
   "cell_type": "code",
   "execution_count": 92,
   "metadata": {},
   "outputs": [],
   "source": [
    "test_size = 5000\n",
    "train = sales_df.iloc[:-test_size]\n",
    "test = sales_df.iloc[-test_size:]"
   ]
  },
  {
   "cell_type": "code",
   "execution_count": 93,
   "metadata": {},
   "outputs": [],
   "source": [
    "holidays = pd.DataFrame({\n",
    "  'holiday': 'christmas',\n",
    "  'ds': pd.to_datetime(['2018-12-01', '2018-12-02', '2018-12-08',\n",
    "                        '2018-12-09', '2018-12-13', '2018-12-15',\n",
    "                        '2018-12-16', '2018-12-22', '2018-12-23',\n",
    "                        '2018-12-24', '2018-12-25', '2018-12-26',\n",
    "                        '2018-12-27', '2018-12-28']),\n",
    "})"
   ]
  },
  {
   "cell_type": "code",
   "execution_count": 94,
   "metadata": {
    "scrolled": true
   },
   "outputs": [
    {
     "ename": "ValueError",
     "evalue": "Dataframe has less than 2 non-NaN rows.",
     "output_type": "error",
     "traceback": [
      "\u001b[1;31m---------------------------------------------------------------------------\u001b[0m",
      "\u001b[1;31mValueError\u001b[0m                                Traceback (most recent call last)",
      "\u001b[1;32m<ipython-input-94-0e3db1bb2406>\u001b[0m in \u001b[0;36m<module>\u001b[1;34m\u001b[0m\n\u001b[0;32m      1\u001b[0m \u001b[0mmodel\u001b[0m \u001b[1;33m=\u001b[0m \u001b[0mProphet\u001b[0m\u001b[1;33m(\u001b[0m\u001b[0minterval_width\u001b[0m\u001b[1;33m=\u001b[0m\u001b[1;36m0.95\u001b[0m\u001b[1;33m,\u001b[0m \u001b[0mholidays\u001b[0m\u001b[1;33m=\u001b[0m\u001b[0mholidays\u001b[0m\u001b[1;33m)\u001b[0m\u001b[1;33m\u001b[0m\u001b[1;33m\u001b[0m\u001b[0m\n\u001b[1;32m----> 2\u001b[1;33m \u001b[0mmodel\u001b[0m\u001b[1;33m.\u001b[0m\u001b[0mfit\u001b[0m\u001b[1;33m(\u001b[0m\u001b[0mtrain\u001b[0m\u001b[1;33m)\u001b[0m\u001b[1;33m\u001b[0m\u001b[1;33m\u001b[0m\u001b[0m\n\u001b[0m",
      "\u001b[1;32m~\\Anaconda3\\lib\\site-packages\\fbprophet\\forecaster.py\u001b[0m in \u001b[0;36mfit\u001b[1;34m(self, df, **kwargs)\u001b[0m\n\u001b[0;32m   1053\u001b[0m         \u001b[0mhistory\u001b[0m \u001b[1;33m=\u001b[0m \u001b[0mdf\u001b[0m\u001b[1;33m[\u001b[0m\u001b[0mdf\u001b[0m\u001b[1;33m[\u001b[0m\u001b[1;34m'y'\u001b[0m\u001b[1;33m]\u001b[0m\u001b[1;33m.\u001b[0m\u001b[0mnotnull\u001b[0m\u001b[1;33m(\u001b[0m\u001b[1;33m)\u001b[0m\u001b[1;33m]\u001b[0m\u001b[1;33m.\u001b[0m\u001b[0mcopy\u001b[0m\u001b[1;33m(\u001b[0m\u001b[1;33m)\u001b[0m\u001b[1;33m\u001b[0m\u001b[1;33m\u001b[0m\u001b[0m\n\u001b[0;32m   1054\u001b[0m         \u001b[1;32mif\u001b[0m \u001b[0mhistory\u001b[0m\u001b[1;33m.\u001b[0m\u001b[0mshape\u001b[0m\u001b[1;33m[\u001b[0m\u001b[1;36m0\u001b[0m\u001b[1;33m]\u001b[0m \u001b[1;33m<\u001b[0m \u001b[1;36m2\u001b[0m\u001b[1;33m:\u001b[0m\u001b[1;33m\u001b[0m\u001b[1;33m\u001b[0m\u001b[0m\n\u001b[1;32m-> 1055\u001b[1;33m             \u001b[1;32mraise\u001b[0m \u001b[0mValueError\u001b[0m\u001b[1;33m(\u001b[0m\u001b[1;34m'Dataframe has less than 2 non-NaN rows.'\u001b[0m\u001b[1;33m)\u001b[0m\u001b[1;33m\u001b[0m\u001b[1;33m\u001b[0m\u001b[0m\n\u001b[0m\u001b[0;32m   1056\u001b[0m         \u001b[0mself\u001b[0m\u001b[1;33m.\u001b[0m\u001b[0mhistory_dates\u001b[0m \u001b[1;33m=\u001b[0m \u001b[0mpd\u001b[0m\u001b[1;33m.\u001b[0m\u001b[0mto_datetime\u001b[0m\u001b[1;33m(\u001b[0m\u001b[0mdf\u001b[0m\u001b[1;33m[\u001b[0m\u001b[1;34m'ds'\u001b[0m\u001b[1;33m]\u001b[0m\u001b[1;33m)\u001b[0m\u001b[1;33m.\u001b[0m\u001b[0msort_values\u001b[0m\u001b[1;33m(\u001b[0m\u001b[1;33m)\u001b[0m\u001b[1;33m\u001b[0m\u001b[1;33m\u001b[0m\u001b[0m\n\u001b[0;32m   1057\u001b[0m \u001b[1;33m\u001b[0m\u001b[0m\n",
      "\u001b[1;31mValueError\u001b[0m: Dataframe has less than 2 non-NaN rows."
     ]
    }
   ],
   "source": [
    "model = Prophet(interval_width=0.95, holidays=holidays)\n",
    "model.fit(train)"
   ]
  },
  {
   "cell_type": "code",
   "execution_count": 23,
   "metadata": {},
   "outputs": [],
   "source": [
    "future = model.make_future_dataframe(periods=test_size, freq='D' , include_history=False)"
   ]
  },
  {
   "cell_type": "code",
   "execution_count": 24,
   "metadata": {},
   "outputs": [],
   "source": [
    "forecast = model.predict(future)"
   ]
  },
  {
   "cell_type": "code",
   "execution_count": 25,
   "metadata": {},
   "outputs": [
    {
     "data": {
      "text/html": [
       "<div>\n",
       "<style scoped>\n",
       "    .dataframe tbody tr th:only-of-type {\n",
       "        vertical-align: middle;\n",
       "    }\n",
       "\n",
       "    .dataframe tbody tr th {\n",
       "        vertical-align: top;\n",
       "    }\n",
       "\n",
       "    .dataframe thead th {\n",
       "        text-align: right;\n",
       "    }\n",
       "</style>\n",
       "<table border=\"1\" class=\"dataframe\">\n",
       "  <thead>\n",
       "    <tr style=\"text-align: right;\">\n",
       "      <th></th>\n",
       "      <th>ds</th>\n",
       "      <th>trend</th>\n",
       "      <th>yhat_lower</th>\n",
       "      <th>yhat_upper</th>\n",
       "      <th>trend_lower</th>\n",
       "      <th>trend_upper</th>\n",
       "      <th>additive_terms</th>\n",
       "      <th>additive_terms_lower</th>\n",
       "      <th>additive_terms_upper</th>\n",
       "      <th>christmas</th>\n",
       "      <th>...</th>\n",
       "      <th>holidays</th>\n",
       "      <th>holidays_lower</th>\n",
       "      <th>holidays_upper</th>\n",
       "      <th>weekly</th>\n",
       "      <th>weekly_lower</th>\n",
       "      <th>weekly_upper</th>\n",
       "      <th>multiplicative_terms</th>\n",
       "      <th>multiplicative_terms_lower</th>\n",
       "      <th>multiplicative_terms_upper</th>\n",
       "      <th>yhat</th>\n",
       "    </tr>\n",
       "  </thead>\n",
       "  <tbody>\n",
       "    <tr>\n",
       "      <td>0</td>\n",
       "      <td>2018-08-07 10:53:31</td>\n",
       "      <td>161.842553</td>\n",
       "      <td>-292.629143</td>\n",
       "      <td>569.386404</td>\n",
       "      <td>161.842553</td>\n",
       "      <td>161.842553</td>\n",
       "      <td>8.370658</td>\n",
       "      <td>8.370658</td>\n",
       "      <td>8.370658</td>\n",
       "      <td>0.0</td>\n",
       "      <td>...</td>\n",
       "      <td>0.0</td>\n",
       "      <td>0.0</td>\n",
       "      <td>0.0</td>\n",
       "      <td>1.242274</td>\n",
       "      <td>1.242274</td>\n",
       "      <td>1.242274</td>\n",
       "      <td>0.0</td>\n",
       "      <td>0.0</td>\n",
       "      <td>0.0</td>\n",
       "      <td>170.213212</td>\n",
       "    </tr>\n",
       "    <tr>\n",
       "      <td>1</td>\n",
       "      <td>2018-08-08 10:53:31</td>\n",
       "      <td>161.842514</td>\n",
       "      <td>-248.932209</td>\n",
       "      <td>574.993285</td>\n",
       "      <td>161.788775</td>\n",
       "      <td>161.894529</td>\n",
       "      <td>5.798408</td>\n",
       "      <td>5.798408</td>\n",
       "      <td>5.798408</td>\n",
       "      <td>0.0</td>\n",
       "      <td>...</td>\n",
       "      <td>0.0</td>\n",
       "      <td>0.0</td>\n",
       "      <td>0.0</td>\n",
       "      <td>-1.329977</td>\n",
       "      <td>-1.329977</td>\n",
       "      <td>-1.329977</td>\n",
       "      <td>0.0</td>\n",
       "      <td>0.0</td>\n",
       "      <td>0.0</td>\n",
       "      <td>167.640922</td>\n",
       "    </tr>\n",
       "    <tr>\n",
       "      <td>2</td>\n",
       "      <td>2018-08-09 10:53:31</td>\n",
       "      <td>161.842475</td>\n",
       "      <td>-246.458976</td>\n",
       "      <td>582.306457</td>\n",
       "      <td>161.724327</td>\n",
       "      <td>161.975214</td>\n",
       "      <td>7.391139</td>\n",
       "      <td>7.391139</td>\n",
       "      <td>7.391139</td>\n",
       "      <td>0.0</td>\n",
       "      <td>...</td>\n",
       "      <td>0.0</td>\n",
       "      <td>0.0</td>\n",
       "      <td>0.0</td>\n",
       "      <td>0.262754</td>\n",
       "      <td>0.262754</td>\n",
       "      <td>0.262754</td>\n",
       "      <td>0.0</td>\n",
       "      <td>0.0</td>\n",
       "      <td>0.0</td>\n",
       "      <td>169.233614</td>\n",
       "    </tr>\n",
       "    <tr>\n",
       "      <td>3</td>\n",
       "      <td>2018-08-10 10:53:31</td>\n",
       "      <td>161.842436</td>\n",
       "      <td>-274.175868</td>\n",
       "      <td>622.173568</td>\n",
       "      <td>161.563042</td>\n",
       "      <td>162.145269</td>\n",
       "      <td>9.995280</td>\n",
       "      <td>9.995280</td>\n",
       "      <td>9.995280</td>\n",
       "      <td>0.0</td>\n",
       "      <td>...</td>\n",
       "      <td>0.0</td>\n",
       "      <td>0.0</td>\n",
       "      <td>0.0</td>\n",
       "      <td>2.866896</td>\n",
       "      <td>2.866896</td>\n",
       "      <td>2.866896</td>\n",
       "      <td>0.0</td>\n",
       "      <td>0.0</td>\n",
       "      <td>0.0</td>\n",
       "      <td>171.837716</td>\n",
       "    </tr>\n",
       "    <tr>\n",
       "      <td>4</td>\n",
       "      <td>2018-08-11 10:53:31</td>\n",
       "      <td>161.842397</td>\n",
       "      <td>-257.874754</td>\n",
       "      <td>588.620496</td>\n",
       "      <td>161.429766</td>\n",
       "      <td>162.266389</td>\n",
       "      <td>10.154724</td>\n",
       "      <td>10.154724</td>\n",
       "      <td>10.154724</td>\n",
       "      <td>0.0</td>\n",
       "      <td>...</td>\n",
       "      <td>0.0</td>\n",
       "      <td>0.0</td>\n",
       "      <td>0.0</td>\n",
       "      <td>3.026340</td>\n",
       "      <td>3.026340</td>\n",
       "      <td>3.026340</td>\n",
       "      <td>0.0</td>\n",
       "      <td>0.0</td>\n",
       "      <td>0.0</td>\n",
       "      <td>171.997121</td>\n",
       "    </tr>\n",
       "    <tr>\n",
       "      <td>...</td>\n",
       "      <td>...</td>\n",
       "      <td>...</td>\n",
       "      <td>...</td>\n",
       "      <td>...</td>\n",
       "      <td>...</td>\n",
       "      <td>...</td>\n",
       "      <td>...</td>\n",
       "      <td>...</td>\n",
       "      <td>...</td>\n",
       "      <td>...</td>\n",
       "      <td>...</td>\n",
       "      <td>...</td>\n",
       "      <td>...</td>\n",
       "      <td>...</td>\n",
       "      <td>...</td>\n",
       "      <td>...</td>\n",
       "      <td>...</td>\n",
       "      <td>...</td>\n",
       "      <td>...</td>\n",
       "      <td>...</td>\n",
       "      <td>...</td>\n",
       "    </tr>\n",
       "    <tr>\n",
       "      <td>4995</td>\n",
       "      <td>2032-04-10 10:53:31</td>\n",
       "      <td>161.646849</td>\n",
       "      <td>-14829.333912</td>\n",
       "      <td>15714.619547</td>\n",
       "      <td>-15038.156843</td>\n",
       "      <td>15820.177015</td>\n",
       "      <td>10.154724</td>\n",
       "      <td>10.154724</td>\n",
       "      <td>10.154724</td>\n",
       "      <td>0.0</td>\n",
       "      <td>...</td>\n",
       "      <td>0.0</td>\n",
       "      <td>0.0</td>\n",
       "      <td>0.0</td>\n",
       "      <td>3.026340</td>\n",
       "      <td>3.026340</td>\n",
       "      <td>3.026340</td>\n",
       "      <td>0.0</td>\n",
       "      <td>0.0</td>\n",
       "      <td>0.0</td>\n",
       "      <td>171.801574</td>\n",
       "    </tr>\n",
       "    <tr>\n",
       "      <td>4996</td>\n",
       "      <td>2032-04-11 10:53:31</td>\n",
       "      <td>161.646810</td>\n",
       "      <td>-14908.373485</td>\n",
       "      <td>15725.773803</td>\n",
       "      <td>-15040.084258</td>\n",
       "      <td>15824.311030</td>\n",
       "      <td>2.720097</td>\n",
       "      <td>2.720097</td>\n",
       "      <td>2.720097</td>\n",
       "      <td>0.0</td>\n",
       "      <td>...</td>\n",
       "      <td>0.0</td>\n",
       "      <td>0.0</td>\n",
       "      <td>0.0</td>\n",
       "      <td>-4.408288</td>\n",
       "      <td>-4.408288</td>\n",
       "      <td>-4.408288</td>\n",
       "      <td>0.0</td>\n",
       "      <td>0.0</td>\n",
       "      <td>0.0</td>\n",
       "      <td>164.366907</td>\n",
       "    </tr>\n",
       "    <tr>\n",
       "      <td>4997</td>\n",
       "      <td>2032-04-12 10:53:31</td>\n",
       "      <td>161.646771</td>\n",
       "      <td>-15275.786277</td>\n",
       "      <td>15876.067447</td>\n",
       "      <td>-15042.011672</td>\n",
       "      <td>15828.445044</td>\n",
       "      <td>5.468386</td>\n",
       "      <td>5.468386</td>\n",
       "      <td>5.468386</td>\n",
       "      <td>0.0</td>\n",
       "      <td>...</td>\n",
       "      <td>0.0</td>\n",
       "      <td>0.0</td>\n",
       "      <td>0.0</td>\n",
       "      <td>-1.659999</td>\n",
       "      <td>-1.659999</td>\n",
       "      <td>-1.659999</td>\n",
       "      <td>0.0</td>\n",
       "      <td>0.0</td>\n",
       "      <td>0.0</td>\n",
       "      <td>167.115157</td>\n",
       "    </tr>\n",
       "    <tr>\n",
       "      <td>4998</td>\n",
       "      <td>2032-04-13 10:53:31</td>\n",
       "      <td>161.646732</td>\n",
       "      <td>-14953.495157</td>\n",
       "      <td>15722.356796</td>\n",
       "      <td>-15043.939087</td>\n",
       "      <td>15832.579059</td>\n",
       "      <td>8.370658</td>\n",
       "      <td>8.370658</td>\n",
       "      <td>8.370658</td>\n",
       "      <td>0.0</td>\n",
       "      <td>...</td>\n",
       "      <td>0.0</td>\n",
       "      <td>0.0</td>\n",
       "      <td>0.0</td>\n",
       "      <td>1.242274</td>\n",
       "      <td>1.242274</td>\n",
       "      <td>1.242274</td>\n",
       "      <td>0.0</td>\n",
       "      <td>0.0</td>\n",
       "      <td>0.0</td>\n",
       "      <td>170.017390</td>\n",
       "    </tr>\n",
       "    <tr>\n",
       "      <td>4999</td>\n",
       "      <td>2032-04-14 10:53:31</td>\n",
       "      <td>161.646693</td>\n",
       "      <td>-15066.341777</td>\n",
       "      <td>15528.373639</td>\n",
       "      <td>-15045.866501</td>\n",
       "      <td>15836.713582</td>\n",
       "      <td>5.798408</td>\n",
       "      <td>5.798408</td>\n",
       "      <td>5.798408</td>\n",
       "      <td>0.0</td>\n",
       "      <td>...</td>\n",
       "      <td>0.0</td>\n",
       "      <td>0.0</td>\n",
       "      <td>0.0</td>\n",
       "      <td>-1.329977</td>\n",
       "      <td>-1.329977</td>\n",
       "      <td>-1.329977</td>\n",
       "      <td>0.0</td>\n",
       "      <td>0.0</td>\n",
       "      <td>0.0</td>\n",
       "      <td>167.445100</td>\n",
       "    </tr>\n",
       "  </tbody>\n",
       "</table>\n",
       "<p>5000 rows × 25 columns</p>\n",
       "</div>"
      ],
      "text/plain": [
       "                      ds       trend    yhat_lower    yhat_upper  \\\n",
       "0    2018-08-07 10:53:31  161.842553   -292.629143    569.386404   \n",
       "1    2018-08-08 10:53:31  161.842514   -248.932209    574.993285   \n",
       "2    2018-08-09 10:53:31  161.842475   -246.458976    582.306457   \n",
       "3    2018-08-10 10:53:31  161.842436   -274.175868    622.173568   \n",
       "4    2018-08-11 10:53:31  161.842397   -257.874754    588.620496   \n",
       "...                  ...         ...           ...           ...   \n",
       "4995 2032-04-10 10:53:31  161.646849 -14829.333912  15714.619547   \n",
       "4996 2032-04-11 10:53:31  161.646810 -14908.373485  15725.773803   \n",
       "4997 2032-04-12 10:53:31  161.646771 -15275.786277  15876.067447   \n",
       "4998 2032-04-13 10:53:31  161.646732 -14953.495157  15722.356796   \n",
       "4999 2032-04-14 10:53:31  161.646693 -15066.341777  15528.373639   \n",
       "\n",
       "       trend_lower   trend_upper  additive_terms  additive_terms_lower  \\\n",
       "0       161.842553    161.842553        8.370658              8.370658   \n",
       "1       161.788775    161.894529        5.798408              5.798408   \n",
       "2       161.724327    161.975214        7.391139              7.391139   \n",
       "3       161.563042    162.145269        9.995280              9.995280   \n",
       "4       161.429766    162.266389       10.154724             10.154724   \n",
       "...            ...           ...             ...                   ...   \n",
       "4995 -15038.156843  15820.177015       10.154724             10.154724   \n",
       "4996 -15040.084258  15824.311030        2.720097              2.720097   \n",
       "4997 -15042.011672  15828.445044        5.468386              5.468386   \n",
       "4998 -15043.939087  15832.579059        8.370658              8.370658   \n",
       "4999 -15045.866501  15836.713582        5.798408              5.798408   \n",
       "\n",
       "      additive_terms_upper  christmas  ...  holidays  holidays_lower  \\\n",
       "0                 8.370658        0.0  ...       0.0             0.0   \n",
       "1                 5.798408        0.0  ...       0.0             0.0   \n",
       "2                 7.391139        0.0  ...       0.0             0.0   \n",
       "3                 9.995280        0.0  ...       0.0             0.0   \n",
       "4                10.154724        0.0  ...       0.0             0.0   \n",
       "...                    ...        ...  ...       ...             ...   \n",
       "4995             10.154724        0.0  ...       0.0             0.0   \n",
       "4996              2.720097        0.0  ...       0.0             0.0   \n",
       "4997              5.468386        0.0  ...       0.0             0.0   \n",
       "4998              8.370658        0.0  ...       0.0             0.0   \n",
       "4999              5.798408        0.0  ...       0.0             0.0   \n",
       "\n",
       "      holidays_upper    weekly  weekly_lower  weekly_upper  \\\n",
       "0                0.0  1.242274      1.242274      1.242274   \n",
       "1                0.0 -1.329977     -1.329977     -1.329977   \n",
       "2                0.0  0.262754      0.262754      0.262754   \n",
       "3                0.0  2.866896      2.866896      2.866896   \n",
       "4                0.0  3.026340      3.026340      3.026340   \n",
       "...              ...       ...           ...           ...   \n",
       "4995             0.0  3.026340      3.026340      3.026340   \n",
       "4996             0.0 -4.408288     -4.408288     -4.408288   \n",
       "4997             0.0 -1.659999     -1.659999     -1.659999   \n",
       "4998             0.0  1.242274      1.242274      1.242274   \n",
       "4999             0.0 -1.329977     -1.329977     -1.329977   \n",
       "\n",
       "      multiplicative_terms  multiplicative_terms_lower  \\\n",
       "0                      0.0                         0.0   \n",
       "1                      0.0                         0.0   \n",
       "2                      0.0                         0.0   \n",
       "3                      0.0                         0.0   \n",
       "4                      0.0                         0.0   \n",
       "...                    ...                         ...   \n",
       "4995                   0.0                         0.0   \n",
       "4996                   0.0                         0.0   \n",
       "4997                   0.0                         0.0   \n",
       "4998                   0.0                         0.0   \n",
       "4999                   0.0                         0.0   \n",
       "\n",
       "      multiplicative_terms_upper        yhat  \n",
       "0                            0.0  170.213212  \n",
       "1                            0.0  167.640922  \n",
       "2                            0.0  169.233614  \n",
       "3                            0.0  171.837716  \n",
       "4                            0.0  171.997121  \n",
       "...                          ...         ...  \n",
       "4995                         0.0  171.801574  \n",
       "4996                         0.0  164.366907  \n",
       "4997                         0.0  167.115157  \n",
       "4998                         0.0  170.017390  \n",
       "4999                         0.0  167.445100  \n",
       "\n",
       "[5000 rows x 25 columns]"
      ]
     },
     "execution_count": 25,
     "metadata": {},
     "output_type": "execute_result"
    }
   ],
   "source": [
    "forecast"
   ]
  },
  {
   "cell_type": "code",
   "execution_count": 26,
   "metadata": {
    "scrolled": true
   },
   "outputs": [
    {
     "data": {
      "text/plain": [
       "[<matplotlib.lines.Line2D at 0x2177511ab48>]"
      ]
     },
     "execution_count": 26,
     "metadata": {},
     "output_type": "execute_result"
    },
    {
     "data": {
      "image/png": "[encoded data removed]",
      "text/plain": [
       "<Figure size 432x288 with 1 Axes>"
      ]
     },
     "metadata": {
      "needs_background": "light"
     },
     "output_type": "display_data"
    }
   ],
   "source": [
    "plt.plot(test['ds'], test['y'])\n",
    "plt.plot(test['ds'], forecast['yhat'])"
   ]
  },
  {
   "cell_type": "markdown",
   "metadata": {},
   "source": [
    "## Payments Dataset"
   ]
  },
  {
   "cell_type": "code",
   "execution_count": 77,
   "metadata": {},
   "outputs": [],
   "source": [
    "payments_df = pd.read_csv('olist_order_payments_dataset.csv')"
   ]
  },
  {
   "cell_type": "code",
   "execution_count": 78,
   "metadata": {},
   "outputs": [
    {
     "name": "stdout",
     "output_type": "stream",
     "text": [
      "<class 'pandas.core.frame.DataFrame'>\n",
      "RangeIndex: 103886 entries, 0 to 103885\n",
      "Data columns (total 5 columns):\n",
      "order_id                103886 non-null object\n",
      "payment_sequential      103886 non-null int64\n",
      "payment_type            103886 non-null object\n",
      "payment_installments    103886 non-null int64\n",
      "payment_value           103886 non-null float64\n",
      "dtypes: float64(1), int64(2), object(2)\n",
      "memory usage: 4.0+ MB\n"
     ]
    }
   ],
   "source": [
    "payments_df.info()"
   ]
  },
  {
   "cell_type": "code",
   "execution_count": 79,
   "metadata": {
    "scrolled": true
   },
   "outputs": [
    {
     "data": {
      "text/html": [
       "<div>\n",
       "<style scoped>\n",
       "    .dataframe tbody tr th:only-of-type {\n",
       "        vertical-align: middle;\n",
       "    }\n",
       "\n",
       "    .dataframe tbody tr th {\n",
       "        vertical-align: top;\n",
       "    }\n",
       "\n",
       "    .dataframe thead th {\n",
       "        text-align: right;\n",
       "    }\n",
       "</style>\n",
       "<table border=\"1\" class=\"dataframe\">\n",
       "  <thead>\n",
       "    <tr style=\"text-align: right;\">\n",
       "      <th></th>\n",
       "      <th>order_id</th>\n",
       "      <th>payment_sequential</th>\n",
       "      <th>payment_type</th>\n",
       "      <th>payment_installments</th>\n",
       "      <th>payment_value</th>\n",
       "    </tr>\n",
       "  </thead>\n",
       "  <tbody>\n",
       "    <tr>\n",
       "      <td>0</td>\n",
       "      <td>b81ef226f3fe1789b1e8b2acac839d17</td>\n",
       "      <td>1</td>\n",
       "      <td>credit_card</td>\n",
       "      <td>8</td>\n",
       "      <td>99.33</td>\n",
       "    </tr>\n",
       "    <tr>\n",
       "      <td>1</td>\n",
       "      <td>a9810da82917af2d9aefd1278f1dcfa0</td>\n",
       "      <td>1</td>\n",
       "      <td>credit_card</td>\n",
       "      <td>1</td>\n",
       "      <td>24.39</td>\n",
       "    </tr>\n",
       "    <tr>\n",
       "      <td>2</td>\n",
       "      <td>25e8ea4e93396b6fa0d3dd708e76c1bd</td>\n",
       "      <td>1</td>\n",
       "      <td>credit_card</td>\n",
       "      <td>1</td>\n",
       "      <td>65.71</td>\n",
       "    </tr>\n",
       "    <tr>\n",
       "      <td>3</td>\n",
       "      <td>ba78997921bbcdc1373bb41e913ab953</td>\n",
       "      <td>1</td>\n",
       "      <td>credit_card</td>\n",
       "      <td>8</td>\n",
       "      <td>107.78</td>\n",
       "    </tr>\n",
       "    <tr>\n",
       "      <td>4</td>\n",
       "      <td>42fdf880ba16b47b59251dd489d4441a</td>\n",
       "      <td>1</td>\n",
       "      <td>credit_card</td>\n",
       "      <td>2</td>\n",
       "      <td>128.45</td>\n",
       "    </tr>\n",
       "  </tbody>\n",
       "</table>\n",
       "</div>"
      ],
      "text/plain": [
       "                           order_id  payment_sequential payment_type  \\\n",
       "0  b81ef226f3fe1789b1e8b2acac839d17                   1  credit_card   \n",
       "1  a9810da82917af2d9aefd1278f1dcfa0                   1  credit_card   \n",
       "2  25e8ea4e93396b6fa0d3dd708e76c1bd                   1  credit_card   \n",
       "3  ba78997921bbcdc1373bb41e913ab953                   1  credit_card   \n",
       "4  42fdf880ba16b47b59251dd489d4441a                   1  credit_card   \n",
       "\n",
       "   payment_installments  payment_value  \n",
       "0                     8          99.33  \n",
       "1                     1          24.39  \n",
       "2                     1          65.71  \n",
       "3                     8         107.78  \n",
       "4                     2         128.45  "
      ]
     },
     "execution_count": 79,
     "metadata": {},
     "output_type": "execute_result"
    }
   ],
   "source": [
    "payments_df.head()"
   ]
  },
  {
   "cell_type": "code",
   "execution_count": 80,
   "metadata": {
    "scrolled": true
   },
   "outputs": [
    {
     "data": {
      "text/html": [
       "<div>\n",
       "<style scoped>\n",
       "    .dataframe tbody tr th:only-of-type {\n",
       "        vertical-align: middle;\n",
       "    }\n",
       "\n",
       "    .dataframe tbody tr th {\n",
       "        vertical-align: top;\n",
       "    }\n",
       "\n",
       "    .dataframe thead th {\n",
       "        text-align: right;\n",
       "    }\n",
       "</style>\n",
       "<table border=\"1\" class=\"dataframe\">\n",
       "  <thead>\n",
       "    <tr style=\"text-align: right;\">\n",
       "      <th></th>\n",
       "      <th>order_id</th>\n",
       "      <th>payment_value</th>\n",
       "    </tr>\n",
       "  </thead>\n",
       "  <tbody>\n",
       "    <tr>\n",
       "      <td>0</td>\n",
       "      <td>b81ef226f3fe1789b1e8b2acac839d17</td>\n",
       "      <td>99.33</td>\n",
       "    </tr>\n",
       "    <tr>\n",
       "      <td>1</td>\n",
       "      <td>a9810da82917af2d9aefd1278f1dcfa0</td>\n",
       "      <td>24.39</td>\n",
       "    </tr>\n",
       "    <tr>\n",
       "      <td>2</td>\n",
       "      <td>25e8ea4e93396b6fa0d3dd708e76c1bd</td>\n",
       "      <td>65.71</td>\n",
       "    </tr>\n",
       "    <tr>\n",
       "      <td>3</td>\n",
       "      <td>ba78997921bbcdc1373bb41e913ab953</td>\n",
       "      <td>107.78</td>\n",
       "    </tr>\n",
       "    <tr>\n",
       "      <td>4</td>\n",
       "      <td>42fdf880ba16b47b59251dd489d4441a</td>\n",
       "      <td>128.45</td>\n",
       "    </tr>\n",
       "  </tbody>\n",
       "</table>\n",
       "</div>"
      ],
      "text/plain": [
       "                           order_id  payment_value\n",
       "0  b81ef226f3fe1789b1e8b2acac839d17          99.33\n",
       "1  a9810da82917af2d9aefd1278f1dcfa0          24.39\n",
       "2  25e8ea4e93396b6fa0d3dd708e76c1bd          65.71\n",
       "3  ba78997921bbcdc1373bb41e913ab953         107.78\n",
       "4  42fdf880ba16b47b59251dd489d4441a         128.45"
      ]
     },
     "execution_count": 80,
     "metadata": {},
     "output_type": "execute_result"
    }
   ],
   "source": [
    "payments_df.drop(['payment_sequential', 'payment_type','payment_installments'], axis='columns', inplace=True)\n",
    "payments_df.head()"
   ]
  },
  {
   "cell_type": "code",
   "execution_count": 81,
   "metadata": {
    "scrolled": true
   },
   "outputs": [
    {
     "data": {
      "text/plain": [
       "order_id         99440\n",
       "payment_value    29077\n",
       "dtype: int64"
      ]
     },
     "execution_count": 81,
     "metadata": {},
     "output_type": "execute_result"
    }
   ],
   "source": [
    "payments_df.nunique()"
   ]
  },
  {
   "cell_type": "markdown",
   "metadata": {},
   "source": [
    "# Exploratory Data Analytics"
   ]
  },
  {
   "cell_type": "code",
   "execution_count": 82,
   "metadata": {
    "scrolled": true
   },
   "outputs": [
    {
     "data": {
      "text/html": [
       "<div>\n",
       "<style scoped>\n",
       "    .dataframe tbody tr th:only-of-type {\n",
       "        vertical-align: middle;\n",
       "    }\n",
       "\n",
       "    .dataframe tbody tr th {\n",
       "        vertical-align: top;\n",
       "    }\n",
       "\n",
       "    .dataframe thead th {\n",
       "        text-align: right;\n",
       "    }\n",
       "</style>\n",
       "<table border=\"1\" class=\"dataframe\">\n",
       "  <thead>\n",
       "    <tr style=\"text-align: right;\">\n",
       "      <th></th>\n",
       "      <th>order_id</th>\n",
       "      <th>payment_value</th>\n",
       "      <th>customer_id</th>\n",
       "      <th>order_purchase_timestamp</th>\n",
       "      <th>purchase_date</th>\n",
       "    </tr>\n",
       "  </thead>\n",
       "  <tbody>\n",
       "    <tr>\n",
       "      <td>0</td>\n",
       "      <td>b81ef226f3fe1789b1e8b2acac839d17</td>\n",
       "      <td>99.33</td>\n",
       "      <td>0a8556ac6be836b46b3e89920d59291c</td>\n",
       "      <td>2018-04-25 22:01:49</td>\n",
       "      <td>2018-04-25</td>\n",
       "    </tr>\n",
       "    <tr>\n",
       "      <td>1</td>\n",
       "      <td>a9810da82917af2d9aefd1278f1dcfa0</td>\n",
       "      <td>24.39</td>\n",
       "      <td>f2c7fc58a9de810828715166c672f10a</td>\n",
       "      <td>2018-06-26 11:01:38</td>\n",
       "      <td>2018-06-26</td>\n",
       "    </tr>\n",
       "    <tr>\n",
       "      <td>2</td>\n",
       "      <td>25e8ea4e93396b6fa0d3dd708e76c1bd</td>\n",
       "      <td>65.71</td>\n",
       "      <td>25b14b69de0b6e184ae6fe2755e478f9</td>\n",
       "      <td>2017-12-12 11:19:55</td>\n",
       "      <td>2017-12-12</td>\n",
       "    </tr>\n",
       "    <tr>\n",
       "      <td>3</td>\n",
       "      <td>ba78997921bbcdc1373bb41e913ab953</td>\n",
       "      <td>107.78</td>\n",
       "      <td>7a5d8efaaa1081f800628c30d2b0728f</td>\n",
       "      <td>2017-12-06 12:04:06</td>\n",
       "      <td>2017-12-06</td>\n",
       "    </tr>\n",
       "    <tr>\n",
       "      <td>4</td>\n",
       "      <td>42fdf880ba16b47b59251dd489d4441a</td>\n",
       "      <td>128.45</td>\n",
       "      <td>15fd6fb8f8312dbb4674e4518d6fa3b3</td>\n",
       "      <td>2018-05-21 13:59:17</td>\n",
       "      <td>2018-05-21</td>\n",
       "    </tr>\n",
       "  </tbody>\n",
       "</table>\n",
       "</div>"
      ],
      "text/plain": [
       "                           order_id  payment_value  \\\n",
       "0  b81ef226f3fe1789b1e8b2acac839d17          99.33   \n",
       "1  a9810da82917af2d9aefd1278f1dcfa0          24.39   \n",
       "2  25e8ea4e93396b6fa0d3dd708e76c1bd          65.71   \n",
       "3  ba78997921bbcdc1373bb41e913ab953         107.78   \n",
       "4  42fdf880ba16b47b59251dd489d4441a         128.45   \n",
       "\n",
       "                        customer_id order_purchase_timestamp purchase_date  \n",
       "0  0a8556ac6be836b46b3e89920d59291c      2018-04-25 22:01:49    2018-04-25  \n",
       "1  f2c7fc58a9de810828715166c672f10a      2018-06-26 11:01:38    2018-06-26  \n",
       "2  25b14b69de0b6e184ae6fe2755e478f9      2017-12-12 11:19:55    2017-12-12  \n",
       "3  7a5d8efaaa1081f800628c30d2b0728f      2017-12-06 12:04:06    2017-12-06  \n",
       "4  15fd6fb8f8312dbb4674e4518d6fa3b3      2018-05-21 13:59:17    2018-05-21  "
      ]
     },
     "execution_count": 82,
     "metadata": {},
     "output_type": "execute_result"
    }
   ],
   "source": [
    "payments_orders_df = pd.merge(payments_df, orders_df, how='left', on='order_id')\n",
    "payments_orders_df.head()"
   ]
  },
  {
   "cell_type": "code",
   "execution_count": 83,
   "metadata": {},
   "outputs": [
    {
     "data": {
      "image/png": "[encoded data removed]",
      "text/plain": [
       "<Figure size 432x288 with 1 Axes>"
      ]
     },
     "metadata": {
      "needs_background": "light"
     },
     "output_type": "display_data"
    }
   ],
   "source": [
    "plt.hist(payments_orders_df.groupby('order_id')['payment_value'].sum(), bins=200);"
   ]
  },
  {
   "cell_type": "code",
   "execution_count": 84,
   "metadata": {
    "scrolled": true
   },
   "outputs": [
    {
     "data": {
      "text/plain": [
       "[<matplotlib.lines.Line2D at 0x2084363a248>]"
      ]
     },
     "execution_count": 84,
     "metadata": {},
     "output_type": "execute_result"
    },
    {
     "data": {
      "image/png": "[encoded data removed]",
      "text/plain": [
       "<Figure size 1080x864 with 1 Axes>"
      ]
     },
     "metadata": {
      "needs_background": "light"
     },
     "output_type": "display_data"
    }
   ],
   "source": [
    "plt.figure(figsize=(15,12))\n",
    "\n",
    "plt.plot(payments_orders_df.groupby('order_purchase_timestamp')['payment_value'].sum())"
   ]
  },
  {
   "cell_type": "code",
   "execution_count": 85,
   "metadata": {
    "scrolled": true
   },
   "outputs": [
    {
     "data": {
      "text/plain": [
       "order_purchase_timestamp\n",
       "2016-09-04 21:15:19    136.23\n",
       "2016-09-05 00:15:34     75.06\n",
       "2016-09-13 15:24:19     40.95\n",
       "2016-10-02 22:07:52    109.34\n",
       "2016-10-03 09:44:50     45.46\n",
       "                        ...  \n",
       "2018-09-29 09:13:03    137.03\n",
       "2018-10-01 15:30:09     80.38\n",
       "2018-10-03 18:55:29    197.55\n",
       "2018-10-16 20:16:02    222.03\n",
       "2018-10-17 17:30:18     89.71\n",
       "Name: payment_value, Length: 98874, dtype: float64"
      ]
     },
     "execution_count": 85,
     "metadata": {},
     "output_type": "execute_result"
    }
   ],
   "source": [
    "payments_orders_df.groupby('order_purchase_timestamp')['payment_value'].sum()"
   ]
  },
  {
   "cell_type": "code",
   "execution_count": 86,
   "metadata": {
    "scrolled": true
   },
   "outputs": [
    {
     "data": {
      "text/html": [
       "<div>\n",
       "<style scoped>\n",
       "    .dataframe tbody tr th:only-of-type {\n",
       "        vertical-align: middle;\n",
       "    }\n",
       "\n",
       "    .dataframe tbody tr th {\n",
       "        vertical-align: top;\n",
       "    }\n",
       "\n",
       "    .dataframe thead th {\n",
       "        text-align: right;\n",
       "    }\n",
       "</style>\n",
       "<table border=\"1\" class=\"dataframe\">\n",
       "  <thead>\n",
       "    <tr style=\"text-align: right;\">\n",
       "      <th></th>\n",
       "      <th>ds</th>\n",
       "      <th>y</th>\n",
       "    </tr>\n",
       "  </thead>\n",
       "  <tbody>\n",
       "    <tr>\n",
       "      <td>0</td>\n",
       "      <td>2016-09-04 21:15:19</td>\n",
       "      <td>136.23</td>\n",
       "    </tr>\n",
       "    <tr>\n",
       "      <td>1</td>\n",
       "      <td>2016-09-05 00:15:34</td>\n",
       "      <td>75.06</td>\n",
       "    </tr>\n",
       "    <tr>\n",
       "      <td>2</td>\n",
       "      <td>2016-09-13 15:24:19</td>\n",
       "      <td>40.95</td>\n",
       "    </tr>\n",
       "    <tr>\n",
       "      <td>3</td>\n",
       "      <td>2016-10-02 22:07:52</td>\n",
       "      <td>109.34</td>\n",
       "    </tr>\n",
       "    <tr>\n",
       "      <td>4</td>\n",
       "      <td>2016-10-03 09:44:50</td>\n",
       "      <td>45.46</td>\n",
       "    </tr>\n",
       "  </tbody>\n",
       "</table>\n",
       "</div>"
      ],
      "text/plain": [
       "                   ds       y\n",
       "0 2016-09-04 21:15:19  136.23\n",
       "1 2016-09-05 00:15:34   75.06\n",
       "2 2016-09-13 15:24:19   40.95\n",
       "3 2016-10-02 22:07:52  109.34\n",
       "4 2016-10-03 09:44:50   45.46"
      ]
     },
     "execution_count": 86,
     "metadata": {},
     "output_type": "execute_result"
    }
   ],
   "source": [
    "time_payment_df = pd.DataFrame(payments_orders_df.groupby('order_purchase_timestamp')['payment_value'].sum())\n",
    "time_payment_df.reset_index(inplace=True)\n",
    "time_payment_df.columns = ['ds', 'y']\n",
    "time_payment_df.head()"
   ]
  },
  {
   "cell_type": "code",
   "execution_count": 87,
   "metadata": {},
   "outputs": [
    {
     "name": "stdout",
     "output_type": "stream",
     "text": [
      "<class 'pandas.core.frame.DataFrame'>\n",
      "RangeIndex: 98874 entries, 0 to 98873\n",
      "Data columns (total 2 columns):\n",
      "ds    98874 non-null datetime64[ns]\n",
      "y     98874 non-null float64\n",
      "dtypes: datetime64[ns](1), float64(1)\n",
      "memory usage: 1.5 MB\n"
     ]
    }
   ],
   "source": [
    "time_payment_df.info()"
   ]
  },
  {
   "cell_type": "code",
   "execution_count": 20,
   "metadata": {},
   "outputs": [],
   "source": [
    "test_size = 5000\n",
    "train = time_payment_df.iloc[:-test_size]\n",
    "test = time_payment_df.iloc[-test_size:]"
   ]
  },
  {
   "cell_type": "code",
   "execution_count": 21,
   "metadata": {},
   "outputs": [],
   "source": [
    "holidays = pd.DataFrame({\n",
    "  'holiday': 'christmas',\n",
    "  'ds': pd.to_datetime(['2018-12-01', '2018-12-02', '2018-12-08',\n",
    "                        '2018-12-09', '2018-12-13', '2018-12-15',\n",
    "                        '2018-12-16', '2018-12-22', '2018-12-23',\n",
    "                        '2018-12-24', '2018-12-25', '2018-12-26',\n",
    "                        '2018-12-27', '2018-12-28']),\n",
    " \n",
    "})"
   ]
  },
  {
   "cell_type": "code",
   "execution_count": 22,
   "metadata": {
    "scrolled": true
   },
   "outputs": [
    {
     "name": "stderr",
     "output_type": "stream",
     "text": [
      "INFO:numexpr.utils:NumExpr defaulting to 4 threads.\n",
      "INFO:fbprophet:Disabling yearly seasonality. Run prophet with yearly_seasonality=True to override this.\n"
     ]
    },
    {
     "data": {
      "text/plain": [
       "<fbprophet.forecaster.Prophet at 0x21775a94748>"
      ]
     },
     "execution_count": 22,
     "metadata": {},
     "output_type": "execute_result"
    }
   ],
   "source": [
    "model = Prophet(interval_width=0.95, holidays=holidays)\n",
    "model.fit(train)"
   ]
  },
  {
   "cell_type": "code",
   "execution_count": 23,
   "metadata": {},
   "outputs": [],
   "source": [
    "future = model.make_future_dataframe(periods=test_size, freq='D' , include_history=False)"
   ]
  },
  {
   "cell_type": "code",
   "execution_count": 24,
   "metadata": {},
   "outputs": [],
   "source": [
    "forecast = model.predict(future)"
   ]
  },
  {
   "cell_type": "code",
   "execution_count": 25,
   "metadata": {},
   "outputs": [
    {
     "data": {
      "text/html": [
       "<div>\n",
       "<style scoped>\n",
       "    .dataframe tbody tr th:only-of-type {\n",
       "        vertical-align: middle;\n",
       "    }\n",
       "\n",
       "    .dataframe tbody tr th {\n",
       "        vertical-align: top;\n",
       "    }\n",
       "\n",
       "    .dataframe thead th {\n",
       "        text-align: right;\n",
       "    }\n",
       "</style>\n",
       "<table border=\"1\" class=\"dataframe\">\n",
       "  <thead>\n",
       "    <tr style=\"text-align: right;\">\n",
       "      <th></th>\n",
       "      <th>ds</th>\n",
       "      <th>trend</th>\n",
       "      <th>yhat_lower</th>\n",
       "      <th>yhat_upper</th>\n",
       "      <th>trend_lower</th>\n",
       "      <th>trend_upper</th>\n",
       "      <th>additive_terms</th>\n",
       "      <th>additive_terms_lower</th>\n",
       "      <th>additive_terms_upper</th>\n",
       "      <th>christmas</th>\n",
       "      <th>...</th>\n",
       "      <th>holidays</th>\n",
       "      <th>holidays_lower</th>\n",
       "      <th>holidays_upper</th>\n",
       "      <th>weekly</th>\n",
       "      <th>weekly_lower</th>\n",
       "      <th>weekly_upper</th>\n",
       "      <th>multiplicative_terms</th>\n",
       "      <th>multiplicative_terms_lower</th>\n",
       "      <th>multiplicative_terms_upper</th>\n",
       "      <th>yhat</th>\n",
       "    </tr>\n",
       "  </thead>\n",
       "  <tbody>\n",
       "    <tr>\n",
       "      <td>0</td>\n",
       "      <td>2018-08-07 10:53:31</td>\n",
       "      <td>161.842553</td>\n",
       "      <td>-292.629143</td>\n",
       "      <td>569.386404</td>\n",
       "      <td>161.842553</td>\n",
       "      <td>161.842553</td>\n",
       "      <td>8.370658</td>\n",
       "      <td>8.370658</td>\n",
       "      <td>8.370658</td>\n",
       "      <td>0.0</td>\n",
       "      <td>...</td>\n",
       "      <td>0.0</td>\n",
       "      <td>0.0</td>\n",
       "      <td>0.0</td>\n",
       "      <td>1.242274</td>\n",
       "      <td>1.242274</td>\n",
       "      <td>1.242274</td>\n",
       "      <td>0.0</td>\n",
       "      <td>0.0</td>\n",
       "      <td>0.0</td>\n",
       "      <td>170.213212</td>\n",
       "    </tr>\n",
       "    <tr>\n",
       "      <td>1</td>\n",
       "      <td>2018-08-08 10:53:31</td>\n",
       "      <td>161.842514</td>\n",
       "      <td>-248.932209</td>\n",
       "      <td>574.993285</td>\n",
       "      <td>161.788775</td>\n",
       "      <td>161.894529</td>\n",
       "      <td>5.798408</td>\n",
       "      <td>5.798408</td>\n",
       "      <td>5.798408</td>\n",
       "      <td>0.0</td>\n",
       "      <td>...</td>\n",
       "      <td>0.0</td>\n",
       "      <td>0.0</td>\n",
       "      <td>0.0</td>\n",
       "      <td>-1.329977</td>\n",
       "      <td>-1.329977</td>\n",
       "      <td>-1.329977</td>\n",
       "      <td>0.0</td>\n",
       "      <td>0.0</td>\n",
       "      <td>0.0</td>\n",
       "      <td>167.640922</td>\n",
       "    </tr>\n",
       "    <tr>\n",
       "      <td>2</td>\n",
       "      <td>2018-08-09 10:53:31</td>\n",
       "      <td>161.842475</td>\n",
       "      <td>-246.458976</td>\n",
       "      <td>582.306457</td>\n",
       "      <td>161.724327</td>\n",
       "      <td>161.975214</td>\n",
       "      <td>7.391139</td>\n",
       "      <td>7.391139</td>\n",
       "      <td>7.391139</td>\n",
       "      <td>0.0</td>\n",
       "      <td>...</td>\n",
       "      <td>0.0</td>\n",
       "      <td>0.0</td>\n",
       "      <td>0.0</td>\n",
       "      <td>0.262754</td>\n",
       "      <td>0.262754</td>\n",
       "      <td>0.262754</td>\n",
       "      <td>0.0</td>\n",
       "      <td>0.0</td>\n",
       "      <td>0.0</td>\n",
       "      <td>169.233614</td>\n",
       "    </tr>\n",
       "    <tr>\n",
       "      <td>3</td>\n",
       "      <td>2018-08-10 10:53:31</td>\n",
       "      <td>161.842436</td>\n",
       "      <td>-274.175868</td>\n",
       "      <td>622.173568</td>\n",
       "      <td>161.563042</td>\n",
       "      <td>162.145269</td>\n",
       "      <td>9.995280</td>\n",
       "      <td>9.995280</td>\n",
       "      <td>9.995280</td>\n",
       "      <td>0.0</td>\n",
       "      <td>...</td>\n",
       "      <td>0.0</td>\n",
       "      <td>0.0</td>\n",
       "      <td>0.0</td>\n",
       "      <td>2.866896</td>\n",
       "      <td>2.866896</td>\n",
       "      <td>2.866896</td>\n",
       "      <td>0.0</td>\n",
       "      <td>0.0</td>\n",
       "      <td>0.0</td>\n",
       "      <td>171.837716</td>\n",
       "    </tr>\n",
       "    <tr>\n",
       "      <td>4</td>\n",
       "      <td>2018-08-11 10:53:31</td>\n",
       "      <td>161.842397</td>\n",
       "      <td>-257.874754</td>\n",
       "      <td>588.620496</td>\n",
       "      <td>161.429766</td>\n",
       "      <td>162.266389</td>\n",
       "      <td>10.154724</td>\n",
       "      <td>10.154724</td>\n",
       "      <td>10.154724</td>\n",
       "      <td>0.0</td>\n",
       "      <td>...</td>\n",
       "      <td>0.0</td>\n",
       "      <td>0.0</td>\n",
       "      <td>0.0</td>\n",
       "      <td>3.026340</td>\n",
       "      <td>3.026340</td>\n",
       "      <td>3.026340</td>\n",
       "      <td>0.0</td>\n",
       "      <td>0.0</td>\n",
       "      <td>0.0</td>\n",
       "      <td>171.997121</td>\n",
       "    </tr>\n",
       "    <tr>\n",
       "      <td>...</td>\n",
       "      <td>...</td>\n",
       "      <td>...</td>\n",
       "      <td>...</td>\n",
       "      <td>...</td>\n",
       "      <td>...</td>\n",
       "      <td>...</td>\n",
       "      <td>...</td>\n",
       "      <td>...</td>\n",
       "      <td>...</td>\n",
       "      <td>...</td>\n",
       "      <td>...</td>\n",
       "      <td>...</td>\n",
       "      <td>...</td>\n",
       "      <td>...</td>\n",
       "      <td>...</td>\n",
       "      <td>...</td>\n",
       "      <td>...</td>\n",
       "      <td>...</td>\n",
       "      <td>...</td>\n",
       "      <td>...</td>\n",
       "      <td>...</td>\n",
       "    </tr>\n",
       "    <tr>\n",
       "      <td>4995</td>\n",
       "      <td>2032-04-10 10:53:31</td>\n",
       "      <td>161.646849</td>\n",
       "      <td>-14829.333912</td>\n",
       "      <td>15714.619547</td>\n",
       "      <td>-15038.156843</td>\n",
       "      <td>15820.177015</td>\n",
       "      <td>10.154724</td>\n",
       "      <td>10.154724</td>\n",
       "      <td>10.154724</td>\n",
       "      <td>0.0</td>\n",
       "      <td>...</td>\n",
       "      <td>0.0</td>\n",
       "      <td>0.0</td>\n",
       "      <td>0.0</td>\n",
       "      <td>3.026340</td>\n",
       "      <td>3.026340</td>\n",
       "      <td>3.026340</td>\n",
       "      <td>0.0</td>\n",
       "      <td>0.0</td>\n",
       "      <td>0.0</td>\n",
       "      <td>171.801574</td>\n",
       "    </tr>\n",
       "    <tr>\n",
       "      <td>4996</td>\n",
       "      <td>2032-04-11 10:53:31</td>\n",
       "      <td>161.646810</td>\n",
       "      <td>-14908.373485</td>\n",
       "      <td>15725.773803</td>\n",
       "      <td>-15040.084258</td>\n",
       "      <td>15824.311030</td>\n",
       "      <td>2.720097</td>\n",
       "      <td>2.720097</td>\n",
       "      <td>2.720097</td>\n",
       "      <td>0.0</td>\n",
       "      <td>...</td>\n",
       "      <td>0.0</td>\n",
       "      <td>0.0</td>\n",
       "      <td>0.0</td>\n",
       "      <td>-4.408288</td>\n",
       "      <td>-4.408288</td>\n",
       "      <td>-4.408288</td>\n",
       "      <td>0.0</td>\n",
       "      <td>0.0</td>\n",
       "      <td>0.0</td>\n",
       "      <td>164.366907</td>\n",
       "    </tr>\n",
       "    <tr>\n",
       "      <td>4997</td>\n",
       "      <td>2032-04-12 10:53:31</td>\n",
       "      <td>161.646771</td>\n",
       "      <td>-15275.786277</td>\n",
       "      <td>15876.067447</td>\n",
       "      <td>-15042.011672</td>\n",
       "      <td>15828.445044</td>\n",
       "      <td>5.468386</td>\n",
       "      <td>5.468386</td>\n",
       "      <td>5.468386</td>\n",
       "      <td>0.0</td>\n",
       "      <td>...</td>\n",
       "      <td>0.0</td>\n",
       "      <td>0.0</td>\n",
       "      <td>0.0</td>\n",
       "      <td>-1.659999</td>\n",
       "      <td>-1.659999</td>\n",
       "      <td>-1.659999</td>\n",
       "      <td>0.0</td>\n",
       "      <td>0.0</td>\n",
       "      <td>0.0</td>\n",
       "      <td>167.115157</td>\n",
       "    </tr>\n",
       "    <tr>\n",
       "      <td>4998</td>\n",
       "      <td>2032-04-13 10:53:31</td>\n",
       "      <td>161.646732</td>\n",
       "      <td>-14953.495157</td>\n",
       "      <td>15722.356796</td>\n",
       "      <td>-15043.939087</td>\n",
       "      <td>15832.579059</td>\n",
       "      <td>8.370658</td>\n",
       "      <td>8.370658</td>\n",
       "      <td>8.370658</td>\n",
       "      <td>0.0</td>\n",
       "      <td>...</td>\n",
       "      <td>0.0</td>\n",
       "      <td>0.0</td>\n",
       "      <td>0.0</td>\n",
       "      <td>1.242274</td>\n",
       "      <td>1.242274</td>\n",
       "      <td>1.242274</td>\n",
       "      <td>0.0</td>\n",
       "      <td>0.0</td>\n",
       "      <td>0.0</td>\n",
       "      <td>170.017390</td>\n",
       "    </tr>\n",
       "    <tr>\n",
       "      <td>4999</td>\n",
       "      <td>2032-04-14 10:53:31</td>\n",
       "      <td>161.646693</td>\n",
       "      <td>-15066.341777</td>\n",
       "      <td>15528.373639</td>\n",
       "      <td>-15045.866501</td>\n",
       "      <td>15836.713582</td>\n",
       "      <td>5.798408</td>\n",
       "      <td>5.798408</td>\n",
       "      <td>5.798408</td>\n",
       "      <td>0.0</td>\n",
       "      <td>...</td>\n",
       "      <td>0.0</td>\n",
       "      <td>0.0</td>\n",
       "      <td>0.0</td>\n",
       "      <td>-1.329977</td>\n",
       "      <td>-1.329977</td>\n",
       "      <td>-1.329977</td>\n",
       "      <td>0.0</td>\n",
       "      <td>0.0</td>\n",
       "      <td>0.0</td>\n",
       "      <td>167.445100</td>\n",
       "    </tr>\n",
       "  </tbody>\n",
       "</table>\n",
       "<p>5000 rows × 25 columns</p>\n",
       "</div>"
      ],
      "text/plain": [
       "                      ds       trend    yhat_lower    yhat_upper  \\\n",
       "0    2018-08-07 10:53:31  161.842553   -292.629143    569.386404   \n",
       "1    2018-08-08 10:53:31  161.842514   -248.932209    574.993285   \n",
       "2    2018-08-09 10:53:31  161.842475   -246.458976    582.306457   \n",
       "3    2018-08-10 10:53:31  161.842436   -274.175868    622.173568   \n",
       "4    2018-08-11 10:53:31  161.842397   -257.874754    588.620496   \n",
       "...                  ...         ...           ...           ...   \n",
       "4995 2032-04-10 10:53:31  161.646849 -14829.333912  15714.619547   \n",
       "4996 2032-04-11 10:53:31  161.646810 -14908.373485  15725.773803   \n",
       "4997 2032-04-12 10:53:31  161.646771 -15275.786277  15876.067447   \n",
       "4998 2032-04-13 10:53:31  161.646732 -14953.495157  15722.356796   \n",
       "4999 2032-04-14 10:53:31  161.646693 -15066.341777  15528.373639   \n",
       "\n",
       "       trend_lower   trend_upper  additive_terms  additive_terms_lower  \\\n",
       "0       161.842553    161.842553        8.370658              8.370658   \n",
       "1       161.788775    161.894529        5.798408              5.798408   \n",
       "2       161.724327    161.975214        7.391139              7.391139   \n",
       "3       161.563042    162.145269        9.995280              9.995280   \n",
       "4       161.429766    162.266389       10.154724             10.154724   \n",
       "...            ...           ...             ...                   ...   \n",
       "4995 -15038.156843  15820.177015       10.154724             10.154724   \n",
       "4996 -15040.084258  15824.311030        2.720097              2.720097   \n",
       "4997 -15042.011672  15828.445044        5.468386              5.468386   \n",
       "4998 -15043.939087  15832.579059        8.370658              8.370658   \n",
       "4999 -15045.866501  15836.713582        5.798408              5.798408   \n",
       "\n",
       "      additive_terms_upper  christmas  ...  holidays  holidays_lower  \\\n",
       "0                 8.370658        0.0  ...       0.0             0.0   \n",
       "1                 5.798408        0.0  ...       0.0             0.0   \n",
       "2                 7.391139        0.0  ...       0.0             0.0   \n",
       "3                 9.995280        0.0  ...       0.0             0.0   \n",
       "4                10.154724        0.0  ...       0.0             0.0   \n",
       "...                    ...        ...  ...       ...             ...   \n",
       "4995             10.154724        0.0  ...       0.0             0.0   \n",
       "4996              2.720097        0.0  ...       0.0             0.0   \n",
       "4997              5.468386        0.0  ...       0.0             0.0   \n",
       "4998              8.370658        0.0  ...       0.0             0.0   \n",
       "4999              5.798408        0.0  ...       0.0             0.0   \n",
       "\n",
       "      holidays_upper    weekly  weekly_lower  weekly_upper  \\\n",
       "0                0.0  1.242274      1.242274      1.242274   \n",
       "1                0.0 -1.329977     -1.329977     -1.329977   \n",
       "2                0.0  0.262754      0.262754      0.262754   \n",
       "3                0.0  2.866896      2.866896      2.866896   \n",
       "4                0.0  3.026340      3.026340      3.026340   \n",
       "...              ...       ...           ...           ...   \n",
       "4995             0.0  3.026340      3.026340      3.026340   \n",
       "4996             0.0 -4.408288     -4.408288     -4.408288   \n",
       "4997             0.0 -1.659999     -1.659999     -1.659999   \n",
       "4998             0.0  1.242274      1.242274      1.242274   \n",
       "4999             0.0 -1.329977     -1.329977     -1.329977   \n",
       "\n",
       "      multiplicative_terms  multiplicative_terms_lower  \\\n",
       "0                      0.0                         0.0   \n",
       "1                      0.0                         0.0   \n",
       "2                      0.0                         0.0   \n",
       "3                      0.0                         0.0   \n",
       "4                      0.0                         0.0   \n",
       "...                    ...                         ...   \n",
       "4995                   0.0                         0.0   \n",
       "4996                   0.0                         0.0   \n",
       "4997                   0.0                         0.0   \n",
       "4998                   0.0                         0.0   \n",
       "4999                   0.0                         0.0   \n",
       "\n",
       "      multiplicative_terms_upper        yhat  \n",
       "0                            0.0  170.213212  \n",
       "1                            0.0  167.640922  \n",
       "2                            0.0  169.233614  \n",
       "3                            0.0  171.837716  \n",
       "4                            0.0  171.997121  \n",
       "...                          ...         ...  \n",
       "4995                         0.0  171.801574  \n",
       "4996                         0.0  164.366907  \n",
       "4997                         0.0  167.115157  \n",
       "4998                         0.0  170.017390  \n",
       "4999                         0.0  167.445100  \n",
       "\n",
       "[5000 rows x 25 columns]"
      ]
     },
     "execution_count": 25,
     "metadata": {},
     "output_type": "execute_result"
    }
   ],
   "source": [
    "forecast"
   ]
  },
  {
   "cell_type": "code",
   "execution_count": 26,
   "metadata": {
    "scrolled": true
   },
   "outputs": [
    {
     "data": {
      "text/plain": [
       "[<matplotlib.lines.Line2D at 0x2177511ab48>]"
      ]
     },
     "execution_count": 26,
     "metadata": {},
     "output_type": "execute_result"
    },
    {
     "data": {
      "image/png": "[encoded data removed]",
      "text/plain": [
       "<Figure size 432x288 with 1 Axes>"
      ]
     },
     "metadata": {
      "needs_background": "light"
     },
     "output_type": "display_data"
    }
   ],
   "source": [
    "plt.plot(test['ds'], test['y'])\n",
    "plt.plot(test['ds'], forecast['yhat'])"
   ]
  },
  {
   "cell_type": "code",
   "execution_count": 27,
   "metadata": {
    "scrolled": false
   },
   "outputs": [
    {
     "data": {
      "image/png": "[encoded data removed]",
      "text/plain": [
       "<Figure size 864x864 with 1 Axes>"
      ]
     },
     "metadata": {
      "needs_background": "light"
     },
     "output_type": "display_data"
    }
   ],
   "source": [
    "plt.figure(figsize = (12, 12))\n",
    "plt.plot(test['ds'], test['y'].values, c=\"red\", label=\"test\")\n",
    "plt.plot(test['ds'], forecast['yhat'].values, c=\"blue\", label=\"prediction\")\n",
    "plt.plot(test['ds'], forecast['yhat_lower'].values, c=\"royalblue\", label=\"uncertainty interval\", linestyle='--')\n",
    "plt.plot(test['ds'], forecast['yhat_upper'].values, c=\"royalblue\", label=\"uncertainty interval\", linestyle='--')\n",
    "ax = plt.gca()\n",
    "ax.fill_between(test['ds'],  forecast['yhat_lower'], forecast['yhat_upper'], facecolor='lightblue', alpha=0.15, interpolate=True)\n",
    "plt.legend()\n",
    "plt.show();"
   ]
  }
 ],
 "metadata": {
  "kernelspec": {
   "display_name": "Python 3",
   "language": "python",
   "name": "python3"
  },
  "language_info": {
   "codemirror_mode": {
    "name": "ipython",
    "version": 3
   },
   "file_extension": ".py",
   "mimetype": "text/x-python",
   "name": "python",
   "nbconvert_exporter": "python",
   "pygments_lexer": "ipython3",
   "version": "3.7.4"
  }
 },
 "nbformat": 4,
 "nbformat_minor": 2
}
